{
 "cells": [
  {
   "cell_type": "code",
   "execution_count": 1,
   "metadata": {},
   "outputs": [],
   "source": [
    "import pandas as pd\n",
    "import numpy as np\n",
    "import matplotlib.pyplot as plt"
   ]
  },
  {
   "cell_type": "markdown",
   "metadata": {},
   "source": [
    "# Adult analysis"
   ]
  },
  {
   "cell_type": "code",
   "execution_count": 3,
   "metadata": {},
   "outputs": [],
   "source": [
    "adult_train_df = pd.read_csv(\"datasets/benchmark/adult_clean_train.csv\")\n",
    "\n",
    "X_adult_train = adult_train_df.loc[:, adult_train_df.columns != \"income_>50k\"]\n",
    "Y_adult_train = adult_train_df[\"income_>50k\"]\n",
    "\n",
    "adult_test_df = pd.read_csv(\"datasets/benchmark/adult_clean_test.csv\")\n",
    "X_adult_test = adult_test_df.loc[:, adult_test_df.columns != \"income_>50k\"]\n",
    "Y_adult_test = adult_test_df[\"income_>50k\"]"
   ]
  },
  {
   "cell_type": "markdown",
   "metadata": {},
   "source": [
    "# Common Functions"
   ]
  },
  {
   "cell_type": "code",
   "execution_count": 4,
   "metadata": {},
   "outputs": [],
   "source": [
    "def square_loss(y_true, y_pred):\n",
    "    n = y_true.shape[0]\n",
    "    return np.sum((y_pred - y_true) ** 2) / n\n",
    "\n",
    "def rank_feature_importance(feature_name, feature_score):\n",
    "    n = feature_name.shape[0]\n",
    "    lst = [(feature_name[i], feature_score[i]) for i in range(n)]\n",
    "    lst.sort(key=lambda x:x[1], reverse=True)\n",
    "    # uncomment to see just the rank without the score\n",
    "    # return [x[0] for x in lst]\n",
    "    return lst\n",
    "\n",
    "def select_features_filter(all_features, target_features):\n",
    "    lst = []\n",
    "    for i in range(len(all_features)):\n",
    "        if all_features[i] in target_features:\n",
    "            lst.append(True)\n",
    "        else:\n",
    "            lst.append(False)\n",
    "    return lst"
   ]
  },
  {
   "cell_type": "markdown",
   "metadata": {},
   "source": [
    "# Random Forest"
   ]
  },
  {
   "cell_type": "code",
   "execution_count": 5,
   "metadata": {},
   "outputs": [],
   "source": [
    "from sklearn.ensemble import RandomForestClassifier"
   ]
  },
  {
   "cell_type": "code",
   "execution_count": 6,
   "metadata": {},
   "outputs": [
    {
     "name": "stdout",
     "output_type": "stream",
     "text": [
      "random state = 0\n",
      "loss = 0.14392465963762924\n",
      "[('fnlwgt', 0.1714414876840543), ('age', 0.15070897050795312), ('education_num', 0.11117937408393132), ('capital_gain', 0.10036384025932124), ('hours_per_week', 0.08378053447228528), ('marital_status_ Married-civ-spouse', 0.06157785867651412), ('relationship_ Husband', 0.04528670990120532), ('capital_loss', 0.032747961741181025), ('marital_status_ Never-married', 0.023689345238715638), ('occupation_ Exec-managerial', 0.01873485432826439), ('occupation_ Prof-specialty', 0.016307240783424708), ('relationship_ Not-in-family', 0.010141912167828233), ('relationship_ Wife', 0.009472947629378939), ('workclass_ Private', 0.008600738122676314), ('sex_ Male', 0.008461323227738973), ('relationship_ Own-child', 0.008159035528467157), ('sex_ Female', 0.007927473052420184), ('workclass_ Self-emp-not-inc', 0.007363613468197532), ('occupation_ Other-service', 0.007305415808998785), ('marital_status_ Divorced', 0.006727844016835014), ('occupation_ Sales', 0.005838175585912715), ('occupation_ Craft-repair', 0.005642216315124206), ('workclass_ Self-emp-inc', 0.005630754837104539), ('race_ White', 0.005498257649388318), ('native_country_ United-States', 0.0054419685685716595), ('workclass_ Local-gov', 0.004977940300746702), ('relationship_ Unmarried', 0.004872857667516383), ('occupation_ Farming-fishing', 0.0046057412215136755), ('occupation_ Adm-clerical', 0.004597190186963392), ('workclass_ Federal-gov', 0.00444105632559173), ('race_ Black', 0.0042246863628599566), ('occupation_ Tech-support', 0.004062646527973388), ('workclass_ State-gov', 0.0039698758408129985), ('occupation_ Transport-moving', 0.003846839902845126), ('occupation_ Machine-op-inspct', 0.0038075690596065387), ('occupation_ Handlers-cleaners', 0.0031041245497803343), ('race_ Asian-Pac-Islander', 0.0026583704670523796), ('occupation_ Protective-serv', 0.0026445570787227216), ('native_country_ ?', 0.002287498049756718), ('native_country_ Mexico', 0.002035436514332818), ('workclass_ ?', 0.0019041143385956734), ('occupation_ ?', 0.0018067818622459378), ('marital_status_ Separated', 0.0015825324360393825), ('marital_status_ Widowed', 0.00155531830853579), ('relationship_ Other-relative', 0.0014421930130528947), ('native_country_ Canada', 0.0011988781694377015), ('race_ Amer-Indian-Eskimo', 0.0011900199880692794), ('marital_status_ Married-spouse-absent', 0.0009196604742031129), ('native_country_ Philippines', 0.000908414592886102), ('native_country_ England', 0.0008870358013872388), ('native_country_ Germany', 0.000873844134785321), ('native_country_ India', 0.0008402601555418635), ('race_ Other', 0.0007313915647286069), ('native_country_ Cuba', 0.0007033724570998622), ('native_country_ Italy', 0.0005924668023431671), ('native_country_ Japan', 0.0005354519618894372), ('native_country_ China', 0.0004899981308688929), ('native_country_ Greece', 0.00047468148191590043), ('native_country_ Ireland', 0.00047420548244444307), ('native_country_ South', 0.0004679379347757127), ('native_country_ Puerto-Rico', 0.00045137871644575293), ('native_country_ Iran', 0.00043821258036582224), ('native_country_ Poland', 0.00040740985210957015), ('native_country_ Portugal', 0.0003722045661316396), ('marital_status_ Married-AF-spouse', 0.0003584032885481285), ('native_country_ Jamaica', 0.00035747544043916), ('native_country_ France', 0.00034466153400108685), ('native_country_ Cambodia', 0.0002963802709224513), ('native_country_ Taiwan', 0.0002846942274451491), ('native_country_ El-Salvador', 0.00027368132298971376), ('native_country_ Yugoslavia', 0.0002734708860595134), ('native_country_ Columbia', 0.0002533666162007303), ('native_country_ Vietnam', 0.00023471037871480822), ('native_country_ Haiti', 0.00019385067848409136), ('native_country_ Dominican-Republic', 0.00018776095529546874), ('native_country_ Hungary', 0.00018183492565444358), ('occupation_ Priv-house-serv', 0.00014968474070747363), ('native_country_ Nicaragua', 0.0001438419181618274), ('workclass_ Without-pay', 0.00014293205002832512), ('native_country_ Ecuador', 0.00014183190954064604), ('native_country_ Guatemala', 0.00012586136052510573), ('native_country_ Trinadad&Tobago', 0.00011146936983296349), ('native_country_ Scotland', 0.00010131838849567229), ('native_country_ Peru', 9.402301275929678e-05), ('native_country_ Hong', 8.203514083546893e-05), ('native_country_ Laos', 7.633815733744776e-05), ('native_country_ Thailand', 7.385053479123299e-05), ('native_country_ Outlying-US(Guam-USVI-etc)', 5.130824080700183e-05), ('occupation_ Armed-Forces', 4.103315863131038e-05), ('native_country_ Honduras', 7.21975501278824e-06), ('workclass_ Never-worked', 2.2970733250117086e-06), ('native_country_ Holand-Netherlands', 6.561469866383967e-07)]\n"
     ]
    }
   ],
   "source": [
    "# Observation: when n_estimators=100 the ranked_importance changes!\n",
    "n_estimators = 1000\n",
    "for i in range(1):\n",
    "    rf_clf = RandomForestClassifier(random_state=i, n_estimators=n_estimators)\n",
    "    rf_clf.fit(X_adult_train, Y_adult_train)\n",
    "    y_pred = rf_clf.predict(X_adult_test)\n",
    "    loss = square_loss(Y_adult_test, y_pred)\n",
    "    print(f\"random state = {i}\")\n",
    "    print(f\"loss = {loss}\")\n",
    "    ranked_importance = rank_feature_importance(X_adult_train.columns, rf_clf.feature_importances_)\n",
    "    print(ranked_importance)"
   ]
  },
  {
   "cell_type": "code",
   "execution_count": 10,
   "metadata": {},
   "outputs": [
    {
     "name": "stdout",
     "output_type": "stream",
     "text": [
      "random state = 0\n",
      "j = 78\n",
      "j = 79\n",
      "j = 80\n"
     ]
    },
    {
     "ename": "KeyboardInterrupt",
     "evalue": "",
     "output_type": "error",
     "traceback": [
      "\u001b[0;31m---------------------------------------------------------------------------\u001b[0m",
      "\u001b[0;31mKeyboardInterrupt\u001b[0m                         Traceback (most recent call last)",
      "\u001b[0;32m<ipython-input-10-6d16a92c3852>\u001b[0m in \u001b[0;36m<module>\u001b[0;34m\u001b[0m\n\u001b[1;32m     19\u001b[0m         \u001b[0mX_adult_test_selected_features\u001b[0m \u001b[0;34m=\u001b[0m \u001b[0mX_adult_test\u001b[0m\u001b[0;34m.\u001b[0m\u001b[0mloc\u001b[0m\u001b[0;34m[\u001b[0m\u001b[0;34m:\u001b[0m\u001b[0;34m,\u001b[0m \u001b[0mfeatures_filter\u001b[0m\u001b[0;34m]\u001b[0m\u001b[0;34m\u001b[0m\u001b[0;34m\u001b[0m\u001b[0m\n\u001b[1;32m     20\u001b[0m         \u001b[0mrf_clf\u001b[0m \u001b[0;34m=\u001b[0m \u001b[0mRandomForestClassifier\u001b[0m\u001b[0;34m(\u001b[0m\u001b[0mrandom_state\u001b[0m\u001b[0;34m=\u001b[0m\u001b[0mrs\u001b[0m\u001b[0;34m,\u001b[0m \u001b[0mn_estimators\u001b[0m\u001b[0;34m=\u001b[0m\u001b[0mnum_estimators\u001b[0m\u001b[0;34m)\u001b[0m\u001b[0;34m\u001b[0m\u001b[0;34m\u001b[0m\u001b[0m\n\u001b[0;32m---> 21\u001b[0;31m         \u001b[0mrf_clf\u001b[0m\u001b[0;34m.\u001b[0m\u001b[0mfit\u001b[0m\u001b[0;34m(\u001b[0m\u001b[0mX_adult_train_selected_features\u001b[0m\u001b[0;34m,\u001b[0m \u001b[0mY_adult_train\u001b[0m\u001b[0;34m)\u001b[0m\u001b[0;34m\u001b[0m\u001b[0;34m\u001b[0m\u001b[0m\n\u001b[0m\u001b[1;32m     22\u001b[0m         \u001b[0msquare_loss_value\u001b[0m \u001b[0;34m=\u001b[0m \u001b[0msquare_loss\u001b[0m\u001b[0;34m(\u001b[0m\u001b[0mY_adult_test\u001b[0m\u001b[0;34m,\u001b[0m \u001b[0mrf_clf\u001b[0m\u001b[0;34m.\u001b[0m\u001b[0mpredict\u001b[0m\u001b[0;34m(\u001b[0m\u001b[0mX_adult_test_selected_features\u001b[0m\u001b[0;34m)\u001b[0m\u001b[0;34m)\u001b[0m\u001b[0;34m\u001b[0m\u001b[0;34m\u001b[0m\u001b[0m\n\u001b[1;32m     23\u001b[0m         \u001b[0msquare_loss_lst\u001b[0m\u001b[0;34m.\u001b[0m\u001b[0mappend\u001b[0m\u001b[0;34m(\u001b[0m\u001b[0msquare_loss_value\u001b[0m\u001b[0;34m)\u001b[0m\u001b[0;34m\u001b[0m\u001b[0;34m\u001b[0m\u001b[0m\n",
      "\u001b[0;32m~/opt/anaconda3/lib/python3.8/site-packages/sklearn/ensemble/_forest.py\u001b[0m in \u001b[0;36mfit\u001b[0;34m(self, X, y, sample_weight)\u001b[0m\n\u001b[1;32m    385\u001b[0m             \u001b[0;31m# parallel_backend contexts set at a higher level,\u001b[0m\u001b[0;34m\u001b[0m\u001b[0;34m\u001b[0m\u001b[0;34m\u001b[0m\u001b[0m\n\u001b[1;32m    386\u001b[0m             \u001b[0;31m# since correctness does not rely on using threads.\u001b[0m\u001b[0;34m\u001b[0m\u001b[0;34m\u001b[0m\u001b[0;34m\u001b[0m\u001b[0m\n\u001b[0;32m--> 387\u001b[0;31m             trees = Parallel(n_jobs=self.n_jobs, verbose=self.verbose,\n\u001b[0m\u001b[1;32m    388\u001b[0m                              \u001b[0;34m**\u001b[0m\u001b[0m_joblib_parallel_args\u001b[0m\u001b[0;34m(\u001b[0m\u001b[0mprefer\u001b[0m\u001b[0;34m=\u001b[0m\u001b[0;34m'threads'\u001b[0m\u001b[0;34m)\u001b[0m\u001b[0;34m)\u001b[0m\u001b[0;34m(\u001b[0m\u001b[0;34m\u001b[0m\u001b[0;34m\u001b[0m\u001b[0m\n\u001b[1;32m    389\u001b[0m                 delayed(_parallel_build_trees)(\n",
      "\u001b[0;32m~/opt/anaconda3/lib/python3.8/site-packages/joblib/parallel.py\u001b[0m in \u001b[0;36m__call__\u001b[0;34m(self, iterable)\u001b[0m\n\u001b[1;32m   1042\u001b[0m                 \u001b[0mself\u001b[0m\u001b[0;34m.\u001b[0m\u001b[0m_iterating\u001b[0m \u001b[0;34m=\u001b[0m \u001b[0mself\u001b[0m\u001b[0;34m.\u001b[0m\u001b[0m_original_iterator\u001b[0m \u001b[0;32mis\u001b[0m \u001b[0;32mnot\u001b[0m \u001b[0;32mNone\u001b[0m\u001b[0;34m\u001b[0m\u001b[0;34m\u001b[0m\u001b[0m\n\u001b[1;32m   1043\u001b[0m \u001b[0;34m\u001b[0m\u001b[0m\n\u001b[0;32m-> 1044\u001b[0;31m             \u001b[0;32mwhile\u001b[0m \u001b[0mself\u001b[0m\u001b[0;34m.\u001b[0m\u001b[0mdispatch_one_batch\u001b[0m\u001b[0;34m(\u001b[0m\u001b[0miterator\u001b[0m\u001b[0;34m)\u001b[0m\u001b[0;34m:\u001b[0m\u001b[0;34m\u001b[0m\u001b[0;34m\u001b[0m\u001b[0m\n\u001b[0m\u001b[1;32m   1045\u001b[0m                 \u001b[0;32mpass\u001b[0m\u001b[0;34m\u001b[0m\u001b[0;34m\u001b[0m\u001b[0m\n\u001b[1;32m   1046\u001b[0m \u001b[0;34m\u001b[0m\u001b[0m\n",
      "\u001b[0;32m~/opt/anaconda3/lib/python3.8/site-packages/joblib/parallel.py\u001b[0m in \u001b[0;36mdispatch_one_batch\u001b[0;34m(self, iterator)\u001b[0m\n\u001b[1;32m    857\u001b[0m                 \u001b[0;32mreturn\u001b[0m \u001b[0;32mFalse\u001b[0m\u001b[0;34m\u001b[0m\u001b[0;34m\u001b[0m\u001b[0m\n\u001b[1;32m    858\u001b[0m             \u001b[0;32melse\u001b[0m\u001b[0;34m:\u001b[0m\u001b[0;34m\u001b[0m\u001b[0;34m\u001b[0m\u001b[0m\n\u001b[0;32m--> 859\u001b[0;31m                 \u001b[0mself\u001b[0m\u001b[0;34m.\u001b[0m\u001b[0m_dispatch\u001b[0m\u001b[0;34m(\u001b[0m\u001b[0mtasks\u001b[0m\u001b[0;34m)\u001b[0m\u001b[0;34m\u001b[0m\u001b[0;34m\u001b[0m\u001b[0m\n\u001b[0m\u001b[1;32m    860\u001b[0m                 \u001b[0;32mreturn\u001b[0m \u001b[0;32mTrue\u001b[0m\u001b[0;34m\u001b[0m\u001b[0;34m\u001b[0m\u001b[0m\n\u001b[1;32m    861\u001b[0m \u001b[0;34m\u001b[0m\u001b[0m\n",
      "\u001b[0;32m~/opt/anaconda3/lib/python3.8/site-packages/joblib/parallel.py\u001b[0m in \u001b[0;36m_dispatch\u001b[0;34m(self, batch)\u001b[0m\n\u001b[1;32m    775\u001b[0m         \u001b[0;32mwith\u001b[0m \u001b[0mself\u001b[0m\u001b[0;34m.\u001b[0m\u001b[0m_lock\u001b[0m\u001b[0;34m:\u001b[0m\u001b[0;34m\u001b[0m\u001b[0;34m\u001b[0m\u001b[0m\n\u001b[1;32m    776\u001b[0m             \u001b[0mjob_idx\u001b[0m \u001b[0;34m=\u001b[0m \u001b[0mlen\u001b[0m\u001b[0;34m(\u001b[0m\u001b[0mself\u001b[0m\u001b[0;34m.\u001b[0m\u001b[0m_jobs\u001b[0m\u001b[0;34m)\u001b[0m\u001b[0;34m\u001b[0m\u001b[0;34m\u001b[0m\u001b[0m\n\u001b[0;32m--> 777\u001b[0;31m             \u001b[0mjob\u001b[0m \u001b[0;34m=\u001b[0m \u001b[0mself\u001b[0m\u001b[0;34m.\u001b[0m\u001b[0m_backend\u001b[0m\u001b[0;34m.\u001b[0m\u001b[0mapply_async\u001b[0m\u001b[0;34m(\u001b[0m\u001b[0mbatch\u001b[0m\u001b[0;34m,\u001b[0m \u001b[0mcallback\u001b[0m\u001b[0;34m=\u001b[0m\u001b[0mcb\u001b[0m\u001b[0;34m)\u001b[0m\u001b[0;34m\u001b[0m\u001b[0;34m\u001b[0m\u001b[0m\n\u001b[0m\u001b[1;32m    778\u001b[0m             \u001b[0;31m# A job can complete so quickly than its callback is\u001b[0m\u001b[0;34m\u001b[0m\u001b[0;34m\u001b[0m\u001b[0;34m\u001b[0m\u001b[0m\n\u001b[1;32m    779\u001b[0m             \u001b[0;31m# called before we get here, causing self._jobs to\u001b[0m\u001b[0;34m\u001b[0m\u001b[0;34m\u001b[0m\u001b[0;34m\u001b[0m\u001b[0m\n",
      "\u001b[0;32m~/opt/anaconda3/lib/python3.8/site-packages/joblib/_parallel_backends.py\u001b[0m in \u001b[0;36mapply_async\u001b[0;34m(self, func, callback)\u001b[0m\n\u001b[1;32m    206\u001b[0m     \u001b[0;32mdef\u001b[0m \u001b[0mapply_async\u001b[0m\u001b[0;34m(\u001b[0m\u001b[0mself\u001b[0m\u001b[0;34m,\u001b[0m \u001b[0mfunc\u001b[0m\u001b[0;34m,\u001b[0m \u001b[0mcallback\u001b[0m\u001b[0;34m=\u001b[0m\u001b[0;32mNone\u001b[0m\u001b[0;34m)\u001b[0m\u001b[0;34m:\u001b[0m\u001b[0;34m\u001b[0m\u001b[0;34m\u001b[0m\u001b[0m\n\u001b[1;32m    207\u001b[0m         \u001b[0;34m\"\"\"Schedule a func to be run\"\"\"\u001b[0m\u001b[0;34m\u001b[0m\u001b[0;34m\u001b[0m\u001b[0m\n\u001b[0;32m--> 208\u001b[0;31m         \u001b[0mresult\u001b[0m \u001b[0;34m=\u001b[0m \u001b[0mImmediateResult\u001b[0m\u001b[0;34m(\u001b[0m\u001b[0mfunc\u001b[0m\u001b[0;34m)\u001b[0m\u001b[0;34m\u001b[0m\u001b[0;34m\u001b[0m\u001b[0m\n\u001b[0m\u001b[1;32m    209\u001b[0m         \u001b[0;32mif\u001b[0m \u001b[0mcallback\u001b[0m\u001b[0;34m:\u001b[0m\u001b[0;34m\u001b[0m\u001b[0;34m\u001b[0m\u001b[0m\n\u001b[1;32m    210\u001b[0m             \u001b[0mcallback\u001b[0m\u001b[0;34m(\u001b[0m\u001b[0mresult\u001b[0m\u001b[0;34m)\u001b[0m\u001b[0;34m\u001b[0m\u001b[0;34m\u001b[0m\u001b[0m\n",
      "\u001b[0;32m~/opt/anaconda3/lib/python3.8/site-packages/joblib/_parallel_backends.py\u001b[0m in \u001b[0;36m__init__\u001b[0;34m(self, batch)\u001b[0m\n\u001b[1;32m    570\u001b[0m         \u001b[0;31m# Don't delay the application, to avoid keeping the input\u001b[0m\u001b[0;34m\u001b[0m\u001b[0;34m\u001b[0m\u001b[0;34m\u001b[0m\u001b[0m\n\u001b[1;32m    571\u001b[0m         \u001b[0;31m# arguments in memory\u001b[0m\u001b[0;34m\u001b[0m\u001b[0;34m\u001b[0m\u001b[0;34m\u001b[0m\u001b[0m\n\u001b[0;32m--> 572\u001b[0;31m         \u001b[0mself\u001b[0m\u001b[0;34m.\u001b[0m\u001b[0mresults\u001b[0m \u001b[0;34m=\u001b[0m \u001b[0mbatch\u001b[0m\u001b[0;34m(\u001b[0m\u001b[0;34m)\u001b[0m\u001b[0;34m\u001b[0m\u001b[0;34m\u001b[0m\u001b[0m\n\u001b[0m\u001b[1;32m    573\u001b[0m \u001b[0;34m\u001b[0m\u001b[0m\n\u001b[1;32m    574\u001b[0m     \u001b[0;32mdef\u001b[0m \u001b[0mget\u001b[0m\u001b[0;34m(\u001b[0m\u001b[0mself\u001b[0m\u001b[0;34m)\u001b[0m\u001b[0;34m:\u001b[0m\u001b[0;34m\u001b[0m\u001b[0;34m\u001b[0m\u001b[0m\n",
      "\u001b[0;32m~/opt/anaconda3/lib/python3.8/site-packages/joblib/parallel.py\u001b[0m in \u001b[0;36m__call__\u001b[0;34m(self)\u001b[0m\n\u001b[1;32m    260\u001b[0m         \u001b[0;31m# change the default number of processes to -1\u001b[0m\u001b[0;34m\u001b[0m\u001b[0;34m\u001b[0m\u001b[0;34m\u001b[0m\u001b[0m\n\u001b[1;32m    261\u001b[0m         \u001b[0;32mwith\u001b[0m \u001b[0mparallel_backend\u001b[0m\u001b[0;34m(\u001b[0m\u001b[0mself\u001b[0m\u001b[0;34m.\u001b[0m\u001b[0m_backend\u001b[0m\u001b[0;34m,\u001b[0m \u001b[0mn_jobs\u001b[0m\u001b[0;34m=\u001b[0m\u001b[0mself\u001b[0m\u001b[0;34m.\u001b[0m\u001b[0m_n_jobs\u001b[0m\u001b[0;34m)\u001b[0m\u001b[0;34m:\u001b[0m\u001b[0;34m\u001b[0m\u001b[0;34m\u001b[0m\u001b[0m\n\u001b[0;32m--> 262\u001b[0;31m             return [func(*args, **kwargs)\n\u001b[0m\u001b[1;32m    263\u001b[0m                     for func, args, kwargs in self.items]\n\u001b[1;32m    264\u001b[0m \u001b[0;34m\u001b[0m\u001b[0m\n",
      "\u001b[0;32m~/opt/anaconda3/lib/python3.8/site-packages/joblib/parallel.py\u001b[0m in \u001b[0;36m<listcomp>\u001b[0;34m(.0)\u001b[0m\n\u001b[1;32m    260\u001b[0m         \u001b[0;31m# change the default number of processes to -1\u001b[0m\u001b[0;34m\u001b[0m\u001b[0;34m\u001b[0m\u001b[0;34m\u001b[0m\u001b[0m\n\u001b[1;32m    261\u001b[0m         \u001b[0;32mwith\u001b[0m \u001b[0mparallel_backend\u001b[0m\u001b[0;34m(\u001b[0m\u001b[0mself\u001b[0m\u001b[0;34m.\u001b[0m\u001b[0m_backend\u001b[0m\u001b[0;34m,\u001b[0m \u001b[0mn_jobs\u001b[0m\u001b[0;34m=\u001b[0m\u001b[0mself\u001b[0m\u001b[0;34m.\u001b[0m\u001b[0m_n_jobs\u001b[0m\u001b[0;34m)\u001b[0m\u001b[0;34m:\u001b[0m\u001b[0;34m\u001b[0m\u001b[0;34m\u001b[0m\u001b[0m\n\u001b[0;32m--> 262\u001b[0;31m             return [func(*args, **kwargs)\n\u001b[0m\u001b[1;32m    263\u001b[0m                     for func, args, kwargs in self.items]\n\u001b[1;32m    264\u001b[0m \u001b[0;34m\u001b[0m\u001b[0m\n",
      "\u001b[0;32m~/opt/anaconda3/lib/python3.8/site-packages/sklearn/utils/fixes.py\u001b[0m in \u001b[0;36m__call__\u001b[0;34m(self, *args, **kwargs)\u001b[0m\n\u001b[1;32m    220\u001b[0m     \u001b[0;32mdef\u001b[0m \u001b[0m__call__\u001b[0m\u001b[0;34m(\u001b[0m\u001b[0mself\u001b[0m\u001b[0;34m,\u001b[0m \u001b[0;34m*\u001b[0m\u001b[0margs\u001b[0m\u001b[0;34m,\u001b[0m \u001b[0;34m**\u001b[0m\u001b[0mkwargs\u001b[0m\u001b[0;34m)\u001b[0m\u001b[0;34m:\u001b[0m\u001b[0;34m\u001b[0m\u001b[0;34m\u001b[0m\u001b[0m\n\u001b[1;32m    221\u001b[0m         \u001b[0;32mwith\u001b[0m \u001b[0mconfig_context\u001b[0m\u001b[0;34m(\u001b[0m\u001b[0;34m**\u001b[0m\u001b[0mself\u001b[0m\u001b[0;34m.\u001b[0m\u001b[0mconfig\u001b[0m\u001b[0;34m)\u001b[0m\u001b[0;34m:\u001b[0m\u001b[0;34m\u001b[0m\u001b[0;34m\u001b[0m\u001b[0m\n\u001b[0;32m--> 222\u001b[0;31m             \u001b[0;32mreturn\u001b[0m \u001b[0mself\u001b[0m\u001b[0;34m.\u001b[0m\u001b[0mfunction\u001b[0m\u001b[0;34m(\u001b[0m\u001b[0;34m*\u001b[0m\u001b[0margs\u001b[0m\u001b[0;34m,\u001b[0m \u001b[0;34m**\u001b[0m\u001b[0mkwargs\u001b[0m\u001b[0;34m)\u001b[0m\u001b[0;34m\u001b[0m\u001b[0;34m\u001b[0m\u001b[0m\n\u001b[0m",
      "\u001b[0;32m~/opt/anaconda3/lib/python3.8/site-packages/sklearn/ensemble/_forest.py\u001b[0m in \u001b[0;36m_parallel_build_trees\u001b[0;34m(tree, forest, X, y, sample_weight, tree_idx, n_trees, verbose, class_weight, n_samples_bootstrap)\u001b[0m\n\u001b[1;32m    167\u001b[0m                                                         indices=indices)\n\u001b[1;32m    168\u001b[0m \u001b[0;34m\u001b[0m\u001b[0m\n\u001b[0;32m--> 169\u001b[0;31m         \u001b[0mtree\u001b[0m\u001b[0;34m.\u001b[0m\u001b[0mfit\u001b[0m\u001b[0;34m(\u001b[0m\u001b[0mX\u001b[0m\u001b[0;34m,\u001b[0m \u001b[0my\u001b[0m\u001b[0;34m,\u001b[0m \u001b[0msample_weight\u001b[0m\u001b[0;34m=\u001b[0m\u001b[0mcurr_sample_weight\u001b[0m\u001b[0;34m,\u001b[0m \u001b[0mcheck_input\u001b[0m\u001b[0;34m=\u001b[0m\u001b[0;32mFalse\u001b[0m\u001b[0;34m)\u001b[0m\u001b[0;34m\u001b[0m\u001b[0;34m\u001b[0m\u001b[0m\n\u001b[0m\u001b[1;32m    170\u001b[0m     \u001b[0;32melse\u001b[0m\u001b[0;34m:\u001b[0m\u001b[0;34m\u001b[0m\u001b[0;34m\u001b[0m\u001b[0m\n\u001b[1;32m    171\u001b[0m         \u001b[0mtree\u001b[0m\u001b[0;34m.\u001b[0m\u001b[0mfit\u001b[0m\u001b[0;34m(\u001b[0m\u001b[0mX\u001b[0m\u001b[0;34m,\u001b[0m \u001b[0my\u001b[0m\u001b[0;34m,\u001b[0m \u001b[0msample_weight\u001b[0m\u001b[0;34m=\u001b[0m\u001b[0msample_weight\u001b[0m\u001b[0;34m,\u001b[0m \u001b[0mcheck_input\u001b[0m\u001b[0;34m=\u001b[0m\u001b[0;32mFalse\u001b[0m\u001b[0;34m)\u001b[0m\u001b[0;34m\u001b[0m\u001b[0;34m\u001b[0m\u001b[0m\n",
      "\u001b[0;32m~/opt/anaconda3/lib/python3.8/site-packages/sklearn/tree/_classes.py\u001b[0m in \u001b[0;36mfit\u001b[0;34m(self, X, y, sample_weight, check_input, X_idx_sorted)\u001b[0m\n\u001b[1;32m    896\u001b[0m         \"\"\"\n\u001b[1;32m    897\u001b[0m \u001b[0;34m\u001b[0m\u001b[0m\n\u001b[0;32m--> 898\u001b[0;31m         super().fit(\n\u001b[0m\u001b[1;32m    899\u001b[0m             \u001b[0mX\u001b[0m\u001b[0;34m,\u001b[0m \u001b[0my\u001b[0m\u001b[0;34m,\u001b[0m\u001b[0;34m\u001b[0m\u001b[0;34m\u001b[0m\u001b[0m\n\u001b[1;32m    900\u001b[0m             \u001b[0msample_weight\u001b[0m\u001b[0;34m=\u001b[0m\u001b[0msample_weight\u001b[0m\u001b[0;34m,\u001b[0m\u001b[0;34m\u001b[0m\u001b[0;34m\u001b[0m\u001b[0m\n",
      "\u001b[0;32m~/opt/anaconda3/lib/python3.8/site-packages/sklearn/tree/_classes.py\u001b[0m in \u001b[0;36mfit\u001b[0;34m(self, X, y, sample_weight, check_input, X_idx_sorted)\u001b[0m\n\u001b[1;32m    387\u001b[0m                                            min_impurity_split)\n\u001b[1;32m    388\u001b[0m \u001b[0;34m\u001b[0m\u001b[0m\n\u001b[0;32m--> 389\u001b[0;31m         \u001b[0mbuilder\u001b[0m\u001b[0;34m.\u001b[0m\u001b[0mbuild\u001b[0m\u001b[0;34m(\u001b[0m\u001b[0mself\u001b[0m\u001b[0;34m.\u001b[0m\u001b[0mtree_\u001b[0m\u001b[0;34m,\u001b[0m \u001b[0mX\u001b[0m\u001b[0;34m,\u001b[0m \u001b[0my\u001b[0m\u001b[0;34m,\u001b[0m \u001b[0msample_weight\u001b[0m\u001b[0;34m)\u001b[0m\u001b[0;34m\u001b[0m\u001b[0;34m\u001b[0m\u001b[0m\n\u001b[0m\u001b[1;32m    390\u001b[0m \u001b[0;34m\u001b[0m\u001b[0m\n\u001b[1;32m    391\u001b[0m         \u001b[0;32mif\u001b[0m \u001b[0mself\u001b[0m\u001b[0;34m.\u001b[0m\u001b[0mn_outputs_\u001b[0m \u001b[0;34m==\u001b[0m \u001b[0;36m1\u001b[0m \u001b[0;32mand\u001b[0m \u001b[0mis_classifier\u001b[0m\u001b[0;34m(\u001b[0m\u001b[0mself\u001b[0m\u001b[0;34m)\u001b[0m\u001b[0;34m:\u001b[0m\u001b[0;34m\u001b[0m\u001b[0;34m\u001b[0m\u001b[0m\n",
      "\u001b[0;31mKeyboardInterrupt\u001b[0m: "
     ]
    }
   ],
   "source": [
    "all_features = list(X_adult_train.columns)\n",
    "ranked_features = [ x[0] for x in ranked_importance]\n",
    "\n",
    "random_states = [0, 1]\n",
    "num_estimators = 100\n",
    "\n",
    "square_loss_matrix = np.zeros((len(random_states), len(ranked_features)))\n",
    "for i in range(len(random_states)):\n",
    "    print(f\"random state = {i}\")\n",
    "    rs = random_states[i]\n",
    "    square_loss_lst = []\n",
    "    end = len(ranked_features) + 1\n",
    "    start = end - 15\n",
    "    for j in range(start, end):\n",
    "        print(f\"j = {j}\")\n",
    "        target_features = ranked_features[:j]\n",
    "        features_filter = select_features_filter(all_features, target_features)\n",
    "        X_adult_train_selected_features = X_adult_train.loc[:, features_filter]\n",
    "        X_adult_test_selected_features = X_adult_test.loc[:, features_filter]\n",
    "        rf_clf = RandomForestClassifier(random_state=rs, n_estimators=num_estimators)\n",
    "        rf_clf.fit(X_adult_train_selected_features, Y_adult_train)\n",
    "        square_loss_value = square_loss(Y_adult_test, rf_clf.predict(X_adult_test_selected_features))\n",
    "        square_loss_lst.append(square_loss_value)\n",
    "    square_loss_matrix[i,:] = np.array(square_loss_lst)"
   ]
  },
  {
   "cell_type": "code",
   "execution_count": 34,
   "metadata": {},
   "outputs": [
    {
     "data": {
      "image/png": "[encoded data removed]",
      "text/plain": [
       "<Figure size 432x288 with 1 Axes>"
      ]
     },
     "metadata": {
      "needs_background": "light"
     },
     "output_type": "display_data"
    }
   ],
   "source": [
    "x_axis = np.arange(start, end)\n",
    "for i in range(len(random_states)):\n",
    "    plt.plot(x_axis,square_loss_matrix[i], label=f\"random state = {i}\")\n",
    "plt.xlabel(\"number of most important features used\")\n",
    "plt.ylabel(\"squared loss\")\n",
    "plt.title(\"Random Forrest\")\n",
    "plt.legend()\n",
    "plt.show()"
   ]
  },
  {
   "cell_type": "markdown",
   "metadata": {},
   "source": [
    "# Random forest selected features\n",
    "Select top 8 performs almost as well as the complete set of features"
   ]
  },
  {
   "cell_type": "code",
   "execution_count": 71,
   "metadata": {},
   "outputs": [
    {
     "name": "stdout",
     "output_type": "stream",
     "text": [
      "8 significant RF features with RF classifer ------\n",
      "accuracy = 0.815625\n",
      "f1 score = 0.8195718654434252\n",
      "confusion_matrix = [[127  21]\n",
      " [ 38 134]]\n",
      "8 significant RF features with Ridge classifer -----\n",
      "accuracy = 0.74375\n",
      "f1 score = 0.74375\n",
      "confusion_matrix = [[119  29]\n",
      " [ 53 119]]\n",
      "8 significant RF features with SVC Classifer -----\n",
      "accuracy = 0.621875\n",
      "f1 score = 0.7012345679012346\n",
      "confusion_matrix = [[ 57  91]\n",
      " [ 30 142]]\n"
     ]
    }
   ],
   "source": [
    "from sklearn.metrics import accuracy_score\n",
    "from sklearn.metrics import f1_score\n",
    "from sklearn.metrics import confusion_matrix\n",
    "\n",
    "from sklearn.linear_model import RidgeClassifier\n",
    "from sklearn.svm import SVC\n",
    "\n",
    "\n",
    "rf_selected_features = [x[0] for x in ranked_importance[:8]]\n",
    "num_features = len(rf_selected_features)\n",
    "X_adult_train_selected_features = X_adult_train.loc[:, rf_selected_features]\n",
    "X_adult_test_selected_features = X_adult_test.loc[:, rf_selected_features]\n",
    "\n",
    "print(f\"{num_features} significant RF features with RF classifer ------\")\n",
    "num_estimators = 1000\n",
    "rf_clf = RandomForestClassifier(random_state=rs, n_estimators=num_estimators)\n",
    "rf_clf.fit(X_adult_train_selected_features, Y_adult_train)\n",
    "y_pred = rf_clf.predict(X_adult_test_selected_features)\n",
    "\n",
    "acc = accuracy_score(Y_adult_test, y_pred)\n",
    "print(f\"accuracy = {acc}\")\n",
    "\n",
    "f1 = f1_score(Y_adult_test, y_pred)\n",
    "print(f\"f1 score = {f1}\")\n",
    "\n",
    "con_matrix = confusion_matrix(Y_adult_test, y_pred)\n",
    "print(f\"confusion_matrix = {con_matrix}\")\n",
    "\n",
    "print(f\"{num_features} significant RF features with Ridge classifer -----\")\n",
    "ridge_clf = RidgeClassifier()\n",
    "ridge_clf.fit(X_adult_train_selected_features, Y_adult_train)\n",
    "y_pred = ridge_clf.predict(X_adult_test_selected_features)\n",
    "\n",
    "acc = accuracy_score(Y_adult_test, y_pred)\n",
    "print(f\"accuracy = {acc}\")\n",
    "\n",
    "f1 = f1_score(Y_adult_test, y_pred)\n",
    "print(f\"f1 score = {f1}\")\n",
    "\n",
    "con_matrix = confusion_matrix(Y_adult_test, y_pred)\n",
    "print(f\"confusion_matrix = {con_matrix}\")\n",
    "\n",
    "print(f\"{num_features} significant RF features with SVC Classifer -----\")\n",
    "svc_clf = SVC()\n",
    "svc_clf.fit(X_adult_train_selected_features, Y_adult_train)\n",
    "y_pred = svc_clf.predict(X_adult_test_selected_features)\n",
    "\n",
    "acc = accuracy_score(Y_adult_test, y_pred)\n",
    "print(f\"accuracy = {acc}\")\n",
    "\n",
    "f1 = f1_score(Y_adult_test, y_pred)\n",
    "print(f\"f1 score = {f1}\")\n",
    "\n",
    "con_matrix = confusion_matrix(Y_adult_test, y_pred)\n",
    "print(f\"confusion_matrix = {con_matrix}\")\n"
   ]
  },
  {
   "cell_type": "markdown",
   "metadata": {},
   "source": [
    "# Lasso Feature Selection"
   ]
  },
  {
   "cell_type": "code",
   "execution_count": 11,
   "metadata": {},
   "outputs": [],
   "source": [
    "from sklearn import linear_model\n",
    "from sklearn.feature_selection import SelectFromModel\n",
    "from sklearn.preprocessing import normalize"
   ]
  },
  {
   "cell_type": "code",
   "execution_count": 17,
   "metadata": {},
   "outputs": [
    {
     "name": "stdout",
     "output_type": "stream",
     "text": [
      "51\n",
      "['age', 'fnlwgt', 'education_num', 'capital_gain', 'capital_loss', 'hours_per_week', 'workclass_ ?', 'workclass_ Federal-gov', 'workclass_ Private', 'workclass_ Self-emp-inc', 'workclass_ Self-emp-not-inc', 'workclass_ State-gov', 'marital_status_ Divorced', 'marital_status_ Married-AF-spouse', 'marital_status_ Married-civ-spouse', 'marital_status_ Married-spouse-absent', 'marital_status_ Never-married', 'occupation_ Adm-clerical', 'occupation_ Exec-managerial', 'occupation_ Farming-fishing', 'occupation_ Handlers-cleaners', 'occupation_ Machine-op-inspct', 'occupation_ Other-service', 'occupation_ Prof-specialty', 'occupation_ Protective-serv', 'occupation_ Sales', 'occupation_ Tech-support', 'occupation_ Transport-moving', 'relationship_ Husband', 'relationship_ Not-in-family', 'relationship_ Unmarried', 'relationship_ Wife', 'race_ Black', 'race_ White', 'sex_ Female', 'native_country_ ?', 'native_country_ Cambodia', 'native_country_ Canada', 'native_country_ China', 'native_country_ Columbia', 'native_country_ England', 'native_country_ France', 'native_country_ Guatemala', 'native_country_ Ireland', 'native_country_ Italy', 'native_country_ Japan', 'native_country_ Scotland', 'native_country_ South', 'native_country_ Thailand', 'native_country_ Vietnam', 'native_country_ Yugoslavia']\n",
      "38\n",
      "['age', 'fnlwgt', 'education_num', 'capital_gain', 'capital_loss', 'hours_per_week', 'workclass_ ?', 'workclass_ Federal-gov', 'workclass_ Private', 'workclass_ Self-emp-inc', 'workclass_ Self-emp-not-inc', 'workclass_ State-gov', 'marital_status_ Married-AF-spouse', 'marital_status_ Married-civ-spouse', 'marital_status_ Married-spouse-absent', 'marital_status_ Never-married', 'occupation_ Exec-managerial', 'occupation_ Farming-fishing', 'occupation_ Handlers-cleaners', 'occupation_ Machine-op-inspct', 'occupation_ Other-service', 'occupation_ Prof-specialty', 'occupation_ Protective-serv', 'occupation_ Sales', 'occupation_ Tech-support', 'occupation_ Transport-moving', 'relationship_ Husband', 'relationship_ Not-in-family', 'relationship_ Wife', 'race_ White', 'sex_ Female', 'native_country_ ?', 'native_country_ China', 'native_country_ Columbia', 'native_country_ England', 'native_country_ France', 'native_country_ Ireland', 'native_country_ South']\n",
      "31\n",
      "['age', 'fnlwgt', 'education_num', 'capital_gain', 'capital_loss', 'hours_per_week', 'workclass_ ?', 'workclass_ Federal-gov', 'workclass_ Private', 'workclass_ Self-emp-inc', 'workclass_ Self-emp-not-inc', 'workclass_ State-gov', 'marital_status_ Married-AF-spouse', 'marital_status_ Married-civ-spouse', 'marital_status_ Never-married', 'occupation_ Exec-managerial', 'occupation_ Farming-fishing', 'occupation_ Handlers-cleaners', 'occupation_ Machine-op-inspct', 'occupation_ Other-service', 'occupation_ Prof-specialty', 'occupation_ Protective-serv', 'occupation_ Sales', 'occupation_ Tech-support', 'relationship_ Husband', 'relationship_ Not-in-family', 'relationship_ Wife', 'race_ White', 'sex_ Female', 'native_country_ Columbia', 'native_country_ South']\n",
      "27\n",
      "['age', 'fnlwgt', 'education_num', 'capital_gain', 'capital_loss', 'hours_per_week', 'workclass_ ?', 'workclass_ Federal-gov', 'workclass_ Self-emp-inc', 'workclass_ Self-emp-not-inc', 'marital_status_ Married-AF-spouse', 'marital_status_ Married-civ-spouse', 'marital_status_ Never-married', 'occupation_ Exec-managerial', 'occupation_ Farming-fishing', 'occupation_ Handlers-cleaners', 'occupation_ Machine-op-inspct', 'occupation_ Other-service', 'occupation_ Prof-specialty', 'occupation_ Protective-serv', 'occupation_ Sales', 'occupation_ Tech-support', 'relationship_ Husband', 'relationship_ Not-in-family', 'relationship_ Wife', 'race_ White', 'sex_ Female']\n",
      "22\n",
      "['age', 'education_num', 'capital_gain', 'capital_loss', 'hours_per_week', 'workclass_ ?', 'workclass_ Federal-gov', 'workclass_ Self-emp-inc', 'workclass_ Self-emp-not-inc', 'marital_status_ Married-AF-spouse', 'marital_status_ Married-civ-spouse', 'marital_status_ Never-married', 'occupation_ Exec-managerial', 'occupation_ Farming-fishing', 'occupation_ Machine-op-inspct', 'occupation_ Prof-specialty', 'occupation_ Protective-serv', 'occupation_ Sales', 'occupation_ Tech-support', 'relationship_ Wife', 'race_ White', 'sex_ Female']\n",
      "21\n",
      "['age', 'education_num', 'capital_gain', 'capital_loss', 'hours_per_week', 'workclass_ Federal-gov', 'workclass_ Self-emp-inc', 'workclass_ Self-emp-not-inc', 'marital_status_ Married-AF-spouse', 'marital_status_ Married-civ-spouse', 'marital_status_ Never-married', 'occupation_ Exec-managerial', 'occupation_ Farming-fishing', 'occupation_ Machine-op-inspct', 'occupation_ Prof-specialty', 'occupation_ Protective-serv', 'occupation_ Sales', 'occupation_ Tech-support', 'relationship_ Wife', 'race_ White', 'sex_ Female']\n",
      "18\n",
      "['age', 'education_num', 'capital_gain', 'capital_loss', 'hours_per_week', 'workclass_ Federal-gov', 'workclass_ Self-emp-inc', 'workclass_ Self-emp-not-inc', 'marital_status_ Married-civ-spouse', 'marital_status_ Never-married', 'occupation_ Exec-managerial', 'occupation_ Farming-fishing', 'occupation_ Machine-op-inspct', 'occupation_ Prof-specialty', 'occupation_ Sales', 'occupation_ Tech-support', 'relationship_ Wife', 'sex_ Female']\n",
      "16\n",
      "['age', 'education_num', 'capital_gain', 'capital_loss', 'hours_per_week', 'workclass_ Federal-gov', 'workclass_ Self-emp-inc', 'workclass_ Self-emp-not-inc', 'marital_status_ Married-civ-spouse', 'occupation_ Exec-managerial', 'occupation_ Farming-fishing', 'occupation_ Prof-specialty', 'occupation_ Sales', 'occupation_ Tech-support', 'relationship_ Wife', 'sex_ Female']\n",
      "16\n",
      "['age', 'education_num', 'capital_gain', 'capital_loss', 'hours_per_week', 'workclass_ Federal-gov', 'workclass_ Self-emp-inc', 'workclass_ Self-emp-not-inc', 'marital_status_ Married-civ-spouse', 'occupation_ Exec-managerial', 'occupation_ Farming-fishing', 'occupation_ Prof-specialty', 'occupation_ Sales', 'occupation_ Tech-support', 'relationship_ Wife', 'sex_ Female']\n",
      "14\n",
      "['age', 'education_num', 'capital_gain', 'capital_loss', 'hours_per_week', 'workclass_ Federal-gov', 'workclass_ Self-emp-inc', 'workclass_ Self-emp-not-inc', 'marital_status_ Married-civ-spouse', 'occupation_ Exec-managerial', 'occupation_ Farming-fishing', 'occupation_ Prof-specialty', 'occupation_ Sales', 'sex_ Female']\n",
      "13\n",
      "['age', 'education_num', 'capital_gain', 'capital_loss', 'hours_per_week', 'workclass_ Federal-gov', 'workclass_ Self-emp-inc', 'workclass_ Self-emp-not-inc', 'marital_status_ Married-civ-spouse', 'occupation_ Exec-managerial', 'occupation_ Farming-fishing', 'occupation_ Prof-specialty', 'sex_ Female']\n",
      "12\n",
      "['age', 'education_num', 'capital_gain', 'capital_loss', 'hours_per_week', 'workclass_ Federal-gov', 'workclass_ Self-emp-inc', 'marital_status_ Married-civ-spouse', 'occupation_ Exec-managerial', 'occupation_ Farming-fishing', 'occupation_ Prof-specialty', 'sex_ Female']\n",
      "10\n",
      "['age', 'education_num', 'capital_gain', 'capital_loss', 'hours_per_week', 'workclass_ Self-emp-inc', 'marital_status_ Married-civ-spouse', 'occupation_ Exec-managerial', 'occupation_ Farming-fishing', 'occupation_ Prof-specialty']\n",
      "10\n",
      "['age', 'education_num', 'capital_gain', 'capital_loss', 'hours_per_week', 'workclass_ Self-emp-inc', 'marital_status_ Married-civ-spouse', 'occupation_ Exec-managerial', 'occupation_ Farming-fishing', 'occupation_ Prof-specialty']\n",
      "9\n",
      "['age', 'education_num', 'capital_gain', 'capital_loss', 'hours_per_week', 'workclass_ Self-emp-inc', 'marital_status_ Married-civ-spouse', 'occupation_ Exec-managerial', 'occupation_ Prof-specialty']\n"
     ]
    }
   ],
   "source": [
    "def select_feature(all_features, feature_filter):\n",
    "    lst = []\n",
    "    for i in range(len(feature_filter)):\n",
    "        \n",
    "        if feature_filter[i]:\n",
    "            lst.append(all_features[i])\n",
    "    return lst\n",
    "\n",
    "n = 10\n",
    "loss_lst = []\n",
    "features_used = []\n",
    "alphas = np.linspace(0.00001,0.0001,15)\n",
    "for a in alphas:\n",
    "    # print(f\"a = {a} =========\")\n",
    "    lasso_clf = linear_model.Lasso(alpha=a, normalize=True, random_state=1)\n",
    "    lasso_clf.fit(X_adult_train, Y_adult_train)\n",
    "    feature_filter = ~np.isclose(lasso_clf.coef_, 0)\n",
    "    selected_features = select_feature(X_adult_train.columns, feature_filter)\n",
    "    print(len(selected_features))\n",
    "    print(selected_features)\n",
    "    y_pred = lasso_clf.predict(X_adult_test)\n",
    "    loss = square_loss(Y_adult_test, y_pred)\n",
    "    loss_lst.append(loss)\n",
    "    features_used.append(np.sum(feature_filter))\n",
    "    # print(f\"loss = {loss}\")"
   ]
  },
  {
   "cell_type": "code",
   "execution_count": 18,
   "metadata": {},
   "outputs": [
    {
     "data": {
      "image/png": "[encoded data removed]",
      "text/plain": [
       "<Figure size 432x288 with 2 Axes>"
      ]
     },
     "metadata": {
      "needs_background": "light"
     },
     "output_type": "display_data"
    }
   ],
   "source": [
    "fig, ax1 = plt.subplots()\n",
    "\n",
    "color = 'red'\n",
    "ax1.set_xlabel('alpha (L1 constant)')\n",
    "ax1.set_ylabel('squared loss', color=color)\n",
    "ax1.plot(alphas, loss_lst, color=color)\n",
    "ax1.tick_params(axis='y', labelcolor=color)\n",
    "\n",
    "ax2 = ax1.twinx()  # instantiate a second axes that shares the same x-axis\n",
    "\n",
    "color = 'blue'\n",
    "ax2.set_ylabel('features used', color=color)  # we already handled the x-label with ax1\n",
    "ax2.plot(alphas, features_used, color=color)\n",
    "ax2.tick_params(axis='y', labelcolor=color)\n",
    "\n",
    "fig.tight_layout()  # otherwise the right y-label is slightly clipped\n",
    "plt.title(\"Lasso squared Loss vs features used\")\n",
    "\n",
    "plt.show()"
   ]
  },
  {
   "cell_type": "markdown",
   "metadata": {},
   "source": [
    "# LASSO selected features\n",
    "\n",
    "['volatile acidity', 'chlorides', 'free sulfur dioxide', 'total sulfur dioxide', 'sulphates', 'alcohol']\n",
    "Random forest didn't use 'free sulfur dioxide'"
   ]
  },
  {
   "cell_type": "code",
   "execution_count": 21,
   "metadata": {},
   "outputs": [
    {
     "name": "stdout",
     "output_type": "stream",
     "text": [
      "38 significant LASSO features with RF classifer ------\n",
      "accuracy = 0.8498310983724024\n",
      "f1 score = 0.6561987344738692\n",
      "confusion_matrix = [[6902  460]\n",
      " [1007 1400]]\n",
      "38 significant LASSO features with Ridge classifer -----\n",
      "accuracy = 0.8359095096734569\n",
      "f1 score = 0.6035122433836261\n",
      "confusion_matrix = [[6946  416]\n",
      " [1187 1220]]\n",
      "38 significant LASSO features with SVC Classifer -----\n"
     ]
    }
   ],
   "source": [
    "from sklearn.metrics import accuracy_score\n",
    "from sklearn.metrics import f1_score\n",
    "from sklearn.metrics import confusion_matrix\n",
    "\n",
    "from sklearn.linear_model import RidgeClassifier\n",
    "from sklearn.svm import SVC\n",
    "\n",
    "lasso_selected_features = ['age', 'fnlwgt', 'education_num', 'capital_gain', 'capital_loss', 'hours_per_week', 'workclass_ ?', 'workclass_ Federal-gov', 'workclass_ Private', 'workclass_ Self-emp-inc', 'workclass_ Self-emp-not-inc', 'workclass_ State-gov', 'marital_status_ Married-AF-spouse', 'marital_status_ Married-civ-spouse', 'marital_status_ Married-spouse-absent', 'marital_status_ Never-married', 'occupation_ Exec-managerial', 'occupation_ Farming-fishing', 'occupation_ Handlers-cleaners', 'occupation_ Machine-op-inspct', 'occupation_ Other-service', 'occupation_ Prof-specialty', 'occupation_ Protective-serv', 'occupation_ Sales', 'occupation_ Tech-support', 'occupation_ Transport-moving', 'relationship_ Husband', 'relationship_ Not-in-family', 'relationship_ Wife', 'race_ White', 'sex_ Female', 'native_country_ ?', 'native_country_ China', 'native_country_ Columbia', 'native_country_ England', 'native_country_ France', 'native_country_ Ireland', 'native_country_ South']\n",
    "num_features = len(lasso_selected_features)\n",
    "X_adult_train_selected_features = X_adult_train.loc[:, lasso_selected_features]\n",
    "X_adult_test_selected_features = X_adult_test.loc[:, lasso_selected_features]\n",
    "\n",
    "print(f\"{num_features} significant LASSO features with RF classifer ------\")\n",
    "num_estimators = 10\n",
    "rf_clf = RandomForestClassifier(random_state=rs, n_estimators=num_estimators)\n",
    "rf_clf.fit(X_adult_train_selected_features, Y_adult_train)\n",
    "y_pred = rf_clf.predict(X_adult_test_selected_features)\n",
    "\n",
    "acc = accuracy_score(Y_adult_test, y_pred)\n",
    "print(f\"accuracy = {acc}\")\n",
    "\n",
    "f1 = f1_score(Y_adult_test, y_pred)\n",
    "print(f\"f1 score = {f1}\")\n",
    "\n",
    "con_matrix = confusion_matrix(Y_adult_test, y_pred)\n",
    "print(f\"confusion_matrix = {con_matrix}\")\n",
    "\n",
    "print(f\"{num_features} significant LASSO features with Ridge classifer -----\")\n",
    "ridge_clf = RidgeClassifier()\n",
    "ridge_clf.fit(X_adult_train_selected_features, Y_adult_train)\n",
    "y_pred = ridge_clf.predict(X_adult_test_selected_features)\n",
    "\n",
    "acc = accuracy_score(Y_adult_test, y_pred)\n",
    "print(f\"accuracy = {acc}\")\n",
    "\n",
    "f1 = f1_score(Y_adult_test, y_pred)\n",
    "print(f\"f1 score = {f1}\")\n",
    "\n",
    "con_matrix = confusion_matrix(Y_adult_test, y_pred)\n",
    "print(f\"confusion_matrix = {con_matrix}\")\n",
    "\n",
    "print(f\"{num_features} significant LASSO features with SVC Classifer -----\")\n",
    "svc_clf = SVC()\n",
    "svc_clf.fit(X_adult_train_selected_features, Y_adult_train)\n",
    "y_pred = svc_clf.predict(X_adult_test_selected_features)\n",
    "\n",
    "acc = accuracy_score(Y_adult_test, y_pred)\n",
    "print(f\"accuracy = {acc}\")\n",
    "\n",
    "f1 = f1_score(Y_adult_test, y_pred)\n",
    "print(f\"f1 score = {f1}\")\n",
    "\n",
    "con_matrix = confusion_matrix(Y_adult_test, y_pred)\n",
    "print(f\"confusion_matrix = {con_matrix}\")"
   ]
  },
  {
   "cell_type": "code",
   "execution_count": null,
   "metadata": {},
   "outputs": [],
   "source": []
  }
 ],
 "metadata": {
  "interpreter": {
   "hash": "b5c787b050929733acc4fe6e07d846310cb2fa5fbc72c8b3999673397fc4234f"
  },
  "kernelspec": {
   "display_name": "Python 3.8.8 64-bit ('base': conda)",
   "name": "python3"
  },
  "language_info": {
   "codemirror_mode": {
    "name": "ipython",
    "version": 3
   },
   "file_extension": ".py",
   "mimetype": "text/x-python",
   "name": "python",
   "nbconvert_exporter": "python",
   "pygments_lexer": "ipython3",
   "version": "3.8.8"
  }
 },
 "nbformat": 4,
 "nbformat_minor": 5
}
