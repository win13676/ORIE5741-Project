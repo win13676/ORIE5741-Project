{
 "cells": [
  {
   "cell_type": "code",
   "execution_count": null,
   "id": "e3c25fba",
   "metadata": {},
   "outputs": [],
   "source": [
    "import pandas as pd\n",
    "import numpy as np\n",
    "import matplotlib.pyplot as plt\n",
    "from sklearn.model_selection import train_test_split"
   ]
  },
  {
   "cell_type": "markdown",
   "id": "5926f61c",
   "metadata": {},
   "source": [
    "# Adult analysis"
   ]
  },
  {
   "cell_type": "code",
   "execution_count": null,
   "id": "a3455f13",
   "metadata": {},
   "outputs": [],
   "source": [
    "df_rain = pd.read_csv('datasets/weatherAUS_clean.csv')\n",
    "rain_feats = df_rain.columns.values\n",
    "rain_x = df_rain[rain_feats[1:-1]]\n",
    "rain_y = df_rain[rain_feats[-1]]\n",
    "X_adult_train, X_adult_test, Y_adult_train, Y_adult_test = train_test_split(rain_x, rain_y, test_size=0.2)"
   ]
  },
  {
   "cell_type": "markdown",
   "id": "c15ce97f",
   "metadata": {},
   "source": [
    "# Common Functions"
   ]
  },
  {
   "cell_type": "code",
   "execution_count": null,
   "id": "f64e835d",
   "metadata": {},
   "outputs": [],
   "source": [
    "def square_loss(y_true, y_pred):\n",
    "    n = y_true.shape[0]\n",
    "    return np.sum((y_pred - y_true) ** 2) / n\n",
    "\n",
    "def rank_feature_importance(feature_name, feature_score):\n",
    "    n = feature_name.shape[0]\n",
    "    lst = [(feature_name[i], feature_score[i]) for i in range(n)]\n",
    "    lst.sort(key=lambda x:x[1], reverse=True)\n",
    "    # uncomment to see just the rank without the score\n",
    "    # return [x[0] for x in lst]\n",
    "    return lst\n",
    "\n",
    "def select_features_filter(all_features, target_features):\n",
    "    lst = []\n",
    "    for i in range(len(all_features)):\n",
    "        if all_features[i] in target_features:\n",
    "            lst.append(True)\n",
    "        else:\n",
    "            lst.append(False)\n",
    "    return lst"
   ]
  },
  {
   "cell_type": "markdown",
   "id": "0d2cf7db",
   "metadata": {},
   "source": [
    "# Random Forest"
   ]
  },
  {
   "cell_type": "code",
   "execution_count": null,
   "id": "bd4d9009",
   "metadata": {},
   "outputs": [],
   "source": [
    "from sklearn.ensemble import RandomForestClassifier"
   ]
  },
  {
   "cell_type": "code",
   "execution_count": null,
   "id": "e7228380",
   "metadata": {},
   "outputs": [],
   "source": [
    "# Observation: when n_estimators=100 the ranked_importance changes!\n",
    "n_estimators = 1000\n",
    "for i in range(1):\n",
    "    rf_clf = RandomForestClassifier(random_state=i, n_estimators=n_estimators)\n",
    "    rf_clf.fit(X_adult_train, Y_adult_train)\n",
    "    y_pred = rf_clf.predict(X_adult_test)\n",
    "    loss = square_loss(Y_adult_test, y_pred)\n",
    "    print(f\"random state = {i}\")\n",
    "    print(f\"loss = {loss}\")\n",
    "    ranked_importance = rank_feature_importance(X_adult_train.columns, rf_clf.feature_importances_)\n",
    "    print(ranked_importance)"
   ]
  },
  {
   "cell_type": "code",
   "execution_count": null,
   "id": "0934045d",
   "metadata": {},
   "outputs": [],
   "source": [
    "all_features = list(X_adult_train.columns)\n",
    "ranked_features = [ x[0] for x in ranked_importance]\n",
    "\n",
    "random_states = [0, 1]\n",
    "num_estimators = 100\n",
    "\n",
    "square_loss_matrix = np.zeros((len(random_states), len(ranked_features)))\n",
    "for i in range(len(random_states)):\n",
    "    print(f\"random state = {i}\")\n",
    "    rs = random_states[i]\n",
    "    square_loss_lst = []\n",
    "    end = len(ranked_features) + 1\n",
    "    start = end - 15\n",
    "    for j in range(start, end):\n",
    "        print(f\"j = {j}\")\n",
    "        target_features = ranked_features[:j]\n",
    "        features_filter = select_features_filter(all_features, target_features)\n",
    "        X_adult_train_selected_features = X_adult_train.loc[:, features_filter]\n",
    "        X_adult_test_selected_features = X_adult_test.loc[:, features_filter]\n",
    "        rf_clf = RandomForestClassifier(random_state=rs, n_estimators=num_estimators)\n",
    "        rf_clf.fit(X_adult_train_selected_features, Y_adult_train)\n",
    "        square_loss_value = square_loss(Y_adult_test, rf_clf.predict(X_adult_test_selected_features))\n",
    "        square_loss_lst.append(square_loss_value)\n",
    "    square_loss_matrix[i,:] = np.array(square_loss_lst)"
   ]
  },
  {
   "cell_type": "code",
   "execution_count": null,
   "id": "e4566a70",
   "metadata": {},
   "outputs": [],
   "source": [
    "x_axis = np.arange(start, end)\n",
    "for i in range(len(random_states)):\n",
    "    plt.plot(x_axis,square_loss_matrix[i], label=f\"random state = {i}\")\n",
    "plt.xlabel(\"number of most important features used\")\n",
    "plt.ylabel(\"squared loss\")\n",
    "plt.title(\"Random Forrest\")\n",
    "plt.legend()\n",
    "plt.show()"
   ]
  },
  {
   "cell_type": "markdown",
   "id": "463a404a",
   "metadata": {},
   "source": [
    "# Random forest selected features\n",
    "Select top 8 performs almost as well as the complete set of features"
   ]
  },
  {
   "cell_type": "code",
   "execution_count": null,
   "id": "645d646c",
   "metadata": {},
   "outputs": [],
   "source": [
    "from sklearn.metrics import accuracy_score\n",
    "from sklearn.metrics import f1_score\n",
    "from sklearn.metrics import confusion_matrix\n",
    "\n",
    "from sklearn.linear_model import RidgeClassifier\n",
    "from sklearn.svm import SVC\n",
    "\n",
    "\n",
    "rf_selected_features = [x[0] for x in ranked_importance[:8]]\n",
    "num_features = len(rf_selected_features)\n",
    "X_adult_train_selected_features = X_adult_train.loc[:, rf_selected_features]\n",
    "X_adult_test_selected_features = X_adult_test.loc[:, rf_selected_features]\n",
    "\n",
    "print(f\"{num_features} significant RF features with RF classifer ------\")\n",
    "num_estimators = 1000\n",
    "rf_clf = RandomForestClassifier(random_state=rs, n_estimators=num_estimators)\n",
    "rf_clf.fit(X_adult_train_selected_features, Y_adult_train)\n",
    "y_pred = rf_clf.predict(X_adult_test_selected_features)\n",
    "\n",
    "acc = accuracy_score(Y_adult_test, y_pred)\n",
    "print(f\"accuracy = {acc}\")\n",
    "\n",
    "f1 = f1_score(Y_adult_test, y_pred)\n",
    "print(f\"f1 score = {f1}\")\n",
    "\n",
    "con_matrix = confusion_matrix(Y_adult_test, y_pred)\n",
    "print(f\"confusion_matrix = {con_matrix}\")\n",
    "\n",
    "print(f\"{num_features} significant RF features with Ridge classifer -----\")\n",
    "ridge_clf = RidgeClassifier()\n",
    "ridge_clf.fit(X_adult_train_selected_features, Y_adult_train)\n",
    "y_pred = ridge_clf.predict(X_adult_test_selected_features)\n",
    "\n",
    "acc = accuracy_score(Y_adult_test, y_pred)\n",
    "print(f\"accuracy = {acc}\")\n",
    "\n",
    "f1 = f1_score(Y_adult_test, y_pred)\n",
    "print(f\"f1 score = {f1}\")\n",
    "\n",
    "con_matrix = confusion_matrix(Y_adult_test, y_pred)\n",
    "print(f\"confusion_matrix = {con_matrix}\")\n",
    "\n",
    "print(f\"{num_features} significant RF features with SVC Classifer -----\")\n",
    "svc_clf = SVC()\n",
    "svc_clf.fit(X_adult_train_selected_features, Y_adult_train)\n",
    "y_pred = svc_clf.predict(X_adult_test_selected_features)\n",
    "\n",
    "acc = accuracy_score(Y_adult_test, y_pred)\n",
    "print(f\"accuracy = {acc}\")\n",
    "\n",
    "f1 = f1_score(Y_adult_test, y_pred)\n",
    "print(f\"f1 score = {f1}\")\n",
    "\n",
    "con_matrix = confusion_matrix(Y_adult_test, y_pred)\n",
    "print(f\"confusion_matrix = {con_matrix}\")\n"
   ]
  },
  {
   "cell_type": "markdown",
   "id": "a5e6fdfb",
   "metadata": {},
   "source": [
    "# Lasso Feature Selection"
   ]
  },
  {
   "cell_type": "code",
   "execution_count": null,
   "id": "e1eef741",
   "metadata": {},
   "outputs": [],
   "source": [
    "from sklearn import linear_model\n",
    "from sklearn.feature_selection import SelectFromModel\n",
    "from sklearn.preprocessing import normalize"
   ]
  },
  {
   "cell_type": "code",
   "execution_count": null,
   "id": "cc6c1835",
   "metadata": {},
   "outputs": [],
   "source": [
    "def select_feature(all_features, feature_filter):\n",
    "    lst = []\n",
    "    for i in range(len(feature_filter)):\n",
    "        \n",
    "        if feature_filter[i]:\n",
    "            lst.append(all_features[i])\n",
    "    return lst\n",
    "\n",
    "n = 10\n",
    "loss_lst = []\n",
    "features_used = []\n",
    "alphas = np.linspace(0.00001,0.0001,15)\n",
    "for a in alphas:\n",
    "    # print(f\"a = {a} =========\")\n",
    "    lasso_clf = linear_model.Lasso(alpha=a, normalize=True, random_state=1)\n",
    "    lasso_clf.fit(X_adult_train, Y_adult_train)\n",
    "    feature_filter = ~np.isclose(lasso_clf.coef_, 0)\n",
    "    selected_features = select_feature(X_adult_train.columns, feature_filter)\n",
    "    print(len(selected_features))\n",
    "    print(selected_features)\n",
    "    y_pred = lasso_clf.predict(X_adult_test)\n",
    "    loss = square_loss(Y_adult_test, y_pred)\n",
    "    loss_lst.append(loss)\n",
    "    features_used.append(np.sum(feature_filter))\n",
    "    # print(f\"loss = {loss}\")"
   ]
  },
  {
   "cell_type": "code",
   "execution_count": null,
   "id": "c6f0d854",
   "metadata": {},
   "outputs": [],
   "source": [
    "fig, ax1 = plt.subplots()\n",
    "\n",
    "color = 'red'\n",
    "ax1.set_xlabel('alpha (L1 constant)')\n",
    "ax1.set_ylabel('squared loss', color=color)\n",
    "ax1.plot(alphas, loss_lst, color=color)\n",
    "ax1.tick_params(axis='y', labelcolor=color)\n",
    "\n",
    "ax2 = ax1.twinx()  # instantiate a second axes that shares the same x-axis\n",
    "\n",
    "color = 'blue'\n",
    "ax2.set_ylabel('features used', color=color)  # we already handled the x-label with ax1\n",
    "ax2.plot(alphas, features_used, color=color)\n",
    "ax2.tick_params(axis='y', labelcolor=color)\n",
    "\n",
    "fig.tight_layout()  # otherwise the right y-label is slightly clipped\n",
    "plt.title(\"Lasso squared Loss vs features used\")\n",
    "\n",
    "plt.show()"
   ]
  },
  {
   "cell_type": "markdown",
   "id": "98847282",
   "metadata": {},
   "source": [
    "# LASSO selected features\n",
    "\n",
    "['volatile acidity', 'chlorides', 'free sulfur dioxide', 'total sulfur dioxide', 'sulphates', 'alcohol']\n",
    "Random forest didn't use 'free sulfur dioxide'"
   ]
  },
  {
   "cell_type": "code",
   "execution_count": null,
   "id": "710ed002",
   "metadata": {},
   "outputs": [],
   "source": [
    "from sklearn.metrics import accuracy_score\n",
    "from sklearn.metrics import f1_score\n",
    "from sklearn.metrics import confusion_matrix\n",
    "\n",
    "from sklearn.linear_model import RidgeClassifier\n",
    "from sklearn.svm import SVC\n",
    "\n",
    "lasso_selected_features = ['age', 'fnlwgt', 'education_num', 'capital_gain', 'capital_loss', 'hours_per_week', 'workclass_ ?', 'workclass_ Federal-gov', 'workclass_ Private', 'workclass_ Self-emp-inc', 'workclass_ Self-emp-not-inc', 'workclass_ State-gov', 'marital_status_ Married-AF-spouse', 'marital_status_ Married-civ-spouse', 'marital_status_ Married-spouse-absent', 'marital_status_ Never-married', 'occupation_ Exec-managerial', 'occupation_ Farming-fishing', 'occupation_ Handlers-cleaners', 'occupation_ Machine-op-inspct', 'occupation_ Other-service', 'occupation_ Prof-specialty', 'occupation_ Protective-serv', 'occupation_ Sales', 'occupation_ Tech-support', 'occupation_ Transport-moving', 'relationship_ Husband', 'relationship_ Not-in-family', 'relationship_ Wife', 'race_ White', 'sex_ Female', 'native_country_ ?', 'native_country_ China', 'native_country_ Columbia', 'native_country_ England', 'native_country_ France', 'native_country_ Ireland', 'native_country_ South']\n",
    "num_features = len(lasso_selected_features)\n",
    "X_adult_train_selected_features = X_adult_train.loc[:, lasso_selected_features]\n",
    "X_adult_test_selected_features = X_adult_test.loc[:, lasso_selected_features]\n",
    "\n",
    "print(f\"{num_features} significant LASSO features with RF classifer ------\")\n",
    "num_estimators = 10\n",
    "rf_clf = RandomForestClassifier(random_state=rs, n_estimators=num_estimators)\n",
    "rf_clf.fit(X_adult_train_selected_features, Y_adult_train)\n",
    "y_pred = rf_clf.predict(X_adult_test_selected_features)\n",
    "\n",
    "acc = accuracy_score(Y_adult_test, y_pred)\n",
    "print(f\"accuracy = {acc}\")\n",
    "\n",
    "f1 = f1_score(Y_adult_test, y_pred)\n",
    "print(f\"f1 score = {f1}\")\n",
    "\n",
    "con_matrix = confusion_matrix(Y_adult_test, y_pred)\n",
    "print(f\"confusion_matrix = {con_matrix}\")\n",
    "\n",
    "print(f\"{num_features} significant LASSO features with Ridge classifer -----\")\n",
    "ridge_clf = RidgeClassifier()\n",
    "ridge_clf.fit(X_adult_train_selected_features, Y_adult_train)\n",
    "y_pred = ridge_clf.predict(X_adult_test_selected_features)\n",
    "\n",
    "acc = accuracy_score(Y_adult_test, y_pred)\n",
    "print(f\"accuracy = {acc}\")\n",
    "\n",
    "f1 = f1_score(Y_adult_test, y_pred)\n",
    "print(f\"f1 score = {f1}\")\n",
    "\n",
    "con_matrix = confusion_matrix(Y_adult_test, y_pred)\n",
    "print(f\"confusion_matrix = {con_matrix}\")\n",
    "\n",
    "print(f\"{num_features} significant LASSO features with SVC Classifer -----\")\n",
    "svc_clf = SVC()\n",
    "svc_clf.fit(X_adult_train_selected_features, Y_adult_train)\n",
    "y_pred = svc_clf.predict(X_adult_test_selected_features)\n",
    "\n",
    "acc = accuracy_score(Y_adult_test, y_pred)\n",
    "print(f\"accuracy = {acc}\")\n",
    "\n",
    "f1 = f1_score(Y_adult_test, y_pred)\n",
    "print(f\"f1 score = {f1}\")\n",
    "\n",
    "con_matrix = confusion_matrix(Y_adult_test, y_pred)\n",
    "print(f\"confusion_matrix = {con_matrix}\")"
   ]
  },
  {
   "cell_type": "code",
   "execution_count": null,
   "id": "2aa25430",
   "metadata": {},
   "outputs": [],
   "source": []
  }
 ],
 "metadata": {
  "interpreter": {
   "hash": "b5c787b050929733acc4fe6e07d846310cb2fa5fbc72c8b3999673397fc4234f"
  },
  "kernelspec": {
   "display_name": "Python 3",
   "language": "python",
   "name": "python3"
  },
  "language_info": {
   "codemirror_mode": {
    "name": "ipython",
    "version": 3
   },
   "file_extension": ".py",
   "mimetype": "text/x-python",
   "name": "python",
   "nbconvert_exporter": "python",
   "pygments_lexer": "ipython3",
   "version": "3.6.10"
  }
 },
 "nbformat": 4,
 "nbformat_minor": 5
}
