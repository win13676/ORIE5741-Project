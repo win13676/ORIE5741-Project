{
 "cells": [
  {
   "cell_type": "code",
   "execution_count": null,
   "id": "524fb91d",
   "metadata": {},
   "outputs": [],
   "source": [
    "import numpy as np\n",
    "import pandas as pd\n",
    "import math\n",
    "import sys\n",
    "\n",
    "import matplotlib.pyplot as plt \n",
    "%matplotlib inline\n",
    "\n",
    "import random as rand\n",
    "from collections import defaultdict\n",
    "\n",
    "from sklearn.ensemble import RandomForestClassifier\n",
    "from sklearn.feature_extraction import DictVectorizer\n",
    "from sklearn.linear_model import RidgeClassifier\n",
    "from sklearn.metrics import accuracy_score\n",
    "from sklearn.metrics import confusion_matrix\n",
    "from sklearn.metrics import f1_score\n",
    "from sklearn.model_selection import cross_val_score\n",
    "\n",
    "from sklearn.decomposition import PCA\n",
    "from sklearn.decomposition import KernelPCA\n",
    "\n",
    "from subset_pca import *\n",
    "\n",
    "\n",
    "\n",
    "from time import time"
   ]
  },
  {
   "cell_type": "code",
   "execution_count": null,
   "id": "fd5c1acd",
   "metadata": {},
   "outputs": [],
   "source": [
    "adult_test_df = pd.read_csv('datasets/normalized_benchmark/adult_clean_test.csv')\n",
    "adult_train_df = pd.read_csv('datasets/normalized_benchmark/adult_clean_train.csv')\n",
    "titanic_test_df = pd.read_csv('datasets/normalized_benchmark/titanic_clean_test.csv')\n",
    "titanic_train_df = pd.read_csv('datasets/normalized_benchmark/titanic_clean_train.csv')\n",
    "weather_test_df = pd.read_csv('datasets/normalized_benchmark/weatherAUS_clean_test.csv')\n",
    "weather_train_df = pd.read_csv('datasets/normalized_benchmark/weatherAUS_clean_train.csv')\n",
    "wine_test_df = pd.read_csv('datasets/normalized_benchmark/wine_test.csv')\n",
    "wine_train_df = pd.read_csv('datasets/normalized_benchmark/wine_train.csv')"
   ]
  },
  {
   "cell_type": "code",
   "execution_count": null,
   "id": "f1438db2",
   "metadata": {},
   "outputs": [],
   "source": [
    "def extract_X_y(df, col_y):\n",
    "    X = df.drop(col_y, axis=1)\n",
    "    y = df[col_y]\n",
    "    return X, y"
   ]
  },
  {
   "cell_type": "code",
   "execution_count": null,
   "id": "8947d1b8",
   "metadata": {},
   "outputs": [],
   "source": [
    "adult_test_X, adult_test_y = extract_X_y(adult_test_df, 'income_>50k')\n",
    "adult_train_X, adult_train_y = extract_X_y(adult_train_df, 'income_>50k')\n",
    "\n",
    "titanic_test_X, titanic_test_y = extract_X_y(titanic_test_df, 'Survived')\n",
    "titanic_train_X, titanic_train_y = extract_X_y(titanic_train_df, 'Survived')\n",
    "\n",
    "weather_test_X, weather_test_y = extract_X_y(weather_test_df, 'RainTomorrow')\n",
    "weather_train_X, weather_train_y = extract_X_y(weather_train_df, 'RainTomorrow')\n",
    "\n",
    "wine_test_X, wine_test_y = extract_X_y(wine_test_df, 'quality')\n",
    "wine_train_X, wine_train_y = extract_X_y(wine_train_df, 'quality')"
   ]
  },
  {
   "cell_type": "code",
   "execution_count": null,
   "id": "568c8162",
   "metadata": {},
   "outputs": [],
   "source": [
    "def df_features_to_dicts(df):\n",
    "    columns = df.columns\n",
    "    dicts = []\n",
    "   \n",
    "    for index, row in df.iterrows():\n",
    "        feature_dict = {}\n",
    "        for col in columns:\n",
    "            feature_dict[col] = row[col]\n",
    "        dicts.append(feature_dict)\n",
    "    return dicts"
   ]
  },
  {
   "cell_type": "code",
   "execution_count": null,
   "id": "64b6aa93",
   "metadata": {},
   "outputs": [],
   "source": [
    "adult_test_dict_X = df_features_to_dicts(adult_test_X)\n",
    "adult_train_dict_X = df_features_to_dicts(adult_train_X)\n",
    "\n",
    "titanic_test_dict_X = df_features_to_dicts(titanic_test_X)\n",
    "titanic_train_dict_X = df_features_to_dicts(titanic_train_X)\n",
    "\n",
    "weather_test_dict_X = df_features_to_dicts(weather_test_X)\n",
    "weather_train_dict_X = df_features_to_dicts(weather_train_X)\n",
    "\n",
    "wine_test_dict_X = df_features_to_dicts(wine_test_X)\n",
    "wine_train_dict_X = df_features_to_dicts(wine_train_X)"
   ]
  },
  {
   "cell_type": "code",
   "execution_count": null,
   "id": "8791d356",
   "metadata": {},
   "outputs": [],
   "source": [
    "titanic_train_X.shape"
   ]
  },
  {
   "cell_type": "code",
   "execution_count": null,
   "id": "03eda85e",
   "metadata": {},
   "outputs": [],
   "source": [
    "titanic_train_y.shape"
   ]
  },
  {
   "cell_type": "code",
   "execution_count": null,
   "id": "a4f9b1d2",
   "metadata": {},
   "outputs": [],
   "source": [
    "len(titanic_train_dict_X)"
   ]
  },
  {
   "cell_type": "code",
   "execution_count": null,
   "id": "5730a1e2",
   "metadata": {},
   "outputs": [],
   "source": [
    "def compute_score(model, test_X, test_y):\n",
    "    pred = model.predict(test_X)\n",
    "    acc = accuracy_score(pred, test_y)\n",
    "    f1 = f1_score(pred, test_y)\n",
    "    conf = confusion_matrix(pred, test_y)\n",
    "\n",
    "    return acc, f1, conf"
   ]
  },
  {
   "cell_type": "code",
   "execution_count": null,
   "id": "163c8655",
   "metadata": {},
   "outputs": [],
   "source": [
    "def fit_compute_score(model, train_X, train_y, test_X, test_y):\n",
    "    t0 = time()\n",
    "    model.fit(train_X, train_y)\n",
    "    duration = time() - t0\n",
    "    train_acc, train_f1, train_conf = compute_score(model, train_X, train_y)\n",
    "    test_acc, test_f1, test_conf = compute_score(model, test_X, test_y)\n",
    "    print(\"duration\", duration)\n",
    "    print(\"train accuracy\", train_acc)\n",
    "    print(\"train f1\", train_f1)\n",
    "    print(\"train tn, fp, fn, tp\", train_conf.ravel()) \n",
    "    print(\"test accuracy\", test_acc)\n",
    "    print(\"test f1\", test_f1)\n",
    "    print(\"test tn, fp, fn, tp\", test_conf.ravel())\n",
    "    print()\n",
    "    \n",
    "    return train_acc, train_f1, train_conf, test_acc, test_f1, test_conf"
   ]
  },
  {
   "cell_type": "code",
   "execution_count": null,
   "id": "60520bf5",
   "metadata": {},
   "outputs": [],
   "source": [
    "def compare(train_X, train_dict_X, train_y, test_X, test_dict_X, test_y, dataset_name):\n",
    "    clf_ridge_default = RidgeClassifier()\n",
    "    # print('ridge_default')\n",
    "    ridge_default_train_acc, ridge_default_train_f1, ridge_default_train_conf, \\\n",
    "        ridge_default_test_acc, ridge_default_test_f1, ridge_default_test_conf = \\\n",
    "        fit_compute_score(clf_ridge_default, train_X, train_y, test_X, test_y)\n",
    "\n",
    "    n_estimators = 1000\n",
    "    clf_randfor_default = RandomForestClassifier(n_jobs=-1, n_estimators=n_estimators)\n",
    "    # print('randfor_default')\n",
    "    randfor_default_train_acc, randfor_default_train_f1, randfor_default_train_conf, \\\n",
    "        randfor_default_test_acc, randfor_default_test_f1, randfor_default_test_conf = \\\n",
    "        fit_compute_score(clf_randfor_default, train_X, train_y, test_X, test_y)\n",
    "\n",
    "    ridge_train_acc = []\n",
    "    ridge_train_f1 = []\n",
    "    ridge_train_conf = []\n",
    "    ridge_test_acc = []\n",
    "    ridge_test_f1 = []\n",
    "    ridge_test_conf = []\n",
    "    randfor_train_acc = []\n",
    "    randfor_train_f1 = []\n",
    "    randfor_train_conf = []\n",
    "    randfor_test_acc = []\n",
    "    randfor_test_f1 = []\n",
    "    randfor_test_conf = []\n",
    "    \n",
    "    n, d = train_X.shape\n",
    "    t = range(d)\n",
    "    for i in t:\n",
    "        pca = SubsetPCA(value=i, type='dim')\n",
    "        train_X_small = pca.fit_transform(train_X)\n",
    "        test_X_small = pca.transform(test_X)\n",
    "        \n",
    "        # print()\n",
    "\n",
    "        clf_ridge_small = RidgeClassifier()\n",
    "        # print('ridge_compressed')\n",
    "        ridge_small_train_acc, ridge_small_train_f1, ridge_small_train_conf, \\\n",
    "            ridge_small_test_acc, ridge_small_test_f1, ridge_small_test_conf = \\\n",
    "            fit_compute_score(clf_ridge_small, train_X_small, train_y, test_X_small, test_y)\n",
    "        ridge_train_acc.append(ridge_small_train_acc)\n",
    "        ridge_train_f1.append(ridge_small_train_f1)\n",
    "        ridge_train_conf.append(ridge_small_train_conf)\n",
    "        ridge_test_acc.append(ridge_small_test_acc)\n",
    "        ridge_test_f1.append(ridge_small_test_f1)\n",
    "        ridge_test_conf.append(ridge_small_test_conf)\n",
    "\n",
    "        clf_randfor_small = RandomForestClassifier(n_jobs=-1, n_estimators=n_estimators)\n",
    "        # print('randfor_compressed')\n",
    "        randfor_small_train_acc, randfor_small_train_f1, randfor_small_train_conf, \\\n",
    "            randfor_small_test_acc, randfor_small_test_f1, randfor_small_test_conf = \\\n",
    "            fit_compute_score(clf_randfor_small, train_X_small, train_y, test_X_small, test_y)\n",
    "        randfor_train_acc.append(randfor_small_train_acc)\n",
    "        randfor_train_f1.append(randfor_small_train_f1)\n",
    "        randfor_train_conf.append(randfor_small_train_conf)\n",
    "        randfor_test_acc.append(randfor_small_test_acc)\n",
    "        randfor_test_f1.append(randfor_small_test_f1)\n",
    "        randfor_test_conf.append(randfor_small_test_conf)\n",
    "\n",
    "    fig, ax = plt.subplots(1, 2, figsize=(15,5), tight_layout=True)\n",
    "    \n",
    "    ax[0].plot(t, ridge_default_test_acc*np.ones(len(t)), '-o', label='Ridge Full')\n",
    "    ax[0].plot(t, randfor_default_test_acc*np.ones(len(t)), '-o', label='RandomForest Full')\n",
    "    ax[0].plot(t, ridge_test_acc, '-o', label='Ridge Selected')\n",
    "    ax[0].plot(t, randfor_test_acc, '-o', label='RandomForest Selected')\n",
    "    ax[0].set(xlabel='Number of Selected Features', ylabel='Accuracy', title='SubsetKernelPCA Performance: '+dataset_name+' Dataset')\n",
    "    ax[0].legend()\n",
    "    \n",
    "    ax[1].plot(t, ridge_default_test_f1*np.ones(len(t)), '-o', label='Ridge Full')\n",
    "    ax[1].plot(t, randfor_default_test_f1*np.ones(len(t)), '-o', label='RandomForest Full')\n",
    "    ax[1].plot(t, ridge_test_f1, '-o', label='Ridge Selected')\n",
    "    ax[1].plot(t, randfor_test_f1, '-o', label='RandomForest Selected')\n",
    "    ax[1].set(xlabel='Number of Selected Features', ylabel='F1 score', title='SubsetKernelPCA Performance: '+dataset_name+' Dataset')\n",
    "    ax[1].legend()\n",
    "\n",
    "    plt.show()"
   ]
  },
  {
   "cell_type": "code",
   "execution_count": null,
   "id": "cb4fd55d",
   "metadata": {
    "scrolled": true
   },
   "outputs": [],
   "source": [
    "compare(adult_train_X, adult_train_dict_X, adult_train_y, adult_test_X, adult_test_dict_X, adult_test_y, dataset_name='Adult')"
   ]
  },
  {
   "cell_type": "code",
   "execution_count": null,
   "id": "946d5745",
   "metadata": {},
   "outputs": [],
   "source": [
    "compare(titanic_train_X, titanic_train_dict_X, titanic_train_y, titanic_test_X, titanic_test_dict_X, titanic_test_y, dataset_name='Titanic')"
   ]
  },
  {
   "cell_type": "code",
   "execution_count": null,
   "id": "9d329bba",
   "metadata": {},
   "outputs": [],
   "source": [
    "compare(weather_train_X, weather_train_dict_X, weather_train_y, weather_test_X, weather_test_dict_X, weather_test_y, dataset_name='WeatherAUS')"
   ]
  },
  {
   "cell_type": "code",
   "execution_count": null,
   "id": "d67eaa0a",
   "metadata": {},
   "outputs": [],
   "source": [
    "compare(wine_train_X, wine_train_dict_X, wine_train_y, wine_test_X, wine_test_dict_X, wine_test_y, dataset_name='Wine')"
   ]
  },
  {
   "cell_type": "code",
   "execution_count": null,
   "id": "165bb82c",
   "metadata": {},
   "outputs": [],
   "source": []
  }
 ],
 "metadata": {
  "kernelspec": {
   "display_name": "Python 3",
   "language": "python",
   "name": "python3"
  },
  "language_info": {
   "codemirror_mode": {
    "name": "ipython",
    "version": 3
   },
   "file_extension": ".py",
   "mimetype": "text/x-python",
   "name": "python",
   "nbconvert_exporter": "python",
   "pygments_lexer": "ipython3",
   "version": "3.6.10"
  }
 },
 "nbformat": 4,
 "nbformat_minor": 5
}
