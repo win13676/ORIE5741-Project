{
 "cells": [
  {
   "cell_type": "code",
   "execution_count": 112,
   "source": [
    "import pandas as pd\n",
    "import numpy as np\n",
    "import matplotlib.pyplot as plt"
   ],
   "outputs": [],
   "metadata": {}
  },
  {
   "cell_type": "markdown",
   "source": [
    "# Exploratory Data Analysis"
   ],
   "metadata": {}
  },
  {
   "cell_type": "code",
   "execution_count": 113,
   "source": [
    "df = pd.read_csv(\"datasets/winequality-red.csv\", delimiter=\";\")"
   ],
   "outputs": [],
   "metadata": {}
  },
  {
   "cell_type": "code",
   "execution_count": 114,
   "source": [
    "# no strange outliers\n",
    "df.describe()\n"
   ],
   "outputs": [
    {
     "output_type": "execute_result",
     "data": {
      "text/html": [
       "<div>\n",
       "<style scoped>\n",
       "    .dataframe tbody tr th:only-of-type {\n",
       "        vertical-align: middle;\n",
       "    }\n",
       "\n",
       "    .dataframe tbody tr th {\n",
       "        vertical-align: top;\n",
       "    }\n",
       "\n",
       "    .dataframe thead th {\n",
       "        text-align: right;\n",
       "    }\n",
       "</style>\n",
       "<table border=\"1\" class=\"dataframe\">\n",
       "  <thead>\n",
       "    <tr style=\"text-align: right;\">\n",
       "      <th></th>\n",
       "      <th>fixed acidity</th>\n",
       "      <th>volatile acidity</th>\n",
       "      <th>citric acid</th>\n",
       "      <th>residual sugar</th>\n",
       "      <th>chlorides</th>\n",
       "      <th>free sulfur dioxide</th>\n",
       "      <th>total sulfur dioxide</th>\n",
       "      <th>density</th>\n",
       "      <th>pH</th>\n",
       "      <th>sulphates</th>\n",
       "      <th>alcohol</th>\n",
       "      <th>quality</th>\n",
       "    </tr>\n",
       "  </thead>\n",
       "  <tbody>\n",
       "    <tr>\n",
       "      <th>count</th>\n",
       "      <td>1599.000000</td>\n",
       "      <td>1599.000000</td>\n",
       "      <td>1599.000000</td>\n",
       "      <td>1599.000000</td>\n",
       "      <td>1599.000000</td>\n",
       "      <td>1599.000000</td>\n",
       "      <td>1599.000000</td>\n",
       "      <td>1599.000000</td>\n",
       "      <td>1599.000000</td>\n",
       "      <td>1599.000000</td>\n",
       "      <td>1599.000000</td>\n",
       "      <td>1599.000000</td>\n",
       "    </tr>\n",
       "    <tr>\n",
       "      <th>mean</th>\n",
       "      <td>8.319637</td>\n",
       "      <td>0.527821</td>\n",
       "      <td>0.270976</td>\n",
       "      <td>2.538806</td>\n",
       "      <td>0.087467</td>\n",
       "      <td>15.874922</td>\n",
       "      <td>46.467792</td>\n",
       "      <td>0.996747</td>\n",
       "      <td>3.311113</td>\n",
       "      <td>0.658149</td>\n",
       "      <td>10.422983</td>\n",
       "      <td>5.636023</td>\n",
       "    </tr>\n",
       "    <tr>\n",
       "      <th>std</th>\n",
       "      <td>1.741096</td>\n",
       "      <td>0.179060</td>\n",
       "      <td>0.194801</td>\n",
       "      <td>1.409928</td>\n",
       "      <td>0.047065</td>\n",
       "      <td>10.460157</td>\n",
       "      <td>32.895324</td>\n",
       "      <td>0.001887</td>\n",
       "      <td>0.154386</td>\n",
       "      <td>0.169507</td>\n",
       "      <td>1.065668</td>\n",
       "      <td>0.807569</td>\n",
       "    </tr>\n",
       "    <tr>\n",
       "      <th>min</th>\n",
       "      <td>4.600000</td>\n",
       "      <td>0.120000</td>\n",
       "      <td>0.000000</td>\n",
       "      <td>0.900000</td>\n",
       "      <td>0.012000</td>\n",
       "      <td>1.000000</td>\n",
       "      <td>6.000000</td>\n",
       "      <td>0.990070</td>\n",
       "      <td>2.740000</td>\n",
       "      <td>0.330000</td>\n",
       "      <td>8.400000</td>\n",
       "      <td>3.000000</td>\n",
       "    </tr>\n",
       "    <tr>\n",
       "      <th>25%</th>\n",
       "      <td>7.100000</td>\n",
       "      <td>0.390000</td>\n",
       "      <td>0.090000</td>\n",
       "      <td>1.900000</td>\n",
       "      <td>0.070000</td>\n",
       "      <td>7.000000</td>\n",
       "      <td>22.000000</td>\n",
       "      <td>0.995600</td>\n",
       "      <td>3.210000</td>\n",
       "      <td>0.550000</td>\n",
       "      <td>9.500000</td>\n",
       "      <td>5.000000</td>\n",
       "    </tr>\n",
       "    <tr>\n",
       "      <th>50%</th>\n",
       "      <td>7.900000</td>\n",
       "      <td>0.520000</td>\n",
       "      <td>0.260000</td>\n",
       "      <td>2.200000</td>\n",
       "      <td>0.079000</td>\n",
       "      <td>14.000000</td>\n",
       "      <td>38.000000</td>\n",
       "      <td>0.996750</td>\n",
       "      <td>3.310000</td>\n",
       "      <td>0.620000</td>\n",
       "      <td>10.200000</td>\n",
       "      <td>6.000000</td>\n",
       "    </tr>\n",
       "    <tr>\n",
       "      <th>75%</th>\n",
       "      <td>9.200000</td>\n",
       "      <td>0.640000</td>\n",
       "      <td>0.420000</td>\n",
       "      <td>2.600000</td>\n",
       "      <td>0.090000</td>\n",
       "      <td>21.000000</td>\n",
       "      <td>62.000000</td>\n",
       "      <td>0.997835</td>\n",
       "      <td>3.400000</td>\n",
       "      <td>0.730000</td>\n",
       "      <td>11.100000</td>\n",
       "      <td>6.000000</td>\n",
       "    </tr>\n",
       "    <tr>\n",
       "      <th>max</th>\n",
       "      <td>15.900000</td>\n",
       "      <td>1.580000</td>\n",
       "      <td>1.000000</td>\n",
       "      <td>15.500000</td>\n",
       "      <td>0.611000</td>\n",
       "      <td>72.000000</td>\n",
       "      <td>289.000000</td>\n",
       "      <td>1.003690</td>\n",
       "      <td>4.010000</td>\n",
       "      <td>2.000000</td>\n",
       "      <td>14.900000</td>\n",
       "      <td>8.000000</td>\n",
       "    </tr>\n",
       "  </tbody>\n",
       "</table>\n",
       "</div>"
      ],
      "text/plain": [
       "       fixed acidity  volatile acidity  citric acid  residual sugar  \\\n",
       "count    1599.000000       1599.000000  1599.000000     1599.000000   \n",
       "mean        8.319637          0.527821     0.270976        2.538806   \n",
       "std         1.741096          0.179060     0.194801        1.409928   \n",
       "min         4.600000          0.120000     0.000000        0.900000   \n",
       "25%         7.100000          0.390000     0.090000        1.900000   \n",
       "50%         7.900000          0.520000     0.260000        2.200000   \n",
       "75%         9.200000          0.640000     0.420000        2.600000   \n",
       "max        15.900000          1.580000     1.000000       15.500000   \n",
       "\n",
       "         chlorides  free sulfur dioxide  total sulfur dioxide      density  \\\n",
       "count  1599.000000          1599.000000           1599.000000  1599.000000   \n",
       "mean      0.087467            15.874922             46.467792     0.996747   \n",
       "std       0.047065            10.460157             32.895324     0.001887   \n",
       "min       0.012000             1.000000              6.000000     0.990070   \n",
       "25%       0.070000             7.000000             22.000000     0.995600   \n",
       "50%       0.079000            14.000000             38.000000     0.996750   \n",
       "75%       0.090000            21.000000             62.000000     0.997835   \n",
       "max       0.611000            72.000000            289.000000     1.003690   \n",
       "\n",
       "                pH    sulphates      alcohol      quality  \n",
       "count  1599.000000  1599.000000  1599.000000  1599.000000  \n",
       "mean      3.311113     0.658149    10.422983     5.636023  \n",
       "std       0.154386     0.169507     1.065668     0.807569  \n",
       "min       2.740000     0.330000     8.400000     3.000000  \n",
       "25%       3.210000     0.550000     9.500000     5.000000  \n",
       "50%       3.310000     0.620000    10.200000     6.000000  \n",
       "75%       3.400000     0.730000    11.100000     6.000000  \n",
       "max       4.010000     2.000000    14.900000     8.000000  "
      ]
     },
     "metadata": {},
     "execution_count": 114
    }
   ],
   "metadata": {}
  },
  {
   "cell_type": "code",
   "execution_count": 115,
   "source": [
    "# example value of a data\n",
    "df.iloc[0]"
   ],
   "outputs": [
    {
     "output_type": "execute_result",
     "data": {
      "text/plain": [
       "fixed acidity            7.4000\n",
       "volatile acidity         0.7000\n",
       "citric acid              0.0000\n",
       "residual sugar           1.9000\n",
       "chlorides                0.0760\n",
       "free sulfur dioxide     11.0000\n",
       "total sulfur dioxide    34.0000\n",
       "density                  0.9978\n",
       "pH                       3.5100\n",
       "sulphates                0.5600\n",
       "alcohol                  9.4000\n",
       "quality                  5.0000\n",
       "Name: 0, dtype: float64"
      ]
     },
     "metadata": {},
     "execution_count": 115
    }
   ],
   "metadata": {}
  },
  {
   "cell_type": "code",
   "execution_count": 116,
   "source": [
    "# no NAN\n",
    "df.isna().sum()"
   ],
   "outputs": [
    {
     "output_type": "execute_result",
     "data": {
      "text/plain": [
       "fixed acidity           0\n",
       "volatile acidity        0\n",
       "citric acid             0\n",
       "residual sugar          0\n",
       "chlorides               0\n",
       "free sulfur dioxide     0\n",
       "total sulfur dioxide    0\n",
       "density                 0\n",
       "pH                      0\n",
       "sulphates               0\n",
       "alcohol                 0\n",
       "quality                 0\n",
       "dtype: int64"
      ]
     },
     "metadata": {},
     "execution_count": 116
    }
   ],
   "metadata": {}
  },
  {
   "cell_type": "markdown",
   "source": [
    "# Data Processessing"
   ],
   "metadata": {}
  },
  {
   "cell_type": "code",
   "execution_count": 117,
   "source": [
    "# spliting \n",
    "df = df.sample(frac = 1)\n",
    "\n",
    "train_proportion = 0.8\n",
    "n = len(df)\n",
    "print('Size of dataset: ', str(n))\n",
    "\n",
    "# Put the first ntrain observations in the DataFrame df into the training set, and the rest into the test set\n",
    "t = int(train_proportion * n)\n",
    "\n",
    "target = df[\"quality\"]\n",
    "data = df.loc[:, ~df.columns.isin([\"quality\"])]\n",
    "\n",
    "# the following variable records the features of examples in the training set\n",
    "train_x = data.iloc[:t]\n",
    "# the following variable records the features of examples in the test set\n",
    "test_x = data.iloc[t:]\n",
    "# the following variable records the labels of examples in the training set\n",
    "train_y = target[:t]\n",
    "# the following variable records the labels of examples in the test set\n",
    "test_y = target[t:]"
   ],
   "outputs": [
    {
     "output_type": "stream",
     "name": "stdout",
     "text": [
      "Size of dataset:  1599\n"
     ]
    }
   ],
   "metadata": {}
  },
  {
   "cell_type": "markdown",
   "source": [
    "# Common Functions"
   ],
   "metadata": {}
  },
  {
   "cell_type": "code",
   "execution_count": 165,
   "source": [
    "def square_loss(y_true, y_pred):\n",
    "    n = y_true.shape[0]\n",
    "    return np.sum((y_pred - y_true) ** 2) / n\n",
    "\n",
    "def rank_feature_importance(feature_name, feature_score):\n",
    "    n = feature_name.shape[0]\n",
    "    lst = [(feature_name[i], feature_score[i]) for i in range(n)]\n",
    "    lst.sort(key=lambda x:x[1], reverse=True)\n",
    "    # uncomment to see just the rank without the score\n",
    "    # return [x[0] for x in lst]\n",
    "    return lst\n",
    "\n",
    "def select_features_filter(all_features, target_features):\n",
    "    lst = []\n",
    "    for i in range(len(all_features)):\n",
    "        if all_features[i] in target_features:\n",
    "            lst.append(True)\n",
    "        else:\n",
    "            lst.append(False)\n",
    "    return lst"
   ],
   "outputs": [],
   "metadata": {}
  },
  {
   "cell_type": "markdown",
   "source": [
    "# Random Forest"
   ],
   "metadata": {}
  },
  {
   "cell_type": "code",
   "execution_count": 126,
   "source": [
    "from sklearn.ensemble import RandomForestClassifier"
   ],
   "outputs": [],
   "metadata": {}
  },
  {
   "cell_type": "code",
   "execution_count": 189,
   "source": [
    "# Observation: when n_estimators=100 the ranked_importance changes!\n",
    "for i in range(1):\n",
    "    rf_clf = RandomForestClassifier(random_state=i, n_estimators=1000)\n",
    "    rf_clf.fit(train_x, train_y)\n",
    "    y_pred = rf_clf.predict(test_x)\n",
    "    loss = square_loss(test_y, y_pred)\n",
    "    print(f\"random state = {i}\")\n",
    "    print(f\"loss = {loss}\")\n",
    "    ranked_importance = rank_feature_importance(train_x.columns, rf_clf.feature_importances_)\n",
    "    print(ranked_importance)"
   ],
   "outputs": [
    {
     "output_type": "stream",
     "name": "stdout",
     "text": [
      "random state = 0\n",
      "loss = 0.375\n",
      "[('alcohol', 0.1461694451825062), ('sulphates', 0.10779825120717466), ('total sulfur dioxide', 0.10697711059274166), ('volatile acidity', 0.10607038305196409), ('density', 0.09545155957032084), ('chlorides', 0.07964010892950603), ('fixed acidity', 0.07516494076185287), ('pH', 0.0736947968016041), ('citric acid', 0.07356224378694849), ('residual sugar', 0.06918516943246926), ('free sulfur dioxide', 0.06628599068291188)]\n"
     ]
    }
   ],
   "metadata": {}
  },
  {
   "cell_type": "code",
   "execution_count": 172,
   "source": [
    "all_features = list(train_x.columns)\n",
    "ranked_features = [ x[0] for x in ranked_importance]\n",
    "\n",
    "random_states = [0, 1, 2, 3, 4]\n",
    "num_estimators = 2000\n",
    "\n",
    "square_loss_matrix = np.zeros((len(random_states), len(ranked_features)))\n",
    "for i in range(len(random_states)):\n",
    "    print(f\"random state = {i}\")\n",
    "    rs = random_states[i]\n",
    "    square_loss_lst = []\n",
    "    for j in range(1, len(ranked_features) + 1):\n",
    "        target_features = ranked_features[:j]\n",
    "        features_filter = select_features_filter(all_features, target_features)\n",
    "        train_x_selected_features = train_x.loc[:, features_filter]\n",
    "        test_x_selected_features = test_x.loc[:, features_filter]\n",
    "        rf_clf = RandomForestClassifier(random_state=rs, n_estimators=num_estimators)\n",
    "        rf_clf.fit(train_x_selected_features, train_y)\n",
    "        square_loss_value = square_loss(test_y, rf_clf.predict(test_x_selected_features))\n",
    "        square_loss_lst.append(square_loss_value)\n",
    "    square_loss_matrix[i,:] = np.array(square_loss_lst)"
   ],
   "outputs": [
    {
     "output_type": "stream",
     "name": "stdout",
     "text": [
      "random state = 0\n",
      "random state = 1\n",
      "random state = 2\n",
      "random state = 3\n",
      "random state = 4\n"
     ]
    }
   ],
   "metadata": {}
  },
  {
   "cell_type": "code",
   "execution_count": 173,
   "source": [
    "x_axis = np.arange(1, len(ranked_features) + 1)\n",
    "for i in range(len(random_states)):\n",
    "    plt.plot(x_axis,square_loss_matrix[i], label=f\"random state = {i}\")\n",
    "plt.xlabel(\"number of most important features used\")\n",
    "plt.ylabel(\"squared loss\")\n",
    "plt.title(\"Random Forrest\")\n",
    "plt.legend()\n",
    "plt.show()"
   ],
   "outputs": [
    {
     "output_type": "display_data",
     "data": {
      "image/png": "[encoded data removed]",
      "text/plain": [
       "<Figure size 432x288 with 1 Axes>"
      ]
     },
     "metadata": {
      "needs_background": "light"
     }
    }
   ],
   "metadata": {}
  },
  {
   "cell_type": "code",
   "execution_count": 174,
   "source": [
    "# squared loss difference\n",
    "square_loss_matrix_0 = square_loss_matrix[:,:-1]\n",
    "square_loss_matrix_1 = square_loss_matrix[:,1:]\n",
    "square_loss_matrix_diff = square_loss_matrix_0 - square_loss_matrix_1\n",
    "\n",
    "x_axis = np.arange(2, square_loss_matrix_diff.shape[1] + 2)\n",
    "for i in range(len(random_states)):\n",
    "    plt.plot(x_axis,square_loss_matrix_diff[i], label=f\"random state = {i}\")\n",
    "plt.xlabel(\"number of features added\")\n",
    "plt.ylabel(\"loss reduced\")\n",
    "plt.title(\"Random Forrest\")\n",
    "plt.legend()\n",
    "plt.show()\n"
   ],
   "outputs": [
    {
     "output_type": "display_data",
     "data": {
      "image/png": "[encoded data removed]",
      "text/plain": [
       "<Figure size 432x288 with 1 Axes>"
      ]
     },
     "metadata": {
      "needs_background": "light"
     }
    }
   ],
   "metadata": {}
  },
  {
   "cell_type": "markdown",
   "source": [
    "# Lasso Feature Selection"
   ],
   "metadata": {}
  },
  {
   "cell_type": "code",
   "execution_count": 254,
   "source": [
    "from sklearn import linear_model\n",
    "from sklearn.feature_selection import SelectFromModel\n",
    "from sklearn.preprocessing import normalize"
   ],
   "outputs": [],
   "metadata": {}
  },
  {
   "cell_type": "code",
   "execution_count": 302,
   "source": [
    "def select_feature(all_features, feature_filter):\n",
    "    lst = []\n",
    "    for i in range(len(feature_filter)):\n",
    "        \n",
    "        if feature_filter[i]:\n",
    "            lst.append(all_features[i])\n",
    "    return lst\n",
    "\n",
    "n = 10\n",
    "loss_lst = []\n",
    "features_used = []\n",
    "alphas = np.linspace(0.00001,0.008,30)\n",
    "for a in alphas:\n",
    "    # print(f\"a = {a} =========\")\n",
    "    lasso_clf = linear_model.Lasso(alpha=a, normalize=True, random_state=1)\n",
    "    lasso_clf.fit(train_x, train_y)\n",
    "    feature_filter = ~np.isclose(lasso_clf.coef_, 0)\n",
    "    selected_features = select_feature(train_x.columns, feature_filter)\n",
    "    print(selected_features)\n",
    "    y_pred = lasso_clf.predict(test_x)\n",
    "    loss = square_loss(test_y, y_pred)\n",
    "    loss_lst.append(loss)\n",
    "    features_used.append(np.sum(feature_filter))\n",
    "    # print(f\"loss = {loss}\")"
   ],
   "outputs": [
    {
     "output_type": "stream",
     "name": "stdout",
     "text": [
      "['fixed acidity', 'volatile acidity', 'citric acid', 'residual sugar', 'chlorides', 'free sulfur dioxide', 'total sulfur dioxide', 'density', 'pH', 'sulphates', 'alcohol']\n",
      "['volatile acidity', 'chlorides', 'free sulfur dioxide', 'total sulfur dioxide', 'pH', 'sulphates', 'alcohol']\n",
      "['fixed acidity', 'volatile acidity', 'chlorides', 'total sulfur dioxide', 'pH', 'sulphates', 'alcohol']\n",
      "['fixed acidity', 'volatile acidity', 'chlorides', 'total sulfur dioxide', 'pH', 'sulphates', 'alcohol']\n",
      "['volatile acidity', 'chlorides', 'total sulfur dioxide', 'sulphates', 'alcohol']\n",
      "['volatile acidity', 'total sulfur dioxide', 'sulphates', 'alcohol']\n",
      "['volatile acidity', 'total sulfur dioxide', 'sulphates', 'alcohol']\n",
      "['volatile acidity', 'total sulfur dioxide', 'sulphates', 'alcohol']\n",
      "['volatile acidity', 'total sulfur dioxide', 'sulphates', 'alcohol']\n",
      "['volatile acidity', 'sulphates', 'alcohol']\n",
      "['volatile acidity', 'sulphates', 'alcohol']\n",
      "['volatile acidity', 'sulphates', 'alcohol']\n",
      "['volatile acidity', 'sulphates', 'alcohol']\n",
      "['volatile acidity', 'sulphates', 'alcohol']\n",
      "['volatile acidity', 'sulphates', 'alcohol']\n",
      "['volatile acidity', 'sulphates', 'alcohol']\n",
      "['volatile acidity', 'alcohol']\n",
      "['volatile acidity', 'alcohol']\n",
      "['volatile acidity', 'alcohol']\n",
      "['volatile acidity', 'alcohol']\n",
      "['volatile acidity', 'alcohol']\n",
      "['volatile acidity', 'alcohol']\n",
      "['volatile acidity', 'alcohol']\n",
      "['volatile acidity', 'alcohol']\n",
      "['volatile acidity', 'alcohol']\n",
      "['volatile acidity', 'alcohol']\n",
      "['volatile acidity', 'alcohol']\n",
      "['volatile acidity', 'alcohol']\n",
      "['volatile acidity', 'alcohol']\n",
      "['alcohol']\n"
     ]
    }
   ],
   "metadata": {}
  },
  {
   "cell_type": "code",
   "execution_count": 309,
   "source": [
    "fig, ax1 = plt.subplots()\n",
    "\n",
    "color = 'red'\n",
    "ax1.set_xlabel('alpha (L1 constant)')\n",
    "ax1.set_ylabel('squared loss', color=color)\n",
    "ax1.plot(alphas, loss_lst, color=color)\n",
    "ax1.tick_params(axis='y', labelcolor=color)\n",
    "\n",
    "ax2 = ax1.twinx()  # instantiate a second axes that shares the same x-axis\n",
    "\n",
    "color = 'blue'\n",
    "ax2.set_ylabel('features used', color=color)  # we already handled the x-label with ax1\n",
    "ax2.plot(alphas, features_used, color=color)\n",
    "ax2.tick_params(axis='y', labelcolor=color)\n",
    "\n",
    "fig.tight_layout()  # otherwise the right y-label is slightly clipped\n",
    "plt.title(\"Lasso squared Loss vs features used\")\n",
    "plt.show()"
   ],
   "outputs": [
    {
     "output_type": "display_data",
     "data": {
      "image/png": "[encoded data removed]",
      "text/plain": [
       "<Figure size 432x288 with 2 Axes>"
      ]
     },
     "metadata": {
      "needs_background": "light"
     }
    }
   ],
   "metadata": {}
  },
  {
   "cell_type": "code",
   "execution_count": null,
   "source": [],
   "outputs": [],
   "metadata": {}
  }
 ],
 "metadata": {
  "kernelspec": {
   "name": "python3",
   "display_name": "Python 3.8.8 64-bit ('base': conda)"
  },
  "language_info": {
   "codemirror_mode": {
    "name": "ipython",
    "version": 3
   },
   "file_extension": ".py",
   "mimetype": "text/x-python",
   "name": "python",
   "nbconvert_exporter": "python",
   "pygments_lexer": "ipython3",
   "version": "3.8.8"
  },
  "interpreter": {
   "hash": "6c6ae12a854449398e5676b3b81e0c3ce3881d5b336fcf0a72c0626b59aeda85"
  }
 },
 "nbformat": 4,
 "nbformat_minor": 5
}