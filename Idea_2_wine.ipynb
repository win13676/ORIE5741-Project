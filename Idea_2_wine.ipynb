{
 "cells": [
  {
   "cell_type": "code",
   "execution_count": 1,
   "id": "dab0e3cb",
   "metadata": {},
   "outputs": [],
   "source": [
    "%load_ext autoreload\n",
    "%autoreload 1\n",
    "\n",
    "import numpy as np\n",
    "import pandas as pd\n",
    "import matplotlib.pyplot as plt\n",
    "import sklearn"
   ]
  },
  {
   "cell_type": "code",
   "execution_count": 2,
   "id": "d532167d",
   "metadata": {},
   "outputs": [],
   "source": [
    "import ControlBurn as cb\n",
    "from sklearn.model_selection import train_test_split\n",
    "from sklearn.metrics import confusion_matrix as cm\n",
    "from sklearn.ensemble import RandomForestClassifier as rfc\n",
    "from sklearn.linear_model import LogisticRegression as lr\n",
    "from sklearn.linear_model import RidgeClassifier as rc\n",
    "from sklearn.decomposition import PCA\n",
    "from sklearn.decomposition import KernelPCA"
   ]
  },
  {
   "cell_type": "code",
   "execution_count": 4,
   "id": "6eb26f23",
   "metadata": {},
   "outputs": [],
   "source": [
    "df_rain = pd.read_csv('datasets/benchmark/wine_train.csv')\n",
    "rain_feats = df_rain.columns.values\n",
    "rain_x = df_rain.loc[:, df_rain.columns != \"quality\"]\n",
    "rain_x = df_rain.loc[:, df_rain.columns != \"Unnamed: 0\"]\n",
    "rain_y = df_rain.loc[:, df_rain.columns == \"quality\"]\n",
    "rain_x_tr, rain_x_te, rain_y_tr, rain_y_te = train_test_split(rain_x, rain_y, test_size=0.2)"
   ]
  },
  {
   "cell_type": "code",
   "execution_count": 5,
   "id": "7f4a5b20",
   "metadata": {},
   "outputs": [],
   "source": [
    "# rain_norm_x = rain_x - rain_x.min()\n",
    "# rain_norm_x /= (rain_norm_x.max() - rain_norm_x.min())\n",
    "rain_norm_x = rain_x - rain_x.mean()\n",
    "rain_norm_x_tr, rain_norm_x_te, rain_norm_y_tr, rain_norm_y_te = train_test_split(rain_norm_x, rain_y, test_size=0.2)"
   ]
  },
  {
   "cell_type": "code",
   "execution_count": 6,
   "id": "7296e86e",
   "metadata": {},
   "outputs": [
    {
     "data": {
      "text/plain": [
       "1"
      ]
     },
     "execution_count": 6,
     "metadata": {},
     "output_type": "execute_result"
    }
   ],
   "source": [
    "df_rain['quality'].max()"
   ]
  },
  {
   "cell_type": "code",
   "execution_count": 7,
   "id": "4614330a",
   "metadata": {},
   "outputs": [
    {
     "data": {
      "text/html": [
       "<div>\n",
       "<style scoped>\n",
       "    .dataframe tbody tr th:only-of-type {\n",
       "        vertical-align: middle;\n",
       "    }\n",
       "\n",
       "    .dataframe tbody tr th {\n",
       "        vertical-align: top;\n",
       "    }\n",
       "\n",
       "    .dataframe thead th {\n",
       "        text-align: right;\n",
       "    }\n",
       "</style>\n",
       "<table border=\"1\" class=\"dataframe\">\n",
       "  <thead>\n",
       "    <tr style=\"text-align: right;\">\n",
       "      <th></th>\n",
       "      <th>fixed acidity</th>\n",
       "      <th>volatile acidity</th>\n",
       "      <th>citric acid</th>\n",
       "      <th>residual sugar</th>\n",
       "      <th>chlorides</th>\n",
       "      <th>free sulfur dioxide</th>\n",
       "      <th>total sulfur dioxide</th>\n",
       "      <th>density</th>\n",
       "      <th>pH</th>\n",
       "      <th>sulphates</th>\n",
       "      <th>alcohol</th>\n",
       "      <th>quality</th>\n",
       "    </tr>\n",
       "  </thead>\n",
       "  <tbody>\n",
       "    <tr>\n",
       "      <th>0</th>\n",
       "      <td>8.0</td>\n",
       "      <td>0.18</td>\n",
       "      <td>0.37</td>\n",
       "      <td>0.9</td>\n",
       "      <td>0.049</td>\n",
       "      <td>36.0</td>\n",
       "      <td>109.0</td>\n",
       "      <td>0.99007</td>\n",
       "      <td>2.89</td>\n",
       "      <td>0.44</td>\n",
       "      <td>12.7</td>\n",
       "      <td>1</td>\n",
       "    </tr>\n",
       "    <tr>\n",
       "      <th>1</th>\n",
       "      <td>7.5</td>\n",
       "      <td>0.58</td>\n",
       "      <td>0.20</td>\n",
       "      <td>2.0</td>\n",
       "      <td>0.073</td>\n",
       "      <td>34.0</td>\n",
       "      <td>44.0</td>\n",
       "      <td>0.99494</td>\n",
       "      <td>3.10</td>\n",
       "      <td>0.43</td>\n",
       "      <td>9.3</td>\n",
       "      <td>0</td>\n",
       "    </tr>\n",
       "    <tr>\n",
       "      <th>2</th>\n",
       "      <td>6.4</td>\n",
       "      <td>0.53</td>\n",
       "      <td>0.09</td>\n",
       "      <td>3.9</td>\n",
       "      <td>0.123</td>\n",
       "      <td>14.0</td>\n",
       "      <td>31.0</td>\n",
       "      <td>0.99680</td>\n",
       "      <td>3.50</td>\n",
       "      <td>0.67</td>\n",
       "      <td>11.0</td>\n",
       "      <td>0</td>\n",
       "    </tr>\n",
       "    <tr>\n",
       "      <th>3</th>\n",
       "      <td>6.6</td>\n",
       "      <td>0.61</td>\n",
       "      <td>0.01</td>\n",
       "      <td>1.9</td>\n",
       "      <td>0.080</td>\n",
       "      <td>8.0</td>\n",
       "      <td>25.0</td>\n",
       "      <td>0.99746</td>\n",
       "      <td>3.69</td>\n",
       "      <td>0.73</td>\n",
       "      <td>10.5</td>\n",
       "      <td>0</td>\n",
       "    </tr>\n",
       "    <tr>\n",
       "      <th>4</th>\n",
       "      <td>6.8</td>\n",
       "      <td>0.59</td>\n",
       "      <td>0.06</td>\n",
       "      <td>6.0</td>\n",
       "      <td>0.060</td>\n",
       "      <td>11.0</td>\n",
       "      <td>18.0</td>\n",
       "      <td>0.99620</td>\n",
       "      <td>3.41</td>\n",
       "      <td>0.59</td>\n",
       "      <td>10.8</td>\n",
       "      <td>1</td>\n",
       "    </tr>\n",
       "  </tbody>\n",
       "</table>\n",
       "</div>"
      ],
      "text/plain": [
       "   fixed acidity  volatile acidity  citric acid  residual sugar  chlorides  \\\n",
       "0            8.0              0.18         0.37             0.9      0.049   \n",
       "1            7.5              0.58         0.20             2.0      0.073   \n",
       "2            6.4              0.53         0.09             3.9      0.123   \n",
       "3            6.6              0.61         0.01             1.9      0.080   \n",
       "4            6.8              0.59         0.06             6.0      0.060   \n",
       "\n",
       "   free sulfur dioxide  total sulfur dioxide  density    pH  sulphates  \\\n",
       "0                 36.0                 109.0  0.99007  2.89       0.44   \n",
       "1                 34.0                  44.0  0.99494  3.10       0.43   \n",
       "2                 14.0                  31.0  0.99680  3.50       0.67   \n",
       "3                  8.0                  25.0  0.99746  3.69       0.73   \n",
       "4                 11.0                  18.0  0.99620  3.41       0.59   \n",
       "\n",
       "   alcohol  quality  \n",
       "0     12.7        1  \n",
       "1      9.3        0  \n",
       "2     11.0        0  \n",
       "3     10.5        0  \n",
       "4     10.8        1  "
      ]
     },
     "execution_count": 7,
     "metadata": {},
     "output_type": "execute_result"
    }
   ],
   "source": [
    "rain_x.head()"
   ]
  },
  {
   "cell_type": "code",
   "execution_count": 8,
   "id": "107381cc",
   "metadata": {},
   "outputs": [
    {
     "data": {
      "text/html": [
       "<div>\n",
       "<style scoped>\n",
       "    .dataframe tbody tr th:only-of-type {\n",
       "        vertical-align: middle;\n",
       "    }\n",
       "\n",
       "    .dataframe tbody tr th {\n",
       "        vertical-align: top;\n",
       "    }\n",
       "\n",
       "    .dataframe thead th {\n",
       "        text-align: right;\n",
       "    }\n",
       "</style>\n",
       "<table border=\"1\" class=\"dataframe\">\n",
       "  <thead>\n",
       "    <tr style=\"text-align: right;\">\n",
       "      <th></th>\n",
       "      <th>fixed acidity</th>\n",
       "      <th>volatile acidity</th>\n",
       "      <th>citric acid</th>\n",
       "      <th>residual sugar</th>\n",
       "      <th>chlorides</th>\n",
       "      <th>free sulfur dioxide</th>\n",
       "      <th>total sulfur dioxide</th>\n",
       "      <th>density</th>\n",
       "      <th>pH</th>\n",
       "      <th>sulphates</th>\n",
       "      <th>alcohol</th>\n",
       "      <th>quality</th>\n",
       "    </tr>\n",
       "  </thead>\n",
       "  <tbody>\n",
       "    <tr>\n",
       "      <th>0</th>\n",
       "      <td>-0.313683</td>\n",
       "      <td>-0.347099</td>\n",
       "      <td>0.099945</td>\n",
       "      <td>-1.62326</td>\n",
       "      <td>-0.038938</td>\n",
       "      <td>20.186865</td>\n",
       "      <td>62.985145</td>\n",
       "      <td>-0.006657</td>\n",
       "      <td>-0.421118</td>\n",
       "      <td>-0.217177</td>\n",
       "      <td>2.259851</td>\n",
       "      <td>0.465989</td>\n",
       "    </tr>\n",
       "    <tr>\n",
       "      <th>1</th>\n",
       "      <td>-0.813683</td>\n",
       "      <td>0.052901</td>\n",
       "      <td>-0.070055</td>\n",
       "      <td>-0.52326</td>\n",
       "      <td>-0.014938</td>\n",
       "      <td>18.186865</td>\n",
       "      <td>-2.014855</td>\n",
       "      <td>-0.001787</td>\n",
       "      <td>-0.211118</td>\n",
       "      <td>-0.227177</td>\n",
       "      <td>-1.140149</td>\n",
       "      <td>-0.534011</td>\n",
       "    </tr>\n",
       "    <tr>\n",
       "      <th>2</th>\n",
       "      <td>-1.913683</td>\n",
       "      <td>0.002901</td>\n",
       "      <td>-0.180055</td>\n",
       "      <td>1.37674</td>\n",
       "      <td>0.035062</td>\n",
       "      <td>-1.813135</td>\n",
       "      <td>-15.014855</td>\n",
       "      <td>0.000073</td>\n",
       "      <td>0.188882</td>\n",
       "      <td>0.012823</td>\n",
       "      <td>0.559851</td>\n",
       "      <td>-0.534011</td>\n",
       "    </tr>\n",
       "    <tr>\n",
       "      <th>3</th>\n",
       "      <td>-1.713683</td>\n",
       "      <td>0.082901</td>\n",
       "      <td>-0.260055</td>\n",
       "      <td>-0.62326</td>\n",
       "      <td>-0.007938</td>\n",
       "      <td>-7.813135</td>\n",
       "      <td>-21.014855</td>\n",
       "      <td>0.000733</td>\n",
       "      <td>0.378882</td>\n",
       "      <td>0.072823</td>\n",
       "      <td>0.059851</td>\n",
       "      <td>-0.534011</td>\n",
       "    </tr>\n",
       "    <tr>\n",
       "      <th>4</th>\n",
       "      <td>-1.513683</td>\n",
       "      <td>0.062901</td>\n",
       "      <td>-0.210055</td>\n",
       "      <td>3.47674</td>\n",
       "      <td>-0.027938</td>\n",
       "      <td>-4.813135</td>\n",
       "      <td>-28.014855</td>\n",
       "      <td>-0.000527</td>\n",
       "      <td>0.098882</td>\n",
       "      <td>-0.067177</td>\n",
       "      <td>0.359851</td>\n",
       "      <td>0.465989</td>\n",
       "    </tr>\n",
       "  </tbody>\n",
       "</table>\n",
       "</div>"
      ],
      "text/plain": [
       "   fixed acidity  volatile acidity  citric acid  residual sugar  chlorides  \\\n",
       "0      -0.313683         -0.347099     0.099945        -1.62326  -0.038938   \n",
       "1      -0.813683          0.052901    -0.070055        -0.52326  -0.014938   \n",
       "2      -1.913683          0.002901    -0.180055         1.37674   0.035062   \n",
       "3      -1.713683          0.082901    -0.260055        -0.62326  -0.007938   \n",
       "4      -1.513683          0.062901    -0.210055         3.47674  -0.027938   \n",
       "\n",
       "   free sulfur dioxide  total sulfur dioxide   density        pH  sulphates  \\\n",
       "0            20.186865             62.985145 -0.006657 -0.421118  -0.217177   \n",
       "1            18.186865             -2.014855 -0.001787 -0.211118  -0.227177   \n",
       "2            -1.813135            -15.014855  0.000073  0.188882   0.012823   \n",
       "3            -7.813135            -21.014855  0.000733  0.378882   0.072823   \n",
       "4            -4.813135            -28.014855 -0.000527  0.098882  -0.067177   \n",
       "\n",
       "    alcohol   quality  \n",
       "0  2.259851  0.465989  \n",
       "1 -1.140149 -0.534011  \n",
       "2  0.559851 -0.534011  \n",
       "3  0.059851 -0.534011  \n",
       "4  0.359851  0.465989  "
      ]
     },
     "execution_count": 8,
     "metadata": {},
     "output_type": "execute_result"
    }
   ],
   "source": [
    "rain_norm_x.head()"
   ]
  },
  {
   "cell_type": "code",
   "execution_count": 9,
   "id": "7be48155",
   "metadata": {},
   "outputs": [
    {
     "data": {
      "text/html": [
       "<div>\n",
       "<style scoped>\n",
       "    .dataframe tbody tr th:only-of-type {\n",
       "        vertical-align: middle;\n",
       "    }\n",
       "\n",
       "    .dataframe tbody tr th {\n",
       "        vertical-align: top;\n",
       "    }\n",
       "\n",
       "    .dataframe thead th {\n",
       "        text-align: right;\n",
       "    }\n",
       "</style>\n",
       "<table border=\"1\" class=\"dataframe\">\n",
       "  <thead>\n",
       "    <tr style=\"text-align: right;\">\n",
       "      <th></th>\n",
       "      <th>fixed acidity</th>\n",
       "      <th>volatile acidity</th>\n",
       "      <th>citric acid</th>\n",
       "      <th>residual sugar</th>\n",
       "      <th>chlorides</th>\n",
       "      <th>free sulfur dioxide</th>\n",
       "      <th>total sulfur dioxide</th>\n",
       "      <th>density</th>\n",
       "      <th>pH</th>\n",
       "      <th>sulphates</th>\n",
       "      <th>alcohol</th>\n",
       "      <th>quality</th>\n",
       "    </tr>\n",
       "  </thead>\n",
       "  <tbody>\n",
       "    <tr>\n",
       "      <th>count</th>\n",
       "      <td>1.279000e+03</td>\n",
       "      <td>1.279000e+03</td>\n",
       "      <td>1.279000e+03</td>\n",
       "      <td>1.279000e+03</td>\n",
       "      <td>1.279000e+03</td>\n",
       "      <td>1.279000e+03</td>\n",
       "      <td>1.279000e+03</td>\n",
       "      <td>1.279000e+03</td>\n",
       "      <td>1.279000e+03</td>\n",
       "      <td>1.279000e+03</td>\n",
       "      <td>1.279000e+03</td>\n",
       "      <td>1.279000e+03</td>\n",
       "    </tr>\n",
       "    <tr>\n",
       "      <th>mean</th>\n",
       "      <td>-1.119424e-15</td>\n",
       "      <td>-1.027759e-16</td>\n",
       "      <td>1.909688e-18</td>\n",
       "      <td>1.708303e-16</td>\n",
       "      <td>-4.166591e-18</td>\n",
       "      <td>-3.999928e-16</td>\n",
       "      <td>1.466640e-15</td>\n",
       "      <td>-5.668301e-17</td>\n",
       "      <td>1.374975e-16</td>\n",
       "      <td>1.423585e-17</td>\n",
       "      <td>-3.722155e-16</td>\n",
       "      <td>1.874966e-17</td>\n",
       "    </tr>\n",
       "    <tr>\n",
       "      <th>std</th>\n",
       "      <td>1.736096e+00</td>\n",
       "      <td>1.775655e-01</td>\n",
       "      <td>1.960085e-01</td>\n",
       "      <td>1.364626e+00</td>\n",
       "      <td>4.893663e-02</td>\n",
       "      <td>1.044601e+01</td>\n",
       "      <td>3.243713e+01</td>\n",
       "      <td>1.879369e-03</td>\n",
       "      <td>1.546572e-01</td>\n",
       "      <td>1.665730e-01</td>\n",
       "      <td>1.063096e+00</td>\n",
       "      <td>4.990370e-01</td>\n",
       "    </tr>\n",
       "    <tr>\n",
       "      <th>min</th>\n",
       "      <td>-3.713683e+00</td>\n",
       "      <td>-4.070993e-01</td>\n",
       "      <td>-2.700547e-01</td>\n",
       "      <td>-1.623260e+00</td>\n",
       "      <td>-7.593823e-02</td>\n",
       "      <td>-1.481314e+01</td>\n",
       "      <td>-4.001486e+01</td>\n",
       "      <td>-6.656919e-03</td>\n",
       "      <td>-5.711181e-01</td>\n",
       "      <td>-3.271775e-01</td>\n",
       "      <td>-2.040149e+00</td>\n",
       "      <td>-5.340109e-01</td>\n",
       "    </tr>\n",
       "    <tr>\n",
       "      <th>25%</th>\n",
       "      <td>-1.213683e+00</td>\n",
       "      <td>-1.370993e-01</td>\n",
       "      <td>-1.800547e-01</td>\n",
       "      <td>-6.232604e-01</td>\n",
       "      <td>-1.793823e-02</td>\n",
       "      <td>-8.813135e+00</td>\n",
       "      <td>-2.401486e+01</td>\n",
       "      <td>-1.136919e-03</td>\n",
       "      <td>-1.011181e-01</td>\n",
       "      <td>-1.071775e-01</td>\n",
       "      <td>-9.401486e-01</td>\n",
       "      <td>-5.340109e-01</td>\n",
       "    </tr>\n",
       "    <tr>\n",
       "      <th>50%</th>\n",
       "      <td>-4.136826e-01</td>\n",
       "      <td>-7.099296e-03</td>\n",
       "      <td>-1.005473e-02</td>\n",
       "      <td>-3.232604e-01</td>\n",
       "      <td>-8.938233e-03</td>\n",
       "      <td>-1.813135e+00</td>\n",
       "      <td>-8.014855e+00</td>\n",
       "      <td>-2.691947e-05</td>\n",
       "      <td>-1.118061e-03</td>\n",
       "      <td>-3.717748e-02</td>\n",
       "      <td>-2.401486e-01</td>\n",
       "      <td>4.659891e-01</td>\n",
       "    </tr>\n",
       "    <tr>\n",
       "      <th>75%</th>\n",
       "      <td>8.863174e-01</td>\n",
       "      <td>1.104007e-01</td>\n",
       "      <td>1.599453e-01</td>\n",
       "      <td>7.673964e-02</td>\n",
       "      <td>3.061767e-03</td>\n",
       "      <td>5.186865e+00</td>\n",
       "      <td>1.598514e+01</td>\n",
       "      <td>1.073081e-03</td>\n",
       "      <td>8.888194e-02</td>\n",
       "      <td>6.782252e-02</td>\n",
       "      <td>6.598514e-01</td>\n",
       "      <td>4.659891e-01</td>\n",
       "    </tr>\n",
       "    <tr>\n",
       "      <th>max</th>\n",
       "      <td>7.586317e+00</td>\n",
       "      <td>1.052901e+00</td>\n",
       "      <td>7.299453e-01</td>\n",
       "      <td>1.297674e+01</td>\n",
       "      <td>5.230618e-01</td>\n",
       "      <td>5.618686e+01</td>\n",
       "      <td>2.429851e+02</td>\n",
       "      <td>6.963081e-03</td>\n",
       "      <td>6.988819e-01</td>\n",
       "      <td>1.342823e+00</td>\n",
       "      <td>4.459851e+00</td>\n",
       "      <td>4.659891e-01</td>\n",
       "    </tr>\n",
       "  </tbody>\n",
       "</table>\n",
       "</div>"
      ],
      "text/plain": [
       "       fixed acidity  volatile acidity   citric acid  residual sugar  \\\n",
       "count   1.279000e+03      1.279000e+03  1.279000e+03    1.279000e+03   \n",
       "mean   -1.119424e-15     -1.027759e-16  1.909688e-18    1.708303e-16   \n",
       "std     1.736096e+00      1.775655e-01  1.960085e-01    1.364626e+00   \n",
       "min    -3.713683e+00     -4.070993e-01 -2.700547e-01   -1.623260e+00   \n",
       "25%    -1.213683e+00     -1.370993e-01 -1.800547e-01   -6.232604e-01   \n",
       "50%    -4.136826e-01     -7.099296e-03 -1.005473e-02   -3.232604e-01   \n",
       "75%     8.863174e-01      1.104007e-01  1.599453e-01    7.673964e-02   \n",
       "max     7.586317e+00      1.052901e+00  7.299453e-01    1.297674e+01   \n",
       "\n",
       "          chlorides  free sulfur dioxide  total sulfur dioxide       density  \\\n",
       "count  1.279000e+03         1.279000e+03          1.279000e+03  1.279000e+03   \n",
       "mean  -4.166591e-18        -3.999928e-16          1.466640e-15 -5.668301e-17   \n",
       "std    4.893663e-02         1.044601e+01          3.243713e+01  1.879369e-03   \n",
       "min   -7.593823e-02        -1.481314e+01         -4.001486e+01 -6.656919e-03   \n",
       "25%   -1.793823e-02        -8.813135e+00         -2.401486e+01 -1.136919e-03   \n",
       "50%   -8.938233e-03        -1.813135e+00         -8.014855e+00 -2.691947e-05   \n",
       "75%    3.061767e-03         5.186865e+00          1.598514e+01  1.073081e-03   \n",
       "max    5.230618e-01         5.618686e+01          2.429851e+02  6.963081e-03   \n",
       "\n",
       "                 pH     sulphates       alcohol       quality  \n",
       "count  1.279000e+03  1.279000e+03  1.279000e+03  1.279000e+03  \n",
       "mean   1.374975e-16  1.423585e-17 -3.722155e-16  1.874966e-17  \n",
       "std    1.546572e-01  1.665730e-01  1.063096e+00  4.990370e-01  \n",
       "min   -5.711181e-01 -3.271775e-01 -2.040149e+00 -5.340109e-01  \n",
       "25%   -1.011181e-01 -1.071775e-01 -9.401486e-01 -5.340109e-01  \n",
       "50%   -1.118061e-03 -3.717748e-02 -2.401486e-01  4.659891e-01  \n",
       "75%    8.888194e-02  6.782252e-02  6.598514e-01  4.659891e-01  \n",
       "max    6.988819e-01  1.342823e+00  4.459851e+00  4.659891e-01  "
      ]
     },
     "execution_count": 9,
     "metadata": {},
     "output_type": "execute_result"
    }
   ],
   "source": [
    "rain_norm_x.describe()"
   ]
  },
  {
   "cell_type": "code",
   "execution_count": 10,
   "id": "1b89d086",
   "metadata": {},
   "outputs": [
    {
     "data": {
      "text/plain": [
       "array(['fixed acidity', 'volatile acidity', 'citric acid',\n",
       "       'residual sugar', 'chlorides', 'free sulfur dioxide',\n",
       "       'total sulfur dioxide', 'density', 'pH', 'sulphates', 'alcohol',\n",
       "       'quality'], dtype=object)"
      ]
     },
     "execution_count": 10,
     "metadata": {},
     "output_type": "execute_result"
    }
   ],
   "source": [
    "rain_feats"
   ]
  },
  {
   "cell_type": "code",
   "execution_count": 11,
   "id": "d8a74a59",
   "metadata": {},
   "outputs": [],
   "source": [
    "U, S, V = np.linalg.svd(rain_x_tr[:5000])\n",
    "Un, Sn, Vn = np.linalg.svd(rain_norm_x_tr[:5000])"
   ]
  },
  {
   "cell_type": "code",
   "execution_count": 12,
   "id": "16bf0815",
   "metadata": {},
   "outputs": [
    {
     "name": "stdout",
     "output_type": "stream",
     "text": [
      "[1.90783817e+03 2.99624921e+02 2.08726609e+02 4.93483044e+01\n",
      " 4.02748457e+01 1.55752227e+01 1.00191948e+01 6.03070496e+00\n",
      " 4.61900792e+00 3.19560055e+00 1.40151564e+00 8.14235477e-01]\n"
     ]
    },
    {
     "data": {
      "text/plain": [
       "[<matplotlib.lines.Line2D at 0x1e0b1a046d8>]"
      ]
     },
     "execution_count": 12,
     "metadata": {},
     "output_type": "execute_result"
    },
    {
     "data": {
      "image/png": "[encoded data removed]",
      "text/plain": [
       "<Figure size 432x288 with 1 Axes>"
      ]
     },
     "metadata": {
      "needs_background": "light"
     },
     "output_type": "display_data"
    }
   ],
   "source": [
    "print(S)\n",
    "plt.plot(S)\n",
    "# demonstrate features selected by PCA would do poorly in RF but do well with lasso\n",
    "# normalize every feature and try again"
   ]
  },
  {
   "cell_type": "code",
   "execution_count": 13,
   "id": "0e639729",
   "metadata": {},
   "outputs": [
    {
     "data": {
      "text/plain": [
       "[<matplotlib.lines.Line2D at 0x1e0b1af9240>]"
      ]
     },
     "execution_count": 13,
     "metadata": {},
     "output_type": "execute_result"
    },
    {
     "data": {
      "image/png": "[encoded data removed]",
      "text/plain": [
       "<Figure size 432x288 with 1 Axes>"
      ]
     },
     "metadata": {
      "needs_background": "light"
     },
     "output_type": "display_data"
    }
   ],
   "source": [
    "Sn\n",
    "plt.plot(Sn)"
   ]
  },
  {
   "cell_type": "code",
   "execution_count": 14,
   "id": "00196ef0",
   "metadata": {},
   "outputs": [
    {
     "name": "stdout",
     "output_type": "stream",
     "text": [
      "1.0\n",
      "Coefficients: [[-0.05501195 -0.29394632 -0.01282979 -0.05507452 -0.15955282  0.0144722\n",
      "  -0.00951693 -0.34120049 -0.80894108 -0.01925423  0.25552179  8.10652629]]\n"
     ]
    },
    {
     "name": "stderr",
     "output_type": "stream",
     "text": [
      "C:\\ProgramData\\Anaconda3\\envs\\env_3_6\\lib\\site-packages\\sklearn\\utils\\validation.py:63: DataConversionWarning: A column-vector y was passed when a 1d array was expected. Please change the shape of y to (n_samples, ), for example using ravel().\n",
      "  return f(*args, **kwargs)\n",
      "C:\\ProgramData\\Anaconda3\\envs\\env_3_6\\lib\\site-packages\\sklearn\\linear_model\\_logistic.py:765: ConvergenceWarning: lbfgs failed to converge (status=1):\n",
      "STOP: TOTAL NO. of ITERATIONS REACHED LIMIT.\n",
      "\n",
      "Increase the number of iterations (max_iter) or scale the data as shown in:\n",
      "    https://scikit-learn.org/stable/modules/preprocessing.html\n",
      "Please also refer to the documentation for alternative solver options:\n",
      "    https://scikit-learn.org/stable/modules/linear_model.html#logistic-regression\n",
      "  extra_warning_msg=_LOGISTIC_SOLVER_CONVERGENCE_MSG)\n"
     ]
    }
   ],
   "source": [
    "clf = lr(penalty='l2').fit(rain_x_tr, rain_y_tr)\n",
    "print(clf.score(rain_x_te, rain_y_te)) # clf.score(rain_x_te_true, rain_y_te_true), clf.score(rain_x_te_false, rain_y_te_false))\n",
    "print('Coefficients:', clf.coef_)"
   ]
  },
  {
   "cell_type": "code",
   "execution_count": 15,
   "id": "6309ecf2",
   "metadata": {},
   "outputs": [
    {
     "name": "stdout",
     "output_type": "stream",
     "text": [
      "1.0\n",
      "Coefficients: [[-1.96052768e-01  0.00000000e+00  0.00000000e+00  0.00000000e+00\n",
      "   0.00000000e+00 -3.23584509e-03 -9.47084611e-03  0.00000000e+00\n",
      "   0.00000000e+00  0.00000000e+00 -3.89452432e-01  1.27802208e+01]]\n"
     ]
    },
    {
     "name": "stderr",
     "output_type": "stream",
     "text": [
      "C:\\ProgramData\\Anaconda3\\envs\\env_3_6\\lib\\site-packages\\sklearn\\utils\\validation.py:63: DataConversionWarning: A column-vector y was passed when a 1d array was expected. Please change the shape of y to (n_samples, ), for example using ravel().\n",
      "  return f(*args, **kwargs)\n"
     ]
    }
   ],
   "source": [
    "clf = lr(penalty='l1', solver='liblinear').fit(rain_x_tr, rain_y_tr)\n",
    "print(clf.score(rain_x_te, rain_y_te))# , clf.score(rain_x_te_true, rain_y_te_true), clf.score(rain_x_te_false, rain_y_te_false))\n",
    "print('Coefficients:', clf.coef_)"
   ]
  },
  {
   "cell_type": "code",
   "execution_count": 16,
   "id": "cda0e94f",
   "metadata": {},
   "outputs": [
    {
     "data": {
      "text/html": [
       "<div>\n",
       "<style scoped>\n",
       "    .dataframe tbody tr th:only-of-type {\n",
       "        vertical-align: middle;\n",
       "    }\n",
       "\n",
       "    .dataframe tbody tr th {\n",
       "        vertical-align: top;\n",
       "    }\n",
       "\n",
       "    .dataframe thead th {\n",
       "        text-align: right;\n",
       "    }\n",
       "</style>\n",
       "<table border=\"1\" class=\"dataframe\">\n",
       "  <thead>\n",
       "    <tr style=\"text-align: right;\">\n",
       "      <th></th>\n",
       "      <th>fixed acidity</th>\n",
       "      <th>volatile acidity</th>\n",
       "      <th>citric acid</th>\n",
       "      <th>residual sugar</th>\n",
       "      <th>chlorides</th>\n",
       "      <th>free sulfur dioxide</th>\n",
       "      <th>total sulfur dioxide</th>\n",
       "      <th>density</th>\n",
       "      <th>pH</th>\n",
       "      <th>sulphates</th>\n",
       "      <th>alcohol</th>\n",
       "      <th>quality</th>\n",
       "    </tr>\n",
       "  </thead>\n",
       "  <tbody>\n",
       "    <tr>\n",
       "      <th>count</th>\n",
       "      <td>1023.000000</td>\n",
       "      <td>1023.000000</td>\n",
       "      <td>1023.000000</td>\n",
       "      <td>1023.000000</td>\n",
       "      <td>1023.000000</td>\n",
       "      <td>1023.000000</td>\n",
       "      <td>1023.000000</td>\n",
       "      <td>1023.000000</td>\n",
       "      <td>1023.000000</td>\n",
       "      <td>1023.000000</td>\n",
       "      <td>1023.000000</td>\n",
       "      <td>1023.000000</td>\n",
       "    </tr>\n",
       "    <tr>\n",
       "      <th>mean</th>\n",
       "      <td>-0.005276</td>\n",
       "      <td>0.002036</td>\n",
       "      <td>-0.000671</td>\n",
       "      <td>0.019604</td>\n",
       "      <td>0.000079</td>\n",
       "      <td>0.070051</td>\n",
       "      <td>-0.392177</td>\n",
       "      <td>-0.000028</td>\n",
       "      <td>0.000778</td>\n",
       "      <td>-0.001742</td>\n",
       "      <td>0.023846</td>\n",
       "      <td>-0.011039</td>\n",
       "    </tr>\n",
       "    <tr>\n",
       "      <th>std</th>\n",
       "      <td>1.744431</td>\n",
       "      <td>0.181573</td>\n",
       "      <td>0.197588</td>\n",
       "      <td>1.391629</td>\n",
       "      <td>0.047919</td>\n",
       "      <td>10.587710</td>\n",
       "      <td>32.231699</td>\n",
       "      <td>0.001888</td>\n",
       "      <td>0.155892</td>\n",
       "      <td>0.170590</td>\n",
       "      <td>1.063606</td>\n",
       "      <td>0.499716</td>\n",
       "    </tr>\n",
       "    <tr>\n",
       "      <th>min</th>\n",
       "      <td>-3.713683</td>\n",
       "      <td>-0.407099</td>\n",
       "      <td>-0.270055</td>\n",
       "      <td>-1.623260</td>\n",
       "      <td>-0.075938</td>\n",
       "      <td>-13.813135</td>\n",
       "      <td>-40.014855</td>\n",
       "      <td>-0.006657</td>\n",
       "      <td>-0.571118</td>\n",
       "      <td>-0.327177</td>\n",
       "      <td>-2.040149</td>\n",
       "      <td>-0.534011</td>\n",
       "    </tr>\n",
       "    <tr>\n",
       "      <th>25%</th>\n",
       "      <td>-1.213683</td>\n",
       "      <td>-0.137099</td>\n",
       "      <td>-0.185055</td>\n",
       "      <td>-0.623260</td>\n",
       "      <td>-0.017938</td>\n",
       "      <td>-8.813135</td>\n",
       "      <td>-24.014855</td>\n",
       "      <td>-0.001192</td>\n",
       "      <td>-0.101118</td>\n",
       "      <td>-0.107177</td>\n",
       "      <td>-0.881815</td>\n",
       "      <td>-0.534011</td>\n",
       "    </tr>\n",
       "    <tr>\n",
       "      <th>50%</th>\n",
       "      <td>-0.413683</td>\n",
       "      <td>-0.007099</td>\n",
       "      <td>-0.010055</td>\n",
       "      <td>-0.323260</td>\n",
       "      <td>-0.008938</td>\n",
       "      <td>-1.813135</td>\n",
       "      <td>-9.014855</td>\n",
       "      <td>-0.000067</td>\n",
       "      <td>0.008882</td>\n",
       "      <td>-0.037177</td>\n",
       "      <td>-0.240149</td>\n",
       "      <td>0.465989</td>\n",
       "    </tr>\n",
       "    <tr>\n",
       "      <th>75%</th>\n",
       "      <td>0.886317</td>\n",
       "      <td>0.112901</td>\n",
       "      <td>0.159945</td>\n",
       "      <td>0.076740</td>\n",
       "      <td>0.003062</td>\n",
       "      <td>6.186865</td>\n",
       "      <td>13.985145</td>\n",
       "      <td>0.001093</td>\n",
       "      <td>0.088882</td>\n",
       "      <td>0.062823</td>\n",
       "      <td>0.759851</td>\n",
       "      <td>0.465989</td>\n",
       "    </tr>\n",
       "    <tr>\n",
       "      <th>max</th>\n",
       "      <td>7.586317</td>\n",
       "      <td>1.052901</td>\n",
       "      <td>0.729945</td>\n",
       "      <td>12.976740</td>\n",
       "      <td>0.522062</td>\n",
       "      <td>52.186865</td>\n",
       "      <td>242.985145</td>\n",
       "      <td>0.006963</td>\n",
       "      <td>0.698882</td>\n",
       "      <td>1.342823</td>\n",
       "      <td>4.459851</td>\n",
       "      <td>0.465989</td>\n",
       "    </tr>\n",
       "  </tbody>\n",
       "</table>\n",
       "</div>"
      ],
      "text/plain": [
       "       fixed acidity  volatile acidity  citric acid  residual sugar  \\\n",
       "count    1023.000000       1023.000000  1023.000000     1023.000000   \n",
       "mean       -0.005276          0.002036    -0.000671        0.019604   \n",
       "std         1.744431          0.181573     0.197588        1.391629   \n",
       "min        -3.713683         -0.407099    -0.270055       -1.623260   \n",
       "25%        -1.213683         -0.137099    -0.185055       -0.623260   \n",
       "50%        -0.413683         -0.007099    -0.010055       -0.323260   \n",
       "75%         0.886317          0.112901     0.159945        0.076740   \n",
       "max         7.586317          1.052901     0.729945       12.976740   \n",
       "\n",
       "         chlorides  free sulfur dioxide  total sulfur dioxide      density  \\\n",
       "count  1023.000000          1023.000000           1023.000000  1023.000000   \n",
       "mean      0.000079             0.070051             -0.392177    -0.000028   \n",
       "std       0.047919            10.587710             32.231699     0.001888   \n",
       "min      -0.075938           -13.813135            -40.014855    -0.006657   \n",
       "25%      -0.017938            -8.813135            -24.014855    -0.001192   \n",
       "50%      -0.008938            -1.813135             -9.014855    -0.000067   \n",
       "75%       0.003062             6.186865             13.985145     0.001093   \n",
       "max       0.522062            52.186865            242.985145     0.006963   \n",
       "\n",
       "                pH    sulphates      alcohol      quality  \n",
       "count  1023.000000  1023.000000  1023.000000  1023.000000  \n",
       "mean      0.000778    -0.001742     0.023846    -0.011039  \n",
       "std       0.155892     0.170590     1.063606     0.499716  \n",
       "min      -0.571118    -0.327177    -2.040149    -0.534011  \n",
       "25%      -0.101118    -0.107177    -0.881815    -0.534011  \n",
       "50%       0.008882    -0.037177    -0.240149     0.465989  \n",
       "75%       0.088882     0.062823     0.759851     0.465989  \n",
       "max       0.698882     1.342823     4.459851     0.465989  "
      ]
     },
     "execution_count": 16,
     "metadata": {},
     "output_type": "execute_result"
    }
   ],
   "source": [
    "# run pca for different numbers of output features, see how loss changes\n",
    "# comparison with lasso (ridge)\n",
    "# and RF to see loss progression\n",
    "rain_norm_x_tr.describe()"
   ]
  },
  {
   "cell_type": "code",
   "execution_count": 30,
   "id": "783cb0b1",
   "metadata": {},
   "outputs": [
    {
     "name": "stderr",
     "output_type": "stream",
     "text": [
      "C:\\ProgramData\\Anaconda3\\envs\\env_3_6\\lib\\site-packages\\sklearn\\utils\\validation.py:63: DataConversionWarning: A column-vector y was passed when a 1d array was expected. Please change the shape of y to (n_samples, ), for example using ravel().\n",
      "  return f(*args, **kwargs)\n",
      "C:\\ProgramData\\Anaconda3\\envs\\env_3_6\\lib\\site-packages\\sklearn\\utils\\validation.py:63: DataConversionWarning: A column-vector y was passed when a 1d array was expected. Please change the shape of y to (n_samples, ), for example using ravel().\n",
      "  return f(*args, **kwargs)\n",
      "C:\\ProgramData\\Anaconda3\\envs\\env_3_6\\lib\\site-packages\\sklearn\\utils\\validation.py:63: DataConversionWarning: A column-vector y was passed when a 1d array was expected. Please change the shape of y to (n_samples, ), for example using ravel().\n",
      "  return f(*args, **kwargs)\n",
      "C:\\ProgramData\\Anaconda3\\envs\\env_3_6\\lib\\site-packages\\sklearn\\utils\\validation.py:63: DataConversionWarning: A column-vector y was passed when a 1d array was expected. Please change the shape of y to (n_samples, ), for example using ravel().\n",
      "  return f(*args, **kwargs)\n",
      "C:\\ProgramData\\Anaconda3\\envs\\env_3_6\\lib\\site-packages\\sklearn\\utils\\validation.py:63: DataConversionWarning: A column-vector y was passed when a 1d array was expected. Please change the shape of y to (n_samples, ), for example using ravel().\n",
      "  return f(*args, **kwargs)\n",
      "C:\\ProgramData\\Anaconda3\\envs\\env_3_6\\lib\\site-packages\\sklearn\\utils\\validation.py:63: DataConversionWarning: A column-vector y was passed when a 1d array was expected. Please change the shape of y to (n_samples, ), for example using ravel().\n",
      "  return f(*args, **kwargs)\n",
      "C:\\ProgramData\\Anaconda3\\envs\\env_3_6\\lib\\site-packages\\sklearn\\utils\\validation.py:63: DataConversionWarning: A column-vector y was passed when a 1d array was expected. Please change the shape of y to (n_samples, ), for example using ravel().\n",
      "  return f(*args, **kwargs)\n",
      "C:\\ProgramData\\Anaconda3\\envs\\env_3_6\\lib\\site-packages\\sklearn\\utils\\validation.py:63: DataConversionWarning: A column-vector y was passed when a 1d array was expected. Please change the shape of y to (n_samples, ), for example using ravel().\n",
      "  return f(*args, **kwargs)\n",
      "C:\\ProgramData\\Anaconda3\\envs\\env_3_6\\lib\\site-packages\\sklearn\\utils\\validation.py:63: DataConversionWarning: A column-vector y was passed when a 1d array was expected. Please change the shape of y to (n_samples, ), for example using ravel().\n",
      "  return f(*args, **kwargs)\n",
      "C:\\ProgramData\\Anaconda3\\envs\\env_3_6\\lib\\site-packages\\sklearn\\utils\\validation.py:63: DataConversionWarning: A column-vector y was passed when a 1d array was expected. Please change the shape of y to (n_samples, ), for example using ravel().\n",
      "  return f(*args, **kwargs)\n",
      "C:\\ProgramData\\Anaconda3\\envs\\env_3_6\\lib\\site-packages\\sklearn\\utils\\validation.py:63: DataConversionWarning: A column-vector y was passed when a 1d array was expected. Please change the shape of y to (n_samples, ), for example using ravel().\n",
      "  return f(*args, **kwargs)\n",
      "C:\\ProgramData\\Anaconda3\\envs\\env_3_6\\lib\\site-packages\\sklearn\\utils\\validation.py:63: DataConversionWarning: A column-vector y was passed when a 1d array was expected. Please change the shape of y to (n_samples, ), for example using ravel().\n",
      "  return f(*args, **kwargs)\n",
      "C:\\ProgramData\\Anaconda3\\envs\\env_3_6\\lib\\site-packages\\sklearn\\utils\\validation.py:63: DataConversionWarning: A column-vector y was passed when a 1d array was expected. Please change the shape of y to (n_samples, ), for example using ravel().\n",
      "  return f(*args, **kwargs)\n",
      "C:\\ProgramData\\Anaconda3\\envs\\env_3_6\\lib\\site-packages\\sklearn\\utils\\validation.py:63: DataConversionWarning: A column-vector y was passed when a 1d array was expected. Please change the shape of y to (n_samples, ), for example using ravel().\n",
      "  return f(*args, **kwargs)\n",
      "C:\\ProgramData\\Anaconda3\\envs\\env_3_6\\lib\\site-packages\\sklearn\\utils\\validation.py:63: DataConversionWarning: A column-vector y was passed when a 1d array was expected. Please change the shape of y to (n_samples, ), for example using ravel().\n",
      "  return f(*args, **kwargs)\n",
      "C:\\ProgramData\\Anaconda3\\envs\\env_3_6\\lib\\site-packages\\sklearn\\utils\\validation.py:63: DataConversionWarning: A column-vector y was passed when a 1d array was expected. Please change the shape of y to (n_samples, ), for example using ravel().\n",
      "  return f(*args, **kwargs)\n",
      "C:\\ProgramData\\Anaconda3\\envs\\env_3_6\\lib\\site-packages\\sklearn\\utils\\validation.py:63: DataConversionWarning: A column-vector y was passed when a 1d array was expected. Please change the shape of y to (n_samples, ), for example using ravel().\n",
      "  return f(*args, **kwargs)\n",
      "C:\\ProgramData\\Anaconda3\\envs\\env_3_6\\lib\\site-packages\\sklearn\\utils\\validation.py:63: DataConversionWarning: A column-vector y was passed when a 1d array was expected. Please change the shape of y to (n_samples, ), for example using ravel().\n",
      "  return f(*args, **kwargs)\n",
      "C:\\ProgramData\\Anaconda3\\envs\\env_3_6\\lib\\site-packages\\sklearn\\linear_model\\_logistic.py:765: ConvergenceWarning: lbfgs failed to converge (status=1):\n",
      "STOP: TOTAL NO. of ITERATIONS REACHED LIMIT.\n",
      "\n",
      "Increase the number of iterations (max_iter) or scale the data as shown in:\n",
      "    https://scikit-learn.org/stable/modules/preprocessing.html\n",
      "Please also refer to the documentation for alternative solver options:\n",
      "    https://scikit-learn.org/stable/modules/linear_model.html#logistic-regression\n",
      "  extra_warning_msg=_LOGISTIC_SOLVER_CONVERGENCE_MSG)\n",
      "C:\\ProgramData\\Anaconda3\\envs\\env_3_6\\lib\\site-packages\\sklearn\\utils\\validation.py:63: DataConversionWarning: A column-vector y was passed when a 1d array was expected. Please change the shape of y to (n_samples, ), for example using ravel().\n",
      "  return f(*args, **kwargs)\n",
      "C:\\ProgramData\\Anaconda3\\envs\\env_3_6\\lib\\site-packages\\sklearn\\utils\\validation.py:63: DataConversionWarning: A column-vector y was passed when a 1d array was expected. Please change the shape of y to (n_samples, ), for example using ravel().\n",
      "  return f(*args, **kwargs)\n",
      "C:\\ProgramData\\Anaconda3\\envs\\env_3_6\\lib\\site-packages\\sklearn\\linear_model\\_logistic.py:765: ConvergenceWarning: lbfgs failed to converge (status=1):\n",
      "STOP: TOTAL NO. of ITERATIONS REACHED LIMIT.\n",
      "\n",
      "Increase the number of iterations (max_iter) or scale the data as shown in:\n",
      "    https://scikit-learn.org/stable/modules/preprocessing.html\n",
      "Please also refer to the documentation for alternative solver options:\n",
      "    https://scikit-learn.org/stable/modules/linear_model.html#logistic-regression\n",
      "  extra_warning_msg=_LOGISTIC_SOLVER_CONVERGENCE_MSG)\n",
      "C:\\ProgramData\\Anaconda3\\envs\\env_3_6\\lib\\site-packages\\sklearn\\utils\\validation.py:63: DataConversionWarning: A column-vector y was passed when a 1d array was expected. Please change the shape of y to (n_samples, ), for example using ravel().\n",
      "  return f(*args, **kwargs)\n",
      "C:\\ProgramData\\Anaconda3\\envs\\env_3_6\\lib\\site-packages\\sklearn\\utils\\validation.py:63: DataConversionWarning: A column-vector y was passed when a 1d array was expected. Please change the shape of y to (n_samples, ), for example using ravel().\n",
      "  return f(*args, **kwargs)\n",
      "C:\\ProgramData\\Anaconda3\\envs\\env_3_6\\lib\\site-packages\\sklearn\\linear_model\\_logistic.py:765: ConvergenceWarning: lbfgs failed to converge (status=1):\n",
      "STOP: TOTAL NO. of ITERATIONS REACHED LIMIT.\n",
      "\n",
      "Increase the number of iterations (max_iter) or scale the data as shown in:\n",
      "    https://scikit-learn.org/stable/modules/preprocessing.html\n",
      "Please also refer to the documentation for alternative solver options:\n",
      "    https://scikit-learn.org/stable/modules/linear_model.html#logistic-regression\n",
      "  extra_warning_msg=_LOGISTIC_SOLVER_CONVERGENCE_MSG)\n"
     ]
    }
   ],
   "source": [
    "cmatrices = []\n",
    "cmatricesn = []\n",
    "scores = []\n",
    "scoresn = []\n",
    "for i in range(1, 12):\n",
    "    pca = PCA(n_components=i)\n",
    "    pcan = PCA(n_components=i)\n",
    "    pca.fit(rain_x_tr)\n",
    "    pcan.fit(rain_norm_x_tr)\n",
    "    \n",
    "    clf = lr(penalty='l2').fit(pca.transform(rain_x_tr), rain_y_tr)\n",
    "    clfn = lr(penalty='l2').fit(pcan.transform(rain_norm_x_tr), rain_y_tr)\n",
    "    \n",
    "    cmatrices.append(cm(rain_y_te, clf.predict(pca.transform(rain_x_te))))\n",
    "    cmatricesn.append(cm(rain_norm_y_te, clfn.predict(pcan.transform(rain_norm_x_te))))\n",
    "    \n",
    "    scores.append(clf.score(pca.transform(rain_x_te), rain_y_te))\n",
    "    scoresn.append(clfn.score(pcan.transform(rain_norm_x_te), rain_norm_y_te))"
   ]
  },
  {
   "cell_type": "code",
   "execution_count": 31,
   "id": "5b7d58c1",
   "metadata": {},
   "outputs": [
    {
     "data": {
      "text/plain": [
       "[<matplotlib.lines.Line2D at 0x1e0b80f7f60>]"
      ]
     },
     "execution_count": 31,
     "metadata": {},
     "output_type": "execute_result"
    },
    {
     "data": {
      "image/png": "[encoded data removed]",
      "text/plain": [
       "<Figure size 432x288 with 1 Axes>"
      ]
     },
     "metadata": {
      "needs_background": "light"
     },
     "output_type": "display_data"
    }
   ],
   "source": [
    "plt.plot(scores)"
   ]
  },
  {
   "cell_type": "code",
   "execution_count": 32,
   "id": "1f4b5a5e",
   "metadata": {},
   "outputs": [
    {
     "data": {
      "text/plain": [
       "[<matplotlib.lines.Line2D at 0x1e0b81580f0>]"
      ]
     },
     "execution_count": 32,
     "metadata": {},
     "output_type": "execute_result"
    },
    {
     "data": {
      "image/png": "[encoded data removed]",
      "text/plain": [
       "<Figure size 432x288 with 1 Axes>"
      ]
     },
     "metadata": {
      "needs_background": "light"
     },
     "output_type": "display_data"
    }
   ],
   "source": [
    "plt.plot(scoresn)"
   ]
  },
  {
   "cell_type": "code",
   "execution_count": 33,
   "id": "a492cf0f",
   "metadata": {},
   "outputs": [
    {
     "data": {
      "text/plain": [
       "[array([[  6, 102],\n",
       "        [  2, 146]], dtype=int64),\n",
       " array([[  5, 103],\n",
       "        [  3, 145]], dtype=int64),\n",
       " array([[  5, 103],\n",
       "        [  4, 144]], dtype=int64),\n",
       " array([[  6, 102],\n",
       "        [  6, 142]], dtype=int64),\n",
       " array([[  4, 104],\n",
       "        [  7, 141]], dtype=int64),\n",
       " array([[  4, 104],\n",
       "        [ 14, 134]], dtype=int64),\n",
       " array([[  4, 104],\n",
       "        [ 17, 131]], dtype=int64),\n",
       " array([[  7, 101],\n",
       "        [ 16, 132]], dtype=int64),\n",
       " array([[  4, 104],\n",
       "        [ 13, 135]], dtype=int64),\n",
       " array([[  4, 104],\n",
       "        [ 10, 138]], dtype=int64),\n",
       " array([[  5, 103],\n",
       "        [ 10, 138]], dtype=int64)]"
      ]
     },
     "execution_count": 33,
     "metadata": {},
     "output_type": "execute_result"
    }
   ],
   "source": [
    "cmatricesn"
   ]
  },
  {
   "cell_type": "code",
   "execution_count": 34,
   "id": "76572b71",
   "metadata": {},
   "outputs": [
    {
     "name": "stderr",
     "output_type": "stream",
     "text": [
      "C:\\ProgramData\\Anaconda3\\envs\\env_3_6\\lib\\site-packages\\sklearn\\utils\\validation.py:63: DataConversionWarning: A column-vector y was passed when a 1d array was expected. Please change the shape of y to (n_samples, ), for example using ravel().\n",
      "  return f(*args, **kwargs)\n",
      "C:\\ProgramData\\Anaconda3\\envs\\env_3_6\\lib\\site-packages\\sklearn\\utils\\validation.py:63: DataConversionWarning: A column-vector y was passed when a 1d array was expected. Please change the shape of y to (n_samples, ), for example using ravel().\n",
      "  return f(*args, **kwargs)\n",
      "C:\\ProgramData\\Anaconda3\\envs\\env_3_6\\lib\\site-packages\\sklearn\\utils\\validation.py:63: DataConversionWarning: A column-vector y was passed when a 1d array was expected. Please change the shape of y to (n_samples, ), for example using ravel().\n",
      "  return f(*args, **kwargs)\n",
      "C:\\ProgramData\\Anaconda3\\envs\\env_3_6\\lib\\site-packages\\sklearn\\utils\\validation.py:63: DataConversionWarning: A column-vector y was passed when a 1d array was expected. Please change the shape of y to (n_samples, ), for example using ravel().\n",
      "  return f(*args, **kwargs)\n",
      "C:\\ProgramData\\Anaconda3\\envs\\env_3_6\\lib\\site-packages\\sklearn\\utils\\validation.py:63: DataConversionWarning: A column-vector y was passed when a 1d array was expected. Please change the shape of y to (n_samples, ), for example using ravel().\n",
      "  return f(*args, **kwargs)\n",
      "C:\\ProgramData\\Anaconda3\\envs\\env_3_6\\lib\\site-packages\\sklearn\\utils\\validation.py:63: DataConversionWarning: A column-vector y was passed when a 1d array was expected. Please change the shape of y to (n_samples, ), for example using ravel().\n",
      "  return f(*args, **kwargs)\n",
      "C:\\ProgramData\\Anaconda3\\envs\\env_3_6\\lib\\site-packages\\sklearn\\utils\\validation.py:63: DataConversionWarning: A column-vector y was passed when a 1d array was expected. Please change the shape of y to (n_samples, ), for example using ravel().\n",
      "  return f(*args, **kwargs)\n",
      "C:\\ProgramData\\Anaconda3\\envs\\env_3_6\\lib\\site-packages\\sklearn\\utils\\validation.py:63: DataConversionWarning: A column-vector y was passed when a 1d array was expected. Please change the shape of y to (n_samples, ), for example using ravel().\n",
      "  return f(*args, **kwargs)\n",
      "C:\\ProgramData\\Anaconda3\\envs\\env_3_6\\lib\\site-packages\\sklearn\\utils\\validation.py:63: DataConversionWarning: A column-vector y was passed when a 1d array was expected. Please change the shape of y to (n_samples, ), for example using ravel().\n",
      "  return f(*args, **kwargs)\n",
      "C:\\ProgramData\\Anaconda3\\envs\\env_3_6\\lib\\site-packages\\sklearn\\utils\\validation.py:63: DataConversionWarning: A column-vector y was passed when a 1d array was expected. Please change the shape of y to (n_samples, ), for example using ravel().\n",
      "  return f(*args, **kwargs)\n",
      "C:\\ProgramData\\Anaconda3\\envs\\env_3_6\\lib\\site-packages\\sklearn\\utils\\validation.py:63: DataConversionWarning: A column-vector y was passed when a 1d array was expected. Please change the shape of y to (n_samples, ), for example using ravel().\n",
      "  return f(*args, **kwargs)\n",
      "C:\\ProgramData\\Anaconda3\\envs\\env_3_6\\lib\\site-packages\\sklearn\\utils\\validation.py:63: DataConversionWarning: A column-vector y was passed when a 1d array was expected. Please change the shape of y to (n_samples, ), for example using ravel().\n",
      "  return f(*args, **kwargs)\n",
      "C:\\ProgramData\\Anaconda3\\envs\\env_3_6\\lib\\site-packages\\sklearn\\utils\\validation.py:63: DataConversionWarning: A column-vector y was passed when a 1d array was expected. Please change the shape of y to (n_samples, ), for example using ravel().\n",
      "  return f(*args, **kwargs)\n",
      "C:\\ProgramData\\Anaconda3\\envs\\env_3_6\\lib\\site-packages\\sklearn\\linear_model\\_logistic.py:765: ConvergenceWarning: lbfgs failed to converge (status=1):\n",
      "STOP: TOTAL NO. of ITERATIONS REACHED LIMIT.\n",
      "\n",
      "Increase the number of iterations (max_iter) or scale the data as shown in:\n",
      "    https://scikit-learn.org/stable/modules/preprocessing.html\n",
      "Please also refer to the documentation for alternative solver options:\n",
      "    https://scikit-learn.org/stable/modules/linear_model.html#logistic-regression\n",
      "  extra_warning_msg=_LOGISTIC_SOLVER_CONVERGENCE_MSG)\n",
      "C:\\ProgramData\\Anaconda3\\envs\\env_3_6\\lib\\site-packages\\sklearn\\utils\\validation.py:63: DataConversionWarning: A column-vector y was passed when a 1d array was expected. Please change the shape of y to (n_samples, ), for example using ravel().\n",
      "  return f(*args, **kwargs)\n",
      "C:\\ProgramData\\Anaconda3\\envs\\env_3_6\\lib\\site-packages\\sklearn\\linear_model\\_logistic.py:765: ConvergenceWarning: lbfgs failed to converge (status=1):\n",
      "STOP: TOTAL NO. of ITERATIONS REACHED LIMIT.\n",
      "\n",
      "Increase the number of iterations (max_iter) or scale the data as shown in:\n",
      "    https://scikit-learn.org/stable/modules/preprocessing.html\n",
      "Please also refer to the documentation for alternative solver options:\n",
      "    https://scikit-learn.org/stable/modules/linear_model.html#logistic-regression\n",
      "  extra_warning_msg=_LOGISTIC_SOLVER_CONVERGENCE_MSG)\n",
      "C:\\ProgramData\\Anaconda3\\envs\\env_3_6\\lib\\site-packages\\sklearn\\utils\\validation.py:63: DataConversionWarning: A column-vector y was passed when a 1d array was expected. Please change the shape of y to (n_samples, ), for example using ravel().\n",
      "  return f(*args, **kwargs)\n",
      "C:\\ProgramData\\Anaconda3\\envs\\env_3_6\\lib\\site-packages\\sklearn\\utils\\validation.py:63: DataConversionWarning: A column-vector y was passed when a 1d array was expected. Please change the shape of y to (n_samples, ), for example using ravel().\n",
      "  return f(*args, **kwargs)\n",
      "C:\\ProgramData\\Anaconda3\\envs\\env_3_6\\lib\\site-packages\\sklearn\\linear_model\\_logistic.py:765: ConvergenceWarning: lbfgs failed to converge (status=1):\n",
      "STOP: TOTAL NO. of ITERATIONS REACHED LIMIT.\n",
      "\n",
      "Increase the number of iterations (max_iter) or scale the data as shown in:\n",
      "    https://scikit-learn.org/stable/modules/preprocessing.html\n",
      "Please also refer to the documentation for alternative solver options:\n",
      "    https://scikit-learn.org/stable/modules/linear_model.html#logistic-regression\n",
      "  extra_warning_msg=_LOGISTIC_SOLVER_CONVERGENCE_MSG)\n",
      "C:\\ProgramData\\Anaconda3\\envs\\env_3_6\\lib\\site-packages\\sklearn\\utils\\validation.py:63: DataConversionWarning: A column-vector y was passed when a 1d array was expected. Please change the shape of y to (n_samples, ), for example using ravel().\n",
      "  return f(*args, **kwargs)\n",
      "C:\\ProgramData\\Anaconda3\\envs\\env_3_6\\lib\\site-packages\\sklearn\\linear_model\\_logistic.py:765: ConvergenceWarning: lbfgs failed to converge (status=1):\n",
      "STOP: TOTAL NO. of ITERATIONS REACHED LIMIT.\n",
      "\n",
      "Increase the number of iterations (max_iter) or scale the data as shown in:\n",
      "    https://scikit-learn.org/stable/modules/preprocessing.html\n",
      "Please also refer to the documentation for alternative solver options:\n",
      "    https://scikit-learn.org/stable/modules/linear_model.html#logistic-regression\n",
      "  extra_warning_msg=_LOGISTIC_SOLVER_CONVERGENCE_MSG)\n",
      "C:\\ProgramData\\Anaconda3\\envs\\env_3_6\\lib\\site-packages\\sklearn\\utils\\validation.py:63: DataConversionWarning: A column-vector y was passed when a 1d array was expected. Please change the shape of y to (n_samples, ), for example using ravel().\n",
      "  return f(*args, **kwargs)\n",
      "C:\\ProgramData\\Anaconda3\\envs\\env_3_6\\lib\\site-packages\\sklearn\\linear_model\\_logistic.py:765: ConvergenceWarning: lbfgs failed to converge (status=1):\n",
      "STOP: TOTAL NO. of ITERATIONS REACHED LIMIT.\n",
      "\n",
      "Increase the number of iterations (max_iter) or scale the data as shown in:\n",
      "    https://scikit-learn.org/stable/modules/preprocessing.html\n",
      "Please also refer to the documentation for alternative solver options:\n",
      "    https://scikit-learn.org/stable/modules/linear_model.html#logistic-regression\n",
      "  extra_warning_msg=_LOGISTIC_SOLVER_CONVERGENCE_MSG)\n",
      "C:\\ProgramData\\Anaconda3\\envs\\env_3_6\\lib\\site-packages\\sklearn\\utils\\validation.py:63: DataConversionWarning: A column-vector y was passed when a 1d array was expected. Please change the shape of y to (n_samples, ), for example using ravel().\n",
      "  return f(*args, **kwargs)\n",
      "C:\\ProgramData\\Anaconda3\\envs\\env_3_6\\lib\\site-packages\\sklearn\\linear_model\\_logistic.py:765: ConvergenceWarning: lbfgs failed to converge (status=1):\n",
      "STOP: TOTAL NO. of ITERATIONS REACHED LIMIT.\n",
      "\n",
      "Increase the number of iterations (max_iter) or scale the data as shown in:\n",
      "    https://scikit-learn.org/stable/modules/preprocessing.html\n",
      "Please also refer to the documentation for alternative solver options:\n",
      "    https://scikit-learn.org/stable/modules/linear_model.html#logistic-regression\n",
      "  extra_warning_msg=_LOGISTIC_SOLVER_CONVERGENCE_MSG)\n",
      "C:\\ProgramData\\Anaconda3\\envs\\env_3_6\\lib\\site-packages\\sklearn\\utils\\validation.py:63: DataConversionWarning: A column-vector y was passed when a 1d array was expected. Please change the shape of y to (n_samples, ), for example using ravel().\n",
      "  return f(*args, **kwargs)\n"
     ]
    },
    {
     "name": "stderr",
     "output_type": "stream",
     "text": [
      "C:\\ProgramData\\Anaconda3\\envs\\env_3_6\\lib\\site-packages\\sklearn\\linear_model\\_logistic.py:765: ConvergenceWarning: lbfgs failed to converge (status=1):\n",
      "STOP: TOTAL NO. of ITERATIONS REACHED LIMIT.\n",
      "\n",
      "Increase the number of iterations (max_iter) or scale the data as shown in:\n",
      "    https://scikit-learn.org/stable/modules/preprocessing.html\n",
      "Please also refer to the documentation for alternative solver options:\n",
      "    https://scikit-learn.org/stable/modules/linear_model.html#logistic-regression\n",
      "  extra_warning_msg=_LOGISTIC_SOLVER_CONVERGENCE_MSG)\n",
      "C:\\ProgramData\\Anaconda3\\envs\\env_3_6\\lib\\site-packages\\sklearn\\utils\\validation.py:63: DataConversionWarning: A column-vector y was passed when a 1d array was expected. Please change the shape of y to (n_samples, ), for example using ravel().\n",
      "  return f(*args, **kwargs)\n",
      "C:\\ProgramData\\Anaconda3\\envs\\env_3_6\\lib\\site-packages\\sklearn\\linear_model\\_logistic.py:765: ConvergenceWarning: lbfgs failed to converge (status=1):\n",
      "STOP: TOTAL NO. of ITERATIONS REACHED LIMIT.\n",
      "\n",
      "Increase the number of iterations (max_iter) or scale the data as shown in:\n",
      "    https://scikit-learn.org/stable/modules/preprocessing.html\n",
      "Please also refer to the documentation for alternative solver options:\n",
      "    https://scikit-learn.org/stable/modules/linear_model.html#logistic-regression\n",
      "  extra_warning_msg=_LOGISTIC_SOLVER_CONVERGENCE_MSG)\n",
      "C:\\ProgramData\\Anaconda3\\envs\\env_3_6\\lib\\site-packages\\sklearn\\utils\\validation.py:63: DataConversionWarning: A column-vector y was passed when a 1d array was expected. Please change the shape of y to (n_samples, ), for example using ravel().\n",
      "  return f(*args, **kwargs)\n",
      "C:\\ProgramData\\Anaconda3\\envs\\env_3_6\\lib\\site-packages\\sklearn\\linear_model\\_logistic.py:765: ConvergenceWarning: lbfgs failed to converge (status=1):\n",
      "STOP: TOTAL NO. of ITERATIONS REACHED LIMIT.\n",
      "\n",
      "Increase the number of iterations (max_iter) or scale the data as shown in:\n",
      "    https://scikit-learn.org/stable/modules/preprocessing.html\n",
      "Please also refer to the documentation for alternative solver options:\n",
      "    https://scikit-learn.org/stable/modules/linear_model.html#logistic-regression\n",
      "  extra_warning_msg=_LOGISTIC_SOLVER_CONVERGENCE_MSG)\n"
     ]
    }
   ],
   "source": [
    "cmatrices = []\n",
    "cmatricesn = []\n",
    "scores = []\n",
    "scoresn = []\n",
    "for i in range(1, 12):\n",
    "    pca = KernelPCA(n_components=i, kernel='poly')\n",
    "    pcan = KernelPCA(n_components=i, kernel='poly')\n",
    "    pca.fit(rain_x_tr[:5000])\n",
    "    pcan.fit(rain_norm_x_tr[:5000])\n",
    "    \n",
    "    clf = lr(penalty='l2').fit(pca.transform(rain_x_tr), rain_y_tr)\n",
    "    clfn = lr(penalty='l2').fit(pcan.transform(rain_norm_x_tr), rain_y_tr)\n",
    "    \n",
    "    cmatrices.append(cm(rain_y_te, clf.predict(pca.transform(rain_x_te))))\n",
    "    cmatricesn.append(cm(rain_norm_y_te, clfn.predict(pcan.transform(rain_norm_x_te))))\n",
    "    \n",
    "    scores.append(clf.score(pca.transform(rain_x_te), rain_y_te))\n",
    "    scoresn.append(clfn.score(pcan.transform(rain_norm_x_te), rain_norm_y_te))"
   ]
  },
  {
   "cell_type": "code",
   "execution_count": 35,
   "id": "bd52fa41",
   "metadata": {},
   "outputs": [
    {
     "data": {
      "text/plain": [
       "[<matplotlib.lines.Line2D at 0x1e0b81c25c0>]"
      ]
     },
     "execution_count": 35,
     "metadata": {},
     "output_type": "execute_result"
    },
    {
     "data": {
      "image/png": "[encoded data removed]",
      "text/plain": [
       "<Figure size 432x288 with 1 Axes>"
      ]
     },
     "metadata": {
      "needs_background": "light"
     },
     "output_type": "display_data"
    }
   ],
   "source": [
    "plt.plot(scores)"
   ]
  },
  {
   "cell_type": "code",
   "execution_count": 36,
   "id": "2e2d16c9",
   "metadata": {},
   "outputs": [
    {
     "data": {
      "text/plain": [
       "[<matplotlib.lines.Line2D at 0x1e0b7ed3668>]"
      ]
     },
     "execution_count": 36,
     "metadata": {},
     "output_type": "execute_result"
    },
    {
     "data": {
      "image/png": "[encoded data removed]",
      "text/plain": [
       "<Figure size 432x288 with 1 Axes>"
      ]
     },
     "metadata": {
      "needs_background": "light"
     },
     "output_type": "display_data"
    }
   ],
   "source": [
    "plt.plot(scoresn)"
   ]
  },
  {
   "cell_type": "code",
   "execution_count": 37,
   "id": "9669a010",
   "metadata": {},
   "outputs": [
    {
     "name": "stderr",
     "output_type": "stream",
     "text": [
      "C:\\ProgramData\\Anaconda3\\envs\\env_3_6\\lib\\site-packages\\sklearn\\utils\\validation.py:63: DataConversionWarning: A column-vector y was passed when a 1d array was expected. Please change the shape of y to (n_samples, ), for example using ravel().\n",
      "  return f(*args, **kwargs)\n",
      "C:\\ProgramData\\Anaconda3\\envs\\env_3_6\\lib\\site-packages\\sklearn\\utils\\validation.py:63: DataConversionWarning: A column-vector y was passed when a 1d array was expected. Please change the shape of y to (n_samples, ), for example using ravel().\n",
      "  return f(*args, **kwargs)\n",
      "C:\\ProgramData\\Anaconda3\\envs\\env_3_6\\lib\\site-packages\\sklearn\\utils\\validation.py:63: DataConversionWarning: A column-vector y was passed when a 1d array was expected. Please change the shape of y to (n_samples, ), for example using ravel().\n",
      "  return f(*args, **kwargs)\n",
      "C:\\ProgramData\\Anaconda3\\envs\\env_3_6\\lib\\site-packages\\sklearn\\utils\\validation.py:63: DataConversionWarning: A column-vector y was passed when a 1d array was expected. Please change the shape of y to (n_samples, ), for example using ravel().\n",
      "  return f(*args, **kwargs)\n",
      "C:\\ProgramData\\Anaconda3\\envs\\env_3_6\\lib\\site-packages\\sklearn\\utils\\validation.py:63: DataConversionWarning: A column-vector y was passed when a 1d array was expected. Please change the shape of y to (n_samples, ), for example using ravel().\n",
      "  return f(*args, **kwargs)\n",
      "C:\\ProgramData\\Anaconda3\\envs\\env_3_6\\lib\\site-packages\\sklearn\\utils\\validation.py:63: DataConversionWarning: A column-vector y was passed when a 1d array was expected. Please change the shape of y to (n_samples, ), for example using ravel().\n",
      "  return f(*args, **kwargs)\n",
      "C:\\ProgramData\\Anaconda3\\envs\\env_3_6\\lib\\site-packages\\sklearn\\utils\\validation.py:63: DataConversionWarning: A column-vector y was passed when a 1d array was expected. Please change the shape of y to (n_samples, ), for example using ravel().\n",
      "  return f(*args, **kwargs)\n",
      "C:\\ProgramData\\Anaconda3\\envs\\env_3_6\\lib\\site-packages\\sklearn\\utils\\validation.py:63: DataConversionWarning: A column-vector y was passed when a 1d array was expected. Please change the shape of y to (n_samples, ), for example using ravel().\n",
      "  return f(*args, **kwargs)\n",
      "C:\\ProgramData\\Anaconda3\\envs\\env_3_6\\lib\\site-packages\\sklearn\\utils\\validation.py:63: DataConversionWarning: A column-vector y was passed when a 1d array was expected. Please change the shape of y to (n_samples, ), for example using ravel().\n",
      "  return f(*args, **kwargs)\n",
      "C:\\ProgramData\\Anaconda3\\envs\\env_3_6\\lib\\site-packages\\sklearn\\utils\\validation.py:63: DataConversionWarning: A column-vector y was passed when a 1d array was expected. Please change the shape of y to (n_samples, ), for example using ravel().\n",
      "  return f(*args, **kwargs)\n",
      "C:\\ProgramData\\Anaconda3\\envs\\env_3_6\\lib\\site-packages\\sklearn\\utils\\validation.py:63: DataConversionWarning: A column-vector y was passed when a 1d array was expected. Please change the shape of y to (n_samples, ), for example using ravel().\n",
      "  return f(*args, **kwargs)\n",
      "C:\\ProgramData\\Anaconda3\\envs\\env_3_6\\lib\\site-packages\\sklearn\\utils\\validation.py:63: DataConversionWarning: A column-vector y was passed when a 1d array was expected. Please change the shape of y to (n_samples, ), for example using ravel().\n",
      "  return f(*args, **kwargs)\n",
      "C:\\ProgramData\\Anaconda3\\envs\\env_3_6\\lib\\site-packages\\sklearn\\utils\\validation.py:63: DataConversionWarning: A column-vector y was passed when a 1d array was expected. Please change the shape of y to (n_samples, ), for example using ravel().\n",
      "  return f(*args, **kwargs)\n",
      "C:\\ProgramData\\Anaconda3\\envs\\env_3_6\\lib\\site-packages\\sklearn\\utils\\validation.py:63: DataConversionWarning: A column-vector y was passed when a 1d array was expected. Please change the shape of y to (n_samples, ), for example using ravel().\n",
      "  return f(*args, **kwargs)\n",
      "C:\\ProgramData\\Anaconda3\\envs\\env_3_6\\lib\\site-packages\\sklearn\\utils\\validation.py:63: DataConversionWarning: A column-vector y was passed when a 1d array was expected. Please change the shape of y to (n_samples, ), for example using ravel().\n",
      "  return f(*args, **kwargs)\n",
      "C:\\ProgramData\\Anaconda3\\envs\\env_3_6\\lib\\site-packages\\sklearn\\utils\\validation.py:63: DataConversionWarning: A column-vector y was passed when a 1d array was expected. Please change the shape of y to (n_samples, ), for example using ravel().\n",
      "  return f(*args, **kwargs)\n",
      "C:\\ProgramData\\Anaconda3\\envs\\env_3_6\\lib\\site-packages\\sklearn\\utils\\validation.py:63: DataConversionWarning: A column-vector y was passed when a 1d array was expected. Please change the shape of y to (n_samples, ), for example using ravel().\n",
      "  return f(*args, **kwargs)\n",
      "C:\\ProgramData\\Anaconda3\\envs\\env_3_6\\lib\\site-packages\\sklearn\\utils\\validation.py:63: DataConversionWarning: A column-vector y was passed when a 1d array was expected. Please change the shape of y to (n_samples, ), for example using ravel().\n",
      "  return f(*args, **kwargs)\n",
      "C:\\ProgramData\\Anaconda3\\envs\\env_3_6\\lib\\site-packages\\sklearn\\utils\\validation.py:63: DataConversionWarning: A column-vector y was passed when a 1d array was expected. Please change the shape of y to (n_samples, ), for example using ravel().\n",
      "  return f(*args, **kwargs)\n",
      "C:\\ProgramData\\Anaconda3\\envs\\env_3_6\\lib\\site-packages\\sklearn\\utils\\validation.py:63: DataConversionWarning: A column-vector y was passed when a 1d array was expected. Please change the shape of y to (n_samples, ), for example using ravel().\n",
      "  return f(*args, **kwargs)\n",
      "C:\\ProgramData\\Anaconda3\\envs\\env_3_6\\lib\\site-packages\\sklearn\\utils\\validation.py:63: DataConversionWarning: A column-vector y was passed when a 1d array was expected. Please change the shape of y to (n_samples, ), for example using ravel().\n",
      "  return f(*args, **kwargs)\n",
      "C:\\ProgramData\\Anaconda3\\envs\\env_3_6\\lib\\site-packages\\sklearn\\utils\\validation.py:63: DataConversionWarning: A column-vector y was passed when a 1d array was expected. Please change the shape of y to (n_samples, ), for example using ravel().\n",
      "  return f(*args, **kwargs)\n"
     ]
    }
   ],
   "source": [
    "cmatrices = []\n",
    "cmatricesn = []\n",
    "scores = []\n",
    "scoresn = []\n",
    "for i in range(1, 12):\n",
    "    pca = KernelPCA(n_components=i, kernel='rbf')\n",
    "    pcan = KernelPCA(n_components=i, kernel='rbf')\n",
    "    pca.fit(rain_x_tr[:5000])\n",
    "    pcan.fit(rain_norm_x_tr[:5000])\n",
    "    \n",
    "    clf = lr(penalty='l2').fit(pca.transform(rain_x_tr), rain_y_tr)\n",
    "    clfn = lr(penalty='l2').fit(pcan.transform(rain_norm_x_tr), rain_y_tr)\n",
    "    \n",
    "    cmatrices.append(cm(rain_y_te, clf.predict(pca.transform(rain_x_te))))\n",
    "    cmatricesn.append(cm(rain_norm_y_te, clfn.predict(pcan.transform(rain_norm_x_te))))\n",
    "    \n",
    "    scores.append(clf.score(pca.transform(rain_x_te), rain_y_te))\n",
    "    scoresn.append(clfn.score(pcan.transform(rain_norm_x_te), rain_norm_y_te))"
   ]
  },
  {
   "cell_type": "code",
   "execution_count": 38,
   "id": "1f976876",
   "metadata": {},
   "outputs": [
    {
     "data": {
      "text/plain": [
       "[<matplotlib.lines.Line2D at 0x1e0b817e518>]"
      ]
     },
     "execution_count": 38,
     "metadata": {},
     "output_type": "execute_result"
    },
    {
     "data": {
      "image/png": "[encoded data removed]",
      "text/plain": [
       "<Figure size 432x288 with 1 Axes>"
      ]
     },
     "metadata": {
      "needs_background": "light"
     },
     "output_type": "display_data"
    }
   ],
   "source": [
    "plt.plot(scores)"
   ]
  },
  {
   "cell_type": "code",
   "execution_count": 39,
   "id": "84e07f13",
   "metadata": {},
   "outputs": [
    {
     "data": {
      "text/plain": [
       "[<matplotlib.lines.Line2D at 0x1e0b82d0240>]"
      ]
     },
     "execution_count": 39,
     "metadata": {},
     "output_type": "execute_result"
    },
    {
     "data": {
      "image/png": "[encoded data removed]",
      "text/plain": [
       "<Figure size 432x288 with 1 Axes>"
      ]
     },
     "metadata": {
      "needs_background": "light"
     },
     "output_type": "display_data"
    }
   ],
   "source": [
    "plt.plot(scoresn)"
   ]
  },
  {
   "cell_type": "code",
   "execution_count": null,
   "id": "c2fe2adc",
   "metadata": {},
   "outputs": [],
   "source": []
  }
 ],
 "metadata": {
  "kernelspec": {
   "display_name": "Python 3",
   "language": "python",
   "name": "python3"
  },
  "language_info": {
   "codemirror_mode": {
    "name": "ipython",
    "version": 3
   },
   "file_extension": ".py",
   "mimetype": "text/x-python",
   "name": "python",
   "nbconvert_exporter": "python",
   "pygments_lexer": "ipython3",
   "version": "3.6.10"
  }
 },
 "nbformat": 4,
 "nbformat_minor": 5
}
