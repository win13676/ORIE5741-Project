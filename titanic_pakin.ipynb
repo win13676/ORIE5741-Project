{
 "cells": [
  {
   "cell_type": "code",
   "execution_count": 1,
   "metadata": {},
   "outputs": [],
   "source": [
    "import pandas as pd\n",
    "import numpy as np\n",
    "import matplotlib.pyplot as plt"
   ]
  },
  {
   "cell_type": "markdown",
   "metadata": {},
   "source": [
    "# Titanic analysis"
   ]
  },
  {
   "cell_type": "code",
   "execution_count": 3,
   "metadata": {},
   "outputs": [],
   "source": [
    "titanic_train_df = pd.read_csv(\"datasets/benchmark/titanic_clean_train.csv\")\n",
    "\n",
    "X_titanic_train = titanic_train_df.loc[:, titanic_train_df.columns != \"Survived\"]\n",
    "Y_titanic_train = titanic_train_df[\"Survived\"]\n",
    "\n",
    "titanic_test_df = pd.read_csv(\"datasets/benchmark/titanic_clean_test.csv\")\n",
    "X_titanic_test = titanic_test_df.loc[:, titanic_test_df.columns != \"Survived\"]\n",
    "Y_titanic_test = titanic_test_df[\"Survived\"]"
   ]
  },
  {
   "cell_type": "markdown",
   "metadata": {},
   "source": [
    "# Common Functions"
   ]
  },
  {
   "cell_type": "code",
   "execution_count": 4,
   "metadata": {},
   "outputs": [],
   "source": [
    "def square_loss(y_true, y_pred):\n",
    "    n = y_true.shape[0]\n",
    "    return np.sum((y_pred - y_true) ** 2) / n\n",
    "\n",
    "def rank_feature_importance(feature_name, feature_score):\n",
    "    n = feature_name.shape[0]\n",
    "    lst = [(feature_name[i], feature_score[i]) for i in range(n)]\n",
    "    lst.sort(key=lambda x:x[1], reverse=True)\n",
    "    # uncomment to see just the rank without the score\n",
    "    # return [x[0] for x in lst]\n",
    "    return lst\n",
    "\n",
    "def select_features_filter(all_features, target_features):\n",
    "    lst = []\n",
    "    for i in range(len(all_features)):\n",
    "        if all_features[i] in target_features:\n",
    "            lst.append(True)\n",
    "        else:\n",
    "            lst.append(False)\n",
    "    return lst"
   ]
  },
  {
   "cell_type": "markdown",
   "metadata": {},
   "source": [
    "# Random Forest"
   ]
  },
  {
   "cell_type": "code",
   "execution_count": 6,
   "metadata": {},
   "outputs": [],
   "source": [
    "from sklearn.ensemble import RandomForestClassifier"
   ]
  },
  {
   "cell_type": "code",
   "execution_count": 7,
   "metadata": {},
   "outputs": [
    {
     "name": "stdout",
     "output_type": "stream",
     "text": [
      "random state = 0\n",
      "loss = 0.17557251908396945\n",
      "[('Sex_male', 0.22473451883413362), ('Sex_female', 0.21374551395389946), ('Fare', 0.185712012840018), ('Age', 0.18046392969419162), ('Pclass', 0.03970342516597053), ('SibSp', 0.03555334084220149), ('Parch', 0.03407583637504626), ('CabinType_NaN', 0.022818127600645412), ('Embarked_S', 0.010447390651346436), ('HasTitle', 0.010292541532967329), ('Embarked_C', 0.009608319742815036), ('CabinType_E', 0.0064260525557639295), ('CabinType_C', 0.005968643629024395), ('CabinType_D', 0.0049583785761439835), ('Embarked_Q', 0.004920024334058026), ('CabinType_B', 0.0042409802189396235), ('CabinType_F', 0.002836877248664754), ('CabinType_A', 0.0025563772627005127), ('CabinType_G', 0.0008005644385104548), ('CabinType_T', 0.00013714450295896854)]\n"
     ]
    }
   ],
   "source": [
    "# Observation: when n_estimators=100 the ranked_importance changes!\n",
    "n_estimators = 1000\n",
    "for i in range(1):\n",
    "    rf_clf = RandomForestClassifier(random_state=i, n_estimators=n_estimators)\n",
    "    rf_clf.fit(X_titanic_train, Y_titanic_train)\n",
    "    y_pred = rf_clf.predict(X_titanic_test)\n",
    "    loss = square_loss(Y_titanic_test, y_pred)\n",
    "    print(f\"random state = {i}\")\n",
    "    print(f\"loss = {loss}\")\n",
    "    ranked_importance = rank_feature_importance(X_titanic_train.columns, rf_clf.feature_importances_)\n",
    "    print(ranked_importance)"
   ]
  },
  {
   "cell_type": "code",
   "execution_count": 11,
   "metadata": {},
   "outputs": [
    {
     "name": "stdout",
     "output_type": "stream",
     "text": [
      "random state = 0\n"
     ]
    }
   ],
   "source": [
    "all_features = list(X_titanic_train.columns)\n",
    "ranked_features = [ x[0] for x in ranked_importance]\n",
    "\n",
    "random_states = [0]\n",
    "num_estimators = 100\n",
    "\n",
    "square_loss_matrix = np.zeros((len(random_states), len(ranked_features)))\n",
    "for i in range(len(random_states)):\n",
    "    print(f\"random state = {i}\")\n",
    "    rs = random_states[i]\n",
    "    square_loss_lst = []\n",
    "    for j in range(1, len(ranked_features) + 1):\n",
    "        target_features = ranked_features[:j]\n",
    "        features_filter = select_features_filter(all_features, target_features)\n",
    "        X_titanic_train_selected_features = X_titanic_train.loc[:, features_filter]\n",
    "        X_titanic_test_selected_features = X_titanic_test.loc[:, features_filter]\n",
    "        rf_clf = RandomForestClassifier(random_state=rs, n_estimators=num_estimators)\n",
    "        rf_clf.fit(X_titanic_train_selected_features, Y_titanic_train)\n",
    "        square_loss_value = square_loss(Y_titanic_test, rf_clf.predict(X_titanic_test_selected_features))\n",
    "        square_loss_lst.append(square_loss_value)\n",
    "    square_loss_matrix[i,:] = np.array(square_loss_lst)"
   ]
  },
  {
   "cell_type": "code",
   "execution_count": 12,
   "metadata": {},
   "outputs": [
    {
     "data": {
      "image/png": "[encoded data removed]",
      "text/plain": [
       "<Figure size 432x288 with 1 Axes>"
      ]
     },
     "metadata": {
      "needs_background": "light"
     },
     "output_type": "display_data"
    }
   ],
   "source": [
    "x_axis = np.arange(1, len(ranked_features) + 1)\n",
    "for i in range(len(random_states)):\n",
    "    plt.plot(x_axis,square_loss_matrix[i], label=f\"random state = {i}\")\n",
    "plt.xlabel(\"number of most important features used\")\n",
    "plt.ylabel(\"squared loss\")\n",
    "plt.title(\"Random Forrest\")\n",
    "plt.legend()\n",
    "plt.show()"
   ]
  },
  {
   "cell_type": "markdown",
   "metadata": {},
   "source": [
    "# Random forest selected features\n",
    "Select top 8 performs almost as well as the complete set of features"
   ]
  },
  {
   "cell_type": "code",
   "execution_count": 71,
   "metadata": {},
   "outputs": [
    {
     "name": "stdout",
     "output_type": "stream",
     "text": [
      "8 significant RF features with RF classifer ------\n",
      "accuracy = 0.815625\n",
      "f1 score = 0.8195718654434252\n",
      "confusion_matrix = [[127  21]\n",
      " [ 38 134]]\n",
      "8 significant RF features with Ridge classifer -----\n",
      "accuracy = 0.74375\n",
      "f1 score = 0.74375\n",
      "confusion_matrix = [[119  29]\n",
      " [ 53 119]]\n",
      "8 significant RF features with SVC Classifer -----\n",
      "accuracy = 0.621875\n",
      "f1 score = 0.7012345679012346\n",
      "confusion_matrix = [[ 57  91]\n",
      " [ 30 142]]\n"
     ]
    }
   ],
   "source": [
    "from sklearn.metrics import accuracy_score\n",
    "from sklearn.metrics import f1_score\n",
    "from sklearn.metrics import confusion_matrix\n",
    "\n",
    "from sklearn.linear_model import RidgeClassifier\n",
    "from sklearn.svm import SVC\n",
    "\n",
    "\n",
    "rf_selected_features = [x[0] for x in ranked_importance[:8]]\n",
    "num_features = len(rf_selected_features)\n",
    "X_titanic_train_selected_features = X_titanic_train.loc[:, rf_selected_features]\n",
    "X_titanic_test_selected_features = X_titanic_test.loc[:, rf_selected_features]\n",
    "\n",
    "print(f\"{num_features} significant RF features with RF classifer ------\")\n",
    "num_estimators = 1000\n",
    "rf_clf = RandomForestClassifier(random_state=rs, n_estimators=num_estimators)\n",
    "rf_clf.fit(X_titanic_train_selected_features, Y_titanic_train)\n",
    "y_pred = rf_clf.predict(X_titanic_test_selected_features)\n",
    "\n",
    "acc = accuracy_score(Y_titanic_test, y_pred)\n",
    "print(f\"accuracy = {acc}\")\n",
    "\n",
    "f1 = f1_score(Y_titanic_test, y_pred)\n",
    "print(f\"f1 score = {f1}\")\n",
    "\n",
    "con_matrix = confusion_matrix(Y_titanic_test, y_pred)\n",
    "print(f\"confusion_matrix = {con_matrix}\")\n",
    "\n",
    "print(f\"{num_features} significant RF features with Ridge classifer -----\")\n",
    "ridge_clf = RidgeClassifier()\n",
    "ridge_clf.fit(X_titanic_train_selected_features, Y_titanic_train)\n",
    "y_pred = ridge_clf.predict(X_titanic_test_selected_features)\n",
    "\n",
    "acc = accuracy_score(Y_titanic_test, y_pred)\n",
    "print(f\"accuracy = {acc}\")\n",
    "\n",
    "f1 = f1_score(Y_titanic_test, y_pred)\n",
    "print(f\"f1 score = {f1}\")\n",
    "\n",
    "con_matrix = confusion_matrix(Y_titanic_test, y_pred)\n",
    "print(f\"confusion_matrix = {con_matrix}\")\n",
    "\n",
    "print(f\"{num_features} significant RF features with SVC Classifer -----\")\n",
    "svc_clf = SVC()\n",
    "svc_clf.fit(X_titanic_train_selected_features, Y_titanic_train)\n",
    "y_pred = svc_clf.predict(X_titanic_test_selected_features)\n",
    "\n",
    "acc = accuracy_score(Y_titanic_test, y_pred)\n",
    "print(f\"accuracy = {acc}\")\n",
    "\n",
    "f1 = f1_score(Y_titanic_test, y_pred)\n",
    "print(f\"f1 score = {f1}\")\n",
    "\n",
    "con_matrix = confusion_matrix(Y_titanic_test, y_pred)\n",
    "print(f\"confusion_matrix = {con_matrix}\")\n"
   ]
  },
  {
   "cell_type": "markdown",
   "metadata": {},
   "source": [
    "# Lasso Feature Selection"
   ]
  },
  {
   "cell_type": "code",
   "execution_count": 13,
   "metadata": {},
   "outputs": [],
   "source": [
    "from sklearn import linear_model\n",
    "from sklearn.feature_selection import SelectFromModel\n",
    "from sklearn.preprocessing import normalize"
   ]
  },
  {
   "cell_type": "code",
   "execution_count": 18,
   "metadata": {},
   "outputs": [
    {
     "name": "stdout",
     "output_type": "stream",
     "text": [
      "17\n",
      "['Pclass', 'Age', 'SibSp', 'Parch', 'Fare', 'HasTitle', 'Sex_female', 'CabinType_A', 'CabinType_C', 'CabinType_D', 'CabinType_E', 'CabinType_F', 'CabinType_G', 'CabinType_NaN', 'CabinType_T', 'Embarked_C', 'Embarked_S']\n",
      "17\n",
      "['Pclass', 'Age', 'SibSp', 'Parch', 'Fare', 'HasTitle', 'Sex_female', 'CabinType_A', 'CabinType_C', 'CabinType_D', 'CabinType_E', 'CabinType_F', 'CabinType_G', 'CabinType_NaN', 'CabinType_T', 'Embarked_C', 'Embarked_S']\n",
      "14\n",
      "['Pclass', 'Age', 'SibSp', 'Parch', 'Fare', 'HasTitle', 'Sex_female', 'CabinType_D', 'CabinType_E', 'CabinType_F', 'CabinType_NaN', 'CabinType_T', 'Embarked_C', 'Embarked_S']\n",
      "14\n",
      "['Pclass', 'Age', 'SibSp', 'Parch', 'Fare', 'HasTitle', 'Sex_female', 'CabinType_D', 'CabinType_E', 'CabinType_F', 'CabinType_NaN', 'CabinType_T', 'Embarked_C', 'Embarked_S']\n",
      "13\n",
      "['Pclass', 'Age', 'SibSp', 'Parch', 'Fare', 'HasTitle', 'Sex_female', 'CabinType_D', 'CabinType_E', 'CabinType_F', 'CabinType_NaN', 'Embarked_C', 'Embarked_S']\n",
      "12\n",
      "['Pclass', 'Age', 'SibSp', 'Parch', 'Fare', 'HasTitle', 'Sex_female', 'CabinType_E', 'CabinType_F', 'CabinType_NaN', 'Embarked_C', 'Embarked_S']\n",
      "11\n",
      "['Pclass', 'Age', 'SibSp', 'Parch', 'Fare', 'HasTitle', 'Sex_female', 'CabinType_E', 'CabinType_NaN', 'Embarked_C', 'Embarked_S']\n",
      "8\n",
      "['Pclass', 'Age', 'SibSp', 'Parch', 'HasTitle', 'Sex_female', 'CabinType_NaN', 'Embarked_C']\n",
      "7\n",
      "['Pclass', 'Age', 'SibSp', 'HasTitle', 'Sex_female', 'CabinType_NaN', 'Embarked_C']\n",
      "7\n",
      "['Pclass', 'Age', 'SibSp', 'HasTitle', 'Sex_female', 'CabinType_NaN', 'Embarked_C']\n",
      "6\n",
      "['Pclass', 'SibSp', 'HasTitle', 'Sex_female', 'CabinType_NaN', 'Embarked_C']\n",
      "6\n",
      "['Pclass', 'SibSp', 'HasTitle', 'Sex_female', 'CabinType_NaN', 'Embarked_C']\n",
      "6\n",
      "['Pclass', 'SibSp', 'HasTitle', 'Sex_female', 'CabinType_NaN', 'Embarked_C']\n",
      "4\n",
      "['Pclass', 'HasTitle', 'Sex_female', 'CabinType_NaN']\n",
      "4\n",
      "['Pclass', 'HasTitle', 'Sex_female', 'CabinType_NaN']\n"
     ]
    }
   ],
   "source": [
    "def select_feature(all_features, feature_filter):\n",
    "    lst = []\n",
    "    for i in range(len(feature_filter)):\n",
    "        \n",
    "        if feature_filter[i]:\n",
    "            lst.append(all_features[i])\n",
    "    return lst\n",
    "\n",
    "n = 10\n",
    "loss_lst = []\n",
    "features_used = []\n",
    "alphas = np.linspace(0.00001,0.001,15)\n",
    "for a in alphas:\n",
    "    # print(f\"a = {a} =========\")\n",
    "    lasso_clf = linear_model.Lasso(alpha=a, normalize=True, random_state=1)\n",
    "    lasso_clf.fit(X_titanic_train, Y_titanic_train)\n",
    "    feature_filter = ~np.isclose(lasso_clf.coef_, 0)\n",
    "    selected_features = select_feature(X_titanic_train.columns, feature_filter)\n",
    "    print(len(selected_features))\n",
    "    print(selected_features)\n",
    "    y_pred = lasso_clf.predict(X_titanic_test)\n",
    "    loss = square_loss(Y_titanic_test, y_pred)\n",
    "    loss_lst.append(loss)\n",
    "    features_used.append(np.sum(feature_filter))\n",
    "    # print(f\"loss = {loss}\")"
   ]
  },
  {
   "cell_type": "code",
   "execution_count": 19,
   "metadata": {},
   "outputs": [
    {
     "data": {
      "image/png": "[encoded data removed]",
      "text/plain": [
       "<Figure size 432x288 with 2 Axes>"
      ]
     },
     "metadata": {
      "needs_background": "light"
     },
     "output_type": "display_data"
    }
   ],
   "source": [
    "fig, ax1 = plt.subplots()\n",
    "\n",
    "color = 'red'\n",
    "ax1.set_xlabel('alpha (L1 constant)')\n",
    "ax1.set_ylabel('squared loss', color=color)\n",
    "ax1.plot(alphas, loss_lst, color=color)\n",
    "ax1.tick_params(axis='y', labelcolor=color)\n",
    "\n",
    "ax2 = ax1.twinx()  # instantiate a second axes that shares the same x-axis\n",
    "\n",
    "color = 'blue'\n",
    "ax2.set_ylabel('features used', color=color)  # we already handled the x-label with ax1\n",
    "ax2.plot(alphas, features_used, color=color)\n",
    "ax2.tick_params(axis='y', labelcolor=color)\n",
    "\n",
    "fig.tight_layout()  # otherwise the right y-label is slightly clipped\n",
    "plt.title(\"Lasso squared Loss vs features used\")\n",
    "\n",
    "plt.show()"
   ]
  },
  {
   "cell_type": "markdown",
   "metadata": {},
   "source": [
    "# LASSO selected features\n",
    "\n",
    "['volatile acidity', 'chlorides', 'free sulfur dioxide', 'total sulfur dioxide', 'sulphates', 'alcohol']\n",
    "Random forest didn't use 'free sulfur dioxide'"
   ]
  },
  {
   "cell_type": "code",
   "execution_count": 20,
   "metadata": {},
   "outputs": [
    {
     "name": "stdout",
     "output_type": "stream",
     "text": [
      "14 significant LASSO features with RF classifer ------\n",
      "accuracy = 0.8053435114503816\n",
      "f1 score = 0.7437185929648241\n",
      "confusion_matrix = [[137  19]\n",
      " [ 32  74]]\n",
      "14 significant LASSO features with Ridge classifer -----\n",
      "accuracy = 0.8625954198473282\n",
      "f1 score = 0.8163265306122449\n",
      "confusion_matrix = [[146  10]\n",
      " [ 26  80]]\n",
      "14 significant LASSO features with SVC Classifer -----\n",
      "accuracy = 0.6259541984732825\n",
      "f1 score = 0.3287671232876712\n",
      "confusion_matrix = [[140  16]\n",
      " [ 82  24]]\n"
     ]
    }
   ],
   "source": [
    "from sklearn.metrics import accuracy_score\n",
    "from sklearn.metrics import f1_score\n",
    "from sklearn.metrics import confusion_matrix\n",
    "\n",
    "from sklearn.linear_model import RidgeClassifier\n",
    "from sklearn.svm import SVC\n",
    "\n",
    "lasso_selected_features = ['Pclass', 'Age', 'SibSp', 'Parch', 'Fare', 'HasTitle', 'Sex_female', 'CabinType_D', 'CabinType_E', 'CabinType_F', 'CabinType_NaN', 'CabinType_T', 'Embarked_C', 'Embarked_S']\n",
    "num_features = len(lasso_selected_features)\n",
    "X_titanic_train_selected_features = X_titanic_train.loc[:, lasso_selected_features]\n",
    "X_titanic_test_selected_features = X_titanic_test.loc[:, lasso_selected_features]\n",
    "\n",
    "print(f\"{num_features} significant LASSO features with RF classifer ------\")\n",
    "num_estimators = 10\n",
    "rf_clf = RandomForestClassifier(random_state=rs, n_estimators=num_estimators)\n",
    "rf_clf.fit(X_titanic_train_selected_features, Y_titanic_train)\n",
    "y_pred = rf_clf.predict(X_titanic_test_selected_features)\n",
    "\n",
    "acc = accuracy_score(Y_titanic_test, y_pred)\n",
    "print(f\"accuracy = {acc}\")\n",
    "\n",
    "f1 = f1_score(Y_titanic_test, y_pred)\n",
    "print(f\"f1 score = {f1}\")\n",
    "\n",
    "con_matrix = confusion_matrix(Y_titanic_test, y_pred)\n",
    "print(f\"confusion_matrix = {con_matrix}\")\n",
    "\n",
    "print(f\"{num_features} significant LASSO features with Ridge classifer -----\")\n",
    "ridge_clf = RidgeClassifier()\n",
    "ridge_clf.fit(X_titanic_train_selected_features, Y_titanic_train)\n",
    "y_pred = ridge_clf.predict(X_titanic_test_selected_features)\n",
    "\n",
    "acc = accuracy_score(Y_titanic_test, y_pred)\n",
    "print(f\"accuracy = {acc}\")\n",
    "\n",
    "f1 = f1_score(Y_titanic_test, y_pred)\n",
    "print(f\"f1 score = {f1}\")\n",
    "\n",
    "con_matrix = confusion_matrix(Y_titanic_test, y_pred)\n",
    "print(f\"confusion_matrix = {con_matrix}\")\n",
    "\n",
    "print(f\"{num_features} significant LASSO features with SVC Classifer -----\")\n",
    "svc_clf = SVC()\n",
    "svc_clf.fit(X_titanic_train_selected_features, Y_titanic_train)\n",
    "y_pred = svc_clf.predict(X_titanic_test_selected_features)\n",
    "\n",
    "acc = accuracy_score(Y_titanic_test, y_pred)\n",
    "print(f\"accuracy = {acc}\")\n",
    "\n",
    "f1 = f1_score(Y_titanic_test, y_pred)\n",
    "print(f\"f1 score = {f1}\")\n",
    "\n",
    "con_matrix = confusion_matrix(Y_titanic_test, y_pred)\n",
    "print(f\"confusion_matrix = {con_matrix}\")"
   ]
  },
  {
   "cell_type": "code",
   "execution_count": null,
   "metadata": {},
   "outputs": [],
   "source": []
  }
 ],
 "metadata": {
  "interpreter": {
   "hash": "b5c787b050929733acc4fe6e07d846310cb2fa5fbc72c8b3999673397fc4234f"
  },
  "kernelspec": {
   "display_name": "Python 3.8.8 64-bit ('base': conda)",
   "name": "python3"
  },
  "language_info": {
   "codemirror_mode": {
    "name": "ipython",
    "version": 3
   },
   "file_extension": ".py",
   "mimetype": "text/x-python",
   "name": "python",
   "nbconvert_exporter": "python",
   "pygments_lexer": "ipython3",
   "version": "3.8.8"
  }
 },
 "nbformat": 4,
 "nbformat_minor": 5
}
