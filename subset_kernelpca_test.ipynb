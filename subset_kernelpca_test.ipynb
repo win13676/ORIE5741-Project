{
 "cells": [
  {
   "cell_type": "code",
   "execution_count": 2,
   "id": "3dd9b1e7",
   "metadata": {},
   "outputs": [],
   "source": [
    "%load_ext autoreload\n",
    "%autoreload 1\n",
    "\n",
    "import numpy as np\n",
    "import pandas as pd\n",
    "import matplotlib.pyplot as plt\n",
    "import sklearn\n",
    "from sklearn.model_selection import train_test_split\n",
    "from sklearn.metrics import confusion_matrix as cm\n",
    "from sklearn.decomposition import KernelPCA"
   ]
  },
  {
   "cell_type": "code",
   "execution_count": 38,
   "id": "453176be",
   "metadata": {},
   "outputs": [],
   "source": [
    "# df_rain = pd.read_csv('datasets/benchmark/weatherAUS_clean_train.csv')\n",
    "df_rain = pd.read_csv('datasets/normalized_benchmark/weatherAUS_clean_train.csv')\n",
    "rain_feats = df_rain.columns.values\n",
    "rain_x = df_rain[rain_feats[:-1]]\n",
    "rain_y = df_rain[rain_feats[-1]]\n",
    "rain_x_tr, rain_x_te, rain_y_tr, rain_y_te = train_test_split(rain_x, rain_y, test_size=0.2)"
   ]
  },
  {
   "cell_type": "code",
   "execution_count": 39,
   "id": "2bdec6c1",
   "metadata": {},
   "outputs": [
    {
     "data": {
      "text/html": [
       "<div>\n",
       "<style scoped>\n",
       "    .dataframe tbody tr th:only-of-type {\n",
       "        vertical-align: middle;\n",
       "    }\n",
       "\n",
       "    .dataframe tbody tr th {\n",
       "        vertical-align: top;\n",
       "    }\n",
       "\n",
       "    .dataframe thead th {\n",
       "        text-align: right;\n",
       "    }\n",
       "</style>\n",
       "<table border=\"1\" class=\"dataframe\">\n",
       "  <thead>\n",
       "    <tr style=\"text-align: right;\">\n",
       "      <th></th>\n",
       "      <th>MinTemp</th>\n",
       "      <th>MaxTemp</th>\n",
       "      <th>Rainfall</th>\n",
       "      <th>Evaporation</th>\n",
       "      <th>Sunshine</th>\n",
       "      <th>WindGustSpeed</th>\n",
       "      <th>WindSpeed9am</th>\n",
       "      <th>WindSpeed3pm</th>\n",
       "      <th>Humidity9am</th>\n",
       "      <th>Humidity3pm</th>\n",
       "      <th>...</th>\n",
       "      <th>WindGustDir_E</th>\n",
       "      <th>WindGustDir_W</th>\n",
       "      <th>WindDir9am_N</th>\n",
       "      <th>WindDir9am_S</th>\n",
       "      <th>WindDir9am_E</th>\n",
       "      <th>WindDir9am_W</th>\n",
       "      <th>WindDir3pm_N</th>\n",
       "      <th>WindDir3pm_S</th>\n",
       "      <th>WindDir3pm_E</th>\n",
       "      <th>WindDir3pm_W</th>\n",
       "    </tr>\n",
       "  </thead>\n",
       "  <tbody>\n",
       "    <tr>\n",
       "      <th>0</th>\n",
       "      <td>-0.255460</td>\n",
       "      <td>-0.745831</td>\n",
       "      <td>1.853462</td>\n",
       "      <td>1.120662</td>\n",
       "      <td>-0.448305</td>\n",
       "      <td>1.881700</td>\n",
       "      <td>0.511066</td>\n",
       "      <td>1.263930</td>\n",
       "      <td>1.315774</td>\n",
       "      <td>1.344504</td>\n",
       "      <td>...</td>\n",
       "      <td>-0.722969</td>\n",
       "      <td>0.674722</td>\n",
       "      <td>2.060423</td>\n",
       "      <td>-0.744279</td>\n",
       "      <td>-0.745346</td>\n",
       "      <td>-0.766083</td>\n",
       "      <td>-0.760850</td>\n",
       "      <td>-0.795909</td>\n",
       "      <td>-0.732678</td>\n",
       "      <td>2.189419</td>\n",
       "    </tr>\n",
       "    <tr>\n",
       "      <th>1</th>\n",
       "      <td>-0.805911</td>\n",
       "      <td>-0.984383</td>\n",
       "      <td>0.379110</td>\n",
       "      <td>1.120662</td>\n",
       "      <td>0.132106</td>\n",
       "      <td>0.362728</td>\n",
       "      <td>0.511066</td>\n",
       "      <td>0.033671</td>\n",
       "      <td>0.675162</td>\n",
       "      <td>0.076216</td>\n",
       "      <td>...</td>\n",
       "      <td>-0.722969</td>\n",
       "      <td>0.674722</td>\n",
       "      <td>0.617992</td>\n",
       "      <td>-0.744279</td>\n",
       "      <td>-0.745346</td>\n",
       "      <td>0.801350</td>\n",
       "      <td>1.315759</td>\n",
       "      <td>-0.795909</td>\n",
       "      <td>-0.732678</td>\n",
       "      <td>0.179914</td>\n",
       "    </tr>\n",
       "    <tr>\n",
       "      <th>2</th>\n",
       "      <td>-0.695821</td>\n",
       "      <td>-1.419388</td>\n",
       "      <td>0.084240</td>\n",
       "      <td>-1.027741</td>\n",
       "      <td>-0.448305</td>\n",
       "      <td>2.572141</td>\n",
       "      <td>3.304530</td>\n",
       "      <td>2.382348</td>\n",
       "      <td>0.995468</td>\n",
       "      <td>0.347992</td>\n",
       "      <td>...</td>\n",
       "      <td>-0.722969</td>\n",
       "      <td>2.173966</td>\n",
       "      <td>-0.824440</td>\n",
       "      <td>-0.744279</td>\n",
       "      <td>-0.745346</td>\n",
       "      <td>2.368782</td>\n",
       "      <td>-0.760850</td>\n",
       "      <td>-0.795909</td>\n",
       "      <td>-0.732678</td>\n",
       "      <td>2.189419</td>\n",
       "    </tr>\n",
       "    <tr>\n",
       "      <th>3</th>\n",
       "      <td>0.405081</td>\n",
       "      <td>1.106451</td>\n",
       "      <td>-0.332048</td>\n",
       "      <td>-0.670768</td>\n",
       "      <td>0.132106</td>\n",
       "      <td>0.017507</td>\n",
       "      <td>0.743854</td>\n",
       "      <td>0.481038</td>\n",
       "      <td>-1.033137</td>\n",
       "      <td>-0.920296</td>\n",
       "      <td>...</td>\n",
       "      <td>-0.722969</td>\n",
       "      <td>-0.824521</td>\n",
       "      <td>2.060423</td>\n",
       "      <td>-0.744279</td>\n",
       "      <td>-0.745346</td>\n",
       "      <td>-0.766083</td>\n",
       "      <td>1.315759</td>\n",
       "      <td>-0.795909</td>\n",
       "      <td>-0.732678</td>\n",
       "      <td>0.179914</td>\n",
       "    </tr>\n",
       "    <tr>\n",
       "      <th>4</th>\n",
       "      <td>-1.041819</td>\n",
       "      <td>-0.226631</td>\n",
       "      <td>-0.332048</td>\n",
       "      <td>0.201833</td>\n",
       "      <td>0.132106</td>\n",
       "      <td>-1.156244</td>\n",
       "      <td>0.161883</td>\n",
       "      <td>-0.301854</td>\n",
       "      <td>-0.285756</td>\n",
       "      <td>-0.150264</td>\n",
       "      <td>...</td>\n",
       "      <td>-0.722969</td>\n",
       "      <td>0.674722</td>\n",
       "      <td>0.137181</td>\n",
       "      <td>-0.744279</td>\n",
       "      <td>-0.745346</td>\n",
       "      <td>1.323827</td>\n",
       "      <td>-0.760850</td>\n",
       "      <td>0.239841</td>\n",
       "      <td>1.429113</td>\n",
       "      <td>-0.824839</td>\n",
       "    </tr>\n",
       "  </tbody>\n",
       "</table>\n",
       "<p>5 rows × 29 columns</p>\n",
       "</div>"
      ],
      "text/plain": [
       "    MinTemp   MaxTemp  Rainfall  Evaporation  Sunshine  WindGustSpeed  \\\n",
       "0 -0.255460 -0.745831  1.853462     1.120662 -0.448305       1.881700   \n",
       "1 -0.805911 -0.984383  0.379110     1.120662  0.132106       0.362728   \n",
       "2 -0.695821 -1.419388  0.084240    -1.027741 -0.448305       2.572141   \n",
       "3  0.405081  1.106451 -0.332048    -0.670768  0.132106       0.017507   \n",
       "4 -1.041819 -0.226631 -0.332048     0.201833  0.132106      -1.156244   \n",
       "\n",
       "   WindSpeed9am  WindSpeed3pm  Humidity9am  Humidity3pm  ...  WindGustDir_E  \\\n",
       "0      0.511066      1.263930     1.315774     1.344504  ...      -0.722969   \n",
       "1      0.511066      0.033671     0.675162     0.076216  ...      -0.722969   \n",
       "2      3.304530      2.382348     0.995468     0.347992  ...      -0.722969   \n",
       "3      0.743854      0.481038    -1.033137    -0.920296  ...      -0.722969   \n",
       "4      0.161883     -0.301854    -0.285756    -0.150264  ...      -0.722969   \n",
       "\n",
       "   WindGustDir_W  WindDir9am_N  WindDir9am_S  WindDir9am_E  WindDir9am_W  \\\n",
       "0       0.674722      2.060423     -0.744279     -0.745346     -0.766083   \n",
       "1       0.674722      0.617992     -0.744279     -0.745346      0.801350   \n",
       "2       2.173966     -0.824440     -0.744279     -0.745346      2.368782   \n",
       "3      -0.824521      2.060423     -0.744279     -0.745346     -0.766083   \n",
       "4       0.674722      0.137181     -0.744279     -0.745346      1.323827   \n",
       "\n",
       "   WindDir3pm_N  WindDir3pm_S  WindDir3pm_E  WindDir3pm_W  \n",
       "0     -0.760850     -0.795909     -0.732678      2.189419  \n",
       "1      1.315759     -0.795909     -0.732678      0.179914  \n",
       "2     -0.760850     -0.795909     -0.732678      2.189419  \n",
       "3      1.315759     -0.795909     -0.732678      0.179914  \n",
       "4     -0.760850      0.239841      1.429113     -0.824839  \n",
       "\n",
       "[5 rows x 29 columns]"
      ]
     },
     "execution_count": 39,
     "metadata": {},
     "output_type": "execute_result"
    }
   ],
   "source": [
    "rain_x.head()"
   ]
  },
  {
   "cell_type": "code",
   "execution_count": 40,
   "id": "4d8dd1a1",
   "metadata": {},
   "outputs": [
    {
     "data": {
      "text/plain": [
       "0    1.0\n",
       "1    1.0\n",
       "2    1.0\n",
       "3    1.0\n",
       "4    0.0\n",
       "Name: RainTomorrow, dtype: float64"
      ]
     },
     "execution_count": 40,
     "metadata": {},
     "output_type": "execute_result"
    }
   ],
   "source": [
    "rain_y.head()"
   ]
  },
  {
   "cell_type": "code",
   "execution_count": 6,
   "id": "22dae3f2",
   "metadata": {},
   "outputs": [],
   "source": [
    "import subset_pca\n",
    "%aimport subset_pca"
   ]
  },
  {
   "cell_type": "code",
   "execution_count": 41,
   "id": "10da62e8",
   "metadata": {},
   "outputs": [],
   "source": [
    "spca = subset_pca.SubsetPCA(type='dim', value=10)"
   ]
  },
  {
   "cell_type": "code",
   "execution_count": 42,
   "id": "c19b9316",
   "metadata": {},
   "outputs": [
    {
     "data": {
      "text/plain": [
       "([{'Cloud3pm', 'Cloud9am', 'Sunshine'},\n",
       "  {'WindDir3pm_E', 'WindDir3pm_W', 'WindGustDir_E', 'WindGustDir_W'},\n",
       "  {'Evaporation'},\n",
       "  {'Humidity3pm', 'Humidity9am', 'MaxTemp', 'MinTemp', 'Temp3pm', 'Temp9am'},\n",
       "  {'WindDir3pm_N',\n",
       "   'WindDir3pm_S',\n",
       "   'WindDir9am_N',\n",
       "   'WindDir9am_S',\n",
       "   'WindGustDir_N',\n",
       "   'WindGustDir_S'},\n",
       "  {'Rainfall'},\n",
       "  {'WindGustSpeed', 'WindSpeed3pm', 'WindSpeed9am'},\n",
       "  {'RainToday'},\n",
       "  {'WindDir9am_E', 'WindDir9am_W'},\n",
       "  {'Pressure3pm', 'Pressure9am'}],\n",
       " [PCA(n_components=1),\n",
       "  PCA(n_components=1),\n",
       "  PCA(n_components=1),\n",
       "  PCA(n_components=1),\n",
       "  PCA(n_components=1),\n",
       "  PCA(n_components=1),\n",
       "  PCA(n_components=1),\n",
       "  PCA(n_components=1),\n",
       "  PCA(n_components=1),\n",
       "  PCA(n_components=1)])"
      ]
     },
     "execution_count": 42,
     "metadata": {},
     "output_type": "execute_result"
    }
   ],
   "source": [
    "spca.fit(rain_x_tr)"
   ]
  },
  {
   "cell_type": "code",
   "execution_count": 43,
   "id": "fdd53211",
   "metadata": {},
   "outputs": [],
   "source": [
    "small_x_tr = spca.transform(rain_x_tr)\n",
    "small_x_te = spca.transform(rain_x_te)"
   ]
  },
  {
   "cell_type": "code",
   "execution_count": 44,
   "id": "cd93514f",
   "metadata": {},
   "outputs": [],
   "source": [
    "from sklearn.linear_model import LogisticRegression as lr\n",
    "from sklearn.metrics import confusion_matrix as cm"
   ]
  },
  {
   "cell_type": "code",
   "execution_count": 45,
   "id": "97111d1d",
   "metadata": {},
   "outputs": [
    {
     "name": "stdout",
     "output_type": "stream",
     "text": [
      "0.7384375 0.7478125\n",
      "[0.73145356 0.26854644] [0.25405318 0.74594682]\n",
      "[0.73410055 0.26589945] [0.23757263 0.76242737]\n",
      "Coefficients: [[-0.56610491  0.07826936  0.00971408  0.19956903 -0.11066422  0.14963912\n",
      "   0.17856359  0.38401395  0.00651896  0.39533739]]\n"
     ]
    }
   ],
   "source": [
    "clf = lr(penalty='l2').fit(small_x_tr, rain_y_tr)\n",
    "print(clf.score(small_x_tr, rain_y_tr), clf.score(small_x_te, rain_y_te))\n",
    "tr_cm = cm(clf.predict(small_x_tr), rain_y_tr)\n",
    "te_cm = cm(clf.predict(small_x_te), rain_y_te)\n",
    "print(tr_cm[0] / sum(tr_cm[0]), tr_cm[1] / sum(tr_cm[1]))\n",
    "print(te_cm[0] / sum(te_cm[0]), te_cm[1] / sum(te_cm[1]))\n",
    "# print(cm(clf.predict(small_x_tr), rain_y_tr), '\\n', cm(clf.predict(small_x_te), rain_y_te))\n",
    "\n",
    "print('Coefficients:', clf.coef_)"
   ]
  },
  {
   "cell_type": "code",
   "execution_count": 46,
   "id": "7ebf1d6f",
   "metadata": {},
   "outputs": [
    {
     "name": "stdout",
     "output_type": "stream",
     "text": [
      "0.788359375 0.7953125\n",
      "[0.78188174 0.21811826] [0.20479023 0.79520977]\n",
      "[0.79033271 0.20966729] [0.19975109 0.80024891]\n"
     ]
    }
   ],
   "source": [
    "clf_big = lr(penalty='l2').fit(rain_x_tr, rain_y_tr)\n",
    "print(clf_big.score(rain_x_tr, rain_y_tr), clf_big.score(rain_x_te, rain_y_te))\n",
    "tr_cm = cm(clf_big.predict(rain_x_tr), rain_y_tr)\n",
    "te_cm = cm(clf_big.predict(rain_x_te), rain_y_te)\n",
    "print(tr_cm[0] / sum(tr_cm[0]), tr_cm[1] / sum(tr_cm[1]))\n",
    "print(te_cm[0] / sum(te_cm[0]), te_cm[1] / sum(te_cm[1]))"
   ]
  },
  {
   "cell_type": "code",
   "execution_count": 25,
   "id": "00779f68",
   "metadata": {},
   "outputs": [],
   "source": [
    "spca.visualize_components()"
   ]
  },
  {
   "cell_type": "code",
   "execution_count": null,
   "id": "aa74a739",
   "metadata": {},
   "outputs": [],
   "source": []
  }
 ],
 "metadata": {
  "kernelspec": {
   "display_name": "Python 3",
   "language": "python",
   "name": "python3"
  },
  "language_info": {
   "codemirror_mode": {
    "name": "ipython",
    "version": 3
   },
   "file_extension": ".py",
   "mimetype": "text/x-python",
   "name": "python",
   "nbconvert_exporter": "python",
   "pygments_lexer": "ipython3",
   "version": "3.6.10"
  }
 },
 "nbformat": 4,
 "nbformat_minor": 5
}
