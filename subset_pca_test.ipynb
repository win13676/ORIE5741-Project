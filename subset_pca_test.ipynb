{
 "cells": [
  {
   "cell_type": "code",
   "execution_count": 1,
   "id": "3dd9b1e7",
   "metadata": {},
   "outputs": [],
   "source": [
    "%load_ext autoreload\n",
    "%autoreload 1\n",
    "\n",
    "import numpy as np\n",
    "import pandas as pd\n",
    "import matplotlib.pyplot as plt\n",
    "import sklearn\n",
    "from sklearn.model_selection import train_test_split\n",
    "from sklearn.metrics import confusion_matrix as cm\n",
    "from sklearn.decomposition import KernelPCA"
   ]
  },
  {
   "cell_type": "code",
   "execution_count": 2,
   "id": "453176be",
   "metadata": {},
   "outputs": [],
   "source": [
    "# df_rain = pd.read_csv('datasets/benchmark/weatherAUS_clean_train.csv')\n",
    "df_rain = pd.read_csv('datasets/weatherAUS_clean.csv')\n",
    "rain_feats = df_rain.columns.values\n",
    "rain_x = df_rain[rain_feats[1:-1]]\n",
    "rain_y = df_rain[rain_feats[-1]]\n",
    "rain_x_tr, rain_x_te, rain_y_tr, rain_y_te = train_test_split(rain_x, rain_y, test_size=0.2)"
   ]
  },
  {
   "cell_type": "code",
   "execution_count": 3,
   "id": "2bdec6c1",
   "metadata": {},
   "outputs": [
    {
     "data": {
      "text/html": [
       "<div>\n",
       "<style scoped>\n",
       "    .dataframe tbody tr th:only-of-type {\n",
       "        vertical-align: middle;\n",
       "    }\n",
       "\n",
       "    .dataframe tbody tr th {\n",
       "        vertical-align: top;\n",
       "    }\n",
       "\n",
       "    .dataframe thead th {\n",
       "        text-align: right;\n",
       "    }\n",
       "</style>\n",
       "<table border=\"1\" class=\"dataframe\">\n",
       "  <thead>\n",
       "    <tr style=\"text-align: right;\">\n",
       "      <th></th>\n",
       "      <th>MinTemp</th>\n",
       "      <th>MaxTemp</th>\n",
       "      <th>Rainfall</th>\n",
       "      <th>Evaporation</th>\n",
       "      <th>Sunshine</th>\n",
       "      <th>WindGustSpeed</th>\n",
       "      <th>WindSpeed9am</th>\n",
       "      <th>WindSpeed3pm</th>\n",
       "      <th>Humidity9am</th>\n",
       "      <th>Humidity3pm</th>\n",
       "      <th>...</th>\n",
       "      <th>WindGustDir_E</th>\n",
       "      <th>WindGustDir_W</th>\n",
       "      <th>WindDir9am_N</th>\n",
       "      <th>WindDir9am_S</th>\n",
       "      <th>WindDir9am_E</th>\n",
       "      <th>WindDir9am_W</th>\n",
       "      <th>WindDir3pm_N</th>\n",
       "      <th>WindDir3pm_S</th>\n",
       "      <th>WindDir3pm_E</th>\n",
       "      <th>WindDir3pm_W</th>\n",
       "    </tr>\n",
       "  </thead>\n",
       "  <tbody>\n",
       "    <tr>\n",
       "      <th>0</th>\n",
       "      <td>13.4</td>\n",
       "      <td>22.9</td>\n",
       "      <td>0.6</td>\n",
       "      <td>24.666201</td>\n",
       "      <td>7.20069</td>\n",
       "      <td>44.0</td>\n",
       "      <td>20.0</td>\n",
       "      <td>24.0</td>\n",
       "      <td>71.0</td>\n",
       "      <td>22.0</td>\n",
       "      <td>...</td>\n",
       "      <td>0.0</td>\n",
       "      <td>6.0</td>\n",
       "      <td>0.0</td>\n",
       "      <td>0.0</td>\n",
       "      <td>0.0</td>\n",
       "      <td>6.0</td>\n",
       "      <td>2.0</td>\n",
       "      <td>0.0</td>\n",
       "      <td>0.0</td>\n",
       "      <td>4.0</td>\n",
       "    </tr>\n",
       "    <tr>\n",
       "      <th>1</th>\n",
       "      <td>7.4</td>\n",
       "      <td>25.1</td>\n",
       "      <td>0.0</td>\n",
       "      <td>24.666201</td>\n",
       "      <td>7.20069</td>\n",
       "      <td>44.0</td>\n",
       "      <td>4.0</td>\n",
       "      <td>22.0</td>\n",
       "      <td>44.0</td>\n",
       "      <td>25.0</td>\n",
       "      <td>...</td>\n",
       "      <td>0.0</td>\n",
       "      <td>4.0</td>\n",
       "      <td>4.0</td>\n",
       "      <td>0.0</td>\n",
       "      <td>0.0</td>\n",
       "      <td>2.0</td>\n",
       "      <td>0.0</td>\n",
       "      <td>2.0</td>\n",
       "      <td>0.0</td>\n",
       "      <td>4.0</td>\n",
       "    </tr>\n",
       "    <tr>\n",
       "      <th>2</th>\n",
       "      <td>12.9</td>\n",
       "      <td>25.7</td>\n",
       "      <td>0.0</td>\n",
       "      <td>24.666201</td>\n",
       "      <td>7.20069</td>\n",
       "      <td>46.0</td>\n",
       "      <td>19.0</td>\n",
       "      <td>26.0</td>\n",
       "      <td>38.0</td>\n",
       "      <td>30.0</td>\n",
       "      <td>...</td>\n",
       "      <td>0.0</td>\n",
       "      <td>4.0</td>\n",
       "      <td>0.0</td>\n",
       "      <td>0.0</td>\n",
       "      <td>0.0</td>\n",
       "      <td>6.0</td>\n",
       "      <td>0.0</td>\n",
       "      <td>2.0</td>\n",
       "      <td>0.0</td>\n",
       "      <td>4.0</td>\n",
       "    </tr>\n",
       "    <tr>\n",
       "      <th>3</th>\n",
       "      <td>9.2</td>\n",
       "      <td>28.0</td>\n",
       "      <td>0.0</td>\n",
       "      <td>24.666201</td>\n",
       "      <td>7.20069</td>\n",
       "      <td>24.0</td>\n",
       "      <td>11.0</td>\n",
       "      <td>9.0</td>\n",
       "      <td>45.0</td>\n",
       "      <td>16.0</td>\n",
       "      <td>...</td>\n",
       "      <td>3.0</td>\n",
       "      <td>0.0</td>\n",
       "      <td>0.0</td>\n",
       "      <td>3.0</td>\n",
       "      <td>3.0</td>\n",
       "      <td>0.0</td>\n",
       "      <td>0.0</td>\n",
       "      <td>0.0</td>\n",
       "      <td>6.0</td>\n",
       "      <td>0.0</td>\n",
       "    </tr>\n",
       "    <tr>\n",
       "      <th>4</th>\n",
       "      <td>17.5</td>\n",
       "      <td>32.3</td>\n",
       "      <td>1.0</td>\n",
       "      <td>24.666201</td>\n",
       "      <td>7.20069</td>\n",
       "      <td>41.0</td>\n",
       "      <td>7.0</td>\n",
       "      <td>20.0</td>\n",
       "      <td>82.0</td>\n",
       "      <td>33.0</td>\n",
       "      <td>...</td>\n",
       "      <td>0.0</td>\n",
       "      <td>6.0</td>\n",
       "      <td>2.0</td>\n",
       "      <td>0.0</td>\n",
       "      <td>4.0</td>\n",
       "      <td>0.0</td>\n",
       "      <td>3.0</td>\n",
       "      <td>0.0</td>\n",
       "      <td>0.0</td>\n",
       "      <td>3.0</td>\n",
       "    </tr>\n",
       "  </tbody>\n",
       "</table>\n",
       "<p>5 rows × 29 columns</p>\n",
       "</div>"
      ],
      "text/plain": [
       "   MinTemp  MaxTemp  Rainfall  Evaporation  Sunshine  WindGustSpeed  \\\n",
       "0     13.4     22.9       0.6    24.666201   7.20069           44.0   \n",
       "1      7.4     25.1       0.0    24.666201   7.20069           44.0   \n",
       "2     12.9     25.7       0.0    24.666201   7.20069           46.0   \n",
       "3      9.2     28.0       0.0    24.666201   7.20069           24.0   \n",
       "4     17.5     32.3       1.0    24.666201   7.20069           41.0   \n",
       "\n",
       "   WindSpeed9am  WindSpeed3pm  Humidity9am  Humidity3pm  ...  WindGustDir_E  \\\n",
       "0          20.0          24.0         71.0         22.0  ...            0.0   \n",
       "1           4.0          22.0         44.0         25.0  ...            0.0   \n",
       "2          19.0          26.0         38.0         30.0  ...            0.0   \n",
       "3          11.0           9.0         45.0         16.0  ...            3.0   \n",
       "4           7.0          20.0         82.0         33.0  ...            0.0   \n",
       "\n",
       "   WindGustDir_W  WindDir9am_N  WindDir9am_S  WindDir9am_E  WindDir9am_W  \\\n",
       "0            6.0           0.0           0.0           0.0           6.0   \n",
       "1            4.0           4.0           0.0           0.0           2.0   \n",
       "2            4.0           0.0           0.0           0.0           6.0   \n",
       "3            0.0           0.0           3.0           3.0           0.0   \n",
       "4            6.0           2.0           0.0           4.0           0.0   \n",
       "\n",
       "   WindDir3pm_N  WindDir3pm_S  WindDir3pm_E  WindDir3pm_W  \n",
       "0           2.0           0.0           0.0           4.0  \n",
       "1           0.0           2.0           0.0           4.0  \n",
       "2           0.0           2.0           0.0           4.0  \n",
       "3           0.0           0.0           6.0           0.0  \n",
       "4           3.0           0.0           0.0           3.0  \n",
       "\n",
       "[5 rows x 29 columns]"
      ]
     },
     "execution_count": 3,
     "metadata": {},
     "output_type": "execute_result"
    }
   ],
   "source": [
    "rain_x.head()"
   ]
  },
  {
   "cell_type": "code",
   "execution_count": 4,
   "id": "4d8dd1a1",
   "metadata": {},
   "outputs": [
    {
     "data": {
      "text/plain": [
       "1.0"
      ]
     },
     "execution_count": 4,
     "metadata": {},
     "output_type": "execute_result"
    }
   ],
   "source": [
    "rain_y.max()"
   ]
  },
  {
   "cell_type": "code",
   "execution_count": 5,
   "id": "22dae3f2",
   "metadata": {},
   "outputs": [],
   "source": [
    "import subset_pca\n",
    "%aimport subset_pca"
   ]
  },
  {
   "cell_type": "code",
   "execution_count": 6,
   "id": "10da62e8",
   "metadata": {},
   "outputs": [],
   "source": [
    "spca = subset_pca.SubsetPCA(type='dim', value=10)"
   ]
  },
  {
   "cell_type": "code",
   "execution_count": 13,
   "id": "c19b9316",
   "metadata": {},
   "outputs": [
    {
     "data": {
      "text/plain": [
       "([{'Cloud3pm', 'Cloud9am', 'Sunshine'},\n",
       "  {'RainToday', 'Rainfall'},\n",
       "  {'WindDir3pm_N', 'WindDir3pm_S', 'WindGustDir_N', 'WindGustDir_S'},\n",
       "  {'WindDir9am_N', 'WindDir9am_S'},\n",
       "  {'WindDir3pm_E', 'WindDir3pm_W', 'WindGustDir_E', 'WindGustDir_W'},\n",
       "  {'Humidity3pm', 'Humidity9am', 'MaxTemp', 'MinTemp', 'Temp3pm', 'Temp9am'},\n",
       "  {'Pressure3pm', 'Pressure9am'},\n",
       "  {'Evaporation'},\n",
       "  {'WindGustSpeed', 'WindSpeed3pm', 'WindSpeed9am'},\n",
       "  {'WindDir9am_E', 'WindDir9am_W'}],\n",
       " [PCA(n_components=1),\n",
       "  PCA(n_components=1),\n",
       "  PCA(n_components=1),\n",
       "  PCA(n_components=1),\n",
       "  PCA(n_components=1),\n",
       "  PCA(n_components=1),\n",
       "  PCA(n_components=1),\n",
       "  PCA(n_components=1),\n",
       "  PCA(n_components=1),\n",
       "  PCA(n_components=1)])"
      ]
     },
     "execution_count": 13,
     "metadata": {},
     "output_type": "execute_result"
    }
   ],
   "source": [
    "spca.fit(rain_x_tr)"
   ]
  },
  {
   "cell_type": "code",
   "execution_count": 14,
   "id": "fdd53211",
   "metadata": {},
   "outputs": [],
   "source": [
    "small_x_tr = spca.transform(rain_x_tr)\n",
    "small_x_te = spca.transform(rain_x_te)"
   ]
  },
  {
   "cell_type": "code",
   "execution_count": 15,
   "id": "cd93514f",
   "metadata": {},
   "outputs": [],
   "source": [
    "from sklearn.linear_model import LogisticRegression as lr\n",
    "from sklearn.metrics import confusion_matrix as cm"
   ]
  },
  {
   "cell_type": "code",
   "execution_count": 16,
   "id": "97111d1d",
   "metadata": {},
   "outputs": [
    {
     "name": "stdout",
     "output_type": "stream",
     "text": [
      "0.8370145332129074 0.8329091058379178\n",
      "[0.86009432 0.13990568] [0.30179986 0.69820014]\n",
      "[0.85433637 0.14566363] [0.29529817 0.70470183]\n",
      "Coefficients: [[-0.15840892  0.01812983  0.02211982 -0.0565405   0.02065933 -0.04202249\n",
      "   0.05325748 -0.00254673  0.02825835 -0.02030053]]\n"
     ]
    }
   ],
   "source": [
    "clf = lr(penalty='l2').fit(small_x_tr, rain_y_tr)\n",
    "print(clf.score(small_x_tr, rain_y_tr), clf.score(small_x_te, rain_y_te))\n",
    "tr_cm = cm(clf.predict(small_x_tr), rain_y_tr)\n",
    "te_cm = cm(clf.predict(small_x_te), rain_y_te)\n",
    "print(tr_cm[0] / sum(tr_cm[0]), tr_cm[1] / sum(tr_cm[1]))\n",
    "print(te_cm[0] / sum(te_cm[0]), te_cm[1] / sum(te_cm[1]))\n",
    "# print(cm(clf.predict(small_x_tr), rain_y_tr), '\\n', cm(clf.predict(small_x_te), rain_y_te))\n",
    "\n",
    "print('Coefficients:', clf.coef_)"
   ]
  },
  {
   "cell_type": "code",
   "execution_count": 17,
   "id": "7ebf1d6f",
   "metadata": {},
   "outputs": [
    {
     "name": "stdout",
     "output_type": "stream",
     "text": [
      "0.8472678380819443 0.8423105345266442\n",
      "[0.86965298 0.13034702] [0.27872644 0.72127356]\n",
      "[0.86328673 0.13671327] [0.27529156 0.72470844]\n"
     ]
    },
    {
     "name": "stderr",
     "output_type": "stream",
     "text": [
      "C:\\ProgramData\\Anaconda3\\envs\\env_3_6\\lib\\site-packages\\sklearn\\linear_model\\_logistic.py:765: ConvergenceWarning: lbfgs failed to converge (status=1):\n",
      "STOP: TOTAL NO. of ITERATIONS REACHED LIMIT.\n",
      "\n",
      "Increase the number of iterations (max_iter) or scale the data as shown in:\n",
      "    https://scikit-learn.org/stable/modules/preprocessing.html\n",
      "Please also refer to the documentation for alternative solver options:\n",
      "    https://scikit-learn.org/stable/modules/linear_model.html#logistic-regression\n",
      "  extra_warning_msg=_LOGISTIC_SOLVER_CONVERGENCE_MSG)\n"
     ]
    }
   ],
   "source": [
    "clf_big = lr(penalty='l2').fit(rain_x_tr, rain_y_tr)\n",
    "print(clf_big.score(rain_x_tr, rain_y_tr), clf_big.score(rain_x_te, rain_y_te))\n",
    "tr_cm = cm(clf_big.predict(rain_x_tr), rain_y_tr)\n",
    "te_cm = cm(clf_big.predict(rain_x_te), rain_y_te)\n",
    "print(tr_cm[0] / sum(tr_cm[0]), tr_cm[1] / sum(tr_cm[1]))\n",
    "print(te_cm[0] / sum(te_cm[0]), te_cm[1] / sum(te_cm[1]))"
   ]
  },
  {
   "cell_type": "code",
   "execution_count": null,
   "id": "00779f68",
   "metadata": {},
   "outputs": [],
   "source": []
  }
 ],
 "metadata": {
  "kernelspec": {
   "display_name": "Python 3",
   "language": "python",
   "name": "python3"
  },
  "language_info": {
   "codemirror_mode": {
    "name": "ipython",
    "version": 3
   },
   "file_extension": ".py",
   "mimetype": "text/x-python",
   "name": "python",
   "nbconvert_exporter": "python",
   "pygments_lexer": "ipython3",
   "version": "3.6.10"
  }
 },
 "nbformat": 4,
 "nbformat_minor": 5
}
