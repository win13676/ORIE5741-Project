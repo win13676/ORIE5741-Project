{
 "cells": [
  {
   "cell_type": "code",
   "execution_count": 1,
   "id": "b101c7e9",
   "metadata": {},
   "outputs": [],
   "source": [
    "import numpy as np\n",
    "import pandas as pd\n",
    "import math\n",
    "import sys\n",
    "\n",
    "import matplotlib.pyplot as plt \n",
    "%matplotlib inline\n",
    "\n",
    "import random as rand\n",
    "from collections import defaultdict\n",
    "\n",
    "from sklearn.ensemble import RandomForestClassifier\n",
    "from sklearn.feature_extraction import DictVectorizer, FeatureHasher\n",
    "from sklearn.linear_model import RidgeClassifier\n",
    "from sklearn.manifold import Isomap \n",
    "from sklearn.manifold import MDS\n",
    "from sklearn.manifold import TSNE \n",
    "from sklearn.metrics import accuracy_score\n",
    "from sklearn.metrics import confusion_matrix\n",
    "from sklearn.metrics import f1_score\n",
    "from sklearn.model_selection import cross_val_score\n",
    "\n",
    "from sklearn import manifold \n",
    "\n",
    "from time import time\n",
    "\n",
    "from umap import UMAP"
   ]
  },
  {
   "cell_type": "code",
   "execution_count": 2,
   "id": "dda66081",
   "metadata": {},
   "outputs": [],
   "source": [
    "adult_test_df = pd.read_csv('datasets/benchmark/adult_clean_test.csv')\n",
    "adult_train_df = pd.read_csv('datasets/benchmark/adult_clean_train.csv')\n",
    "titanic_test_df = pd.read_csv('datasets/benchmark/titanic_clean_test.csv')\n",
    "titanic_train_df = pd.read_csv('datasets/benchmark/titanic_clean_train.csv')\n",
    "weather_test_df = pd.read_csv('datasets/benchmark/weatherAUS_clean_test.csv')\n",
    "weather_train_df = pd.read_csv('datasets/benchmark/weatherAUS_clean_train.csv')\n",
    "wine_test_df = pd.read_csv('datasets/benchmark/wine_test.csv')\n",
    "wine_train_df = pd.read_csv('datasets/benchmark/wine_train.csv')"
   ]
  },
  {
   "cell_type": "code",
   "execution_count": 3,
   "id": "8dc3408b",
   "metadata": {},
   "outputs": [],
   "source": [
    "def extract_X_y(df, col_y):\n",
    "    X = df.drop(col_y, axis=1)\n",
    "    y = df[col_y]\n",
    "    return X, y"
   ]
  },
  {
   "cell_type": "code",
   "execution_count": 4,
   "id": "f28a360f",
   "metadata": {},
   "outputs": [],
   "source": [
    "adult_test_X, adult_test_y = extract_X_y(adult_test_df, 'income_>50k')\n",
    "adult_train_X, adult_train_y = extract_X_y(adult_train_df, 'income_>50k')\n",
    "\n",
    "titanic_test_X, titanic_test_y = extract_X_y(titanic_test_df, 'Survived')\n",
    "titanic_train_X, titanic_train_y = extract_X_y(titanic_train_df, 'Survived')\n",
    "\n",
    "weather_test_X, weather_test_y = extract_X_y(weather_test_df, 'RainTomorrow')\n",
    "weather_train_X, weather_train_y = extract_X_y(weather_train_df, 'RainTomorrow')\n",
    "\n",
    "wine_test_X, wine_test_y = extract_X_y(wine_test_df, 'quality')\n",
    "wine_train_X, wine_train_y = extract_X_y(wine_train_df, 'quality')"
   ]
  },
  {
   "cell_type": "code",
   "execution_count": 16,
   "id": "bba80a9b",
   "metadata": {},
   "outputs": [],
   "source": [
    "adult_test_iso_X = Isomap(n_neighbors=10, n_jobs=-1).fit_transform(adult_test_X.values) # n_components=2"
   ]
  },
  {
   "cell_type": "code",
   "execution_count": 15,
   "id": "1f22688c",
   "metadata": {},
   "outputs": [
    {
     "data": {
      "text/plain": [
       "(9769, 2)"
      ]
     },
     "execution_count": 15,
     "metadata": {},
     "output_type": "execute_result"
    }
   ],
   "source": [
    "adult_test_iso_X.shape"
   ]
  },
  {
   "cell_type": "code",
   "execution_count": 19,
   "id": "a7b0ad24",
   "metadata": {},
   "outputs": [
    {
     "name": "stderr",
     "output_type": "stream",
     "text": [
      "C:\\Users\\win_1\\anaconda3\\lib\\site-packages\\sklearn\\manifold\\_t_sne.py:780: FutureWarning: The default initialization in TSNE will change from 'random' to 'pca' in 1.2.\n",
      "  warnings.warn(\n",
      "C:\\Users\\win_1\\anaconda3\\lib\\site-packages\\sklearn\\manifold\\_t_sne.py:790: FutureWarning: The default learning rate in TSNE will change from 200.0 to 'auto' in 1.2.\n",
      "  warnings.warn(\n"
     ]
    }
   ],
   "source": [
    "adult_test_tsne_X = TSNE().fit_transform(adult_test_X.values) # n_components=2"
   ]
  },
  {
   "cell_type": "code",
   "execution_count": 21,
   "id": "9a32b712",
   "metadata": {},
   "outputs": [
    {
     "data": {
      "text/plain": [
       "(9769, 2)"
      ]
     },
     "execution_count": 21,
     "metadata": {},
     "output_type": "execute_result"
    }
   ],
   "source": [
    "adult_test_tsne_X.shape "
   ]
  },
  {
   "cell_type": "code",
   "execution_count": 20,
   "id": "5cb77b6b",
   "metadata": {},
   "outputs": [],
   "source": [
    "adult_test_umap_X = UMAP().fit_transform(adult_test_X.values) #n_components=2"
   ]
  },
  {
   "cell_type": "code",
   "execution_count": 22,
   "id": "045aba6a",
   "metadata": {},
   "outputs": [
    {
     "data": {
      "text/plain": [
       "(9769, 2)"
      ]
     },
     "execution_count": 22,
     "metadata": {},
     "output_type": "execute_result"
    }
   ],
   "source": [
    "adult_test_umap_X.shape"
   ]
  },
  {
   "cell_type": "code",
   "execution_count": 24,
   "id": "117b3968",
   "metadata": {},
   "outputs": [],
   "source": [
    "adult_test_mds_X = MDS().fit_transform(adult_test_X.values) # n_components=2, "
   ]
  },
  {
   "cell_type": "code",
   "execution_count": 25,
   "id": "729bdf3f",
   "metadata": {},
   "outputs": [
    {
     "data": {
      "text/plain": [
       "(9769, 2)"
      ]
     },
     "execution_count": 25,
     "metadata": {},
     "output_type": "execute_result"
    }
   ],
   "source": [
    "adult_test_mds_X.shape"
   ]
  },
  {
   "cell_type": "code",
   "execution_count": 5,
   "id": "6a760de3",
   "metadata": {},
   "outputs": [],
   "source": [
    "def compute_score(model, test_X, test_y):\n",
    "    pred = model.predict(test_X)\n",
    "    acc = accuracy_score(pred, test_y)\n",
    "    f1 = f1_score(pred, test_y)\n",
    "    conf = confusion_matrix(pred, test_y)\n",
    "\n",
    "    return acc, f1, conf"
   ]
  },
  {
   "cell_type": "code",
   "execution_count": 6,
   "id": "02ce84d1",
   "metadata": {},
   "outputs": [],
   "source": [
    "def fit_compute_score(model, train_X, train_y, test_X, test_y):\n",
    "    t0 = time()\n",
    "    model.fit(train_X, train_y)\n",
    "    duration = time() - t0\n",
    "    train_acc, train_f1, train_conf = compute_score(model, train_X, train_y)\n",
    "    test_acc, test_f1, test_conf = compute_score(model, test_X, test_y)\n",
    "    print(\"duration\", duration)\n",
    "    print(\"train accuracy\", train_acc)\n",
    "    print(\"train f1\", train_f1)\n",
    "    print(\"train tn, fp, fn, tp\", train_conf.ravel()) \n",
    "    print(\"test accuracy\", test_acc)\n",
    "    print(\"test f1\", test_f1)\n",
    "    print(\"test tn, fp, fn, tp\", test_conf.ravel())\n",
    "    print()\n",
    "    \n",
    "    return train_acc, train_f1, train_conf, test_acc, test_f1, test_conf"
   ]
  },
  {
   "cell_type": "code",
   "execution_count": 7,
   "id": "d19fefd7",
   "metadata": {},
   "outputs": [],
   "source": [
    "def evaluate_reduction(model_factory, model_name, train_X, train_y, test_X, test_y):\n",
    "    clf_ridge_default = RidgeClassifier()\n",
    "    print('ridge_default')\n",
    "    ridge_default_train_acc, ridge_default_train_f1, ridge_default_train_conf, \\\n",
    "        ridge_default_test_acc, ridge_default_test_f1, ridge_default_test_conf = \\\n",
    "        fit_compute_score(clf_ridge_default, train_X, train_y, test_X, test_y)\n",
    "\n",
    "    n_estimators = 1000\n",
    "    clf_randfor_default = RandomForestClassifier(n_jobs=-1, n_estimators=n_estimators)\n",
    "    print('randfor_default')\n",
    "    randfor_default_train_acc, randfor_default_train_f1, randfor_default_train_conf, \\\n",
    "        randfor_default_test_acc, randfor_default_test_f1, randfor_default_test_conf = \\\n",
    "        fit_compute_score(clf_randfor_default, train_X, train_y, test_X, test_y)\n",
    "\n",
    "    ridge_train_acc = []\n",
    "    ridge_train_f1 = []\n",
    "    ridge_train_conf = []\n",
    "    ridge_test_acc = []\n",
    "    ridge_test_f1 = []\n",
    "    ridge_test_conf = []\n",
    "    \n",
    "    randfor_train_acc = []\n",
    "    randfor_train_f1 = []\n",
    "    randfor_train_conf = []\n",
    "    randfor_test_acc = []\n",
    "    randfor_test_f1 = []\n",
    "    randfor_test_conf = []\n",
    "\n",
    "    for i in range(2, 11, 2):\n",
    "        percent = 0.1*i\n",
    "        n_features = math.ceil(train_X.shape[1]*percent)\n",
    "\n",
    "        t0 = time()\n",
    "        reduction_model = model_factory(n_features)\n",
    "        train_X_reduced = reduction_model.fit_transform(train_X)\n",
    "        test_X_reduced  = reduction_model.fit_transform(test_X)\n",
    "        duration = time() - t0\n",
    "        print(\"transform duration\", duration, \"reduce percent\", percent, \"n_features\", n_features)\n",
    "        print()\n",
    "\n",
    "        clf_ridge_hash = RidgeClassifier()\n",
    "        ridge_name = 'ridge_' + model_name\n",
    "        print(ridge_name)\n",
    "        ridge_hash_train_acc, ridge_hash_train_f1, ridge_hash_train_conf, \\\n",
    "            ridge_hash_test_acc, ridge_hash_test_f1, ridge_hash_test_conf = \\\n",
    "            fit_compute_score(clf_ridge_hash, train_X_reduced, train_y, test_X_reduced, test_y)\n",
    "        ridge_train_acc.append(ridge_hash_train_acc)\n",
    "        ridge_train_f1.append(ridge_hash_train_f1)\n",
    "        ridge_train_conf.append(ridge_hash_train_conf)\n",
    "        ridge_test_acc.append(ridge_hash_test_acc)\n",
    "        ridge_test_f1.append(ridge_hash_test_f1)\n",
    "        ridge_test_conf.append(ridge_hash_test_conf)\n",
    "\n",
    "        clf_randfor_hash = RandomForestClassifier(n_jobs=-1, n_estimators=n_estimators)\n",
    "        randfor_name = 'randfor_' + model_name\n",
    "        print(randfor_name)\n",
    "        randfor_hash_train_acc, randfor_hash_train_f1, randfor_hash_train_conf, \\\n",
    "            randfor_hash_test_acc, randfor_hash_test_f1, randfor_hash_test_conf = \\\n",
    "            fit_compute_score(clf_randfor_hash, train_X_reduced, train_y, test_X_reduced, test_y)\n",
    "        randfor_train_acc.append(randfor_hash_train_acc)\n",
    "        randfor_train_f1.append(randfor_hash_train_f1)\n",
    "        randfor_train_conf.append(randfor_hash_train_conf)\n",
    "        randfor_test_acc.append(randfor_hash_test_acc)\n",
    "        randfor_test_f1.append(randfor_hash_test_f1)\n",
    "        randfor_test_conf.append(randfor_hash_test_conf)\n",
    "    \n",
    "    t = np.arange(2, 11, 2)\n",
    "\n",
    "    fig, ax = plt.subplots(2, 2, figsize=(15,10), tight_layout=True)\n",
    "    \n",
    "    ax[0,0].plot(t, ridge_default_train_acc*np.ones(5), label='ridge_default')\n",
    "    ax[0,0].plot(t, randfor_default_train_acc*np.ones(5), label='randfor_default')\n",
    "    ax[0,0].plot(t, ridge_train_acc, label=ridge_name)\n",
    "    ax[0,0].plot(t, randfor_train_acc, label=randfor_name)\n",
    "    ax[0,0].set(xlabel='reduce %', ylabel='accuracy', title='train')\n",
    "    ax[0,0].legend()\n",
    "\n",
    "    ax[0,1].plot(t, ridge_default_test_acc*np.ones(5), label='ridge_default')\n",
    "    ax[0,1].plot(t, randfor_default_test_acc*np.ones(5), label='randfor_default')\n",
    "    ax[0,1].plot(t, ridge_test_acc, label=ridge_name)\n",
    "    ax[0,1].plot(t, randfor_test_acc, label=randfor_name)\n",
    "    ax[0,1].set(xlabel='reduce %', ylabel='accuracy', title='test')\n",
    "    ax[0,1].legend()\n",
    "    \n",
    "    ax[1,0].plot(t, ridge_default_train_f1*np.ones(5), label='ridge_default')\n",
    "    ax[1,0].plot(t, randfor_default_train_f1*np.ones(5), label='randfor_default')\n",
    "    ax[1,0].plot(t, ridge_train_f1, label=ridge_name)\n",
    "    ax[1,0].plot(t, randfor_train_f1, label=randfor_name)\n",
    "    ax[1,0].set(xlabel='reduce %', ylabel='f1', title='train')\n",
    "    ax[1,0].legend()\n",
    "    \n",
    "    ax[1,1].plot(t, ridge_default_test_f1*np.ones(5), label='ridge_default')\n",
    "    ax[1,1].plot(t, randfor_default_test_f1*np.ones(5), label='randfor_default')\n",
    "    ax[1,1].plot(t, ridge_test_f1, label=ridge_name)\n",
    "    ax[1,1].plot(t, randfor_test_f1, label=randfor_name)\n",
    "    ax[1,1].set(xlabel='reduce %', ylabel='f1', title='test')\n",
    "    ax[1,1].legend()\n",
    "\n",
    "    plt.show()"
   ]
  },
  {
   "cell_type": "code",
   "execution_count": null,
   "id": "9c5d0f7f",
   "metadata": {},
   "outputs": [
    {
     "name": "stdout",
     "output_type": "stream",
     "text": [
      "ridge_default\n",
      "duration 0.09359264373779297\n",
      "train accuracy 0.8433445089959819\n",
      "train f1 0.6108462076419353\n",
      "train tn, fp, fn, tp [28148  4476  1645  4804]\n",
      "test accuracy 0.8356024158050978\n",
      "test f1 0.6044334975369458\n",
      "test tn, fp, fn, tp [6936 1180  426 1227]\n",
      "\n",
      "randfor_default\n",
      "duration 14.188953399658203\n",
      "train accuracy 0.9999488137588616\n",
      "train f1 0.9998922413793103\n",
      "train tn, fp, fn, tp [29792     1     1  9279]\n",
      "test accuracy 0.8556658818712253\n",
      "test f1 0.678669097538742\n",
      "test tn, fp, fn, tp [6870  918  492 1489]\n",
      "\n"
     ]
    },
    {
     "name": "stderr",
     "output_type": "stream",
     "text": [
      "C:\\Users\\win_1\\anaconda3\\lib\\site-packages\\sklearn\\manifold\\_isomap.py:322: UserWarning: The number of connected components of the neighbors graph is 6 > 1. Completing the graph to fit Isomap might be slow. Increase the number of neighbors to avoid this issue.\n",
      "  self._fit_transform(X)\n",
      "C:\\Users\\win_1\\anaconda3\\lib\\site-packages\\scipy\\sparse\\_index.py:82: SparseEfficiencyWarning: Changing the sparsity structure of a csr_matrix is expensive. lil_matrix is more efficient.\n",
      "  self._set_intXint(row, col, x.flat[0])\n",
      "C:\\Users\\win_1\\anaconda3\\lib\\site-packages\\scipy\\sparse\\_index.py:82: SparseEfficiencyWarning: Changing the sparsity structure of a csr_matrix is expensive. lil_matrix is more efficient.\n",
      "  self._set_intXint(row, col, x.flat[0])\n",
      "C:\\Users\\win_1\\anaconda3\\lib\\site-packages\\scipy\\sparse\\_index.py:82: SparseEfficiencyWarning: Changing the sparsity structure of a csr_matrix is expensive. lil_matrix is more efficient.\n",
      "  self._set_intXint(row, col, x.flat[0])\n",
      "C:\\Users\\win_1\\anaconda3\\lib\\site-packages\\scipy\\sparse\\_index.py:82: SparseEfficiencyWarning: Changing the sparsity structure of a csr_matrix is expensive. lil_matrix is more efficient.\n",
      "  self._set_intXint(row, col, x.flat[0])\n",
      "C:\\Users\\win_1\\anaconda3\\lib\\site-packages\\scipy\\sparse\\_index.py:82: SparseEfficiencyWarning: Changing the sparsity structure of a csr_matrix is expensive. lil_matrix is more efficient.\n",
      "  self._set_intXint(row, col, x.flat[0])\n",
      "C:\\Users\\win_1\\anaconda3\\lib\\site-packages\\scipy\\sparse\\_index.py:82: SparseEfficiencyWarning: Changing the sparsity structure of a csr_matrix is expensive. lil_matrix is more efficient.\n",
      "  self._set_intXint(row, col, x.flat[0])\n",
      "C:\\Users\\win_1\\anaconda3\\lib\\site-packages\\scipy\\sparse\\_index.py:82: SparseEfficiencyWarning: Changing the sparsity structure of a csr_matrix is expensive. lil_matrix is more efficient.\n",
      "  self._set_intXint(row, col, x.flat[0])\n",
      "C:\\Users\\win_1\\anaconda3\\lib\\site-packages\\scipy\\sparse\\_index.py:82: SparseEfficiencyWarning: Changing the sparsity structure of a csr_matrix is expensive. lil_matrix is more efficient.\n",
      "  self._set_intXint(row, col, x.flat[0])\n",
      "C:\\Users\\win_1\\anaconda3\\lib\\site-packages\\scipy\\sparse\\_index.py:82: SparseEfficiencyWarning: Changing the sparsity structure of a csr_matrix is expensive. lil_matrix is more efficient.\n",
      "  self._set_intXint(row, col, x.flat[0])\n",
      "C:\\Users\\win_1\\anaconda3\\lib\\site-packages\\scipy\\sparse\\_index.py:82: SparseEfficiencyWarning: Changing the sparsity structure of a csr_matrix is expensive. lil_matrix is more efficient.\n",
      "  self._set_intXint(row, col, x.flat[0])\n",
      "C:\\Users\\win_1\\anaconda3\\lib\\site-packages\\scipy\\sparse\\_index.py:82: SparseEfficiencyWarning: Changing the sparsity structure of a csr_matrix is expensive. lil_matrix is more efficient.\n",
      "  self._set_intXint(row, col, x.flat[0])\n",
      "C:\\Users\\win_1\\anaconda3\\lib\\site-packages\\scipy\\sparse\\_index.py:82: SparseEfficiencyWarning: Changing the sparsity structure of a csr_matrix is expensive. lil_matrix is more efficient.\n",
      "  self._set_intXint(row, col, x.flat[0])\n",
      "C:\\Users\\win_1\\anaconda3\\lib\\site-packages\\scipy\\sparse\\_index.py:82: SparseEfficiencyWarning: Changing the sparsity structure of a csr_matrix is expensive. lil_matrix is more efficient.\n",
      "  self._set_intXint(row, col, x.flat[0])\n",
      "C:\\Users\\win_1\\anaconda3\\lib\\site-packages\\scipy\\sparse\\_index.py:82: SparseEfficiencyWarning: Changing the sparsity structure of a csr_matrix is expensive. lil_matrix is more efficient.\n",
      "  self._set_intXint(row, col, x.flat[0])\n",
      "C:\\Users\\win_1\\anaconda3\\lib\\site-packages\\scipy\\sparse\\_index.py:82: SparseEfficiencyWarning: Changing the sparsity structure of a csr_matrix is expensive. lil_matrix is more efficient.\n",
      "  self._set_intXint(row, col, x.flat[0])\n"
     ]
    }
   ],
   "source": [
    "# n_neighbors = 10 because warning\n",
    "evaluate_reduction(lambda n: Isomap(n_neighbors=10, n_jobs=-1, n_components=n), \"iso\", adult_train_X, adult_train_y, adult_test_X, adult_test_y)"
   ]
  },
  {
   "cell_type": "code",
   "execution_count": null,
   "id": "23a321c2",
   "metadata": {},
   "outputs": [],
   "source": []
  }
 ],
 "metadata": {
  "kernelspec": {
   "display_name": "Python 3 (ipykernel)",
   "language": "python",
   "name": "python3"
  },
  "language_info": {
   "codemirror_mode": {
    "name": "ipython",
    "version": 3
   },
   "file_extension": ".py",
   "mimetype": "text/x-python",
   "name": "python",
   "nbconvert_exporter": "python",
   "pygments_lexer": "ipython3",
   "version": "3.8.8"
  }
 },
 "nbformat": 4,
 "nbformat_minor": 5
}
