{
 "cells": [
  {
   "cell_type": "code",
   "execution_count": 1,
   "id": "b101c7e9",
   "metadata": {},
   "outputs": [],
   "source": [
    "import numpy as np\n",
    "import pandas as pd\n",
    "import math\n",
    "import sys\n",
    "\n",
    "import matplotlib.pyplot as plt \n",
    "%matplotlib inline\n",
    "\n",
    "import random as rand\n",
    "from collections import defaultdict\n",
    "\n",
    "from sklearn.ensemble import RandomForestClassifier\n",
    "from sklearn.feature_extraction import DictVectorizer, FeatureHasher\n",
    "from sklearn.linear_model import RidgeClassifier\n",
    "from sklearn.manifold import Isomap \n",
    "from sklearn.manifold import MDS\n",
    "from sklearn.manifold import TSNE \n",
    "from sklearn.metrics import accuracy_score\n",
    "from sklearn.metrics import confusion_matrix\n",
    "from sklearn.metrics import f1_score\n",
    "from sklearn.model_selection import cross_val_score\n",
    "\n",
    "from sklearn import manifold \n",
    "\n",
    "from time import time\n",
    "\n",
    "from umap import UMAP"
   ]
  },
  {
   "cell_type": "code",
   "execution_count": 2,
   "id": "dda66081",
   "metadata": {},
   "outputs": [],
   "source": [
    "adult_test_df = pd.read_csv('datasets/benchmark/adult_clean_test.csv')\n",
    "adult_train_df = pd.read_csv('datasets/benchmark/adult_clean_train.csv')\n",
    "titanic_test_df = pd.read_csv('datasets/benchmark/titanic_clean_test.csv')\n",
    "titanic_train_df = pd.read_csv('datasets/benchmark/titanic_clean_train.csv')\n",
    "weather_test_df = pd.read_csv('datasets/benchmark/weatherAUS_clean_test.csv')\n",
    "weather_train_df = pd.read_csv('datasets/benchmark/weatherAUS_clean_train.csv')\n",
    "wine_test_df = pd.read_csv('datasets/benchmark/wine_test.csv')\n",
    "wine_train_df = pd.read_csv('datasets/benchmark/wine_train.csv')"
   ]
  },
  {
   "cell_type": "code",
   "execution_count": 3,
   "id": "8dc3408b",
   "metadata": {},
   "outputs": [],
   "source": [
    "def extract_X_y(df, col_y):\n",
    "    X = df.drop(col_y, axis=1)\n",
    "    y = df[col_y]\n",
    "    return X, y"
   ]
  },
  {
   "cell_type": "code",
   "execution_count": 4,
   "id": "f28a360f",
   "metadata": {},
   "outputs": [],
   "source": [
    "adult_test_X, adult_test_y = extract_X_y(adult_test_df, 'income_>50k')\n",
    "adult_train_X, adult_train_y = extract_X_y(adult_train_df, 'income_>50k')\n",
    "\n",
    "titanic_test_X, titanic_test_y = extract_X_y(titanic_test_df, 'Survived')\n",
    "titanic_train_X, titanic_train_y = extract_X_y(titanic_train_df, 'Survived')\n",
    "\n",
    "weather_test_X, weather_test_y = extract_X_y(weather_test_df, 'RainTomorrow')\n",
    "weather_train_X, weather_train_y = extract_X_y(weather_train_df, 'RainTomorrow')\n",
    "\n",
    "wine_test_X, wine_test_y = extract_X_y(wine_test_df, 'quality')\n",
    "wine_train_X, wine_train_y = extract_X_y(wine_train_df, 'quality')"
   ]
  },
  {
   "cell_type": "code",
   "execution_count": 5,
   "id": "49c8ea68",
   "metadata": {},
   "outputs": [
    {
     "name": "stdout",
     "output_type": "stream",
     "text": [
      "(9769, 92)\n",
      "(39073, 92)\n"
     ]
    }
   ],
   "source": [
    "print(adult_test_X.shape)\n",
    "print(adult_train_X.shape)"
   ]
  },
  {
   "cell_type": "code",
   "execution_count": 6,
   "id": "3588399e",
   "metadata": {},
   "outputs": [
    {
     "name": "stdout",
     "output_type": "stream",
     "text": [
      "(262, 20)\n",
      "(1047, 20)\n"
     ]
    }
   ],
   "source": [
    "print(titanic_test_X.shape)\n",
    "print(titanic_train_X.shape)"
   ]
  },
  {
   "cell_type": "code",
   "execution_count": 7,
   "id": "4c95c9d3",
   "metadata": {},
   "outputs": [
    {
     "name": "stdout",
     "output_type": "stream",
     "text": [
      "(24358, 29)\n",
      "(97432, 29)\n"
     ]
    }
   ],
   "source": [
    "print(weather_test_X.shape)\n",
    "print(weather_train_X.shape)"
   ]
  },
  {
   "cell_type": "code",
   "execution_count": 8,
   "id": "9077d4c7",
   "metadata": {},
   "outputs": [
    {
     "name": "stdout",
     "output_type": "stream",
     "text": [
      "(320, 11)\n",
      "(1279, 11)\n"
     ]
    }
   ],
   "source": [
    "print(wine_test_X.shape)\n",
    "print(wine_train_X.shape)"
   ]
  },
  {
   "cell_type": "code",
   "execution_count": 9,
   "id": "bba80a9b",
   "metadata": {},
   "outputs": [],
   "source": [
    "# adult_test_iso_X = Isomap(n_neighbors=10, n_jobs=-1).fit_transform(adult_test_X.values) # n_components=2"
   ]
  },
  {
   "cell_type": "code",
   "execution_count": 10,
   "id": "a7b0ad24",
   "metadata": {
    "scrolled": true
   },
   "outputs": [],
   "source": [
    "# adult_test_tsne_X = TSNE().fit_transform(adult_test_X.values) # n_components=2"
   ]
  },
  {
   "cell_type": "code",
   "execution_count": 11,
   "id": "5cb77b6b",
   "metadata": {},
   "outputs": [],
   "source": [
    "# adult_test_umap_X = UMAP().fit_transform(adult_test_X.values) #n_components=2"
   ]
  },
  {
   "cell_type": "code",
   "execution_count": 12,
   "id": "117b3968",
   "metadata": {},
   "outputs": [],
   "source": [
    "# adult_test_mds_X = MDS().fit_transform(adult_test_X.values) # n_components=2, "
   ]
  },
  {
   "cell_type": "code",
   "execution_count": 13,
   "id": "6a760de3",
   "metadata": {},
   "outputs": [],
   "source": [
    "def compute_score(model, test_X, test_y):\n",
    "    pred = model.predict(test_X)\n",
    "    acc = accuracy_score(pred, test_y)\n",
    "    f1 = f1_score(pred, test_y)\n",
    "    conf = confusion_matrix(pred, test_y)\n",
    "\n",
    "    return acc, f1, conf"
   ]
  },
  {
   "cell_type": "code",
   "execution_count": 14,
   "id": "02ce84d1",
   "metadata": {},
   "outputs": [],
   "source": [
    "def fit_compute_score(model, train_X, train_y, test_X, test_y):\n",
    "    t0 = time()\n",
    "    model.fit(train_X, train_y)\n",
    "    duration = time() - t0\n",
    "    train_acc, train_f1, train_conf = compute_score(model, train_X, train_y)\n",
    "    test_acc, test_f1, test_conf = compute_score(model, test_X, test_y)\n",
    "    print(\"duration\", duration)\n",
    "    print(\"train accuracy\", train_acc)\n",
    "    print(\"train f1\", train_f1)\n",
    "    print(\"train tn, fp, fn, tp\", train_conf.ravel()) \n",
    "    print(\"test accuracy\", test_acc)\n",
    "    print(\"test f1\", test_f1)\n",
    "    print(\"test tn, fp, fn, tp\", test_conf.ravel())\n",
    "    print()\n",
    "    \n",
    "    return train_acc, train_f1, train_conf, test_acc, test_f1, test_conf"
   ]
  },
  {
   "cell_type": "code",
   "execution_count": 15,
   "id": "d19fefd7",
   "metadata": {},
   "outputs": [],
   "source": [
    "def evaluate_reduction(model_factory, model_name, train_X, train_y, test_X, test_y):\n",
    "    clf_ridge_default = RidgeClassifier()\n",
    "    print('ridge_default')\n",
    "    ridge_default_train_acc, ridge_default_train_f1, ridge_default_train_conf, \\\n",
    "        ridge_default_test_acc, ridge_default_test_f1, ridge_default_test_conf = \\\n",
    "        fit_compute_score(clf_ridge_default, train_X, train_y, test_X, test_y)\n",
    "\n",
    "    n_estimators = 1000\n",
    "    clf_randfor_default = RandomForestClassifier(n_jobs=-1, n_estimators=n_estimators)\n",
    "    print('randfor_default')\n",
    "    randfor_default_train_acc, randfor_default_train_f1, randfor_default_train_conf, \\\n",
    "        randfor_default_test_acc, randfor_default_test_f1, randfor_default_test_conf = \\\n",
    "        fit_compute_score(clf_randfor_default, train_X, train_y, test_X, test_y)\n",
    "\n",
    "    ridge_train_acc = []\n",
    "    ridge_train_f1 = []\n",
    "    ridge_train_conf = []\n",
    "    ridge_test_acc = []\n",
    "    ridge_test_f1 = []\n",
    "    ridge_test_conf = []\n",
    "    \n",
    "    randfor_train_acc = []\n",
    "    randfor_train_f1 = []\n",
    "    randfor_train_conf = []\n",
    "    randfor_test_acc = []\n",
    "    randfor_test_f1 = []\n",
    "    randfor_test_conf = []\n",
    "\n",
    "    for i in range(2, 11, 2):\n",
    "        percent = 0.1*i\n",
    "        n_features = math.ceil(train_X.shape[1]*percent)\n",
    "\n",
    "        t0 = time()\n",
    "        reduction_model = model_factory(n_features)\n",
    "        train_X_reduced = reduction_model.fit_transform(train_X)\n",
    "        test_X_reduced  = reduction_model.fit_transform(test_X)\n",
    "        duration = time() - t0\n",
    "        print(\"transform duration\", duration, \"reduce percent\", percent, \"n_features\", n_features)\n",
    "        print()\n",
    "\n",
    "        clf_ridge_hash = RidgeClassifier()\n",
    "        ridge_name = 'ridge_' + model_name\n",
    "        print(ridge_name)\n",
    "        ridge_hash_train_acc, ridge_hash_train_f1, ridge_hash_train_conf, \\\n",
    "            ridge_hash_test_acc, ridge_hash_test_f1, ridge_hash_test_conf = \\\n",
    "            fit_compute_score(clf_ridge_hash, train_X_reduced, train_y, test_X_reduced, test_y)\n",
    "        ridge_train_acc.append(ridge_hash_train_acc)\n",
    "        ridge_train_f1.append(ridge_hash_train_f1)\n",
    "        ridge_train_conf.append(ridge_hash_train_conf)\n",
    "        ridge_test_acc.append(ridge_hash_test_acc)\n",
    "        ridge_test_f1.append(ridge_hash_test_f1)\n",
    "        ridge_test_conf.append(ridge_hash_test_conf)\n",
    "\n",
    "        clf_randfor_hash = RandomForestClassifier(n_jobs=-1, n_estimators=n_estimators)\n",
    "        randfor_name = 'randfor_' + model_name\n",
    "        print(randfor_name)\n",
    "        randfor_hash_train_acc, randfor_hash_train_f1, randfor_hash_train_conf, \\\n",
    "            randfor_hash_test_acc, randfor_hash_test_f1, randfor_hash_test_conf = \\\n",
    "            fit_compute_score(clf_randfor_hash, train_X_reduced, train_y, test_X_reduced, test_y)\n",
    "        randfor_train_acc.append(randfor_hash_train_acc)\n",
    "        randfor_train_f1.append(randfor_hash_train_f1)\n",
    "        randfor_train_conf.append(randfor_hash_train_conf)\n",
    "        randfor_test_acc.append(randfor_hash_test_acc)\n",
    "        randfor_test_f1.append(randfor_hash_test_f1)\n",
    "        randfor_test_conf.append(randfor_hash_test_conf)\n",
    "    \n",
    "    t = np.arange(2, 11, 2)\n",
    "\n",
    "    fig, ax = plt.subplots(2, 2, figsize=(15,10), tight_layout=True)\n",
    "    \n",
    "    ax[0,0].plot(t, ridge_default_train_acc*np.ones(5), label='ridge_default')\n",
    "    ax[0,0].plot(t, randfor_default_train_acc*np.ones(5), label='randfor_default')\n",
    "    ax[0,0].plot(t, ridge_train_acc, label=ridge_name)\n",
    "    ax[0,0].plot(t, randfor_train_acc, label=randfor_name)\n",
    "    ax[0,0].set(xlabel='reduce %', ylabel='accuracy', title='train')\n",
    "    ax[0,0].legend()\n",
    "\n",
    "    ax[0,1].plot(t, ridge_default_test_acc*np.ones(5), label='ridge_default')\n",
    "    ax[0,1].plot(t, randfor_default_test_acc*np.ones(5), label='randfor_default')\n",
    "    ax[0,1].plot(t, ridge_test_acc, label=ridge_name)\n",
    "    ax[0,1].plot(t, randfor_test_acc, label=randfor_name)\n",
    "    ax[0,1].set(xlabel='reduce %', ylabel='accuracy', title='test')\n",
    "    ax[0,1].legend()\n",
    "    \n",
    "    ax[1,0].plot(t, ridge_default_train_f1*np.ones(5), label='ridge_default')\n",
    "    ax[1,0].plot(t, randfor_default_train_f1*np.ones(5), label='randfor_default')\n",
    "    ax[1,0].plot(t, ridge_train_f1, label=ridge_name)\n",
    "    ax[1,0].plot(t, randfor_train_f1, label=randfor_name)\n",
    "    ax[1,0].set(xlabel='reduce %', ylabel='f1', title='train')\n",
    "    ax[1,0].legend()\n",
    "    \n",
    "    ax[1,1].plot(t, ridge_default_test_f1*np.ones(5), label='ridge_default')\n",
    "    ax[1,1].plot(t, randfor_default_test_f1*np.ones(5), label='randfor_default')\n",
    "    ax[1,1].plot(t, ridge_test_f1, label=ridge_name)\n",
    "    ax[1,1].plot(t, randfor_test_f1, label=randfor_name)\n",
    "    ax[1,1].set(xlabel='reduce %', ylabel='f1', title='test')\n",
    "    ax[1,1].legend()\n",
    "\n",
    "    plt.show()"
   ]
  },
  {
   "cell_type": "code",
   "execution_count": null,
   "id": "5043ee17",
   "metadata": {},
   "outputs": [],
   "source": [
    "# computer die"
   ]
  },
  {
   "cell_type": "code",
   "execution_count": null,
   "id": "9c5d0f7f",
   "metadata": {},
   "outputs": [
    {
     "name": "stdout",
     "output_type": "stream",
     "text": [
      "ridge_default\n",
      "duration 0.16997051239013672\n",
      "train accuracy 0.8433445089959819\n",
      "train f1 0.6108462076419353\n",
      "train tn, fp, fn, tp [28148  4476  1645  4804]\n",
      "test accuracy 0.8356024158050978\n",
      "test f1 0.6044334975369458\n",
      "test tn, fp, fn, tp [6936 1180  426 1227]\n",
      "\n",
      "randfor_default\n",
      "duration 14.219999551773071\n",
      "train accuracy 0.9999488137588616\n",
      "train f1 0.9998922413793103\n",
      "train tn, fp, fn, tp [29792     1     1  9279]\n",
      "test accuracy 0.8553587880028662\n",
      "test f1 0.6773235898606988\n",
      "test tn, fp, fn, tp [6873  924  489 1483]\n",
      "\n"
     ]
    }
   ],
   "source": [
    "# n_neighbors = 15 because warning\n",
    "# evaluate_reduction(lambda n: Isomap(n_neighbors=15, n_jobs=-1, n_components=n), \"iso\", adult_train_X, adult_train_y, adult_test_X, adult_test_y)"
   ]
  },
  {
   "cell_type": "code",
   "execution_count": null,
   "id": "2b659685",
   "metadata": {},
   "outputs": [],
   "source": [
    "# TSNE tool to visualize high-dimensional data"
   ]
  },
  {
   "cell_type": "code",
   "execution_count": 16,
   "id": "23a321c2",
   "metadata": {},
   "outputs": [
    {
     "name": "stdout",
     "output_type": "stream",
     "text": [
      "ridge_default\n",
      "duration 0.14799809455871582\n",
      "train accuracy 0.8433445089959819\n",
      "train f1 0.6108462076419353\n",
      "train tn, fp, fn, tp [28148  4476  1645  4804]\n",
      "test accuracy 0.8356024158050978\n",
      "test f1 0.6044334975369458\n",
      "test tn, fp, fn, tp [6936 1180  426 1227]\n",
      "\n",
      "randfor_default\n",
      "duration 15.0390145778656\n",
      "train accuracy 0.9999488137588616\n",
      "train f1 0.9998922413793103\n",
      "train tn, fp, fn, tp [29792     1     1  9279]\n",
      "test accuracy 0.8551540587572934\n",
      "test f1 0.6765714285714286\n",
      "test tn, fp, fn, tp [6874  927  488 1480]\n",
      "\n"
     ]
    },
    {
     "name": "stderr",
     "output_type": "stream",
     "text": [
      "C:\\Users\\win_1\\anaconda3\\lib\\site-packages\\sklearn\\manifold\\_t_sne.py:780: FutureWarning: The default initialization in TSNE will change from 'random' to 'pca' in 1.2.\n",
      "  warnings.warn(\n",
      "C:\\Users\\win_1\\anaconda3\\lib\\site-packages\\sklearn\\manifold\\_t_sne.py:790: FutureWarning: The default learning rate in TSNE will change from 200.0 to 'auto' in 1.2.\n",
      "  warnings.warn(\n"
     ]
    },
    {
     "ename": "ValueError",
     "evalue": "'n_components' should be inferior to 4 for the barnes_hut algorithm as it relies on quad-tree or oct-tree.",
     "output_type": "error",
     "traceback": [
      "\u001b[1;31m---------------------------------------------------------------------------\u001b[0m",
      "\u001b[1;31mValueError\u001b[0m                                Traceback (most recent call last)",
      "\u001b[1;32m~\\AppData\\Local\\Temp/ipykernel_45640/84623906.py\u001b[0m in \u001b[0;36m<module>\u001b[1;34m\u001b[0m\n\u001b[1;32m----> 1\u001b[1;33m \u001b[0mevaluate_reduction\u001b[0m\u001b[1;33m(\u001b[0m\u001b[1;32mlambda\u001b[0m \u001b[0mn\u001b[0m\u001b[1;33m:\u001b[0m \u001b[0mTSNE\u001b[0m\u001b[1;33m(\u001b[0m\u001b[0mn_jobs\u001b[0m\u001b[1;33m=\u001b[0m\u001b[1;33m-\u001b[0m\u001b[1;36m1\u001b[0m\u001b[1;33m,\u001b[0m \u001b[0mn_components\u001b[0m\u001b[1;33m=\u001b[0m\u001b[0mn\u001b[0m\u001b[1;33m)\u001b[0m\u001b[1;33m,\u001b[0m \u001b[1;34m\"tse\"\u001b[0m\u001b[1;33m,\u001b[0m \u001b[0madult_train_X\u001b[0m\u001b[1;33m,\u001b[0m \u001b[0madult_train_y\u001b[0m\u001b[1;33m,\u001b[0m \u001b[0madult_test_X\u001b[0m\u001b[1;33m,\u001b[0m \u001b[0madult_test_y\u001b[0m\u001b[1;33m)\u001b[0m\u001b[1;33m\u001b[0m\u001b[1;33m\u001b[0m\u001b[0m\n\u001b[0m",
      "\u001b[1;32m~\\AppData\\Local\\Temp/ipykernel_45640/1750763718.py\u001b[0m in \u001b[0;36mevaluate_reduction\u001b[1;34m(model_factory, model_name, train_X, train_y, test_X, test_y)\u001b[0m\n\u001b[0;32m     33\u001b[0m         \u001b[0mt0\u001b[0m \u001b[1;33m=\u001b[0m \u001b[0mtime\u001b[0m\u001b[1;33m(\u001b[0m\u001b[1;33m)\u001b[0m\u001b[1;33m\u001b[0m\u001b[1;33m\u001b[0m\u001b[0m\n\u001b[0;32m     34\u001b[0m         \u001b[0mreduction_model\u001b[0m \u001b[1;33m=\u001b[0m \u001b[0mmodel_factory\u001b[0m\u001b[1;33m(\u001b[0m\u001b[0mn_features\u001b[0m\u001b[1;33m)\u001b[0m\u001b[1;33m\u001b[0m\u001b[1;33m\u001b[0m\u001b[0m\n\u001b[1;32m---> 35\u001b[1;33m         \u001b[0mtrain_X_reduced\u001b[0m \u001b[1;33m=\u001b[0m \u001b[0mreduction_model\u001b[0m\u001b[1;33m.\u001b[0m\u001b[0mfit_transform\u001b[0m\u001b[1;33m(\u001b[0m\u001b[0mtrain_X\u001b[0m\u001b[1;33m)\u001b[0m\u001b[1;33m\u001b[0m\u001b[1;33m\u001b[0m\u001b[0m\n\u001b[0m\u001b[0;32m     36\u001b[0m         \u001b[0mtest_X_reduced\u001b[0m  \u001b[1;33m=\u001b[0m \u001b[0mreduction_model\u001b[0m\u001b[1;33m.\u001b[0m\u001b[0mfit_transform\u001b[0m\u001b[1;33m(\u001b[0m\u001b[0mtest_X\u001b[0m\u001b[1;33m)\u001b[0m\u001b[1;33m\u001b[0m\u001b[1;33m\u001b[0m\u001b[0m\n\u001b[0;32m     37\u001b[0m         \u001b[0mduration\u001b[0m \u001b[1;33m=\u001b[0m \u001b[0mtime\u001b[0m\u001b[1;33m(\u001b[0m\u001b[1;33m)\u001b[0m \u001b[1;33m-\u001b[0m \u001b[0mt0\u001b[0m\u001b[1;33m\u001b[0m\u001b[1;33m\u001b[0m\u001b[0m\n",
      "\u001b[1;32m~\\anaconda3\\lib\\site-packages\\sklearn\\manifold\\_t_sne.py\u001b[0m in \u001b[0;36mfit_transform\u001b[1;34m(self, X, y)\u001b[0m\n\u001b[0;32m   1106\u001b[0m             \u001b[0mEmbedding\u001b[0m \u001b[0mof\u001b[0m \u001b[0mthe\u001b[0m \u001b[0mtraining\u001b[0m \u001b[0mdata\u001b[0m \u001b[1;32min\u001b[0m \u001b[0mlow\u001b[0m\u001b[1;33m-\u001b[0m\u001b[0mdimensional\u001b[0m \u001b[0mspace\u001b[0m\u001b[1;33m.\u001b[0m\u001b[1;33m\u001b[0m\u001b[1;33m\u001b[0m\u001b[0m\n\u001b[0;32m   1107\u001b[0m         \"\"\"\n\u001b[1;32m-> 1108\u001b[1;33m         \u001b[0membedding\u001b[0m \u001b[1;33m=\u001b[0m \u001b[0mself\u001b[0m\u001b[1;33m.\u001b[0m\u001b[0m_fit\u001b[0m\u001b[1;33m(\u001b[0m\u001b[0mX\u001b[0m\u001b[1;33m)\u001b[0m\u001b[1;33m\u001b[0m\u001b[1;33m\u001b[0m\u001b[0m\n\u001b[0m\u001b[0;32m   1109\u001b[0m         \u001b[0mself\u001b[0m\u001b[1;33m.\u001b[0m\u001b[0membedding_\u001b[0m \u001b[1;33m=\u001b[0m \u001b[0membedding\u001b[0m\u001b[1;33m\u001b[0m\u001b[1;33m\u001b[0m\u001b[0m\n\u001b[0;32m   1110\u001b[0m         \u001b[1;32mreturn\u001b[0m \u001b[0mself\u001b[0m\u001b[1;33m.\u001b[0m\u001b[0membedding_\u001b[0m\u001b[1;33m\u001b[0m\u001b[1;33m\u001b[0m\u001b[0m\n",
      "\u001b[1;32m~\\anaconda3\\lib\\site-packages\\sklearn\\manifold\\_t_sne.py\u001b[0m in \u001b[0;36m_fit\u001b[1;34m(self, X, skip_num_points)\u001b[0m\n\u001b[0;32m    860\u001b[0m \u001b[1;33m\u001b[0m\u001b[0m\n\u001b[0;32m    861\u001b[0m         \u001b[1;32mif\u001b[0m \u001b[0mself\u001b[0m\u001b[1;33m.\u001b[0m\u001b[0mmethod\u001b[0m \u001b[1;33m==\u001b[0m \u001b[1;34m\"barnes_hut\"\u001b[0m \u001b[1;32mand\u001b[0m \u001b[0mself\u001b[0m\u001b[1;33m.\u001b[0m\u001b[0mn_components\u001b[0m \u001b[1;33m>\u001b[0m \u001b[1;36m3\u001b[0m\u001b[1;33m:\u001b[0m\u001b[1;33m\u001b[0m\u001b[1;33m\u001b[0m\u001b[0m\n\u001b[1;32m--> 862\u001b[1;33m             raise ValueError(\n\u001b[0m\u001b[0;32m    863\u001b[0m                 \u001b[1;34m\"'n_components' should be inferior to 4 for the \"\u001b[0m\u001b[1;33m\u001b[0m\u001b[1;33m\u001b[0m\u001b[0m\n\u001b[0;32m    864\u001b[0m                 \u001b[1;34m\"barnes_hut algorithm as it relies on \"\u001b[0m\u001b[1;33m\u001b[0m\u001b[1;33m\u001b[0m\u001b[0m\n",
      "\u001b[1;31mValueError\u001b[0m: 'n_components' should be inferior to 4 for the barnes_hut algorithm as it relies on quad-tree or oct-tree."
     ]
    }
   ],
   "source": [
    "# evaluate_reduction(lambda n: TSNE(n_jobs=-1, n_components=n), \"tse\", adult_train_X, adult_train_y, adult_test_X, adult_test_y)"
   ]
  },
  {
   "cell_type": "code",
   "execution_count": 17,
   "id": "cb5805db",
   "metadata": {},
   "outputs": [
    {
     "name": "stdout",
     "output_type": "stream",
     "text": [
      "ridge_default\n",
      "duration 0.08599615097045898\n",
      "train accuracy 0.8433445089959819\n",
      "train f1 0.6108462076419353\n",
      "train tn, fp, fn, tp [28148  4476  1645  4804]\n",
      "test accuracy 0.8356024158050978\n",
      "test f1 0.6044334975369458\n",
      "test tn, fp, fn, tp [6936 1180  426 1227]\n",
      "\n",
      "randfor_default\n",
      "duration 14.606998682022095\n",
      "train accuracy 0.9999488137588616\n",
      "train f1 0.9998922413793103\n",
      "train tn, fp, fn, tp [29792     1     1  9279]\n",
      "test accuracy 0.8563824342307299\n",
      "test f1 0.6794608179118118\n",
      "test tn, fp, fn, tp [6879  920  483 1487]\n",
      "\n",
      "transform duration 83.22889375686646 reduce percent 0.2 n_features 19\n",
      "\n",
      "ridge_umap\n",
      "duration 0.050000667572021484\n",
      "train accuracy 0.7628797379264454\n",
      "train f1 0.020509567607569508\n",
      "train tn, fp, fn, tp [29711  9183    82    97]\n",
      "test accuracy 0.7536083529532194\n",
      "test f1 0.0\n",
      "test tn, fp, fn, tp [7362 2407    0    0]\n",
      "\n",
      "randfor_umap\n",
      "duration 32.342997312545776\n",
      "train accuracy 1.0\n",
      "train f1 1.0\n",
      "train tn, fp, fn, tp [29793     0     0  9280]\n",
      "test accuracy 0.24639164704678063\n",
      "test f1 0.39536793692509853\n",
      "test tn, fp, fn, tp [   0    0 7362 2407]\n",
      "\n",
      "transform duration 100.13483166694641 reduce percent 0.4 n_features 37\n",
      "\n",
      "ridge_umap\n",
      "duration 0.04499983787536621\n",
      "train accuracy 0.7624958411179075\n",
      "train f1 0.0\n",
      "train tn, fp, fn, tp [29793  9280     0     0]\n",
      "test accuracy 0.7536083529532194\n",
      "test f1 0.0\n",
      "test tn, fp, fn, tp [7362 2407    0    0]\n",
      "\n",
      "randfor_umap\n",
      "duration 51.26900124549866\n",
      "train accuracy 1.0\n",
      "train f1 1.0\n",
      "train tn, fp, fn, tp [29793     0     0  9280]\n",
      "test accuracy 0.24639164704678063\n",
      "test f1 0.39536793692509853\n",
      "test tn, fp, fn, tp [   0    0 7362 2407]\n",
      "\n",
      "transform duration 118.06255674362183 reduce percent 0.6000000000000001 n_features 56\n",
      "\n",
      "ridge_umap\n",
      "duration 0.05199909210205078\n",
      "train accuracy 0.7672305684232078\n",
      "train f1 0.051715149619434894\n",
      "train tn, fp, fn, tp [29730  9032    63   248]\n",
      "test accuracy 0.7536083529532194\n",
      "test f1 0.0\n",
      "test tn, fp, fn, tp [7362 2407    0    0]\n",
      "\n",
      "randfor_umap\n",
      "duration 62.78500151634216\n",
      "train accuracy 1.0\n",
      "train f1 1.0\n",
      "train tn, fp, fn, tp [29793     0     0  9280]\n",
      "test accuracy 0.24639164704678063\n",
      "test f1 0.39536793692509853\n",
      "test tn, fp, fn, tp [   0    0 7362 2407]\n",
      "\n",
      "transform duration 136.42003750801086 reduce percent 0.8 n_features 74\n",
      "\n",
      "ridge_umap\n",
      "duration 0.05899810791015625\n",
      "train accuracy 0.7665651472884089\n",
      "train f1 0.04382010692944753\n",
      "train tn, fp, fn, tp [29743  9071    50   209]\n",
      "test accuracy 0.7363087317023237\n",
      "test f1 0.0452186805040771\n",
      "test tn, fp, fn, tp [7132 2346  230   61]\n",
      "\n",
      "randfor_umap\n",
      "duration 81.89000272750854\n",
      "train accuracy 1.0\n",
      "train f1 1.0\n",
      "train tn, fp, fn, tp [29793     0     0  9280]\n",
      "test accuracy 0.24639164704678063\n",
      "test f1 0.39536793692509853\n",
      "test tn, fp, fn, tp [   0    0 7362 2407]\n",
      "\n",
      "transform duration 159.46387457847595 reduce percent 1.0 n_features 92\n",
      "\n",
      "ridge_umap\n",
      "duration 0.0690000057220459\n",
      "train accuracy 0.7675888721111765\n",
      "train f1 0.06622107969151671\n",
      "train tn, fp, fn, tp [29670  8958   123   322]\n",
      "test accuracy 0.5041457672228478\n",
      "test f1 0.3391541609822647\n",
      "test tn, fp, fn, tp [3682 1164 3680 1243]\n",
      "\n",
      "randfor_umap\n",
      "duration 88.31795406341553\n",
      "train accuracy 1.0\n",
      "train f1 1.0\n",
      "train tn, fp, fn, tp [29793     0     0  9280]\n",
      "test accuracy 0.24639164704678063\n",
      "test f1 0.39536793692509853\n",
      "test tn, fp, fn, tp [   0    0 7362 2407]\n",
      "\n"
     ]
    },
    {
     "data": {
      "image/png": "[encoded data removed]",
      "text/plain": [
       "<Figure size 1080x720 with 4 Axes>"
      ]
     },
     "metadata": {
      "needs_background": "light"
     },
     "output_type": "display_data"
    }
   ],
   "source": [
    "evaluate_reduction(lambda n: UMAP(n_jobs=-1, n_components=n), \"umap\", adult_train_X, adult_train_y, adult_test_X, adult_test_y)"
   ]
  },
  {
   "cell_type": "code",
   "execution_count": null,
   "id": "bfd4c9a5",
   "metadata": {},
   "outputs": [],
   "source": [
    "# computer die"
   ]
  },
  {
   "cell_type": "code",
   "execution_count": 18,
   "id": "5207cbbf",
   "metadata": {},
   "outputs": [
    {
     "name": "stdout",
     "output_type": "stream",
     "text": [
      "ridge_default\n",
      "duration 0.0749971866607666\n",
      "train accuracy 0.8433445089959819\n",
      "train f1 0.6108462076419353\n",
      "train tn, fp, fn, tp [28148  4476  1645  4804]\n",
      "test accuracy 0.8356024158050978\n",
      "test f1 0.6044334975369458\n",
      "test tn, fp, fn, tp [6936 1180  426 1227]\n",
      "\n",
      "randfor_default\n",
      "duration 13.015000581741333\n",
      "train accuracy 0.9999488137588616\n",
      "train f1 0.9998922413793103\n",
      "train tn, fp, fn, tp [29792     1     1  9279]\n",
      "test accuracy 0.8549493295117208\n",
      "test f1 0.6762622801005255\n",
      "test tn, fp, fn, tp [6872  927  490 1480]\n",
      "\n"
     ]
    },
    {
     "ename": "MemoryError",
     "evalue": "Unable to allocate 11.4 GiB for an array with shape (39073, 39073) and data type float64",
     "output_type": "error",
     "traceback": [
      "\u001b[1;31m---------------------------------------------------------------------------\u001b[0m",
      "\u001b[1;31m_RemoteTraceback\u001b[0m                          Traceback (most recent call last)",
      "\u001b[1;31m_RemoteTraceback\u001b[0m: \n\"\"\"\nTraceback (most recent call last):\n  File \"C:\\Users\\win_1\\anaconda3\\lib\\site-packages\\joblib\\externals\\loky\\process_executor.py\", line 436, in _process_worker\n    r = call_item()\n  File \"C:\\Users\\win_1\\anaconda3\\lib\\site-packages\\joblib\\externals\\loky\\process_executor.py\", line 288, in __call__\n    return self.fn(*self.args, **self.kwargs)\n  File \"C:\\Users\\win_1\\anaconda3\\lib\\site-packages\\joblib\\_parallel_backends.py\", line 595, in __call__\n    return self.func(*args, **kwargs)\n  File \"C:\\Users\\win_1\\anaconda3\\lib\\site-packages\\joblib\\parallel.py\", line 262, in __call__\n    return [func(*args, **kwargs)\n  File \"C:\\Users\\win_1\\anaconda3\\lib\\site-packages\\joblib\\parallel.py\", line 262, in <listcomp>\n    return [func(*args, **kwargs)\n  File \"C:\\Users\\win_1\\anaconda3\\lib\\site-packages\\sklearn\\utils\\fixes.py\", line 211, in __call__\n    return self.function(*args, **kwargs)\n  File \"C:\\Users\\win_1\\anaconda3\\lib\\site-packages\\sklearn\\manifold\\_mds.py\", line 78, in _smacof_single\n    dissimilarities = check_symmetric(dissimilarities, raise_exception=True)\n  File \"C:\\Users\\win_1\\anaconda3\\lib\\site-packages\\sklearn\\utils\\validation.py\", line 1120, in check_symmetric\n    symmetric = np.allclose(array, array.T, atol=tol)\n  File \"<__array_function__ internals>\", line 5, in allclose\n  File \"C:\\Users\\win_1\\anaconda3\\lib\\site-packages\\numpy\\core\\numeric.py\", line 2249, in allclose\n    res = all(isclose(a, b, rtol=rtol, atol=atol, equal_nan=equal_nan))\n  File \"<__array_function__ internals>\", line 5, in isclose\n  File \"C:\\Users\\win_1\\anaconda3\\lib\\site-packages\\numpy\\core\\numeric.py\", line 2358, in isclose\n    return within_tol(x, y, atol, rtol)\n  File \"C:\\Users\\win_1\\anaconda3\\lib\\site-packages\\numpy\\core\\numeric.py\", line 2339, in within_tol\n    return less_equal(abs(x-y), atol + rtol * abs(y))\nnumpy.core._exceptions._ArrayMemoryError: Unable to allocate 11.4 GiB for an array with shape (39073, 39073) and data type float64\n\"\"\"",
      "\nThe above exception was the direct cause of the following exception:\n",
      "\u001b[1;31mMemoryError\u001b[0m                               Traceback (most recent call last)",
      "\u001b[1;32m~\\AppData\\Local\\Temp/ipykernel_45640/1313003369.py\u001b[0m in \u001b[0;36m<module>\u001b[1;34m\u001b[0m\n\u001b[1;32m----> 1\u001b[1;33m \u001b[0mevaluate_reduction\u001b[0m\u001b[1;33m(\u001b[0m\u001b[1;32mlambda\u001b[0m \u001b[0mn\u001b[0m\u001b[1;33m:\u001b[0m \u001b[0mMDS\u001b[0m\u001b[1;33m(\u001b[0m\u001b[0mn_jobs\u001b[0m\u001b[1;33m=\u001b[0m\u001b[1;33m-\u001b[0m\u001b[1;36m1\u001b[0m\u001b[1;33m,\u001b[0m \u001b[0mn_components\u001b[0m\u001b[1;33m=\u001b[0m\u001b[0mn\u001b[0m\u001b[1;33m)\u001b[0m\u001b[1;33m,\u001b[0m \u001b[1;34m\"mds\"\u001b[0m\u001b[1;33m,\u001b[0m \u001b[0madult_train_X\u001b[0m\u001b[1;33m,\u001b[0m \u001b[0madult_train_y\u001b[0m\u001b[1;33m,\u001b[0m \u001b[0madult_test_X\u001b[0m\u001b[1;33m,\u001b[0m \u001b[0madult_test_y\u001b[0m\u001b[1;33m)\u001b[0m\u001b[1;33m\u001b[0m\u001b[1;33m\u001b[0m\u001b[0m\n\u001b[0m",
      "\u001b[1;32m~\\AppData\\Local\\Temp/ipykernel_45640/1750763718.py\u001b[0m in \u001b[0;36mevaluate_reduction\u001b[1;34m(model_factory, model_name, train_X, train_y, test_X, test_y)\u001b[0m\n\u001b[0;32m     33\u001b[0m         \u001b[0mt0\u001b[0m \u001b[1;33m=\u001b[0m \u001b[0mtime\u001b[0m\u001b[1;33m(\u001b[0m\u001b[1;33m)\u001b[0m\u001b[1;33m\u001b[0m\u001b[1;33m\u001b[0m\u001b[0m\n\u001b[0;32m     34\u001b[0m         \u001b[0mreduction_model\u001b[0m \u001b[1;33m=\u001b[0m \u001b[0mmodel_factory\u001b[0m\u001b[1;33m(\u001b[0m\u001b[0mn_features\u001b[0m\u001b[1;33m)\u001b[0m\u001b[1;33m\u001b[0m\u001b[1;33m\u001b[0m\u001b[0m\n\u001b[1;32m---> 35\u001b[1;33m         \u001b[0mtrain_X_reduced\u001b[0m \u001b[1;33m=\u001b[0m \u001b[0mreduction_model\u001b[0m\u001b[1;33m.\u001b[0m\u001b[0mfit_transform\u001b[0m\u001b[1;33m(\u001b[0m\u001b[0mtrain_X\u001b[0m\u001b[1;33m)\u001b[0m\u001b[1;33m\u001b[0m\u001b[1;33m\u001b[0m\u001b[0m\n\u001b[0m\u001b[0;32m     36\u001b[0m         \u001b[0mtest_X_reduced\u001b[0m  \u001b[1;33m=\u001b[0m \u001b[0mreduction_model\u001b[0m\u001b[1;33m.\u001b[0m\u001b[0mfit_transform\u001b[0m\u001b[1;33m(\u001b[0m\u001b[0mtest_X\u001b[0m\u001b[1;33m)\u001b[0m\u001b[1;33m\u001b[0m\u001b[1;33m\u001b[0m\u001b[0m\n\u001b[0;32m     37\u001b[0m         \u001b[0mduration\u001b[0m \u001b[1;33m=\u001b[0m \u001b[0mtime\u001b[0m\u001b[1;33m(\u001b[0m\u001b[1;33m)\u001b[0m \u001b[1;33m-\u001b[0m \u001b[0mt0\u001b[0m\u001b[1;33m\u001b[0m\u001b[1;33m\u001b[0m\u001b[0m\n",
      "\u001b[1;32m~\\anaconda3\\lib\\site-packages\\sklearn\\manifold\\_mds.py\u001b[0m in \u001b[0;36mfit_transform\u001b[1;34m(self, X, y, init)\u001b[0m\n\u001b[0;32m    532\u001b[0m             )\n\u001b[0;32m    533\u001b[0m \u001b[1;33m\u001b[0m\u001b[0m\n\u001b[1;32m--> 534\u001b[1;33m         self.embedding_, self.stress_, self.n_iter_ = smacof(\n\u001b[0m\u001b[0;32m    535\u001b[0m             \u001b[0mself\u001b[0m\u001b[1;33m.\u001b[0m\u001b[0mdissimilarity_matrix_\u001b[0m\u001b[1;33m,\u001b[0m\u001b[1;33m\u001b[0m\u001b[1;33m\u001b[0m\u001b[0m\n\u001b[0;32m    536\u001b[0m             \u001b[0mmetric\u001b[0m\u001b[1;33m=\u001b[0m\u001b[0mself\u001b[0m\u001b[1;33m.\u001b[0m\u001b[0mmetric\u001b[0m\u001b[1;33m,\u001b[0m\u001b[1;33m\u001b[0m\u001b[1;33m\u001b[0m\u001b[0m\n",
      "\u001b[1;32m~\\anaconda3\\lib\\site-packages\\sklearn\\manifold\\_mds.py\u001b[0m in \u001b[0;36msmacof\u001b[1;34m(dissimilarities, metric, n_components, init, n_init, n_jobs, max_iter, verbose, eps, random_state, return_n_iter)\u001b[0m\n\u001b[0;32m    283\u001b[0m     \u001b[1;32melse\u001b[0m\u001b[1;33m:\u001b[0m\u001b[1;33m\u001b[0m\u001b[1;33m\u001b[0m\u001b[0m\n\u001b[0;32m    284\u001b[0m         \u001b[0mseeds\u001b[0m \u001b[1;33m=\u001b[0m \u001b[0mrandom_state\u001b[0m\u001b[1;33m.\u001b[0m\u001b[0mrandint\u001b[0m\u001b[1;33m(\u001b[0m\u001b[0mnp\u001b[0m\u001b[1;33m.\u001b[0m\u001b[0miinfo\u001b[0m\u001b[1;33m(\u001b[0m\u001b[0mnp\u001b[0m\u001b[1;33m.\u001b[0m\u001b[0mint32\u001b[0m\u001b[1;33m)\u001b[0m\u001b[1;33m.\u001b[0m\u001b[0mmax\u001b[0m\u001b[1;33m,\u001b[0m \u001b[0msize\u001b[0m\u001b[1;33m=\u001b[0m\u001b[0mn_init\u001b[0m\u001b[1;33m)\u001b[0m\u001b[1;33m\u001b[0m\u001b[1;33m\u001b[0m\u001b[0m\n\u001b[1;32m--> 285\u001b[1;33m         results = Parallel(n_jobs=n_jobs, verbose=max(verbose - 1, 0))(\n\u001b[0m\u001b[0;32m    286\u001b[0m             delayed(_smacof_single)(\n\u001b[0;32m    287\u001b[0m                 \u001b[0mdissimilarities\u001b[0m\u001b[1;33m,\u001b[0m\u001b[1;33m\u001b[0m\u001b[1;33m\u001b[0m\u001b[0m\n",
      "\u001b[1;32m~\\anaconda3\\lib\\site-packages\\joblib\\parallel.py\u001b[0m in \u001b[0;36m__call__\u001b[1;34m(self, iterable)\u001b[0m\n\u001b[0;32m   1054\u001b[0m \u001b[1;33m\u001b[0m\u001b[0m\n\u001b[0;32m   1055\u001b[0m             \u001b[1;32mwith\u001b[0m \u001b[0mself\u001b[0m\u001b[1;33m.\u001b[0m\u001b[0m_backend\u001b[0m\u001b[1;33m.\u001b[0m\u001b[0mretrieval_context\u001b[0m\u001b[1;33m(\u001b[0m\u001b[1;33m)\u001b[0m\u001b[1;33m:\u001b[0m\u001b[1;33m\u001b[0m\u001b[1;33m\u001b[0m\u001b[0m\n\u001b[1;32m-> 1056\u001b[1;33m                 \u001b[0mself\u001b[0m\u001b[1;33m.\u001b[0m\u001b[0mretrieve\u001b[0m\u001b[1;33m(\u001b[0m\u001b[1;33m)\u001b[0m\u001b[1;33m\u001b[0m\u001b[1;33m\u001b[0m\u001b[0m\n\u001b[0m\u001b[0;32m   1057\u001b[0m             \u001b[1;31m# Make sure that we get a last message telling us we are done\u001b[0m\u001b[1;33m\u001b[0m\u001b[1;33m\u001b[0m\u001b[1;33m\u001b[0m\u001b[0m\n\u001b[0;32m   1058\u001b[0m             \u001b[0melapsed_time\u001b[0m \u001b[1;33m=\u001b[0m \u001b[0mtime\u001b[0m\u001b[1;33m.\u001b[0m\u001b[0mtime\u001b[0m\u001b[1;33m(\u001b[0m\u001b[1;33m)\u001b[0m \u001b[1;33m-\u001b[0m \u001b[0mself\u001b[0m\u001b[1;33m.\u001b[0m\u001b[0m_start_time\u001b[0m\u001b[1;33m\u001b[0m\u001b[1;33m\u001b[0m\u001b[0m\n",
      "\u001b[1;32m~\\anaconda3\\lib\\site-packages\\joblib\\parallel.py\u001b[0m in \u001b[0;36mretrieve\u001b[1;34m(self)\u001b[0m\n\u001b[0;32m    933\u001b[0m             \u001b[1;32mtry\u001b[0m\u001b[1;33m:\u001b[0m\u001b[1;33m\u001b[0m\u001b[1;33m\u001b[0m\u001b[0m\n\u001b[0;32m    934\u001b[0m                 \u001b[1;32mif\u001b[0m \u001b[0mgetattr\u001b[0m\u001b[1;33m(\u001b[0m\u001b[0mself\u001b[0m\u001b[1;33m.\u001b[0m\u001b[0m_backend\u001b[0m\u001b[1;33m,\u001b[0m \u001b[1;34m'supports_timeout'\u001b[0m\u001b[1;33m,\u001b[0m \u001b[1;32mFalse\u001b[0m\u001b[1;33m)\u001b[0m\u001b[1;33m:\u001b[0m\u001b[1;33m\u001b[0m\u001b[1;33m\u001b[0m\u001b[0m\n\u001b[1;32m--> 935\u001b[1;33m                     \u001b[0mself\u001b[0m\u001b[1;33m.\u001b[0m\u001b[0m_output\u001b[0m\u001b[1;33m.\u001b[0m\u001b[0mextend\u001b[0m\u001b[1;33m(\u001b[0m\u001b[0mjob\u001b[0m\u001b[1;33m.\u001b[0m\u001b[0mget\u001b[0m\u001b[1;33m(\u001b[0m\u001b[0mtimeout\u001b[0m\u001b[1;33m=\u001b[0m\u001b[0mself\u001b[0m\u001b[1;33m.\u001b[0m\u001b[0mtimeout\u001b[0m\u001b[1;33m)\u001b[0m\u001b[1;33m)\u001b[0m\u001b[1;33m\u001b[0m\u001b[1;33m\u001b[0m\u001b[0m\n\u001b[0m\u001b[0;32m    936\u001b[0m                 \u001b[1;32melse\u001b[0m\u001b[1;33m:\u001b[0m\u001b[1;33m\u001b[0m\u001b[1;33m\u001b[0m\u001b[0m\n\u001b[0;32m    937\u001b[0m                     \u001b[0mself\u001b[0m\u001b[1;33m.\u001b[0m\u001b[0m_output\u001b[0m\u001b[1;33m.\u001b[0m\u001b[0mextend\u001b[0m\u001b[1;33m(\u001b[0m\u001b[0mjob\u001b[0m\u001b[1;33m.\u001b[0m\u001b[0mget\u001b[0m\u001b[1;33m(\u001b[0m\u001b[1;33m)\u001b[0m\u001b[1;33m)\u001b[0m\u001b[1;33m\u001b[0m\u001b[1;33m\u001b[0m\u001b[0m\n",
      "\u001b[1;32m~\\anaconda3\\lib\\site-packages\\joblib\\_parallel_backends.py\u001b[0m in \u001b[0;36mwrap_future_result\u001b[1;34m(future, timeout)\u001b[0m\n\u001b[0;32m    540\u001b[0m         AsyncResults.get from multiprocessing.\"\"\"\n\u001b[0;32m    541\u001b[0m         \u001b[1;32mtry\u001b[0m\u001b[1;33m:\u001b[0m\u001b[1;33m\u001b[0m\u001b[1;33m\u001b[0m\u001b[0m\n\u001b[1;32m--> 542\u001b[1;33m             \u001b[1;32mreturn\u001b[0m \u001b[0mfuture\u001b[0m\u001b[1;33m.\u001b[0m\u001b[0mresult\u001b[0m\u001b[1;33m(\u001b[0m\u001b[0mtimeout\u001b[0m\u001b[1;33m=\u001b[0m\u001b[0mtimeout\u001b[0m\u001b[1;33m)\u001b[0m\u001b[1;33m\u001b[0m\u001b[1;33m\u001b[0m\u001b[0m\n\u001b[0m\u001b[0;32m    543\u001b[0m         \u001b[1;32mexcept\u001b[0m \u001b[0mCfTimeoutError\u001b[0m \u001b[1;32mas\u001b[0m \u001b[0me\u001b[0m\u001b[1;33m:\u001b[0m\u001b[1;33m\u001b[0m\u001b[1;33m\u001b[0m\u001b[0m\n\u001b[0;32m    544\u001b[0m             \u001b[1;32mraise\u001b[0m \u001b[0mTimeoutError\u001b[0m \u001b[1;32mfrom\u001b[0m \u001b[0me\u001b[0m\u001b[1;33m\u001b[0m\u001b[1;33m\u001b[0m\u001b[0m\n",
      "\u001b[1;32m~\\anaconda3\\lib\\concurrent\\futures\\_base.py\u001b[0m in \u001b[0;36mresult\u001b[1;34m(self, timeout)\u001b[0m\n\u001b[0;32m    437\u001b[0m                 \u001b[1;32mraise\u001b[0m \u001b[0mCancelledError\u001b[0m\u001b[1;33m(\u001b[0m\u001b[1;33m)\u001b[0m\u001b[1;33m\u001b[0m\u001b[1;33m\u001b[0m\u001b[0m\n\u001b[0;32m    438\u001b[0m             \u001b[1;32melif\u001b[0m \u001b[0mself\u001b[0m\u001b[1;33m.\u001b[0m\u001b[0m_state\u001b[0m \u001b[1;33m==\u001b[0m \u001b[0mFINISHED\u001b[0m\u001b[1;33m:\u001b[0m\u001b[1;33m\u001b[0m\u001b[1;33m\u001b[0m\u001b[0m\n\u001b[1;32m--> 439\u001b[1;33m                 \u001b[1;32mreturn\u001b[0m \u001b[0mself\u001b[0m\u001b[1;33m.\u001b[0m\u001b[0m__get_result\u001b[0m\u001b[1;33m(\u001b[0m\u001b[1;33m)\u001b[0m\u001b[1;33m\u001b[0m\u001b[1;33m\u001b[0m\u001b[0m\n\u001b[0m\u001b[0;32m    440\u001b[0m             \u001b[1;32melse\u001b[0m\u001b[1;33m:\u001b[0m\u001b[1;33m\u001b[0m\u001b[1;33m\u001b[0m\u001b[0m\n\u001b[0;32m    441\u001b[0m                 \u001b[1;32mraise\u001b[0m \u001b[0mTimeoutError\u001b[0m\u001b[1;33m(\u001b[0m\u001b[1;33m)\u001b[0m\u001b[1;33m\u001b[0m\u001b[1;33m\u001b[0m\u001b[0m\n",
      "\u001b[1;32m~\\anaconda3\\lib\\concurrent\\futures\\_base.py\u001b[0m in \u001b[0;36m__get_result\u001b[1;34m(self)\u001b[0m\n\u001b[0;32m    386\u001b[0m     \u001b[1;32mdef\u001b[0m \u001b[0m__get_result\u001b[0m\u001b[1;33m(\u001b[0m\u001b[0mself\u001b[0m\u001b[1;33m)\u001b[0m\u001b[1;33m:\u001b[0m\u001b[1;33m\u001b[0m\u001b[1;33m\u001b[0m\u001b[0m\n\u001b[0;32m    387\u001b[0m         \u001b[1;32mif\u001b[0m \u001b[0mself\u001b[0m\u001b[1;33m.\u001b[0m\u001b[0m_exception\u001b[0m\u001b[1;33m:\u001b[0m\u001b[1;33m\u001b[0m\u001b[1;33m\u001b[0m\u001b[0m\n\u001b[1;32m--> 388\u001b[1;33m             \u001b[1;32mraise\u001b[0m \u001b[0mself\u001b[0m\u001b[1;33m.\u001b[0m\u001b[0m_exception\u001b[0m\u001b[1;33m\u001b[0m\u001b[1;33m\u001b[0m\u001b[0m\n\u001b[0m\u001b[0;32m    389\u001b[0m         \u001b[1;32melse\u001b[0m\u001b[1;33m:\u001b[0m\u001b[1;33m\u001b[0m\u001b[1;33m\u001b[0m\u001b[0m\n\u001b[0;32m    390\u001b[0m             \u001b[1;32mreturn\u001b[0m \u001b[0mself\u001b[0m\u001b[1;33m.\u001b[0m\u001b[0m_result\u001b[0m\u001b[1;33m\u001b[0m\u001b[1;33m\u001b[0m\u001b[0m\n",
      "\u001b[1;31mMemoryError\u001b[0m: Unable to allocate 11.4 GiB for an array with shape (39073, 39073) and data type float64"
     ]
    }
   ],
   "source": [
    "evaluate_reduction(lambda n: MDS(n_jobs=-1, n_components=n), \"mds\", adult_train_X, adult_train_y, adult_test_X, adult_test_y)"
   ]
  },
  {
   "cell_type": "code",
   "execution_count": null,
   "id": "e35f635e",
   "metadata": {},
   "outputs": [],
   "source": []
  }
 ],
 "metadata": {
  "kernelspec": {
   "display_name": "Python 3 (ipykernel)",
   "language": "python",
   "name": "python3"
  },
  "language_info": {
   "codemirror_mode": {
    "name": "ipython",
    "version": 3
   },
   "file_extension": ".py",
   "mimetype": "text/x-python",
   "name": "python",
   "nbconvert_exporter": "python",
   "pygments_lexer": "ipython3",
   "version": "3.8.8"
  }
 },
 "nbformat": 4,
 "nbformat_minor": 5
}
