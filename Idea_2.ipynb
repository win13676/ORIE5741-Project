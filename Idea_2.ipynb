{
 "cells": [
  {
   "cell_type": "code",
   "execution_count": 2,
   "id": "dab0e3cb",
   "metadata": {},
   "outputs": [],
   "source": [
    "%load_ext autoreload\n",
    "%autoreload 1\n",
    "\n",
    "import numpy as np\n",
    "import pandas as pd\n",
    "import matplotlib.pyplot as plt\n",
    "import sklearn"
   ]
  },
  {
   "cell_type": "code",
   "execution_count": 15,
   "id": "4f78bbcb",
   "metadata": {},
   "outputs": [],
   "source": [
    "import ControlBurn as cb\n",
    "from sklearn.model_selection import train_test_split\n",
    "from sklearn.ensemble import RandomForestClassifier as rfc\n",
    "from sklearn.linear_model import LogisticRegression as lr"
   ]
  },
  {
   "cell_type": "code",
   "execution_count": 30,
   "id": "6eb26f23",
   "metadata": {},
   "outputs": [],
   "source": [
    "df_rain = pd.read_csv('datasets/weatherAUS_clean.csv')\n",
    "rain_feats = df_rain.columns.values\n",
    "rain_x = df_rain[rain_feats[1:-1]]\n",
    "rain_y = df_rain[rain_feats[-1]]\n",
    "rain_x_tr, rain_x_te, rain_y_tr, rain_y_te = train_test_split(rain_x, rain_y, test_size=0.2)"
   ]
  },
  {
   "cell_type": "code",
   "execution_count": 31,
   "id": "8970e4a7",
   "metadata": {},
   "outputs": [
    {
     "data": {
      "text/html": [
       "<div>\n",
       "<style scoped>\n",
       "    .dataframe tbody tr th:only-of-type {\n",
       "        vertical-align: middle;\n",
       "    }\n",
       "\n",
       "    .dataframe tbody tr th {\n",
       "        vertical-align: top;\n",
       "    }\n",
       "\n",
       "    .dataframe thead th {\n",
       "        text-align: right;\n",
       "    }\n",
       "</style>\n",
       "<table border=\"1\" class=\"dataframe\">\n",
       "  <thead>\n",
       "    <tr style=\"text-align: right;\">\n",
       "      <th></th>\n",
       "      <th>MinTemp</th>\n",
       "      <th>MaxTemp</th>\n",
       "      <th>Rainfall</th>\n",
       "      <th>Evaporation</th>\n",
       "      <th>Sunshine</th>\n",
       "      <th>WindGustSpeed</th>\n",
       "      <th>WindSpeed9am</th>\n",
       "      <th>WindSpeed3pm</th>\n",
       "      <th>Humidity9am</th>\n",
       "      <th>Humidity3pm</th>\n",
       "      <th>...</th>\n",
       "      <th>WindGustDir_E</th>\n",
       "      <th>WindGustDir_W</th>\n",
       "      <th>WindDir9am_N</th>\n",
       "      <th>WindDir9am_S</th>\n",
       "      <th>WindDir9am_E</th>\n",
       "      <th>WindDir9am_W</th>\n",
       "      <th>WindDir3pm_N</th>\n",
       "      <th>WindDir3pm_S</th>\n",
       "      <th>WindDir3pm_E</th>\n",
       "      <th>WindDir3pm_W</th>\n",
       "    </tr>\n",
       "  </thead>\n",
       "  <tbody>\n",
       "    <tr>\n",
       "      <th>0</th>\n",
       "      <td>13.4</td>\n",
       "      <td>22.9</td>\n",
       "      <td>0.6</td>\n",
       "      <td>24.666201</td>\n",
       "      <td>7.20069</td>\n",
       "      <td>44.0</td>\n",
       "      <td>20.0</td>\n",
       "      <td>24.0</td>\n",
       "      <td>71.0</td>\n",
       "      <td>22.0</td>\n",
       "      <td>...</td>\n",
       "      <td>0.0</td>\n",
       "      <td>1.0</td>\n",
       "      <td>0.0</td>\n",
       "      <td>0.0</td>\n",
       "      <td>0.0</td>\n",
       "      <td>1.0</td>\n",
       "      <td>1.0</td>\n",
       "      <td>0.0</td>\n",
       "      <td>0.0</td>\n",
       "      <td>2.0</td>\n",
       "    </tr>\n",
       "    <tr>\n",
       "      <th>1</th>\n",
       "      <td>7.4</td>\n",
       "      <td>25.1</td>\n",
       "      <td>0.0</td>\n",
       "      <td>24.666201</td>\n",
       "      <td>7.20069</td>\n",
       "      <td>44.0</td>\n",
       "      <td>4.0</td>\n",
       "      <td>22.0</td>\n",
       "      <td>44.0</td>\n",
       "      <td>25.0</td>\n",
       "      <td>...</td>\n",
       "      <td>0.0</td>\n",
       "      <td>2.0</td>\n",
       "      <td>2.0</td>\n",
       "      <td>0.0</td>\n",
       "      <td>0.0</td>\n",
       "      <td>1.0</td>\n",
       "      <td>0.0</td>\n",
       "      <td>1.0</td>\n",
       "      <td>0.0</td>\n",
       "      <td>2.0</td>\n",
       "    </tr>\n",
       "    <tr>\n",
       "      <th>2</th>\n",
       "      <td>12.9</td>\n",
       "      <td>25.7</td>\n",
       "      <td>0.0</td>\n",
       "      <td>24.666201</td>\n",
       "      <td>7.20069</td>\n",
       "      <td>46.0</td>\n",
       "      <td>19.0</td>\n",
       "      <td>26.0</td>\n",
       "      <td>38.0</td>\n",
       "      <td>30.0</td>\n",
       "      <td>...</td>\n",
       "      <td>0.0</td>\n",
       "      <td>2.0</td>\n",
       "      <td>0.0</td>\n",
       "      <td>0.0</td>\n",
       "      <td>0.0</td>\n",
       "      <td>1.0</td>\n",
       "      <td>0.0</td>\n",
       "      <td>1.0</td>\n",
       "      <td>0.0</td>\n",
       "      <td>2.0</td>\n",
       "    </tr>\n",
       "    <tr>\n",
       "      <th>3</th>\n",
       "      <td>9.2</td>\n",
       "      <td>28.0</td>\n",
       "      <td>0.0</td>\n",
       "      <td>24.666201</td>\n",
       "      <td>7.20069</td>\n",
       "      <td>24.0</td>\n",
       "      <td>11.0</td>\n",
       "      <td>9.0</td>\n",
       "      <td>45.0</td>\n",
       "      <td>16.0</td>\n",
       "      <td>...</td>\n",
       "      <td>1.0</td>\n",
       "      <td>0.0</td>\n",
       "      <td>0.0</td>\n",
       "      <td>1.0</td>\n",
       "      <td>1.0</td>\n",
       "      <td>0.0</td>\n",
       "      <td>0.0</td>\n",
       "      <td>0.0</td>\n",
       "      <td>1.0</td>\n",
       "      <td>0.0</td>\n",
       "    </tr>\n",
       "    <tr>\n",
       "      <th>4</th>\n",
       "      <td>17.5</td>\n",
       "      <td>32.3</td>\n",
       "      <td>1.0</td>\n",
       "      <td>24.666201</td>\n",
       "      <td>7.20069</td>\n",
       "      <td>41.0</td>\n",
       "      <td>7.0</td>\n",
       "      <td>20.0</td>\n",
       "      <td>82.0</td>\n",
       "      <td>33.0</td>\n",
       "      <td>...</td>\n",
       "      <td>0.0</td>\n",
       "      <td>1.0</td>\n",
       "      <td>1.0</td>\n",
       "      <td>0.0</td>\n",
       "      <td>2.0</td>\n",
       "      <td>0.0</td>\n",
       "      <td>1.0</td>\n",
       "      <td>0.0</td>\n",
       "      <td>0.0</td>\n",
       "      <td>1.0</td>\n",
       "    </tr>\n",
       "  </tbody>\n",
       "</table>\n",
       "<p>5 rows × 29 columns</p>\n",
       "</div>"
      ],
      "text/plain": [
       "   MinTemp  MaxTemp  Rainfall  Evaporation  Sunshine  WindGustSpeed  \\\n",
       "0     13.4     22.9       0.6    24.666201   7.20069           44.0   \n",
       "1      7.4     25.1       0.0    24.666201   7.20069           44.0   \n",
       "2     12.9     25.7       0.0    24.666201   7.20069           46.0   \n",
       "3      9.2     28.0       0.0    24.666201   7.20069           24.0   \n",
       "4     17.5     32.3       1.0    24.666201   7.20069           41.0   \n",
       "\n",
       "   WindSpeed9am  WindSpeed3pm  Humidity9am  Humidity3pm  ...  WindGustDir_E  \\\n",
       "0          20.0          24.0         71.0         22.0  ...            0.0   \n",
       "1           4.0          22.0         44.0         25.0  ...            0.0   \n",
       "2          19.0          26.0         38.0         30.0  ...            0.0   \n",
       "3          11.0           9.0         45.0         16.0  ...            1.0   \n",
       "4           7.0          20.0         82.0         33.0  ...            0.0   \n",
       "\n",
       "   WindGustDir_W  WindDir9am_N  WindDir9am_S  WindDir9am_E  WindDir9am_W  \\\n",
       "0            1.0           0.0           0.0           0.0           1.0   \n",
       "1            2.0           2.0           0.0           0.0           1.0   \n",
       "2            2.0           0.0           0.0           0.0           1.0   \n",
       "3            0.0           0.0           1.0           1.0           0.0   \n",
       "4            1.0           1.0           0.0           2.0           0.0   \n",
       "\n",
       "   WindDir3pm_N  WindDir3pm_S  WindDir3pm_E  WindDir3pm_W  \n",
       "0           1.0           0.0           0.0           2.0  \n",
       "1           0.0           1.0           0.0           2.0  \n",
       "2           0.0           1.0           0.0           2.0  \n",
       "3           0.0           0.0           1.0           0.0  \n",
       "4           1.0           0.0           0.0           1.0  \n",
       "\n",
       "[5 rows x 29 columns]"
      ]
     },
     "execution_count": 31,
     "metadata": {},
     "output_type": "execute_result"
    }
   ],
   "source": [
    "rain_x.head()"
   ]
  },
  {
   "cell_type": "code",
   "execution_count": 32,
   "id": "c5a16dcd",
   "metadata": {},
   "outputs": [
    {
     "data": {
      "text/plain": [
       "array(['Unnamed: 0', 'MinTemp', 'MaxTemp', 'Rainfall', 'Evaporation',\n",
       "       'Sunshine', 'WindGustSpeed', 'WindSpeed9am', 'WindSpeed3pm',\n",
       "       'Humidity9am', 'Humidity3pm', 'Pressure9am', 'Pressure3pm',\n",
       "       'Cloud9am', 'Cloud3pm', 'Temp9am', 'Temp3pm', 'RainToday',\n",
       "       'WindGustDir_N', 'WindGustDir_S', 'WindGustDir_E', 'WindGustDir_W',\n",
       "       'WindDir9am_N', 'WindDir9am_S', 'WindDir9am_E', 'WindDir9am_W',\n",
       "       'WindDir3pm_N', 'WindDir3pm_S', 'WindDir3pm_E', 'WindDir3pm_W',\n",
       "       'RainTomorrow'], dtype=object)"
      ]
     },
     "execution_count": 32,
     "metadata": {},
     "output_type": "execute_result"
    }
   ],
   "source": [
    "rain_feats"
   ]
  },
  {
   "cell_type": "code",
   "execution_count": 33,
   "id": "821644df",
   "metadata": {},
   "outputs": [],
   "source": [
    "rain_y_te_true = rain_y_te[rain_y_te == 1]\n",
    "rain_x_te_true = rain_x_te[rain_y_te == 1]\n",
    "rain_y_te_false = rain_y_te[rain_y_te == 0]\n",
    "rain_x_te_false = rain_x_te[rain_y_te == 0]"
   ]
  },
  {
   "cell_type": "code",
   "execution_count": 34,
   "id": "d8a74a59",
   "metadata": {},
   "outputs": [],
   "source": [
    "U, S, V = np.linalg.svd(rain_x_tr[:5000])"
   ]
  },
  {
   "cell_type": "code",
   "execution_count": 35,
   "id": "16bf0815",
   "metadata": {},
   "outputs": [
    {
     "data": {
      "text/plain": [
       "array([1.01890641e+05, 1.89226240e+03, 1.16673248e+03, 8.28715900e+02,\n",
       "       7.34089652e+02, 7.01114584e+02, 5.54174230e+02, 4.33299035e+02,\n",
       "       3.99090822e+02, 2.17542155e+02, 1.72791760e+02, 1.18711755e+02,\n",
       "       1.01616516e+02, 9.62688959e+01, 8.50055700e+01, 8.21804107e+01,\n",
       "       6.37943142e+01, 5.13001735e+01, 4.98827029e+01, 4.59300223e+01,\n",
       "       3.93164197e+01, 3.70277834e+01, 3.65528633e+01, 3.10410384e+01,\n",
       "       2.91991280e+01, 2.86994364e+01, 2.69736283e+01, 2.33651891e+01,\n",
       "       2.13066395e+01])"
      ]
     },
     "execution_count": 35,
     "metadata": {},
     "output_type": "execute_result"
    }
   ],
   "source": [
    "S \n",
    "# demonstrate features selected by PCA would do poorly in RF but do well with lasso\n",
    "# normalize every feature and try again"
   ]
  },
  {
   "cell_type": "code",
   "execution_count": 36,
   "id": "00196ef0",
   "metadata": {},
   "outputs": [
    {
     "name": "stdout",
     "output_type": "stream",
     "text": [
      "0.8457590935216356 0.48176263654878726 0.9494645777285435\n",
      "Coefficients: [[-0.01216841  0.01630153  0.02089404 -0.00416344 -0.13223034  0.06300355\n",
      "  -0.01579281 -0.02827878  0.00566704  0.05835889  0.09326369 -0.10082925\n",
      "   0.02273228  0.12492627  0.01541135  0.01384074  0.04236639  0.03739384\n",
      "  -0.03677399 -0.03102384  0.03256748  0.06240878 -0.05075281 -0.00656504\n",
      "  -0.00130973  0.05777183 -0.05231229 -0.03974625  0.03634124]]\n"
     ]
    },
    {
     "name": "stderr",
     "output_type": "stream",
     "text": [
      "C:\\ProgramData\\Anaconda3\\envs\\env_3_6\\lib\\site-packages\\sklearn\\linear_model\\_logistic.py:765: ConvergenceWarning: lbfgs failed to converge (status=1):\n",
      "STOP: TOTAL NO. of ITERATIONS REACHED LIMIT.\n",
      "\n",
      "Increase the number of iterations (max_iter) or scale the data as shown in:\n",
      "    https://scikit-learn.org/stable/modules/preprocessing.html\n",
      "Please also refer to the documentation for alternative solver options:\n",
      "    https://scikit-learn.org/stable/modules/linear_model.html#logistic-regression\n",
      "  extra_warning_msg=_LOGISTIC_SOLVER_CONVERGENCE_MSG)\n"
     ]
    }
   ],
   "source": [
    "clf = lr(penalty='l2').fit(rain_x_tr, rain_y_tr)\n",
    "print(clf.score(rain_x_te, rain_y_te), clf.score(rain_x_te_true, rain_y_te_true), clf.score(rain_x_te_false, rain_y_te_false))\n",
    "print('Coefficients:', clf.coef_)"
   ]
  },
  {
   "cell_type": "code",
   "execution_count": 37,
   "id": "3834299e",
   "metadata": {},
   "outputs": [
    {
     "name": "stdout",
     "output_type": "stream",
     "text": [
      "0.8464570161753838 0.49842621736715426 0.9456137574510735\n",
      "Coefficients: [[-7.39551671e-03  3.33702003e-03  8.02832419e-03 -2.79659177e-03\n",
      "  -1.21436535e-01  6.03034025e-02 -1.80486156e-02 -2.97133953e-02\n",
      "   1.82910441e-03  6.07634044e-02 -5.75195872e-03 -1.45968911e-02\n",
      "   8.04195284e-04  1.21305131e-01  1.19444729e-02  3.25488965e-02\n",
      "   5.44320698e-01 -7.25334561e-03 -2.92644924e-04 -3.70554952e-02\n",
      "   4.01109362e-02  1.37734476e-01 -5.09364115e-02  1.77907591e-02\n",
      "  -5.26665595e-02  1.72194201e-01 -8.69557410e-02 -9.59326960e-02\n",
      "   1.25558284e-02]]\n"
     ]
    },
    {
     "name": "stderr",
     "output_type": "stream",
     "text": [
      "C:\\ProgramData\\Anaconda3\\envs\\env_3_6\\lib\\site-packages\\sklearn\\svm\\_base.py:986: ConvergenceWarning: Liblinear failed to converge, increase the number of iterations.\n",
      "  \"the number of iterations.\", ConvergenceWarning)\n"
     ]
    }
   ],
   "source": [
    "clf = lr(penalty='l1', solver='liblinear').fit(rain_x_tr, rain_y_tr)\n",
    "print(clf.score(rain_x_te, rain_y_te), clf.score(rain_x_te_true, rain_y_te_true), clf.score(rain_x_te_false, rain_y_te_false))\n",
    "print('Coefficients:', clf.coef_)"
   ]
  },
  {
   "cell_type": "code",
   "execution_count": 39,
   "id": "c242d76c",
   "metadata": {},
   "outputs": [
    {
     "data": {
      "text/plain": [
       "(13, 5000)"
      ]
     },
     "execution_count": 39,
     "metadata": {},
     "output_type": "execute_result"
    }
   ],
   "source": [
    "U[:13].shape"
   ]
  },
  {
   "cell_type": "code",
   "execution_count": 42,
   "id": "76230d49",
   "metadata": {},
   "outputs": [
    {
     "data": {
      "text/plain": [
       "(97432, 29)"
      ]
     },
     "execution_count": 42,
     "metadata": {},
     "output_type": "execute_result"
    }
   ],
   "source": [
    "rain_x_tr.shape"
   ]
  },
  {
   "cell_type": "code",
   "execution_count": null,
   "id": "f9bd6248",
   "metadata": {},
   "outputs": [],
   "source": [
    "# run pca for different numbers of output features, see how loss changes\n",
    "# comparison with lasso (ridge)\n",
    "# and RF to see loss progression"
   ]
  }
 ],
 "metadata": {
  "kernelspec": {
   "display_name": "Python 3",
   "language": "python",
   "name": "python3"
  },
  "language_info": {
   "codemirror_mode": {
    "name": "ipython",
    "version": 3
   },
   "file_extension": ".py",
   "mimetype": "text/x-python",
   "name": "python",
   "nbconvert_exporter": "python",
   "pygments_lexer": "ipython3",
   "version": "3.6.10"
  }
 },
 "nbformat": 4,
 "nbformat_minor": 5
}
