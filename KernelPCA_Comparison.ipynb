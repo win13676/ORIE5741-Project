{
 "cells": [
  {
   "cell_type": "code",
   "execution_count": 1,
   "id": "524fb91d",
   "metadata": {},
   "outputs": [],
   "source": [
    "import numpy as np\n",
    "import pandas as pd\n",
    "import math\n",
    "import sys\n",
    "\n",
    "import matplotlib.pyplot as plt \n",
    "%matplotlib inline\n",
    "\n",
    "import random as rand\n",
    "from collections import defaultdict\n",
    "\n",
    "from sklearn.ensemble import RandomForestClassifier\n",
    "from sklearn.feature_extraction import DictVectorizer\n",
    "from sklearn.linear_model import RidgeClassifier\n",
    "from sklearn.metrics import accuracy_score\n",
    "from sklearn.metrics import confusion_matrix\n",
    "from sklearn.metrics import f1_score\n",
    "from sklearn.model_selection import cross_val_score\n",
    "\n",
    "from sklearn.decomposition import PCA\n",
    "from sklearn.decomposition import KernelPCA\n",
    "\n",
    "\n",
    "\n",
    "from time import time"
   ]
  },
  {
   "cell_type": "code",
   "execution_count": 2,
   "id": "fd5c1acd",
   "metadata": {},
   "outputs": [],
   "source": [
    "adult_test_df = pd.read_csv('datasets/benchmark/adult_clean_test.csv')\n",
    "adult_train_df = pd.read_csv('datasets/benchmark/adult_clean_train.csv')\n",
    "titanic_test_df = pd.read_csv('datasets/benchmark/titanic_clean_test.csv')\n",
    "titanic_train_df = pd.read_csv('datasets/benchmark/titanic_clean_train.csv')\n",
    "weather_test_df = pd.read_csv('datasets/benchmark/weatherAUS_clean_test.csv')\n",
    "weather_train_df = pd.read_csv('datasets/benchmark/weatherAUS_clean_train.csv')\n",
    "wine_test_df = pd.read_csv('datasets/benchmark/wine_test.csv')\n",
    "wine_train_df = pd.read_csv('datasets/benchmark/wine_train.csv')"
   ]
  },
  {
   "cell_type": "code",
   "execution_count": 3,
   "id": "f1438db2",
   "metadata": {},
   "outputs": [],
   "source": [
    "def extract_X_y(df, col_y):\n",
    "    X = df.drop(col_y, axis=1)\n",
    "    y = df[col_y]\n",
    "    return X, y"
   ]
  },
  {
   "cell_type": "code",
   "execution_count": 4,
   "id": "8947d1b8",
   "metadata": {},
   "outputs": [],
   "source": [
    "adult_test_X, adult_test_y = extract_X_y(adult_test_df, 'income_>50k')\n",
    "adult_train_X, adult_train_y = extract_X_y(adult_train_df, 'income_>50k')\n",
    "\n",
    "titanic_test_X, titanic_test_y = extract_X_y(titanic_test_df, 'Survived')\n",
    "titanic_train_X, titanic_train_y = extract_X_y(titanic_train_df, 'Survived')\n",
    "\n",
    "weather_test_X, weather_test_y = extract_X_y(weather_test_df, 'RainTomorrow')\n",
    "weather_train_X, weather_train_y = extract_X_y(weather_train_df, 'RainTomorrow')\n",
    "\n",
    "wine_test_X, wine_test_y = extract_X_y(wine_test_df, 'quality')\n",
    "wine_train_X, wine_train_y = extract_X_y(wine_train_df, 'quality')"
   ]
  },
  {
   "cell_type": "code",
   "execution_count": 5,
   "id": "568c8162",
   "metadata": {},
   "outputs": [],
   "source": [
    "def df_features_to_dicts(df):\n",
    "    columns = df.columns\n",
    "    dicts = []\n",
    "   \n",
    "    for index, row in df.iterrows():\n",
    "        feature_dict = {}\n",
    "        for col in columns:\n",
    "            feature_dict[col] = row[col]\n",
    "        dicts.append(feature_dict)\n",
    "    return dicts"
   ]
  },
  {
   "cell_type": "code",
   "execution_count": 6,
   "id": "64b6aa93",
   "metadata": {},
   "outputs": [],
   "source": [
    "adult_test_dict_X = df_features_to_dicts(adult_test_X)\n",
    "adult_train_dict_X = df_features_to_dicts(adult_train_X)\n",
    "\n",
    "titanic_test_dict_X = df_features_to_dicts(titanic_test_X)\n",
    "titanic_train_dict_X = df_features_to_dicts(titanic_train_X)\n",
    "\n",
    "weather_test_dict_X = df_features_to_dicts(weather_test_X)\n",
    "weather_train_dict_X = df_features_to_dicts(weather_train_X)\n",
    "\n",
    "wine_test_dict_X = df_features_to_dicts(wine_test_X)\n",
    "wine_train_dict_X = df_features_to_dicts(wine_train_X)"
   ]
  },
  {
   "cell_type": "code",
   "execution_count": 7,
   "id": "8791d356",
   "metadata": {},
   "outputs": [
    {
     "data": {
      "text/plain": [
       "(1047, 20)"
      ]
     },
     "execution_count": 7,
     "metadata": {},
     "output_type": "execute_result"
    }
   ],
   "source": [
    "titanic_train_X.shape"
   ]
  },
  {
   "cell_type": "code",
   "execution_count": 8,
   "id": "03eda85e",
   "metadata": {},
   "outputs": [
    {
     "data": {
      "text/plain": [
       "(1047,)"
      ]
     },
     "execution_count": 8,
     "metadata": {},
     "output_type": "execute_result"
    }
   ],
   "source": [
    "titanic_train_y.shape"
   ]
  },
  {
   "cell_type": "code",
   "execution_count": 9,
   "id": "a4f9b1d2",
   "metadata": {},
   "outputs": [
    {
     "data": {
      "text/plain": [
       "1047"
      ]
     },
     "execution_count": 9,
     "metadata": {},
     "output_type": "execute_result"
    }
   ],
   "source": [
    "len(titanic_train_dict_X)"
   ]
  },
  {
   "cell_type": "code",
   "execution_count": 10,
   "id": "5730a1e2",
   "metadata": {},
   "outputs": [],
   "source": [
    "def compute_score(model, test_X, test_y):\n",
    "    pred = model.predict(test_X)\n",
    "    acc = accuracy_score(pred, test_y)\n",
    "    f1 = f1_score(pred, test_y)\n",
    "    conf = confusion_matrix(pred, test_y)\n",
    "\n",
    "    return acc, f1, conf"
   ]
  },
  {
   "cell_type": "code",
   "execution_count": 11,
   "id": "163c8655",
   "metadata": {},
   "outputs": [],
   "source": [
    "def fit_compute_score(model, train_X, train_y, test_X, test_y):\n",
    "    t0 = time()\n",
    "    model.fit(train_X, train_y)\n",
    "    duration = time() - t0\n",
    "    train_acc, train_f1, train_conf = compute_score(model, train_X, train_y)\n",
    "    test_acc, test_f1, test_conf = compute_score(model, test_X, test_y)\n",
    "    print(\"duration\", duration)\n",
    "    print(\"train accuracy\", train_acc)\n",
    "    print(\"train f1\", train_f1)\n",
    "    print(\"train tn, fp, fn, tp\", train_conf.ravel()) \n",
    "    print(\"test accuracy\", test_acc)\n",
    "    print(\"test f1\", test_f1)\n",
    "    print(\"test tn, fp, fn, tp\", test_conf.ravel())\n",
    "    print()\n",
    "    \n",
    "    return train_acc, train_f1, train_conf, test_acc, test_f1, test_conf"
   ]
  },
  {
   "cell_type": "code",
   "execution_count": 12,
   "id": "60520bf5",
   "metadata": {},
   "outputs": [],
   "source": [
    "def compare_feature_hashing(train_X, train_dict_X, train_y, test_X, test_dict_X, test_y):\n",
    "    clf_ridge_default = RidgeClassifier()\n",
    "    print('ridge_default')\n",
    "    ridge_default_train_acc, ridge_default_train_f1, ridge_default_train_conf, \\\n",
    "        ridge_default_test_acc, ridge_default_test_f1, ridge_default_test_conf = \\\n",
    "        fit_compute_score(clf_ridge_default, train_X, train_y, test_X, test_y)\n",
    "\n",
    "    n_estimators = 1000\n",
    "    clf_randfor_default = RandomForestClassifier(n_jobs=-1, n_estimators=n_estimators)\n",
    "    print('randfor_default')\n",
    "    randfor_default_train_acc, randfor_default_train_f1, randfor_default_train_conf, \\\n",
    "        randfor_default_test_acc, randfor_default_test_f1, randfor_default_test_conf = \\\n",
    "        fit_compute_score(clf_randfor_default, train_X, train_y, test_X, test_y)\n",
    "\n",
    "    ridge_train_acc = []\n",
    "    ridge_train_f1 = []\n",
    "    ridge_train_conf = []\n",
    "    ridge_test_acc = []\n",
    "    ridge_test_f1 = []\n",
    "    ridge_test_conf = []\n",
    "    randfor_train_acc = []\n",
    "    randfor_train_f1 = []\n",
    "    randfor_train_conf = []\n",
    "    randfor_test_acc = []\n",
    "    randfor_test_f1 = []\n",
    "    randfor_test_conf = []\n",
    "    \n",
    "#     for i in range(1, 30):\n",
    "#     pca = PCA(n_components=i)\n",
    "#     pcan = PCA(n_components=i)\n",
    "#     pca.fit(rain_x_tr)\n",
    "#     pcan.fit(rain_norm_x_tr)\n",
    "    \n",
    "#     clf = lr(penalty='l2').fit(pca.transform(rain_x_tr), rain_y_tr)\n",
    "#     clfn = lr(penalty='l2').fit(pcan.transform(rain_norm_x_tr), rain_y_tr)\n",
    "    \n",
    "#     cmatrices.append(cm(rain_y_te, clf.predict(pca.transform(rain_x_te))))\n",
    "#     cmatricesn.append(cm(rain_norm_y_te, clfn.predict(pcan.transform(rain_norm_x_te))))\n",
    "    \n",
    "#     scores.append(clf.score(pca.transform(rain_x_te_true), rain_y_te_true))\n",
    "#     scoresn.append(clfn.score(pcan.transform(rain_norm_x_te_true), rain_norm_y_te_true))\n",
    "    \n",
    "    t = np.arange(2, 11, 2)\n",
    "    \n",
    "    for i in t:\n",
    "        percent = 0.1*i\n",
    "        n_features = math.ceil(train_X.shape[1]*percent)\n",
    "        print(\"small percent\", percent, \"n_features\", n_features)\n",
    "        print()\n",
    "        pca = KernelPCA(n_components=n_features, kernel='rbf')\n",
    "        # hasher = FeatureHasher(n_features=n_features)\n",
    "        train_X_small = pca.fit_transform(train_X)\n",
    "        test_X_small = pca.transform(test_X)\n",
    "\n",
    "        clf_ridge_small = RidgeClassifier()\n",
    "        print('ridge_small')\n",
    "        ridge_small_train_acc, ridge_small_train_f1, ridge_small_train_conf, \\\n",
    "            ridge_small_test_acc, ridge_small_test_f1, ridge_small_test_conf = \\\n",
    "            fit_compute_score(clf_ridge_small, train_X_small, train_y, test_X_small, test_y)\n",
    "        ridge_train_acc.append(ridge_small_train_acc)\n",
    "        ridge_train_f1.append(ridge_small_train_f1)\n",
    "        ridge_train_conf.append(ridge_small_train_conf)\n",
    "        ridge_test_acc.append(ridge_small_test_acc)\n",
    "        ridge_test_f1.append(ridge_small_test_f1)\n",
    "        ridge_test_conf.append(ridge_small_test_conf)\n",
    "\n",
    "        clf_randfor_small = RandomForestClassifier(n_jobs=-1, n_estimators=n_estimators)\n",
    "        print('randfor_small')\n",
    "        randfor_small_train_acc, randfor_small_train_f1, randfor_small_train_conf, \\\n",
    "            randfor_small_test_acc, randfor_small_test_f1, randfor_small_test_conf = \\\n",
    "            fit_compute_score(clf_randfor_small, train_X_small, train_y, test_X_small, test_y)\n",
    "        randfor_train_acc.append(randfor_small_train_acc)\n",
    "        randfor_train_f1.append(randfor_small_train_f1)\n",
    "        randfor_train_conf.append(randfor_small_train_conf)\n",
    "        randfor_test_acc.append(randfor_small_test_acc)\n",
    "        randfor_test_f1.append(randfor_small_test_f1)\n",
    "        randfor_test_conf.append(randfor_small_test_conf)\n",
    "\n",
    "    fig, ax = plt.subplots(2, 2, figsize=(15,10), tight_layout=True)\n",
    "    \n",
    "    ax[0,0].plot(t, ridge_default_train_acc*np.ones(5), label='ridge_default')\n",
    "    ax[0,0].plot(t, randfor_default_train_acc*np.ones(5), label='randfor_default')\n",
    "    ax[0,0].plot(t, ridge_train_acc, label='ridge_small')\n",
    "    ax[0,0].plot(t, randfor_train_acc, label='randfor_small')\n",
    "    ax[0,0].set(xlabel='features', ylabel='accuracy', title='train')\n",
    "    ax[0,0].legend()\n",
    "\n",
    "    ax[0,1].plot(t, ridge_default_test_acc*np.ones(5), label='ridge_default')\n",
    "    ax[0,1].plot(t, randfor_default_test_acc*np.ones(5), label='randfor_default')\n",
    "    ax[0,1].plot(t, ridge_test_acc, label='ridge_small')\n",
    "    ax[0,1].plot(t, randfor_test_acc, label='randfor_small')\n",
    "    ax[0,1].set(xlabel='features', ylabel='accuracy', title='test')\n",
    "    ax[0,1].legend()\n",
    "    \n",
    "    ax[1,0].plot(t, ridge_default_train_f1*np.ones(5), label='ridge_default')\n",
    "    ax[1,0].plot(t, randfor_default_train_f1*np.ones(5), label='randfor_default')\n",
    "    ax[1,0].plot(t, ridge_train_f1, label='ridge_small')\n",
    "    ax[1,0].plot(t, randfor_train_f1, label='randfor_small')\n",
    "    ax[1,0].set(xlabel='features', ylabel='f1', title='train')\n",
    "    ax[1,0].legend()\n",
    "    \n",
    "    ax[1,1].plot(t, ridge_default_test_f1*np.ones(5), label='ridge_default')\n",
    "    ax[1,1].plot(t, randfor_default_test_f1*np.ones(5), label='randfor_default')\n",
    "    ax[1,1].plot(t, ridge_test_f1, label='ridge_small')\n",
    "    ax[1,1].plot(t, randfor_test_f1, label='randfor_small')\n",
    "    ax[1,1].set(xlabel='features', ylabel='f1', title='test')\n",
    "    ax[1,1].legend()\n",
    "\n",
    "    plt.show()"
   ]
  },
  {
   "cell_type": "code",
   "execution_count": null,
   "id": "cb4fd55d",
   "metadata": {
    "scrolled": true
   },
   "outputs": [
    {
     "name": "stdout",
     "output_type": "stream",
     "text": [
      "ridge_default\n",
      "duration 0.12198281288146973\n",
      "train accuracy 0.8433445089959819\n",
      "train f1 0.6108462076419353\n",
      "train tn, fp, fn, tp [28148  4476  1645  4804]\n",
      "test accuracy 0.8356024158050978\n",
      "test f1 0.6044334975369458\n",
      "test tn, fp, fn, tp [6936 1180  426 1227]\n",
      "\n",
      "randfor_default\n",
      "duration 7.944009304046631\n",
      "train accuracy 0.9999488137588616\n",
      "train f1 0.9998922413793103\n",
      "train tn, fp, fn, tp [29792     1     1  9279]\n",
      "test accuracy 0.8554611526256526\n",
      "test f1 0.6774783005938785\n",
      "test tn, fp, fn, tp [6874  924  488 1483]\n",
      "\n",
      "small percent 0.2 n_features 19\n",
      "\n"
     ]
    }
   ],
   "source": [
    "compare_feature_hashing(adult_train_X, adult_train_dict_X, adult_train_y, adult_test_X, adult_test_dict_X, adult_test_y)"
   ]
  },
  {
   "cell_type": "code",
   "execution_count": null,
   "id": "946d5745",
   "metadata": {},
   "outputs": [],
   "source": [
    "compare_feature_hashing(titanic_train_X, titanic_train_dict_X, titanic_train_y, titanic_test_X, titanic_test_dict_X, titanic_test_y)"
   ]
  },
  {
   "cell_type": "code",
   "execution_count": null,
   "id": "9d329bba",
   "metadata": {},
   "outputs": [],
   "source": [
    "compare_feature_hashing(weather_train_X, weather_train_dict_X, weather_train_y, weather_test_X, weather_test_dict_X, weather_test_y)"
   ]
  },
  {
   "cell_type": "code",
   "execution_count": null,
   "id": "d67eaa0a",
   "metadata": {},
   "outputs": [],
   "source": [
    "compare_feature_hashing(wine_train_X, wine_train_dict_X, wine_train_y, wine_test_X, wine_test_dict_X, wine_test_y)"
   ]
  },
  {
   "cell_type": "code",
   "execution_count": null,
   "id": "165bb82c",
   "metadata": {},
   "outputs": [],
   "source": []
  }
 ],
 "metadata": {
  "kernelspec": {
   "display_name": "Python 3",
   "language": "python",
   "name": "python3"
  },
  "language_info": {
   "codemirror_mode": {
    "name": "ipython",
    "version": 3
   },
   "file_extension": ".py",
   "mimetype": "text/x-python",
   "name": "python",
   "nbconvert_exporter": "python",
   "pygments_lexer": "ipython3",
   "version": "3.6.10"
  }
 },
 "nbformat": 4,
 "nbformat_minor": 5
}
