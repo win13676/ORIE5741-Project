{
 "cells": [
  {
   "cell_type": "code",
   "execution_count": 1,
   "id": "a06a596e",
   "metadata": {},
   "outputs": [],
   "source": [
    "import numpy as np\n",
    "import pandas as pd\n",
    "import math\n",
    "import sys\n",
    "\n",
    "import matplotlib.pyplot as plt \n",
    "%matplotlib inline\n",
    "\n",
    "import random as rand\n",
    "from collections import defaultdict\n",
    "\n",
    "from sklearn.feature_extraction import DictVectorizer, FeatureHasher\n",
    "from sklearn.linear_model import RidgeClassifier\n",
    "from sklearn.ensemble import RandomForestClassifier\n",
    "from sklearn.model_selection import cross_val_score\n",
    "\n",
    "from time import time"
   ]
  },
  {
   "cell_type": "code",
   "execution_count": 2,
   "id": "3cb394b5",
   "metadata": {},
   "outputs": [],
   "source": [
    "adult_df = pd.read_csv('datasets/adult_clean.csv')"
   ]
  },
  {
   "cell_type": "code",
   "execution_count": 3,
   "id": "64316389",
   "metadata": {},
   "outputs": [],
   "source": [
    "adult_normalize_df = pd.read_csv('datasets/adult_normalize_clean.csv')"
   ]
  },
  {
   "cell_type": "code",
   "execution_count": 4,
   "id": "0e04c413",
   "metadata": {},
   "outputs": [],
   "source": [
    "weather_df = pd.read_csv('datasets/weatherAUS_clean.csv')"
   ]
  },
  {
   "cell_type": "code",
   "execution_count": 5,
   "id": "24523d5d",
   "metadata": {},
   "outputs": [],
   "source": [
    "wine_df = pd.read_csv('datasets/winequality-red.csv', sep=';')"
   ]
  },
  {
   "cell_type": "code",
   "execution_count": 6,
   "id": "0c24649a",
   "metadata": {},
   "outputs": [],
   "source": [
    "titanic_df = pd.read_csv('datasets/titanic_clean.csv')"
   ]
  },
  {
   "cell_type": "code",
   "execution_count": 7,
   "id": "8934c7ba",
   "metadata": {},
   "outputs": [
    {
     "data": {
      "text/html": [
       "<div>\n",
       "<style scoped>\n",
       "    .dataframe tbody tr th:only-of-type {\n",
       "        vertical-align: middle;\n",
       "    }\n",
       "\n",
       "    .dataframe tbody tr th {\n",
       "        vertical-align: top;\n",
       "    }\n",
       "\n",
       "    .dataframe thead th {\n",
       "        text-align: right;\n",
       "    }\n",
       "</style>\n",
       "<table border=\"1\" class=\"dataframe\">\n",
       "  <thead>\n",
       "    <tr style=\"text-align: right;\">\n",
       "      <th></th>\n",
       "      <th>Unnamed: 0</th>\n",
       "      <th>MinTemp</th>\n",
       "      <th>MaxTemp</th>\n",
       "      <th>Rainfall</th>\n",
       "      <th>Evaporation</th>\n",
       "      <th>Sunshine</th>\n",
       "      <th>WindGustSpeed</th>\n",
       "      <th>WindSpeed9am</th>\n",
       "      <th>WindSpeed3pm</th>\n",
       "      <th>Humidity9am</th>\n",
       "      <th>...</th>\n",
       "      <th>WindGustDir_W</th>\n",
       "      <th>WindDir9am_N</th>\n",
       "      <th>WindDir9am_S</th>\n",
       "      <th>WindDir9am_E</th>\n",
       "      <th>WindDir9am_W</th>\n",
       "      <th>WindDir3pm_N</th>\n",
       "      <th>WindDir3pm_S</th>\n",
       "      <th>WindDir3pm_E</th>\n",
       "      <th>WindDir3pm_W</th>\n",
       "      <th>RainTomorrow</th>\n",
       "    </tr>\n",
       "  </thead>\n",
       "  <tbody>\n",
       "    <tr>\n",
       "      <th>0</th>\n",
       "      <td>0</td>\n",
       "      <td>13.4</td>\n",
       "      <td>22.9</td>\n",
       "      <td>0.6</td>\n",
       "      <td>24.666201</td>\n",
       "      <td>7.20069</td>\n",
       "      <td>44.0</td>\n",
       "      <td>20.0</td>\n",
       "      <td>24.0</td>\n",
       "      <td>71.0</td>\n",
       "      <td>...</td>\n",
       "      <td>1.0</td>\n",
       "      <td>0.0</td>\n",
       "      <td>0.0</td>\n",
       "      <td>0.0</td>\n",
       "      <td>1.0</td>\n",
       "      <td>1.0</td>\n",
       "      <td>0.0</td>\n",
       "      <td>0.0</td>\n",
       "      <td>2.0</td>\n",
       "      <td>0.0</td>\n",
       "    </tr>\n",
       "    <tr>\n",
       "      <th>1</th>\n",
       "      <td>1</td>\n",
       "      <td>7.4</td>\n",
       "      <td>25.1</td>\n",
       "      <td>0.0</td>\n",
       "      <td>24.666201</td>\n",
       "      <td>7.20069</td>\n",
       "      <td>44.0</td>\n",
       "      <td>4.0</td>\n",
       "      <td>22.0</td>\n",
       "      <td>44.0</td>\n",
       "      <td>...</td>\n",
       "      <td>2.0</td>\n",
       "      <td>2.0</td>\n",
       "      <td>0.0</td>\n",
       "      <td>0.0</td>\n",
       "      <td>1.0</td>\n",
       "      <td>0.0</td>\n",
       "      <td>1.0</td>\n",
       "      <td>0.0</td>\n",
       "      <td>2.0</td>\n",
       "      <td>0.0</td>\n",
       "    </tr>\n",
       "    <tr>\n",
       "      <th>2</th>\n",
       "      <td>2</td>\n",
       "      <td>12.9</td>\n",
       "      <td>25.7</td>\n",
       "      <td>0.0</td>\n",
       "      <td>24.666201</td>\n",
       "      <td>7.20069</td>\n",
       "      <td>46.0</td>\n",
       "      <td>19.0</td>\n",
       "      <td>26.0</td>\n",
       "      <td>38.0</td>\n",
       "      <td>...</td>\n",
       "      <td>2.0</td>\n",
       "      <td>0.0</td>\n",
       "      <td>0.0</td>\n",
       "      <td>0.0</td>\n",
       "      <td>1.0</td>\n",
       "      <td>0.0</td>\n",
       "      <td>1.0</td>\n",
       "      <td>0.0</td>\n",
       "      <td>2.0</td>\n",
       "      <td>0.0</td>\n",
       "    </tr>\n",
       "    <tr>\n",
       "      <th>3</th>\n",
       "      <td>3</td>\n",
       "      <td>9.2</td>\n",
       "      <td>28.0</td>\n",
       "      <td>0.0</td>\n",
       "      <td>24.666201</td>\n",
       "      <td>7.20069</td>\n",
       "      <td>24.0</td>\n",
       "      <td>11.0</td>\n",
       "      <td>9.0</td>\n",
       "      <td>45.0</td>\n",
       "      <td>...</td>\n",
       "      <td>0.0</td>\n",
       "      <td>0.0</td>\n",
       "      <td>1.0</td>\n",
       "      <td>1.0</td>\n",
       "      <td>0.0</td>\n",
       "      <td>0.0</td>\n",
       "      <td>0.0</td>\n",
       "      <td>1.0</td>\n",
       "      <td>0.0</td>\n",
       "      <td>0.0</td>\n",
       "    </tr>\n",
       "    <tr>\n",
       "      <th>4</th>\n",
       "      <td>4</td>\n",
       "      <td>17.5</td>\n",
       "      <td>32.3</td>\n",
       "      <td>1.0</td>\n",
       "      <td>24.666201</td>\n",
       "      <td>7.20069</td>\n",
       "      <td>41.0</td>\n",
       "      <td>7.0</td>\n",
       "      <td>20.0</td>\n",
       "      <td>82.0</td>\n",
       "      <td>...</td>\n",
       "      <td>1.0</td>\n",
       "      <td>1.0</td>\n",
       "      <td>0.0</td>\n",
       "      <td>2.0</td>\n",
       "      <td>0.0</td>\n",
       "      <td>1.0</td>\n",
       "      <td>0.0</td>\n",
       "      <td>0.0</td>\n",
       "      <td>1.0</td>\n",
       "      <td>0.0</td>\n",
       "    </tr>\n",
       "  </tbody>\n",
       "</table>\n",
       "<p>5 rows × 31 columns</p>\n",
       "</div>"
      ],
      "text/plain": [
       "   Unnamed: 0  MinTemp  MaxTemp  Rainfall  Evaporation  Sunshine  \\\n",
       "0           0     13.4     22.9       0.6    24.666201   7.20069   \n",
       "1           1      7.4     25.1       0.0    24.666201   7.20069   \n",
       "2           2     12.9     25.7       0.0    24.666201   7.20069   \n",
       "3           3      9.2     28.0       0.0    24.666201   7.20069   \n",
       "4           4     17.5     32.3       1.0    24.666201   7.20069   \n",
       "\n",
       "   WindGustSpeed  WindSpeed9am  WindSpeed3pm  Humidity9am  ...  WindGustDir_W  \\\n",
       "0           44.0          20.0          24.0         71.0  ...            1.0   \n",
       "1           44.0           4.0          22.0         44.0  ...            2.0   \n",
       "2           46.0          19.0          26.0         38.0  ...            2.0   \n",
       "3           24.0          11.0           9.0         45.0  ...            0.0   \n",
       "4           41.0           7.0          20.0         82.0  ...            1.0   \n",
       "\n",
       "   WindDir9am_N  WindDir9am_S  WindDir9am_E  WindDir9am_W  WindDir3pm_N  \\\n",
       "0           0.0           0.0           0.0           1.0           1.0   \n",
       "1           2.0           0.0           0.0           1.0           0.0   \n",
       "2           0.0           0.0           0.0           1.0           0.0   \n",
       "3           0.0           1.0           1.0           0.0           0.0   \n",
       "4           1.0           0.0           2.0           0.0           1.0   \n",
       "\n",
       "   WindDir3pm_S  WindDir3pm_E  WindDir3pm_W  RainTomorrow  \n",
       "0           0.0           0.0           2.0           0.0  \n",
       "1           1.0           0.0           2.0           0.0  \n",
       "2           1.0           0.0           2.0           0.0  \n",
       "3           0.0           1.0           0.0           0.0  \n",
       "4           0.0           0.0           1.0           0.0  \n",
       "\n",
       "[5 rows x 31 columns]"
      ]
     },
     "execution_count": 7,
     "metadata": {},
     "output_type": "execute_result"
    }
   ],
   "source": [
    "weather_df.head()"
   ]
  },
  {
   "cell_type": "code",
   "execution_count": 8,
   "id": "c061d2b6",
   "metadata": {},
   "outputs": [
    {
     "data": {
      "text/html": [
       "<div>\n",
       "<style scoped>\n",
       "    .dataframe tbody tr th:only-of-type {\n",
       "        vertical-align: middle;\n",
       "    }\n",
       "\n",
       "    .dataframe tbody tr th {\n",
       "        vertical-align: top;\n",
       "    }\n",
       "\n",
       "    .dataframe thead th {\n",
       "        text-align: right;\n",
       "    }\n",
       "</style>\n",
       "<table border=\"1\" class=\"dataframe\">\n",
       "  <thead>\n",
       "    <tr style=\"text-align: right;\">\n",
       "      <th></th>\n",
       "      <th>Unnamed: 0</th>\n",
       "      <th>age</th>\n",
       "      <th>fnlwgt</th>\n",
       "      <th>education_num</th>\n",
       "      <th>capital_gain</th>\n",
       "      <th>capital_loss</th>\n",
       "      <th>hours_per_week</th>\n",
       "      <th>workclass_ ?</th>\n",
       "      <th>workclass_ Federal-gov</th>\n",
       "      <th>workclass_ Local-gov</th>\n",
       "      <th>...</th>\n",
       "      <th>native_country_ Puerto-Rico</th>\n",
       "      <th>native_country_ Scotland</th>\n",
       "      <th>native_country_ South</th>\n",
       "      <th>native_country_ Taiwan</th>\n",
       "      <th>native_country_ Thailand</th>\n",
       "      <th>native_country_ Trinadad&amp;Tobago</th>\n",
       "      <th>native_country_ United-States</th>\n",
       "      <th>native_country_ Vietnam</th>\n",
       "      <th>native_country_ Yugoslavia</th>\n",
       "      <th>income_&gt;50k</th>\n",
       "    </tr>\n",
       "  </thead>\n",
       "  <tbody>\n",
       "    <tr>\n",
       "      <th>0</th>\n",
       "      <td>0</td>\n",
       "      <td>39</td>\n",
       "      <td>77516</td>\n",
       "      <td>13</td>\n",
       "      <td>2174</td>\n",
       "      <td>0</td>\n",
       "      <td>40</td>\n",
       "      <td>0</td>\n",
       "      <td>0</td>\n",
       "      <td>0</td>\n",
       "      <td>...</td>\n",
       "      <td>0</td>\n",
       "      <td>0</td>\n",
       "      <td>0</td>\n",
       "      <td>0</td>\n",
       "      <td>0</td>\n",
       "      <td>0</td>\n",
       "      <td>1</td>\n",
       "      <td>0</td>\n",
       "      <td>0</td>\n",
       "      <td>0</td>\n",
       "    </tr>\n",
       "    <tr>\n",
       "      <th>1</th>\n",
       "      <td>1</td>\n",
       "      <td>50</td>\n",
       "      <td>83311</td>\n",
       "      <td>13</td>\n",
       "      <td>0</td>\n",
       "      <td>0</td>\n",
       "      <td>13</td>\n",
       "      <td>0</td>\n",
       "      <td>0</td>\n",
       "      <td>0</td>\n",
       "      <td>...</td>\n",
       "      <td>0</td>\n",
       "      <td>0</td>\n",
       "      <td>0</td>\n",
       "      <td>0</td>\n",
       "      <td>0</td>\n",
       "      <td>0</td>\n",
       "      <td>1</td>\n",
       "      <td>0</td>\n",
       "      <td>0</td>\n",
       "      <td>0</td>\n",
       "    </tr>\n",
       "    <tr>\n",
       "      <th>2</th>\n",
       "      <td>2</td>\n",
       "      <td>38</td>\n",
       "      <td>215646</td>\n",
       "      <td>9</td>\n",
       "      <td>0</td>\n",
       "      <td>0</td>\n",
       "      <td>40</td>\n",
       "      <td>0</td>\n",
       "      <td>0</td>\n",
       "      <td>0</td>\n",
       "      <td>...</td>\n",
       "      <td>0</td>\n",
       "      <td>0</td>\n",
       "      <td>0</td>\n",
       "      <td>0</td>\n",
       "      <td>0</td>\n",
       "      <td>0</td>\n",
       "      <td>1</td>\n",
       "      <td>0</td>\n",
       "      <td>0</td>\n",
       "      <td>0</td>\n",
       "    </tr>\n",
       "    <tr>\n",
       "      <th>3</th>\n",
       "      <td>3</td>\n",
       "      <td>53</td>\n",
       "      <td>234721</td>\n",
       "      <td>7</td>\n",
       "      <td>0</td>\n",
       "      <td>0</td>\n",
       "      <td>40</td>\n",
       "      <td>0</td>\n",
       "      <td>0</td>\n",
       "      <td>0</td>\n",
       "      <td>...</td>\n",
       "      <td>0</td>\n",
       "      <td>0</td>\n",
       "      <td>0</td>\n",
       "      <td>0</td>\n",
       "      <td>0</td>\n",
       "      <td>0</td>\n",
       "      <td>1</td>\n",
       "      <td>0</td>\n",
       "      <td>0</td>\n",
       "      <td>0</td>\n",
       "    </tr>\n",
       "    <tr>\n",
       "      <th>4</th>\n",
       "      <td>4</td>\n",
       "      <td>28</td>\n",
       "      <td>338409</td>\n",
       "      <td>13</td>\n",
       "      <td>0</td>\n",
       "      <td>0</td>\n",
       "      <td>40</td>\n",
       "      <td>0</td>\n",
       "      <td>0</td>\n",
       "      <td>0</td>\n",
       "      <td>...</td>\n",
       "      <td>0</td>\n",
       "      <td>0</td>\n",
       "      <td>0</td>\n",
       "      <td>0</td>\n",
       "      <td>0</td>\n",
       "      <td>0</td>\n",
       "      <td>0</td>\n",
       "      <td>0</td>\n",
       "      <td>0</td>\n",
       "      <td>0</td>\n",
       "    </tr>\n",
       "  </tbody>\n",
       "</table>\n",
       "<p>5 rows × 94 columns</p>\n",
       "</div>"
      ],
      "text/plain": [
       "   Unnamed: 0  age  fnlwgt  education_num  capital_gain  capital_loss  \\\n",
       "0           0   39   77516             13          2174             0   \n",
       "1           1   50   83311             13             0             0   \n",
       "2           2   38  215646              9             0             0   \n",
       "3           3   53  234721              7             0             0   \n",
       "4           4   28  338409             13             0             0   \n",
       "\n",
       "   hours_per_week  workclass_ ?  workclass_ Federal-gov  workclass_ Local-gov  \\\n",
       "0              40             0                       0                     0   \n",
       "1              13             0                       0                     0   \n",
       "2              40             0                       0                     0   \n",
       "3              40             0                       0                     0   \n",
       "4              40             0                       0                     0   \n",
       "\n",
       "   ...  native_country_ Puerto-Rico  native_country_ Scotland  \\\n",
       "0  ...                            0                         0   \n",
       "1  ...                            0                         0   \n",
       "2  ...                            0                         0   \n",
       "3  ...                            0                         0   \n",
       "4  ...                            0                         0   \n",
       "\n",
       "   native_country_ South  native_country_ Taiwan  native_country_ Thailand  \\\n",
       "0                      0                       0                         0   \n",
       "1                      0                       0                         0   \n",
       "2                      0                       0                         0   \n",
       "3                      0                       0                         0   \n",
       "4                      0                       0                         0   \n",
       "\n",
       "   native_country_ Trinadad&Tobago  native_country_ United-States  \\\n",
       "0                                0                              1   \n",
       "1                                0                              1   \n",
       "2                                0                              1   \n",
       "3                                0                              1   \n",
       "4                                0                              0   \n",
       "\n",
       "   native_country_ Vietnam  native_country_ Yugoslavia  income_>50k  \n",
       "0                        0                           0            0  \n",
       "1                        0                           0            0  \n",
       "2                        0                           0            0  \n",
       "3                        0                           0            0  \n",
       "4                        0                           0            0  \n",
       "\n",
       "[5 rows x 94 columns]"
      ]
     },
     "execution_count": 8,
     "metadata": {},
     "output_type": "execute_result"
    }
   ],
   "source": [
    "adult_df.head()"
   ]
  },
  {
   "cell_type": "code",
   "execution_count": null,
   "id": "528882f5",
   "metadata": {},
   "outputs": [],
   "source": [
    "adult_df.columns"
   ]
  },
  {
   "cell_type": "code",
   "execution_count": 9,
   "id": "1f225b39",
   "metadata": {
    "scrolled": true
   },
   "outputs": [
    {
     "data": {
      "text/html": [
       "<div>\n",
       "<style scoped>\n",
       "    .dataframe tbody tr th:only-of-type {\n",
       "        vertical-align: middle;\n",
       "    }\n",
       "\n",
       "    .dataframe tbody tr th {\n",
       "        vertical-align: top;\n",
       "    }\n",
       "\n",
       "    .dataframe thead th {\n",
       "        text-align: right;\n",
       "    }\n",
       "</style>\n",
       "<table border=\"1\" class=\"dataframe\">\n",
       "  <thead>\n",
       "    <tr style=\"text-align: right;\">\n",
       "      <th></th>\n",
       "      <th>Unnamed: 0</th>\n",
       "      <th>Survived</th>\n",
       "      <th>Pclass</th>\n",
       "      <th>Age</th>\n",
       "      <th>SibSp</th>\n",
       "      <th>Parch</th>\n",
       "      <th>Fare</th>\n",
       "      <th>HasTitle</th>\n",
       "      <th>Sex_female</th>\n",
       "      <th>Sex_male</th>\n",
       "      <th>...</th>\n",
       "      <th>CabinType_C</th>\n",
       "      <th>CabinType_D</th>\n",
       "      <th>CabinType_E</th>\n",
       "      <th>CabinType_F</th>\n",
       "      <th>CabinType_G</th>\n",
       "      <th>CabinType_NaN</th>\n",
       "      <th>CabinType_T</th>\n",
       "      <th>Embarked_C</th>\n",
       "      <th>Embarked_Q</th>\n",
       "      <th>Embarked_S</th>\n",
       "    </tr>\n",
       "  </thead>\n",
       "  <tbody>\n",
       "    <tr>\n",
       "      <th>0</th>\n",
       "      <td>0</td>\n",
       "      <td>0</td>\n",
       "      <td>3</td>\n",
       "      <td>22.0</td>\n",
       "      <td>1</td>\n",
       "      <td>0</td>\n",
       "      <td>7.2500</td>\n",
       "      <td>0</td>\n",
       "      <td>0</td>\n",
       "      <td>1</td>\n",
       "      <td>...</td>\n",
       "      <td>0</td>\n",
       "      <td>0</td>\n",
       "      <td>0</td>\n",
       "      <td>0</td>\n",
       "      <td>0</td>\n",
       "      <td>1</td>\n",
       "      <td>0</td>\n",
       "      <td>0</td>\n",
       "      <td>0</td>\n",
       "      <td>1</td>\n",
       "    </tr>\n",
       "    <tr>\n",
       "      <th>1</th>\n",
       "      <td>1</td>\n",
       "      <td>1</td>\n",
       "      <td>1</td>\n",
       "      <td>38.0</td>\n",
       "      <td>1</td>\n",
       "      <td>0</td>\n",
       "      <td>71.2833</td>\n",
       "      <td>0</td>\n",
       "      <td>1</td>\n",
       "      <td>0</td>\n",
       "      <td>...</td>\n",
       "      <td>1</td>\n",
       "      <td>0</td>\n",
       "      <td>0</td>\n",
       "      <td>0</td>\n",
       "      <td>0</td>\n",
       "      <td>0</td>\n",
       "      <td>0</td>\n",
       "      <td>1</td>\n",
       "      <td>0</td>\n",
       "      <td>0</td>\n",
       "    </tr>\n",
       "    <tr>\n",
       "      <th>2</th>\n",
       "      <td>2</td>\n",
       "      <td>1</td>\n",
       "      <td>3</td>\n",
       "      <td>26.0</td>\n",
       "      <td>0</td>\n",
       "      <td>0</td>\n",
       "      <td>7.9250</td>\n",
       "      <td>0</td>\n",
       "      <td>1</td>\n",
       "      <td>0</td>\n",
       "      <td>...</td>\n",
       "      <td>0</td>\n",
       "      <td>0</td>\n",
       "      <td>0</td>\n",
       "      <td>0</td>\n",
       "      <td>0</td>\n",
       "      <td>1</td>\n",
       "      <td>0</td>\n",
       "      <td>0</td>\n",
       "      <td>0</td>\n",
       "      <td>1</td>\n",
       "    </tr>\n",
       "    <tr>\n",
       "      <th>3</th>\n",
       "      <td>3</td>\n",
       "      <td>1</td>\n",
       "      <td>1</td>\n",
       "      <td>35.0</td>\n",
       "      <td>1</td>\n",
       "      <td>0</td>\n",
       "      <td>53.1000</td>\n",
       "      <td>0</td>\n",
       "      <td>1</td>\n",
       "      <td>0</td>\n",
       "      <td>...</td>\n",
       "      <td>1</td>\n",
       "      <td>0</td>\n",
       "      <td>0</td>\n",
       "      <td>0</td>\n",
       "      <td>0</td>\n",
       "      <td>0</td>\n",
       "      <td>0</td>\n",
       "      <td>0</td>\n",
       "      <td>0</td>\n",
       "      <td>1</td>\n",
       "    </tr>\n",
       "    <tr>\n",
       "      <th>4</th>\n",
       "      <td>4</td>\n",
       "      <td>0</td>\n",
       "      <td>3</td>\n",
       "      <td>35.0</td>\n",
       "      <td>0</td>\n",
       "      <td>0</td>\n",
       "      <td>8.0500</td>\n",
       "      <td>0</td>\n",
       "      <td>0</td>\n",
       "      <td>1</td>\n",
       "      <td>...</td>\n",
       "      <td>0</td>\n",
       "      <td>0</td>\n",
       "      <td>0</td>\n",
       "      <td>0</td>\n",
       "      <td>0</td>\n",
       "      <td>1</td>\n",
       "      <td>0</td>\n",
       "      <td>0</td>\n",
       "      <td>0</td>\n",
       "      <td>1</td>\n",
       "    </tr>\n",
       "  </tbody>\n",
       "</table>\n",
       "<p>5 rows × 22 columns</p>\n",
       "</div>"
      ],
      "text/plain": [
       "   Unnamed: 0  Survived  Pclass   Age  SibSp  Parch     Fare  HasTitle  \\\n",
       "0           0         0       3  22.0      1      0   7.2500         0   \n",
       "1           1         1       1  38.0      1      0  71.2833         0   \n",
       "2           2         1       3  26.0      0      0   7.9250         0   \n",
       "3           3         1       1  35.0      1      0  53.1000         0   \n",
       "4           4         0       3  35.0      0      0   8.0500         0   \n",
       "\n",
       "   Sex_female  Sex_male  ...  CabinType_C  CabinType_D  CabinType_E  \\\n",
       "0           0         1  ...            0            0            0   \n",
       "1           1         0  ...            1            0            0   \n",
       "2           1         0  ...            0            0            0   \n",
       "3           1         0  ...            1            0            0   \n",
       "4           0         1  ...            0            0            0   \n",
       "\n",
       "   CabinType_F  CabinType_G  CabinType_NaN  CabinType_T  Embarked_C  \\\n",
       "0            0            0              1            0           0   \n",
       "1            0            0              0            0           1   \n",
       "2            0            0              1            0           0   \n",
       "3            0            0              0            0           0   \n",
       "4            0            0              1            0           0   \n",
       "\n",
       "   Embarked_Q  Embarked_S  \n",
       "0           0           1  \n",
       "1           0           0  \n",
       "2           0           1  \n",
       "3           0           1  \n",
       "4           0           1  \n",
       "\n",
       "[5 rows x 22 columns]"
      ]
     },
     "execution_count": 9,
     "metadata": {},
     "output_type": "execute_result"
    }
   ],
   "source": [
    "titanic_df.head()"
   ]
  },
  {
   "cell_type": "code",
   "execution_count": 10,
   "id": "37fce116",
   "metadata": {},
   "outputs": [],
   "source": [
    "def features_to_dicts(df):\n",
    "    columns = df.columns\n",
    "    dicts = []\n",
    "   \n",
    "    for index, row in df.iterrows():\n",
    "        feature_dict = {}\n",
    "        for col in columns:\n",
    "            feature_dict[col] = row[col]\n",
    "        dicts.append(feature_dict)\n",
    "    return dicts"
   ]
  },
  {
   "cell_type": "code",
   "execution_count": 11,
   "id": "07b27a1d",
   "metadata": {},
   "outputs": [],
   "source": [
    "def n_nonzero_columns(X):\n",
    "    return len(np.unique(X.nonzero()[1]))"
   ]
  },
  {
   "cell_type": "code",
   "execution_count": 12,
   "id": "aee72fb4",
   "metadata": {},
   "outputs": [],
   "source": [
    "adult_features = adult_normalize_df.drop(['Unnamed: 0', 'income_>50k'], axis=1)\n",
    "adult_Y = adult_normalize_df['income_>50k'].values"
   ]
  },
  {
   "cell_type": "code",
   "execution_count": 13,
   "id": "7b043301",
   "metadata": {},
   "outputs": [],
   "source": [
    "adult_dict = features_to_dicts(adult_features)"
   ]
  },
  {
   "cell_type": "code",
   "execution_count": 15,
   "id": "d888cbcc",
   "metadata": {},
   "outputs": [],
   "source": [
    "adult_X = adult_features.values"
   ]
  },
  {
   "cell_type": "code",
   "execution_count": 16,
   "id": "da1723f0",
   "metadata": {},
   "outputs": [
    {
     "data": {
      "text/plain": [
       "(48842, 92)"
      ]
     },
     "execution_count": 16,
     "metadata": {},
     "output_type": "execute_result"
    }
   ],
   "source": [
    "adult_X.shape"
   ]
  },
  {
   "cell_type": "code",
   "execution_count": 17,
   "id": "01582561",
   "metadata": {},
   "outputs": [],
   "source": [
    "dictVectorizer = DictVectorizer()\n",
    "adult_X_dict = dictVectorizer.fit_transform(adult_dict)"
   ]
  },
  {
   "cell_type": "code",
   "execution_count": 18,
   "id": "0bd590fb",
   "metadata": {},
   "outputs": [
    {
     "data": {
      "text/plain": [
       "(48842, 92)"
      ]
     },
     "execution_count": 18,
     "metadata": {},
     "output_type": "execute_result"
    }
   ],
   "source": [
    "adult_X_dict.shape"
   ]
  },
  {
   "cell_type": "code",
   "execution_count": 19,
   "id": "7d8ed95d",
   "metadata": {},
   "outputs": [
    {
     "name": "stdout",
     "output_type": "stream",
     "text": [
      "Found 92 unique terms\n"
     ]
    }
   ],
   "source": [
    "print(\"Found %d unique terms\" % len(dictVectorizer.get_feature_names()))"
   ]
  },
  {
   "cell_type": "code",
   "execution_count": 59,
   "id": "11c1630e",
   "metadata": {},
   "outputs": [],
   "source": [
    "hasher75 = FeatureHasher(n_features=math.ceil(len(adult_features.columns)*0.75))\n",
    "adult_X_hash75 = hasher75.transform(adult_dict)"
   ]
  },
  {
   "cell_type": "code",
   "execution_count": 60,
   "id": "326b149d",
   "metadata": {},
   "outputs": [
    {
     "data": {
      "text/plain": [
       "(48842, 69)"
      ]
     },
     "execution_count": 60,
     "metadata": {},
     "output_type": "execute_result"
    }
   ],
   "source": [
    "adult_X_hash75.shape"
   ]
  },
  {
   "cell_type": "code",
   "execution_count": 61,
   "id": "f380ef77",
   "metadata": {},
   "outputs": [
    {
     "name": "stdout",
     "output_type": "stream",
     "text": [
      "unique terms:  53\n"
     ]
    }
   ],
   "source": [
    "print(\"unique terms: \", n_nonzero_columns(adult_X_hash75))"
   ]
  },
  {
   "cell_type": "code",
   "execution_count": 56,
   "id": "414d1f7f",
   "metadata": {},
   "outputs": [],
   "source": [
    "hasher50 = FeatureHasher(n_features=math.ceil(len(adult_features.columns)*0.50))\n",
    "adult_X_hash50 = hasher50.transform(adult_dict)"
   ]
  },
  {
   "cell_type": "code",
   "execution_count": 57,
   "id": "17b2fb7e",
   "metadata": {},
   "outputs": [
    {
     "data": {
      "text/plain": [
       "(48842, 46)"
      ]
     },
     "execution_count": 57,
     "metadata": {},
     "output_type": "execute_result"
    }
   ],
   "source": [
    "adult_X_hash50.shape"
   ]
  },
  {
   "cell_type": "code",
   "execution_count": 58,
   "id": "4c244be8",
   "metadata": {},
   "outputs": [
    {
     "name": "stdout",
     "output_type": "stream",
     "text": [
      "unique terms:  39\n"
     ]
    }
   ],
   "source": [
    "print(\"unique terms: \", n_nonzero_columns(adult_X_hash50))"
   ]
  },
  {
   "cell_type": "code",
   "execution_count": 52,
   "id": "22df6915",
   "metadata": {},
   "outputs": [
    {
     "data": {
      "text/plain": [
       "14"
      ]
     },
     "execution_count": 52,
     "metadata": {},
     "output_type": "execute_result"
    }
   ],
   "source": [
    "math.ceil(len(adult_features.columns)*0.15)"
   ]
  },
  {
   "cell_type": "code",
   "execution_count": 53,
   "id": "8be24f47",
   "metadata": {},
   "outputs": [],
   "source": [
    "hasher15 = FeatureHasher(n_features=math.ceil(len(adult_features.columns)*0.15))\n",
    "adult_X_hash15 = hasher15.transform(adult_dict)"
   ]
  },
  {
   "cell_type": "code",
   "execution_count": 54,
   "id": "d9fe2fa0",
   "metadata": {},
   "outputs": [
    {
     "data": {
      "text/plain": [
       "(48842, 14)"
      ]
     },
     "execution_count": 54,
     "metadata": {},
     "output_type": "execute_result"
    }
   ],
   "source": [
    "adult_X_hash15.shape"
   ]
  },
  {
   "cell_type": "code",
   "execution_count": 55,
   "id": "5825c786",
   "metadata": {},
   "outputs": [
    {
     "name": "stdout",
     "output_type": "stream",
     "text": [
      "unique terms:  14\n"
     ]
    }
   ],
   "source": [
    "print(\"unique terms: \", n_nonzero_columns(adult_X_hash15))"
   ]
  },
  {
   "cell_type": "code",
   "execution_count": 51,
   "id": "c4410ce4",
   "metadata": {},
   "outputs": [
    {
     "data": {
      "text/plain": [
       "array([[1., 0., 0., ..., 0., 0., 0.],\n",
       "       [1., 0., 0., ..., 0., 0., 0.],\n",
       "       [1., 0., 0., ..., 0., 0., 0.],\n",
       "       ...,\n",
       "       [1., 0., 0., ..., 0., 0., 0.],\n",
       "       [1., 0., 0., ..., 0., 0., 0.],\n",
       "       [1., 0., 0., ..., 0., 0., 0.]])"
      ]
     },
     "execution_count": 51,
     "metadata": {},
     "output_type": "execute_result"
    }
   ],
   "source": [
    "adult_X_hash15.toarray()"
   ]
  },
  {
   "cell_type": "code",
   "execution_count": 26,
   "id": "3c09d5ee",
   "metadata": {},
   "outputs": [
    {
     "name": "stdout",
     "output_type": "stream",
     "text": [
      "duration 0.620002031326294\n",
      "[0.83938991 0.83764971 0.84316134 0.84203522 0.84316134]\n",
      "0.8410795036933845\n"
     ]
    }
   ],
   "source": [
    "clf_ridge_default = RidgeClassifier()#.fit(adult_features, adult_Y)\n",
    "t0 = time()\n",
    "cross_val_ridge_default = cross_val_score(clf_ridge_default, adult_features, adult_Y, cv=5)\n",
    "duration = time() - t0\n",
    "print(\"duration\", duration)\n",
    "print(cross_val_ridge_default)\n",
    "print(np.mean(cross_val_ridge_default))\n",
    "# print(clf_ridge_default.score(adult_features, adult_Y))"
   ]
  },
  {
   "cell_type": "code",
   "execution_count": 27,
   "id": "dd1207e7",
   "metadata": {},
   "outputs": [
    {
     "name": "stdout",
     "output_type": "stream",
     "text": [
      "duration 0.6900262832641602\n",
      "[0.83918518 0.8379568  0.84295659 0.84234234 0.84275184]\n",
      "0.8410385515565167\n"
     ]
    }
   ],
   "source": [
    "clf_ridge_dict = RidgeClassifier()#.fit(adult_X_dict, adult_Y)\n",
    "t0 = time()\n",
    "cross_val_ridge_dict = cross_val_score(clf_ridge_dict, adult_X_dict, adult_Y, cv=5)\n",
    "duration = time() - t0\n",
    "print(\"duration\", duration)\n",
    "print(cross_val_ridge_dict)\n",
    "print(np.mean(cross_val_ridge_dict))\n",
    "# print(clf_ridge_dict.score(adult_X_dict, adult_Y))"
   ]
  },
  {
   "cell_type": "code",
   "execution_count": 29,
   "id": "3aaada3b",
   "metadata": {},
   "outputs": [
    {
     "name": "stdout",
     "output_type": "stream",
     "text": [
      "duration 0.2510361671447754\n",
      "[0.81963353 0.81850752 0.82063882 0.82330057 0.81859132]\n",
      "0.8201343541961824\n"
     ]
    }
   ],
   "source": [
    "clf_ridge_hash75 = RidgeClassifier()#.fit(adult_X_hash75, adult_Y)\n",
    "t0 = time()\n",
    "cross_val_ridge_hash75 = cross_val_score(clf_ridge_hash75, adult_X_hash75, adult_Y, cv=5)\n",
    "duration = time() - t0\n",
    "print(\"duration\", duration)\n",
    "print(cross_val_ridge_hash75)\n",
    "print(np.mean(cross_val_ridge_hash75))\n",
    "# print(clf_ridge_hash.score(adult_X_hash, adult_Y))"
   ]
  },
  {
   "cell_type": "code",
   "execution_count": 31,
   "id": "65b73806",
   "metadata": {},
   "outputs": [
    {
     "name": "stdout",
     "output_type": "stream",
     "text": [
      "duration 0.2180330753326416\n",
      "[0.80898761 0.81042072 0.80958231 0.81623669 0.81111794]\n",
      "0.8112690538834464\n"
     ]
    }
   ],
   "source": [
    "clf_ridge_hash50 = RidgeClassifier()#.fit(adult_X_hash75, adult_Y)\n",
    "t0 = time()\n",
    "cross_val_ridge_hash50 = cross_val_score(clf_ridge_hash50, adult_X_hash50, adult_Y, cv=5)\n",
    "duration = time() - t0\n",
    "print(\"duration\", duration)\n",
    "print(cross_val_ridge_hash50)\n",
    "print(np.mean(cross_val_ridge_hash50))\n",
    "# print(clf_ridge_hash.score(adult_X_hash, adult_Y))"
   ]
  },
  {
   "cell_type": "code",
   "execution_count": 62,
   "id": "3a4a265c",
   "metadata": {},
   "outputs": [
    {
     "name": "stdout",
     "output_type": "stream",
     "text": [
      "duration 0.18900728225708008\n",
      "[0.76323063 0.76548265 0.76208026 0.76453726 0.76351351]\n",
      "0.7637688633645232\n"
     ]
    }
   ],
   "source": [
    "clf_ridge_hash15 = RidgeClassifier()#.fit(adult_X_hash15, adult_Y)\n",
    "t0 = time()\n",
    "cross_val_ridge_hash15 = cross_val_score(clf_ridge_hash15, adult_X_hash15, adult_Y, cv=5)\n",
    "duration = time() - t0\n",
    "print(\"duration\", duration)\n",
    "print(cross_val_ridge_hash15)\n",
    "print(np.mean(cross_val_ridge_hash15))\n",
    "# print(clf_ridge_hash.score(adult_X_hash, adult_Y))"
   ]
  },
  {
   "cell_type": "code",
   "execution_count": 32,
   "id": "86e9c8e9",
   "metadata": {},
   "outputs": [],
   "source": [
    "n_estimators = math.ceil(adult_X.shape[1]/2)"
   ]
  },
  {
   "cell_type": "code",
   "execution_count": 33,
   "id": "409f4fc7",
   "metadata": {},
   "outputs": [],
   "source": [
    "max_depth = math.ceil(adult_X.shape[1]*0.8)"
   ]
  },
  {
   "cell_type": "code",
   "execution_count": 34,
   "id": "ddba75bf",
   "metadata": {},
   "outputs": [
    {
     "name": "stdout",
     "output_type": "stream",
     "text": [
      "duration 7.055613040924072\n",
      "[0.8579179  0.85720135 0.85913186 0.85268223 0.85575348]\n",
      "0.8565373644706227\n"
     ]
    }
   ],
   "source": [
    "clf_randfor_default = RandomForestClassifier(n_jobs=4, n_estimators=n_estimators, min_samples_split=3, max_depth=max_depth)#.fit(adult_features, adult_Y)\n",
    "t0 = time()\n",
    "cross_val_randfor_default = cross_val_score(clf_randfor_default, adult_features, adult_Y, cv=5)\n",
    "duration = time() - t0\n",
    "print(\"duration\", duration)\n",
    "print(cross_val_randfor_default)\n",
    "print(np.mean(cross_val_randfor_default))\n",
    "# print(clf_randfor_default.score(adult_features, adult_Y))"
   ]
  },
  {
   "cell_type": "code",
   "execution_count": 35,
   "id": "d48431e1",
   "metadata": {},
   "outputs": [
    {
     "name": "stdout",
     "output_type": "stream",
     "text": [
      "duration 62.79384183883667\n",
      "[0.85628007 0.85750845 0.85708436 0.85524161 0.8544226 ]\n",
      "0.856107416287578\n"
     ]
    }
   ],
   "source": [
    "clf_randfor_dict = RandomForestClassifier(n_jobs=4, n_estimators=n_estimators, min_samples_split=3, max_depth=max_depth)#.fit(adult_X_dict, adult_Y)\n",
    "t0 = time()\n",
    "cross_val_randfor_dict = cross_val_score(clf_randfor_dict, adult_X_dict, adult_Y, cv=5)\n",
    "duration = time() - t0\n",
    "print(\"duration\", duration)\n",
    "print(cross_val_randfor_dict)\n",
    "print(np.mean(cross_val_randfor_dict))\n",
    "# print(clf_randfor_dict.score(adult_X_dict, adult_Y))"
   ]
  },
  {
   "cell_type": "code",
   "execution_count": 37,
   "id": "cd4d79fb",
   "metadata": {},
   "outputs": [
    {
     "name": "stdout",
     "output_type": "stream",
     "text": [
      "duration 17.56114888191223\n",
      "[0.85453987 0.85576825 0.85984848 0.85227273 0.85370598]\n",
      "0.8552270616683556\n"
     ]
    }
   ],
   "source": [
    "clf_randfor_hash75 = RandomForestClassifier(n_jobs=4, n_estimators=n_estimators, min_samples_split=3, max_depth=max_depth)#.fit(adult_X_hash, adult_Y)\n",
    "t0 = time()\n",
    "cross_val_randfor_hash75 = cross_val_score(clf_randfor_hash75, adult_X_hash75, adult_Y, cv=5)\n",
    "duration = time() - t0\n",
    "print(\"duration\", duration)\n",
    "print(cross_val_randfor_hash75)\n",
    "print(np.mean(cross_val_randfor_hash75))\n",
    "# print(clf_randfor_hash.score(adult_X_hash, adult_Y))"
   ]
  },
  {
   "cell_type": "code",
   "execution_count": 39,
   "id": "1a4efdef",
   "metadata": {},
   "outputs": [
    {
     "name": "stdout",
     "output_type": "stream",
     "text": [
      "duration 18.017691135406494\n",
      "[0.85310677 0.84890982 0.85217035 0.84899672 0.84971335]\n",
      "0.8505794017898634\n"
     ]
    }
   ],
   "source": [
    "clf_randfor_hash50 = RandomForestClassifier(n_jobs=4, n_estimators=n_estimators, min_samples_split=3, max_depth=max_depth)#.fit(adult_X_hash, adult_Y)\n",
    "t0 = time()\n",
    "cross_val_randfor_hash50 = cross_val_score(clf_randfor_hash50, adult_X_hash50, adult_Y, cv=5)\n",
    "duration = time() - t0\n",
    "print(\"duration\", duration)\n",
    "print(cross_val_randfor_hash50)\n",
    "print(np.mean(cross_val_randfor_hash50))\n",
    "# print(clf_randfor_hash.score(adult_X_hash, adult_Y))"
   ]
  },
  {
   "cell_type": "code",
   "execution_count": 63,
   "id": "c5335847",
   "metadata": {},
   "outputs": [
    {
     "name": "stdout",
     "output_type": "stream",
     "text": [
      "duration 18.7160005569458\n",
      "[0.85146893 0.84911455 0.85391073 0.84520885 0.84602785]\n",
      "0.8491461796994605\n"
     ]
    }
   ],
   "source": [
    "clf_randfor_hash15 = RandomForestClassifier(n_jobs=4, n_estimators=n_estimators, min_samples_split=3, max_depth=max_depth)#.fit(adult_X_hash, adult_Y)\n",
    "t0 = time()\n",
    "cross_val_randfor_hash15 = cross_val_score(clf_randfor_hash15, adult_X_hash15, adult_Y, cv=5)\n",
    "duration = time() - t0\n",
    "print(\"duration\", duration)\n",
    "print(cross_val_randfor_hash15)\n",
    "print(np.mean(cross_val_randfor_hash15))\n",
    "# print(clf_randfor_hash.score(adult_X_hash, adult_Y))"
   ]
  },
  {
   "cell_type": "code",
   "execution_count": null,
   "id": "9d7d63aa",
   "metadata": {},
   "outputs": [],
   "source": []
  },
  {
   "cell_type": "code",
   "execution_count": 112,
   "id": "b7633525",
   "metadata": {},
   "outputs": [],
   "source": [
    "def compare_feature_hashing(features, features_dict, Y):\n",
    "    features_X = features.values\n",
    "\n",
    "    clf_ridge_default = RidgeClassifier()\n",
    "    t0 = time()\n",
    "    cross_val_ridge_default = cross_val_score(clf_ridge_default, features_X, Y, cv=5)\n",
    "    duration = time() - t0\n",
    "    print(\"ridge_default duration\", duration)\n",
    "    print(np.mean(cross_val_ridge_default))\n",
    "    print()\n",
    "    \n",
    "    dictVectorizer = DictVectorizer()\n",
    "    features_X_dict = dictVectorizer.fit_transform(features_dict)\n",
    "\n",
    "    clf_ridge_dict = RidgeClassifier()\n",
    "    t0 = time()\n",
    "    cross_val_ridge_dict = cross_val_score(clf_ridge_dict, features_X_dict, Y, cv=5)\n",
    "    duration = time() - t0\n",
    "    print(\"ridge_dict duration\", duration)\n",
    "    print(np.mean(cross_val_ridge_dict))\n",
    "    print()\n",
    "    \n",
    "    n_estimators = math.ceil(features_X.shape[1]/2)\n",
    "    max_depth = math.ceil(features_X.shape[1]*0.8)\n",
    "\n",
    "    clf_randfor_default = RandomForestClassifier(n_jobs=4, n_estimators=n_estimators, min_samples_split=3, max_depth=max_depth)\n",
    "    t0 = time()\n",
    "    cross_val_randfor_default = cross_val_score(clf_randfor_default, features_X, Y, cv=5)\n",
    "    duration = time() - t0\n",
    "    print(\"randfor_default duration\", duration)\n",
    "    print(np.mean(cross_val_randfor_default))\n",
    "    print()\n",
    "\n",
    "    clf_randfor_dict = RandomForestClassifier(n_jobs=4, n_estimators=n_estimators, min_samples_split=3, max_depth=max_depth)\n",
    "    t0 = time()\n",
    "    cross_val_randfor_dict = cross_val_score(clf_randfor_dict, features_X_dict, Y, cv=5)\n",
    "    duration = time() - t0\n",
    "    print(\"randfor_dict duration\", duration)\n",
    "    print(np.mean(cross_val_randfor_dict))\n",
    "    print()\n",
    "\n",
    "    cross_val_ridge_hashes = []\n",
    "    cross_val_randfor_hashes = []\n",
    "    for i in range(2, 11, 2):\n",
    "        percent = 0.1*i\n",
    "        n_features = math.ceil(features_X.shape[1]*percent)\n",
    "        print(\"hasher percent\", percent, \"n_features\", n_features)\n",
    "        print()\n",
    "        hasher = FeatureHasher(n_features=n_features)\n",
    "        features_X_hash = hasher.transform(features_dict)\n",
    "\n",
    "        clf_ridge_hash = RidgeClassifier()\n",
    "        t0 = time()\n",
    "        cross_val_ridge_hash = cross_val_score(clf_ridge_hash, features_X_hash, Y, cv=5)\n",
    "        duration = time() - t0\n",
    "        cross_val_ridge_hashes.append(np.mean(cross_val_ridge_hash))\n",
    "        print(\"ridge_hash\", i*100, \"duration\", duration)\n",
    "        print(np.mean(cross_val_ridge_hash))\n",
    "        print()\n",
    "\n",
    "        clf_randfor_hash = RandomForestClassifier(n_jobs=4, n_estimators=n_estimators, min_samples_split=3, max_depth=max_depth)\n",
    "        t0 = time()\n",
    "        cross_val_randfor_hash = cross_val_score(clf_randfor_hash, features_X_hash, Y, cv=5)\n",
    "        duration = time() - t0\n",
    "        cross_val_randfor_hashes.append(np.mean(cross_val_randfor_hash))\n",
    "        print(\"randfor_hash\", i*10, \"duration\", duration)\n",
    "        print(np.mean(cross_val_randfor_hash))\n",
    "        print()\n",
    "    \n",
    "    t = np.arange(2, 11, 2)\n",
    "\n",
    "    fig, ax = plt.subplots(1, 3, figsize=(15,5), tight_layout=True)\n",
    "    \n",
    "    ax[0].plot(t, np.mean(cross_val_ridge_default)*np.ones(5), label='ridge_default')\n",
    "    ax[0].plot(t, np.mean(cross_val_ridge_dict)*np.ones(5), label='ridge_dict')\n",
    "    ax[0].plot(t, cross_val_ridge_hashes, label='ridge_hashes')\n",
    "    ax[0].set(xlabel='hash %', ylabel='mean CV score', title='ridge')\n",
    "    ax[0].legend()\n",
    "    \n",
    "    ax[1].plot(t, np.mean(cross_val_randfor_default)*np.ones(5), label='randfor_default')\n",
    "    ax[1].plot(t, np.mean(cross_val_randfor_dict)*np.ones(5), label='randfor_dict')\n",
    "    ax[1].plot(t, cross_val_randfor_hashes, label='randfor_hashes')\n",
    "    ax[1].set(xlabel='hash %', ylabel='mean CV score', title='random forest')\n",
    "    ax[1].legend()\n",
    "    \n",
    "    ax[2].plot(t, np.mean(cross_val_ridge_default)*np.ones(5), label='ridge_default')\n",
    "    ax[2].plot(t, np.mean(cross_val_ridge_dict)*np.ones(5), label='ridge_dict')\n",
    "    ax[2].plot(t, cross_val_ridge_hashes, label='cross_val_ridge_hashes')\n",
    "    ax[2].plot(t, np.mean(cross_val_randfor_default)*np.ones(5), label='randfor_default')\n",
    "    ax[2].plot(t, np.mean(cross_val_randfor_dict)*np.ones(5), label='randfor_dict')\n",
    "    ax[2].plot(t, cross_val_randfor_hashes, label='randfor_hashes')\n",
    "    ax[2].set(xlabel='hash %', ylabel='mean CV score', title='ridge and random forest')\n",
    "    ax[2].legend()\n",
    "    \n",
    "    plt.show()"
   ]
  },
  {
   "cell_type": "code",
   "execution_count": 115,
   "id": "c6ed11f6",
   "metadata": {},
   "outputs": [
    {
     "name": "stdout",
     "output_type": "stream",
     "text": [
      "ridge_default duration 0.3859977722167969\n",
      "0.8410795036933845\n",
      "\n",
      "ridge_dict duration 0.665001630783081\n",
      "0.8410385515565167\n",
      "\n",
      "randfor_default duration 5.5634331703186035\n",
      "0.8563531710271397\n",
      "\n",
      "randfor_dict duration 61.85512375831604\n",
      "0.8560665312200783\n",
      "\n",
      "hasher percent 0.2 n_features 19\n",
      "ridge_hash 20 duration 0.19203448295593262\n",
      "0.8150157981896132\n",
      "\n",
      "randfor_hash 20 duration 21.27686071395874\n",
      "0.8259079788151341\n",
      "\n",
      "hasher percent 0.4 n_features 37\n",
      "ridge_hash 40 duration 0.25098609924316406\n",
      "0.8157733676594358\n",
      "\n",
      "randfor_hash 40 duration 20.1443293094635\n",
      "0.8531182770818353\n",
      "\n",
      "hasher percent 0.6000000000000001 n_features 56\n",
      "ridge_hash 60 duration 0.3040347099304199\n",
      "0.8319480281144731\n",
      "\n",
      "randfor_hash 60 duration 20.46769952774048\n",
      "0.8533844292929154\n",
      "\n",
      "hasher percent 0.8 n_features 74\n",
      "ridge_hash 80 duration 0.2830338478088379\n",
      "0.8293068510772473\n",
      "\n",
      "randfor_hash 80 duration 19.881236791610718\n",
      "0.8543057234734992\n",
      "\n",
      "hasher percent 1.0 n_features 92\n",
      "ridge_hash 100 duration 0.2569704055786133\n",
      "0.8175750374184195\n",
      "\n",
      "randfor_hash 100 duration 20.045000553131104\n",
      "0.8514597899437699\n",
      "\n"
     ]
    },
    {
     "data": {
      "image/png": "[encoded data removed]",
      "text/plain": [
       "<Figure size 1080x360 with 3 Axes>"
      ]
     },
     "metadata": {
      "needs_background": "light"
     },
     "output_type": "display_data"
    }
   ],
   "source": [
    "compare_feature_hashing(adult_features, adult_dict, adult_Y)"
   ]
  },
  {
   "cell_type": "code",
   "execution_count": 79,
   "id": "532ebb53",
   "metadata": {},
   "outputs": [
    {
     "data": {
      "text/html": [
       "<div>\n",
       "<style scoped>\n",
       "    .dataframe tbody tr th:only-of-type {\n",
       "        vertical-align: middle;\n",
       "    }\n",
       "\n",
       "    .dataframe tbody tr th {\n",
       "        vertical-align: top;\n",
       "    }\n",
       "\n",
       "    .dataframe thead th {\n",
       "        text-align: right;\n",
       "    }\n",
       "</style>\n",
       "<table border=\"1\" class=\"dataframe\">\n",
       "  <thead>\n",
       "    <tr style=\"text-align: right;\">\n",
       "      <th></th>\n",
       "      <th>Unnamed: 0</th>\n",
       "      <th>Survived</th>\n",
       "      <th>Pclass</th>\n",
       "      <th>Age</th>\n",
       "      <th>SibSp</th>\n",
       "      <th>Parch</th>\n",
       "      <th>Fare</th>\n",
       "      <th>HasTitle</th>\n",
       "      <th>Sex_female</th>\n",
       "      <th>Sex_male</th>\n",
       "      <th>...</th>\n",
       "      <th>CabinType_C</th>\n",
       "      <th>CabinType_D</th>\n",
       "      <th>CabinType_E</th>\n",
       "      <th>CabinType_F</th>\n",
       "      <th>CabinType_G</th>\n",
       "      <th>CabinType_NaN</th>\n",
       "      <th>CabinType_T</th>\n",
       "      <th>Embarked_C</th>\n",
       "      <th>Embarked_Q</th>\n",
       "      <th>Embarked_S</th>\n",
       "    </tr>\n",
       "  </thead>\n",
       "  <tbody>\n",
       "    <tr>\n",
       "      <th>0</th>\n",
       "      <td>0</td>\n",
       "      <td>0</td>\n",
       "      <td>3</td>\n",
       "      <td>22.000000</td>\n",
       "      <td>1</td>\n",
       "      <td>0</td>\n",
       "      <td>7.2500</td>\n",
       "      <td>0</td>\n",
       "      <td>0</td>\n",
       "      <td>1</td>\n",
       "      <td>...</td>\n",
       "      <td>0</td>\n",
       "      <td>0</td>\n",
       "      <td>0</td>\n",
       "      <td>0</td>\n",
       "      <td>0</td>\n",
       "      <td>1</td>\n",
       "      <td>0</td>\n",
       "      <td>0</td>\n",
       "      <td>0</td>\n",
       "      <td>1</td>\n",
       "    </tr>\n",
       "    <tr>\n",
       "      <th>1</th>\n",
       "      <td>1</td>\n",
       "      <td>1</td>\n",
       "      <td>1</td>\n",
       "      <td>38.000000</td>\n",
       "      <td>1</td>\n",
       "      <td>0</td>\n",
       "      <td>71.2833</td>\n",
       "      <td>0</td>\n",
       "      <td>1</td>\n",
       "      <td>0</td>\n",
       "      <td>...</td>\n",
       "      <td>1</td>\n",
       "      <td>0</td>\n",
       "      <td>0</td>\n",
       "      <td>0</td>\n",
       "      <td>0</td>\n",
       "      <td>0</td>\n",
       "      <td>0</td>\n",
       "      <td>1</td>\n",
       "      <td>0</td>\n",
       "      <td>0</td>\n",
       "    </tr>\n",
       "    <tr>\n",
       "      <th>2</th>\n",
       "      <td>2</td>\n",
       "      <td>1</td>\n",
       "      <td>3</td>\n",
       "      <td>26.000000</td>\n",
       "      <td>0</td>\n",
       "      <td>0</td>\n",
       "      <td>7.9250</td>\n",
       "      <td>0</td>\n",
       "      <td>1</td>\n",
       "      <td>0</td>\n",
       "      <td>...</td>\n",
       "      <td>0</td>\n",
       "      <td>0</td>\n",
       "      <td>0</td>\n",
       "      <td>0</td>\n",
       "      <td>0</td>\n",
       "      <td>1</td>\n",
       "      <td>0</td>\n",
       "      <td>0</td>\n",
       "      <td>0</td>\n",
       "      <td>1</td>\n",
       "    </tr>\n",
       "    <tr>\n",
       "      <th>3</th>\n",
       "      <td>3</td>\n",
       "      <td>1</td>\n",
       "      <td>1</td>\n",
       "      <td>35.000000</td>\n",
       "      <td>1</td>\n",
       "      <td>0</td>\n",
       "      <td>53.1000</td>\n",
       "      <td>0</td>\n",
       "      <td>1</td>\n",
       "      <td>0</td>\n",
       "      <td>...</td>\n",
       "      <td>1</td>\n",
       "      <td>0</td>\n",
       "      <td>0</td>\n",
       "      <td>0</td>\n",
       "      <td>0</td>\n",
       "      <td>0</td>\n",
       "      <td>0</td>\n",
       "      <td>0</td>\n",
       "      <td>0</td>\n",
       "      <td>1</td>\n",
       "    </tr>\n",
       "    <tr>\n",
       "      <th>4</th>\n",
       "      <td>4</td>\n",
       "      <td>0</td>\n",
       "      <td>3</td>\n",
       "      <td>35.000000</td>\n",
       "      <td>0</td>\n",
       "      <td>0</td>\n",
       "      <td>8.0500</td>\n",
       "      <td>0</td>\n",
       "      <td>0</td>\n",
       "      <td>1</td>\n",
       "      <td>...</td>\n",
       "      <td>0</td>\n",
       "      <td>0</td>\n",
       "      <td>0</td>\n",
       "      <td>0</td>\n",
       "      <td>0</td>\n",
       "      <td>1</td>\n",
       "      <td>0</td>\n",
       "      <td>0</td>\n",
       "      <td>0</td>\n",
       "      <td>1</td>\n",
       "    </tr>\n",
       "    <tr>\n",
       "      <th>...</th>\n",
       "      <td>...</td>\n",
       "      <td>...</td>\n",
       "      <td>...</td>\n",
       "      <td>...</td>\n",
       "      <td>...</td>\n",
       "      <td>...</td>\n",
       "      <td>...</td>\n",
       "      <td>...</td>\n",
       "      <td>...</td>\n",
       "      <td>...</td>\n",
       "      <td>...</td>\n",
       "      <td>...</td>\n",
       "      <td>...</td>\n",
       "      <td>...</td>\n",
       "      <td>...</td>\n",
       "      <td>...</td>\n",
       "      <td>...</td>\n",
       "      <td>...</td>\n",
       "      <td>...</td>\n",
       "      <td>...</td>\n",
       "      <td>...</td>\n",
       "    </tr>\n",
       "    <tr>\n",
       "      <th>1304</th>\n",
       "      <td>413</td>\n",
       "      <td>0</td>\n",
       "      <td>3</td>\n",
       "      <td>29.881138</td>\n",
       "      <td>0</td>\n",
       "      <td>0</td>\n",
       "      <td>8.0500</td>\n",
       "      <td>0</td>\n",
       "      <td>0</td>\n",
       "      <td>1</td>\n",
       "      <td>...</td>\n",
       "      <td>0</td>\n",
       "      <td>0</td>\n",
       "      <td>0</td>\n",
       "      <td>0</td>\n",
       "      <td>0</td>\n",
       "      <td>1</td>\n",
       "      <td>0</td>\n",
       "      <td>0</td>\n",
       "      <td>0</td>\n",
       "      <td>1</td>\n",
       "    </tr>\n",
       "    <tr>\n",
       "      <th>1305</th>\n",
       "      <td>414</td>\n",
       "      <td>1</td>\n",
       "      <td>1</td>\n",
       "      <td>39.000000</td>\n",
       "      <td>0</td>\n",
       "      <td>0</td>\n",
       "      <td>108.9000</td>\n",
       "      <td>1</td>\n",
       "      <td>1</td>\n",
       "      <td>0</td>\n",
       "      <td>...</td>\n",
       "      <td>1</td>\n",
       "      <td>0</td>\n",
       "      <td>0</td>\n",
       "      <td>0</td>\n",
       "      <td>0</td>\n",
       "      <td>0</td>\n",
       "      <td>0</td>\n",
       "      <td>1</td>\n",
       "      <td>0</td>\n",
       "      <td>0</td>\n",
       "    </tr>\n",
       "    <tr>\n",
       "      <th>1306</th>\n",
       "      <td>415</td>\n",
       "      <td>0</td>\n",
       "      <td>3</td>\n",
       "      <td>38.500000</td>\n",
       "      <td>0</td>\n",
       "      <td>0</td>\n",
       "      <td>7.2500</td>\n",
       "      <td>0</td>\n",
       "      <td>0</td>\n",
       "      <td>1</td>\n",
       "      <td>...</td>\n",
       "      <td>0</td>\n",
       "      <td>0</td>\n",
       "      <td>0</td>\n",
       "      <td>0</td>\n",
       "      <td>0</td>\n",
       "      <td>1</td>\n",
       "      <td>0</td>\n",
       "      <td>0</td>\n",
       "      <td>0</td>\n",
       "      <td>1</td>\n",
       "    </tr>\n",
       "    <tr>\n",
       "      <th>1307</th>\n",
       "      <td>416</td>\n",
       "      <td>0</td>\n",
       "      <td>3</td>\n",
       "      <td>29.881138</td>\n",
       "      <td>0</td>\n",
       "      <td>0</td>\n",
       "      <td>8.0500</td>\n",
       "      <td>0</td>\n",
       "      <td>0</td>\n",
       "      <td>1</td>\n",
       "      <td>...</td>\n",
       "      <td>0</td>\n",
       "      <td>0</td>\n",
       "      <td>0</td>\n",
       "      <td>0</td>\n",
       "      <td>0</td>\n",
       "      <td>1</td>\n",
       "      <td>0</td>\n",
       "      <td>0</td>\n",
       "      <td>0</td>\n",
       "      <td>1</td>\n",
       "    </tr>\n",
       "    <tr>\n",
       "      <th>1308</th>\n",
       "      <td>417</td>\n",
       "      <td>0</td>\n",
       "      <td>3</td>\n",
       "      <td>29.881138</td>\n",
       "      <td>1</td>\n",
       "      <td>1</td>\n",
       "      <td>22.3583</td>\n",
       "      <td>1</td>\n",
       "      <td>0</td>\n",
       "      <td>1</td>\n",
       "      <td>...</td>\n",
       "      <td>0</td>\n",
       "      <td>0</td>\n",
       "      <td>0</td>\n",
       "      <td>0</td>\n",
       "      <td>0</td>\n",
       "      <td>1</td>\n",
       "      <td>0</td>\n",
       "      <td>1</td>\n",
       "      <td>0</td>\n",
       "      <td>0</td>\n",
       "    </tr>\n",
       "  </tbody>\n",
       "</table>\n",
       "<p>1309 rows × 22 columns</p>\n",
       "</div>"
      ],
      "text/plain": [
       "      Unnamed: 0  Survived  Pclass        Age  SibSp  Parch      Fare  \\\n",
       "0              0         0       3  22.000000      1      0    7.2500   \n",
       "1              1         1       1  38.000000      1      0   71.2833   \n",
       "2              2         1       3  26.000000      0      0    7.9250   \n",
       "3              3         1       1  35.000000      1      0   53.1000   \n",
       "4              4         0       3  35.000000      0      0    8.0500   \n",
       "...          ...       ...     ...        ...    ...    ...       ...   \n",
       "1304         413         0       3  29.881138      0      0    8.0500   \n",
       "1305         414         1       1  39.000000      0      0  108.9000   \n",
       "1306         415         0       3  38.500000      0      0    7.2500   \n",
       "1307         416         0       3  29.881138      0      0    8.0500   \n",
       "1308         417         0       3  29.881138      1      1   22.3583   \n",
       "\n",
       "      HasTitle  Sex_female  Sex_male  ...  CabinType_C  CabinType_D  \\\n",
       "0            0           0         1  ...            0            0   \n",
       "1            0           1         0  ...            1            0   \n",
       "2            0           1         0  ...            0            0   \n",
       "3            0           1         0  ...            1            0   \n",
       "4            0           0         1  ...            0            0   \n",
       "...        ...         ...       ...  ...          ...          ...   \n",
       "1304         0           0         1  ...            0            0   \n",
       "1305         1           1         0  ...            1            0   \n",
       "1306         0           0         1  ...            0            0   \n",
       "1307         0           0         1  ...            0            0   \n",
       "1308         1           0         1  ...            0            0   \n",
       "\n",
       "      CabinType_E  CabinType_F  CabinType_G  CabinType_NaN  CabinType_T  \\\n",
       "0               0            0            0              1            0   \n",
       "1               0            0            0              0            0   \n",
       "2               0            0            0              1            0   \n",
       "3               0            0            0              0            0   \n",
       "4               0            0            0              1            0   \n",
       "...           ...          ...          ...            ...          ...   \n",
       "1304            0            0            0              1            0   \n",
       "1305            0            0            0              0            0   \n",
       "1306            0            0            0              1            0   \n",
       "1307            0            0            0              1            0   \n",
       "1308            0            0            0              1            0   \n",
       "\n",
       "      Embarked_C  Embarked_Q  Embarked_S  \n",
       "0              0           0           1  \n",
       "1              1           0           0  \n",
       "2              0           0           1  \n",
       "3              0           0           1  \n",
       "4              0           0           1  \n",
       "...          ...         ...         ...  \n",
       "1304           0           0           1  \n",
       "1305           1           0           0  \n",
       "1306           0           0           1  \n",
       "1307           0           0           1  \n",
       "1308           1           0           0  \n",
       "\n",
       "[1309 rows x 22 columns]"
      ]
     },
     "execution_count": 79,
     "metadata": {},
     "output_type": "execute_result"
    }
   ],
   "source": [
    "titanic_df"
   ]
  },
  {
   "cell_type": "code",
   "execution_count": 83,
   "id": "85265a68",
   "metadata": {},
   "outputs": [],
   "source": [
    "titanic_features = titanic_df.drop(['Unnamed: 0', 'Survived'], axis=1)\n",
    "titanic_dict = features_to_dicts(titanic_features)\n",
    "titanic_Y = titanic_df['Survived'].values"
   ]
  },
  {
   "cell_type": "code",
   "execution_count": 114,
   "id": "a0668a50",
   "metadata": {},
   "outputs": [
    {
     "name": "stdout",
     "output_type": "stream",
     "text": [
      "ridge_default duration 0.018001317977905273\n",
      "0.8541838495510514\n",
      "\n",
      "ridge_dict duration 0.026998519897460938\n",
      "0.8549472083296774\n",
      "\n",
      "randfor_default duration 0.12700223922729492\n",
      "0.8266151911321693\n",
      "\n",
      "randfor_dict duration 0.1419999599456787\n",
      "0.8327425345851246\n",
      "\n",
      "hasher percent 0.2 n_features 4\n",
      "ridge_hash 20 duration 0.018004417419433594\n",
      "0.6852154075633938\n",
      "\n",
      "randfor_hash 20 duration 0.12755775451660156\n",
      "0.7119680617706413\n",
      "\n",
      "hasher percent 0.4 n_features 8\n",
      "ridge_hash 40 duration 0.02000117301940918\n",
      "0.7066070018425901\n",
      "\n",
      "randfor_hash 40 duration 0.13200068473815918\n",
      "0.7585738937147203\n",
      "\n",
      "hasher percent 0.6000000000000001 n_features 13\n",
      "ridge_hash 60 duration 0.02100396156311035\n",
      "0.8427159193939925\n",
      "\n",
      "randfor_hash 60 duration 0.18202853202819824\n",
      "0.8243163405574565\n",
      "\n",
      "hasher percent 0.8 n_features 16\n",
      "ridge_hash 80 duration 0.024959564208984375\n",
      "0.8090696382088854\n",
      "\n",
      "randfor_hash 80 duration 0.13000106811523438\n",
      "0.81743441256471\n",
      "\n",
      "hasher percent 1.0 n_features 20\n",
      "ridge_hash 100 duration 0.022002458572387695\n",
      "0.8450059957298703\n",
      "\n",
      "randfor_hash 100 duration 0.12599825859069824\n",
      "0.8281302097043082\n",
      "\n"
     ]
    },
    {
     "data": {
      "image/png": "[encoded data removed]",
      "text/plain": [
       "<Figure size 1080x360 with 3 Axes>"
      ]
     },
     "metadata": {
      "needs_background": "light"
     },
     "output_type": "display_data"
    }
   ],
   "source": [
    "compare_feature_hashing(titanic_features, titanic_dict, titanic_Y)"
   ]
  },
  {
   "cell_type": "code",
   "execution_count": 118,
   "id": "e6229faa",
   "metadata": {},
   "outputs": [],
   "source": [
    "weather_features = weather_df.drop(['Unnamed: 0', 'RainTomorrow'], axis=1)\n",
    "weather_dict = features_to_dicts(weather_features)\n",
    "weather_Y = weather_df['RainTomorrow'].values"
   ]
  },
  {
   "cell_type": "code",
   "execution_count": 119,
   "id": "8742c516",
   "metadata": {},
   "outputs": [
    {
     "name": "stdout",
     "output_type": "stream",
     "text": [
      "ridge_default duration 0.434999942779541\n",
      "0.8442400853928895\n",
      "\n",
      "ridge_dict duration 1.0910344123840332\n",
      "0.8441333442811396\n",
      "\n",
      "randfor_default duration 4.760415077209473\n",
      "0.8418589375153955\n",
      "\n",
      "randfor_dict duration 49.23134398460388\n",
      "0.8417850398226456\n",
      "\n",
      "hasher percent 0.2 n_features 6\n",
      "ridge_hash 20 duration 0.24800753593444824\n",
      "0.8323261351506692\n",
      "\n",
      "randfor_hash 20 duration 23.790918350219727\n",
      "0.82796617127843\n",
      "\n",
      "hasher percent 0.4 n_features 12\n",
      "ridge_hash 40 duration 0.3789970874786377\n",
      "0.8403070859676494\n",
      "\n",
      "randfor_hash 40 duration 27.32373332977295\n",
      "0.8357336398719106\n",
      "\n",
      "hasher percent 0.6000000000000001 n_features 18\n",
      "ridge_hash 60 duration 0.5419628620147705\n",
      "0.8403727728056489\n",
      "\n",
      "randfor_hash 60 duration 31.49481773376465\n",
      "0.8386320715986534\n",
      "\n",
      "hasher percent 0.8 n_features 24\n",
      "ridge_hash 80 duration 0.5210001468658447\n",
      "0.8397815912636505\n",
      "\n",
      "randfor_hash 80 duration 27.121891975402832\n",
      "0.8366532556039082\n",
      "\n",
      "hasher percent 1.0 n_features 29\n",
      "ridge_hash 100 duration 0.656991720199585\n",
      "0.8381147877494047\n",
      "\n",
      "randfor_hash 100 duration 31.522342443466187\n",
      "0.837186961162657\n",
      "\n"
     ]
    },
    {
     "data": {
      "image/png": "[encoded data removed]",
      "text/plain": [
       "<Figure size 1080x360 with 3 Axes>"
      ]
     },
     "metadata": {
      "needs_background": "light"
     },
     "output_type": "display_data"
    }
   ],
   "source": [
    "compare_feature_hashing(weather_features, weather_dict, weather_Y)"
   ]
  },
  {
   "cell_type": "code",
   "execution_count": 132,
   "id": "6c09e8d3",
   "metadata": {},
   "outputs": [
    {
     "data": {
      "text/plain": [
       "array([5, 6, 7, 4, 8, 3], dtype=int64)"
      ]
     },
     "execution_count": 132,
     "metadata": {},
     "output_type": "execute_result"
    }
   ],
   "source": [
    "wine_df['quality'].unique()"
   ]
  },
  {
   "cell_type": "code",
   "execution_count": 133,
   "id": "e5c9589e",
   "metadata": {},
   "outputs": [],
   "source": [
    "wine_features = wine_df.drop(['quality'], axis=1)\n",
    "wine_dict = features_to_dicts(wine_features)\n",
    "wine_Y = wine_df['quality'].values\n",
    "wine_Y_binary = (wine_df['quality'] >= 6).values"
   ]
  },
  {
   "cell_type": "code",
   "execution_count": 122,
   "id": "bd3eec4d",
   "metadata": {},
   "outputs": [
    {
     "name": "stdout",
     "output_type": "stream",
     "text": [
      "ridge_default duration 0.029002666473388672\n",
      "0.5653683385579937\n",
      "\n",
      "ridge_dict duration 0.09599566459655762\n",
      "0.5647452978056426\n",
      "\n",
      "randfor_default duration 0.09100031852722168\n",
      "0.5447139498432602\n",
      "\n",
      "randfor_dict duration 0.1060030460357666\n",
      "0.5447257053291537\n",
      "\n",
      "hasher percent 0.2 n_features 3\n",
      "ridge_hash 20 duration 0.03500008583068848\n",
      "0.5109345611285266\n",
      "\n",
      "randfor_hash 20 duration 0.09400224685668945\n",
      "0.4890595611285266\n",
      "\n",
      "hasher percent 0.4 n_features 5\n",
      "ridge_hash 40 duration 0.04200029373168945\n",
      "0.5584972570532916\n",
      "\n",
      "randfor_hash 40 duration 0.1011192798614502\n",
      "0.5096708463949844\n",
      "\n",
      "hasher percent 0.6000000000000001 n_features 7\n",
      "ridge_hash 60 duration 0.03899979591369629\n",
      "0.5196865203761755\n",
      "\n",
      "randfor_hash 60 duration 0.11897969245910645\n",
      "0.5178448275862069\n",
      "\n",
      "hasher percent 0.8 n_features 9\n",
      "ridge_hash 80 duration 0.06401515007019043\n",
      "0.5559933385579938\n",
      "\n",
      "randfor_hash 80 duration 0.10799336433410645\n",
      "0.5284757053291536\n",
      "\n",
      "hasher percent 1.0 n_features 11\n",
      "ridge_hash 100 duration 0.05201005935668945\n",
      "0.5616144200626959\n",
      "\n",
      "randfor_hash 100 duration 0.10696816444396973\n",
      "0.5334776645768025\n",
      "\n"
     ]
    },
    {
     "data": {
      "image/png": "[encoded data removed]",
      "text/plain": [
       "<Figure size 1080x360 with 3 Axes>"
      ]
     },
     "metadata": {
      "needs_background": "light"
     },
     "output_type": "display_data"
    }
   ],
   "source": [
    "compare_feature_hashing(wine_features, wine_dict, wine_Y)"
   ]
  },
  {
   "cell_type": "code",
   "execution_count": 135,
   "id": "51bb3a39",
   "metadata": {},
   "outputs": [
    {
     "name": "stdout",
     "output_type": "stream",
     "text": [
      "ridge_default duration 0.01700282096862793\n",
      "0.7348373824451411\n",
      "\n",
      "ridge_dict duration 0.03603363037109375\n",
      "0.7273334639498432\n",
      "\n",
      "randfor_default duration 1.6489648818969727\n",
      "0.7054388714733543\n",
      "\n",
      "randfor_dict duration 0.10600399971008301\n",
      "0.7098177899686521\n",
      "\n",
      "hasher percent 0.2 n_features 3\n",
      "ridge_hash 20 duration 0.01600050926208496\n",
      "0.636634012539185\n",
      "\n",
      "randfor_hash 20 duration 0.0930018424987793\n",
      "0.6122629310344827\n",
      "\n",
      "hasher percent 0.4 n_features 5\n",
      "ridge_hash 40 duration 0.019947290420532227\n",
      "0.7067006269592476\n",
      "\n",
      "randfor_hash 40 duration 0.11100149154663086\n",
      "0.6941673197492163\n",
      "\n",
      "hasher percent 0.6000000000000001 n_features 7\n",
      "ridge_hash 60 duration 0.019003868103027344\n",
      "0.6597707680250784\n",
      "\n",
      "randfor_hash 60 duration 0.10899829864501953\n",
      "0.6554114420062696\n",
      "\n",
      "hasher percent 0.8 n_features 9\n",
      "ridge_hash 80 duration 0.022996902465820312\n",
      "0.6991986677115988\n",
      "\n",
      "randfor_hash 80 duration 0.1381998062133789\n",
      "0.6778977272727272\n",
      "\n",
      "hasher percent 1.0 n_features 11\n",
      "ridge_hash 100 duration 0.05300092697143555\n",
      "0.7223432601880878\n",
      "\n",
      "randfor_hash 100 duration 0.14899778366088867\n",
      "0.7097825235109718\n",
      "\n"
     ]
    },
    {
     "data": {
      "image/png": "[encoded data removed]",
      "text/plain": [
       "<Figure size 1080x360 with 3 Axes>"
      ]
     },
     "metadata": {
      "needs_background": "light"
     },
     "output_type": "display_data"
    }
   ],
   "source": [
    "compare_feature_hashing(wine_features, wine_dict, wine_Y_binary)"
   ]
  },
  {
   "cell_type": "code",
   "execution_count": null,
   "id": "b737e64e",
   "metadata": {},
   "outputs": [],
   "source": []
  }
 ],
 "metadata": {
  "kernelspec": {
   "display_name": "Python 3",
   "language": "python",
   "name": "python3"
  },
  "language_info": {
   "codemirror_mode": {
    "name": "ipython",
    "version": 3
   },
   "file_extension": ".py",
   "mimetype": "text/x-python",
   "name": "python",
   "nbconvert_exporter": "python",
   "pygments_lexer": "ipython3",
   "version": "3.8.8"
  }
 },
 "nbformat": 4,
 "nbformat_minor": 5
}
